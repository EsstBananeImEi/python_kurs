{
 "cells": [
  {
   "cell_type": "markdown",
   "metadata": {},
   "source": [
    "# CSV Lesen und Schreiben\n",
    "### Viele Daten liegen als CSV-Datei vor bzw. können sehr einfach in dem Format CSV gespeichert werden. Was ist eine CSV-Datei überhaupt? Schaut man sich die Bedeutung der einzelnen Buchstaben an, wird vieles klarer:\n",
    "<h3>\n",
    "C = Comma = Komma <br>\n",
    "S = separated = getrennte<br>\n",
    "V = values = Werte<br>\n",
    "\n",
    "Unsere Daten liegen also durch Kommas voneinander getrennt in einer Datei vor. Meistens sind in der ersten Linie die Namen der Datenspalten hinterlegt.\n",
    "\n",
    "Schauen wir uns den Inhalt einer CSV-Datei an:\n",
    "\n",
    "nachname,vorname,geburtstag <br>\n",
    "Müller,Mike,1980-03-05<br>\n",
    "Sommer,Elke,1987-05-02<br>\n",
    "Schuster,Johanna,1993-10-10<br>\n",
    "\n",
    "Allerdings muss man wissen, dass das Trennzeichen nicht zwingend ein Komma sein muss, aber das Dateiformat weiterhin CSV sich nennt.\n",
    "\n",
    "Gerne werden auch folgende Trennzeichen (engl. delimiters) verwendet:\n",
    "\n",
    "- Semikolon ;\n",
    "- Doppelpunkt :\n",
    "- TAB \\t\n",
    "\n",
    "Verfügt man über Daten, die in einer Exceltabelle vorliegen, kann man diese direkt aus Excel heraus im CSV-Format abspeichern. Excel erlaubt zusätzlich die Angabe, welche Trennzeichen verwendet werden sollen.\n",
    "\n",
    "Und hier kommt der Vorteil von fertigen Bibliotheken. Einfach nutzen ohne große Probleme.\n",
    "</h3>"
   ]
  },
  {
   "cell_type": "code",
   "execution_count": 23,
   "metadata": {},
   "outputs": [
    {
     "name": "stdout",
     "output_type": "stream",
     "text": [
      "['Thomas', '24', 'Ledig']\n",
      "['Julia', '22', 'Ledig']\n",
      "['Johannes', '33', 'Geschieden']\n",
      "['Paula', '27', 'Verheiratet']\n"
     ]
    }
   ],
   "source": [
    "# Lesen ohne CSV Module\n",
    "with open(\"../../Materialien/test_csv_read.csv\", \"r\") as csvfile:\n",
    "    for line in csvfile.readlines():\n",
    "        splitted = line.strip().split(\";\")\n",
    "        print(splitted)"
   ]
  },
  {
   "cell_type": "code",
   "execution_count": 24,
   "metadata": {},
   "outputs": [],
   "source": [
    "# Write ohne CSV Module\n",
    "data_to_csv = [['Peter', 23, \"Köln\"], ['Lisa', 22, \"Frankfurt\"]]\n",
    "with open(\"../../Materialien/test_csv_write.csv\", \"w\", encoding=\"UTF8\") as csvfile:\n",
    "    csvfile.write(\"name,age,residence\\n\")\n",
    "    for line in data_to_csv:\n",
    "        csvfile.write(\",\".join([str(x) for x in line]) + \"\\n\")"
   ]
  },
  {
   "cell_type": "code",
   "execution_count": 25,
   "metadata": {},
   "outputs": [
    {
     "name": "stdout",
     "output_type": "stream",
     "text": [
      "name,age,residence\n",
      "Peter,23,Köln\n",
      "Lisa,22,Frankfurt\n",
      "\n"
     ]
    }
   ],
   "source": [
    "with open(\"../../Materialien/test_csv_write.csv\", \"r\", encoding=\"UTF8\") as csvfile:\n",
    "    print(csvfile.read())"
   ]
  },
  {
   "cell_type": "code",
   "execution_count": 26,
   "metadata": {},
   "outputs": [
    {
     "name": "stdout",
     "output_type": "stream",
     "text": [
      "['Thomas', '24', 'Ledig']\n",
      "['Julia', '22', 'Ledig']\n",
      "['Johannes', '33', 'Geschieden']\n",
      "['Paula', '27', 'Verheiratet']\n"
     ]
    }
   ],
   "source": [
    "# Read mit CSV Module\n",
    "import csv\n",
    "with open(\"../../Materialien/test_csv_read.csv\") as csvfile:\n",
    "    lines = csv.reader(csvfile, delimiter=';')\n",
    "\n",
    "    for line in lines:\n",
    "        print(line)"
   ]
  },
  {
   "cell_type": "code",
   "execution_count": 38,
   "metadata": {},
   "outputs": [],
   "source": [
    "# Write mit CSV Module\n",
    "with open('../../Materialien/test_csv_write.csv', 'w', newline='', encoding=\"UTF8\") as csvfile:\n",
    "    writer = csv.writer(csvfile)\n",
    "    writer.writerow([\"name\",\"age\",\"residence\"])\n",
    "    writer.writerows([['Peter', 23, \"Köln\"], ['Lisa', 22, \"Frankfurt\"]])"
   ]
  },
  {
   "cell_type": "code",
   "execution_count": 37,
   "metadata": {},
   "outputs": [
    {
     "name": "stdout",
     "output_type": "stream",
     "text": [
      "['name,age,residence']\n",
      "['Peter', '23', 'Köln']\n",
      "['Lisa', '22', 'Frankfurt']\n"
     ]
    }
   ],
   "source": [
    "with open(\"../../Materialien/test_csv_write.csv\", encoding=\"UTF8\") as csvfile:\n",
    "    lines = csv.reader(csvfile, delimiter=',')\n",
    "    for line in lines:\n",
    "        print(line)"
   ]
  }
 ],
 "metadata": {
  "interpreter": {
   "hash": "8edcae8aee8b9f77d273e745edc9899fcb323bc44a6c60d119c52fd1eee6c242"
  },
  "kernelspec": {
   "display_name": "Python 3.10.0 64-bit ('venv': venv)",
   "language": "python",
   "name": "python3"
  },
  "language_info": {
   "codemirror_mode": {
    "name": "ipython",
    "version": 3
   },
   "file_extension": ".py",
   "mimetype": "text/x-python",
   "name": "python",
   "nbconvert_exporter": "python",
   "pygments_lexer": "ipython3",
   "version": "3.10.0"
  },
  "orig_nbformat": 4
 },
 "nbformat": 4,
 "nbformat_minor": 2
}
