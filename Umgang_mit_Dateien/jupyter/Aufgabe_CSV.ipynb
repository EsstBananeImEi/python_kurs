{
 "cells": [
  {
   "cell_type": "markdown",
   "metadata": {},
   "source": [
    "# Aufgabe CSV Lesen und Schreiben\n",
    "\n",
    "<h4>\n",
    "Benötigte Dateien: ../../Materialien/bundesländer.csv <br>\n",
    "\n",
    "    1. Welches Bundesland hat die Meisten Einwohner\n",
    "    2. Welches Bundesland hat den Stärksten zuwachs\n",
    "\n",
    "Tip:\n",
    "- Lese erst die CSV datei aus und speichere diese in einem Dictionary\n",
    "- Finde im Dictionary das Bundesland mit den Meisten Einwohnern und dem Stärksten zusachs heraus.\n",
    "- Achte auf das \"%\" beim zuwachs, wenn du es umwandeln willst\n",
    "</h4>"
   ]
  }
 ],
 "metadata": {
  "language_info": {
   "name": "python"
  },
  "orig_nbformat": 4
 },
 "nbformat": 4,
 "nbformat_minor": 2
}
