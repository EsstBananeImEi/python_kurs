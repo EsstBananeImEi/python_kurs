{
 "cells": [
  {
   "cell_type": "markdown",
   "metadata": {},
   "source": [
    "# Aufgabe JSON Lesen und Schreiben\n",
    "\n",
    "<h4>\n",
    "Benötigte Dateien: ../../Materialien/data.json <br>\n",
    "\n",
    "    1. Welche Personen besitzen kein Auto (has_car)\n",
    "    2. Welche Person hat das älteste Auto\n",
    "    3. Wie sind Auto Marken BMW, Jeep und Dodge vertreten\n",
    "\n",
    "Tip:\n",
    "- Lese erst die json datei aus\n",
    "- Achte auf die verschachtelung des autos\n",
    "</h4>"
   ]
  },
  {
   "cell_type": "code",
   "execution_count": 31,
   "metadata": {},
   "outputs": [],
   "source": [
    "person_without_car = None\n",
    "oldest_car_owner = None\n",
    "oldest_car_date = None\n",
    "car_dict = {}"
   ]
  },
  {
   "cell_type": "code",
   "execution_count": 32,
   "metadata": {},
   "outputs": [],
   "source": [
    "import json\n",
    "\n",
    "with open(\"../../Materialien/data.json\", \"r\") as json_file:\n",
    "    json_data = json.load(json_file)\n",
    "    #1\n",
    "    person_without_car = [f\"{person.get('first_name')} {person.get('last_name')}\" for person in json_data.get('personen_wihout_car')]\n",
    "    #2\n",
    "    for person in json_data.get('personen_with_car'):\n",
    "        if oldest_car_date is None:\n",
    "            oldest_car_date = person['car'].get('manufacture_year')\n",
    "            oldest_car_owner = f\"{person.get('first_name')} {person.get('last_name')}\"\n",
    "        if oldest_car_date > person['car'].get('manufacture_year'):\n",
    "            oldest_car_date = person['car'].get('manufacture_year')\n",
    "            oldest_car_owner = f\"{person.get('first_name')} {person.get('last_name')}\"\n",
    "    #3    \n",
    "        manufacturer = person['car'].get(\"manufacturer\")\n",
    "        if manufacturer not in car_dict:\n",
    "            car_dict[manufacturer] = 1\n",
    "        else:\n",
    "            car_dict[manufacturer] += 1\n",
    "\n"
   ]
  },
  {
   "cell_type": "code",
   "execution_count": 33,
   "metadata": {},
   "outputs": [
    {
     "name": "stdout",
     "output_type": "stream",
     "text": [
      "Morena Keeves besitzt kein Auto\n",
      "Pyotr Manske besitzt kein Auto\n",
      "Wren Groundwator besitzt kein Auto\n"
     ]
    }
   ],
   "source": [
    "for person in person_without_car:\n",
    "    print(f\"{person} besitzt kein Auto\")"
   ]
  },
  {
   "cell_type": "code",
   "execution_count": 34,
   "metadata": {},
   "outputs": [
    {
     "name": "stdout",
     "output_type": "stream",
     "text": [
      "Meara Loughlan's Auto ist das Älteste und wurde 1948 gebaut\n"
     ]
    }
   ],
   "source": [
    "print(f\"{oldest_car_owner}'s Auto ist das Älteste und wurde {oldest_car_date} gebaut\")"
   ]
  },
  {
   "cell_type": "code",
   "execution_count": 36,
   "metadata": {},
   "outputs": [
    {
     "name": "stdout",
     "output_type": "stream",
     "text": [
      "Dodge: 7\n",
      "BMW: 9\n",
      "Jeep: 4\n"
     ]
    }
   ],
   "source": [
    "for car_name, number_of_cars in car_dict.items():\n",
    "    if car_name in [\"BMW\", \"Jeep\", \"Dodge\"]:\n",
    "        print(f\"{car_name}: {number_of_cars}\")"
   ]
  }
 ],
 "metadata": {
  "interpreter": {
   "hash": "8edcae8aee8b9f77d273e745edc9899fcb323bc44a6c60d119c52fd1eee6c242"
  },
  "kernelspec": {
   "display_name": "Python 3.10.0 64-bit ('venv': venv)",
   "language": "python",
   "name": "python3"
  },
  "language_info": {
   "codemirror_mode": {
    "name": "ipython",
    "version": 3
   },
   "file_extension": ".py",
   "mimetype": "text/x-python",
   "name": "python",
   "nbconvert_exporter": "python",
   "pygments_lexer": "ipython3",
   "version": "3.10.0"
  },
  "orig_nbformat": 4
 },
 "nbformat": 4,
 "nbformat_minor": 2
}
