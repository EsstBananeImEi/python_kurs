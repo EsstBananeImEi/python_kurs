{
 "cells": [
  {
   "cell_type": "markdown",
   "metadata": {},
   "source": [
    "# Aufgabe JSON Lesen und Schreiben\n",
    "\n",
    "<h4>\n",
    "Benötigte Dateien: ../../Materialien/data.json <br>\n",
    "\n",
    "    1. Welche Personen besitzen kein Auto (has_car)\n",
    "    2. Welche Person hat das älteste Auto\n",
    "    3. Wie sind Auto Marken BMW, Jeep und Dodge vertreten\n",
    "\n",
    "Tip:\n",
    "- Lese erst die json datei aus\n",
    "- Achte auf die verschachtelung des autos\n",
    "</h4>"
   ]
  },
  {
   "cell_type": "code",
   "execution_count": null,
   "metadata": {},
   "outputs": [],
   "source": []
  }
 ],
 "metadata": {
  "language_info": {
   "name": "python"
  },
  "orig_nbformat": 4
 },
 "nbformat": 4,
 "nbformat_minor": 2
}
