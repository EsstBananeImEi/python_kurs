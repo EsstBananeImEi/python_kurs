{
 "cells": [
  {
   "cell_type": "markdown",
   "metadata": {},
   "source": [
    "# Dateien Lesen und Schreiben\n",
    "### Aus Dateien lesen und in Dateien schreiben, wird z.b verwendet um aus CSV Dateien zu lesen oder um Daten in Dateien zu speichern. "
   ]
  },
  {
   "cell_type": "markdown",
   "metadata": {},
   "source": [
    "### Lesen"
   ]
  },
  {
   "cell_type": "code",
   "execution_count": 64,
   "metadata": {},
   "outputs": [
    {
     "name": "stdout",
     "output_type": "stream",
     "text": [
      "80 days around the world, we’ll find a pot of gold just sitting where the rainbow’s ending.\n",
      "\n",
      "False\n",
      "True\n"
     ]
    }
   ],
   "source": [
    "my_file = open(\"../../Materialien/test_file_read.txt\")\n",
    "print(my_file.readline())\n",
    "print(my_file.closed)\n",
    "my_file.close()\n",
    "print(my_file.closed)"
   ]
  },
  {
   "cell_type": "code",
   "execution_count": 65,
   "metadata": {},
   "outputs": [
    {
     "name": "stdout",
     "output_type": "stream",
     "text": [
      "80 days around the world, we’ll find a pot of gold just sitting where the rainbow’s ending.\n",
      "\n"
     ]
    }
   ],
   "source": [
    "with open(\"../../Materialien/test_file_read.txt\") as testfile:\n",
    "    print(testfile.readline())"
   ]
  },
  {
   "cell_type": "markdown",
   "metadata": {},
   "source": [
    "### Schreiben"
   ]
  },
  {
   "cell_type": "code",
   "execution_count": 66,
   "metadata": {},
   "outputs": [],
   "source": [
    "with open(\"../../Materialien/test_file_write.txt\", \"w\") as testfile:\n",
    "    testfile.write(\"Hallo Welt\\n\")"
   ]
  },
  {
   "cell_type": "code",
   "execution_count": 67,
   "metadata": {},
   "outputs": [
    {
     "name": "stdout",
     "output_type": "stream",
     "text": [
      "Hallo Welt\n",
      "\n"
     ]
    }
   ],
   "source": [
    "with open(\"../../Materialien/test_file_write.txt\") as testfile:\n",
    "    print(testfile.read())"
   ]
  },
  {
   "cell_type": "code",
   "execution_count": 68,
   "metadata": {},
   "outputs": [],
   "source": [
    "with open(\"../../Materialien/test_file_write.txt\", \"a\") as testfile:\n",
    "    testfile.write(\"Hallo Welt2\")"
   ]
  },
  {
   "cell_type": "code",
   "execution_count": 69,
   "metadata": {},
   "outputs": [
    {
     "name": "stdout",
     "output_type": "stream",
     "text": [
      "Hallo Welt\n",
      "Hallo Welt2\n"
     ]
    }
   ],
   "source": [
    "with open(\"../../Materialien/test_file_write.txt\") as testfile:\n",
    "    print(testfile.read())"
   ]
  }
 ],
 "metadata": {
  "interpreter": {
   "hash": "8edcae8aee8b9f77d273e745edc9899fcb323bc44a6c60d119c52fd1eee6c242"
  },
  "kernelspec": {
   "display_name": "Python 3.10.0 64-bit ('venv': venv)",
   "language": "python",
   "name": "python3"
  },
  "language_info": {
   "codemirror_mode": {
    "name": "ipython",
    "version": 3
   },
   "file_extension": ".py",
   "mimetype": "text/x-python",
   "name": "python",
   "nbconvert_exporter": "python",
   "pygments_lexer": "ipython3",
   "version": "3.10.0"
  },
  "orig_nbformat": 4
 },
 "nbformat": 4,
 "nbformat_minor": 2
}
