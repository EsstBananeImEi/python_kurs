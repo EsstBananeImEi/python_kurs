{
 "cells": [
  {
   "cell_type": "markdown",
   "metadata": {},
   "source": [
    "# Aufgabe CSV Lesen und Schreiben\n",
    "\n",
    "<h4>\n",
    "Benötigte Dateien: ../../Materialien/bundesländer.csv <br>\n",
    "\n",
    "    1. Welches Bundesland hat die Meisten Einwohner\n",
    "    2. Welches Bundesland hat den Stärksten zuwachs\n",
    "\n",
    "Tip:\n",
    "- Lese erst die CSV datei aus und speichere diese in einem Dictionary\n",
    "- Finde im Dictionary das Bundesland mit den Meisten Einwohnern und dem Stärksten zusachs heraus.\n",
    "- Achte auf das \"%\" beim zuwachs, wenn du es umwandeln willst\n",
    "</h4>"
   ]
  },
  {
   "cell_type": "code",
   "execution_count": 62,
   "metadata": {},
   "outputs": [
    {
     "name": "stdout",
     "output_type": "stream",
     "text": [
      "Nordrhein-Westfalen hat mit 17947221 Menschen die Meisten Einwohner\n",
      "Bayern hat mit 15 % den meisten zuwachs\n"
     ]
    }
   ],
   "source": [
    "import csv\n",
    "amount = 0\n",
    "state_max_citizen = \"\"\n",
    "max_growth = 0\n",
    "state_max_growth = \"\"\n",
    "with open(\"../../Materialien/bundeslaender.csv\", \"r\", encoding=\"UTF8\") as csvfile:\n",
    "    csvreader = csv.DictReader(csvfile, delimiter=\";\").reader\n",
    "    next(csvreader)\n",
    "    for state, population, growth, _ in csvreader:\n",
    "        if amount < int(population):\n",
    "            amount = int(population)\n",
    "            state_max_citizen = state\n",
    "        if max_growth < int(growth[:-1]):\n",
    "            max_growth = int(growth[:-1])\n",
    "            state_max_growth = state\n",
    "\n",
    "print(\"%s hat mit %s Menschen die Meisten Einwohner\" %\n",
    "      (state_max_citizen, amount))\n",
    "print(\"%s hat mit %s %% den meisten zuwachs\" % (state_max_growth, max_growth))"
   ]
  }
 ],
 "metadata": {
  "interpreter": {
   "hash": "8edcae8aee8b9f77d273e745edc9899fcb323bc44a6c60d119c52fd1eee6c242"
  },
  "kernelspec": {
   "display_name": "Python 3.10.0 64-bit ('venv': venv)",
   "language": "python",
   "name": "python3"
  },
  "language_info": {
   "codemirror_mode": {
    "name": "ipython",
    "version": 3
   },
   "file_extension": ".py",
   "mimetype": "text/x-python",
   "name": "python",
   "nbconvert_exporter": "python",
   "pygments_lexer": "ipython3",
   "version": "3.10.0"
  },
  "orig_nbformat": 4
 },
 "nbformat": 4,
 "nbformat_minor": 2
}
