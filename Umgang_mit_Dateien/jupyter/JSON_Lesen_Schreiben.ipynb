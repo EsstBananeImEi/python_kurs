{
 "cells": [
  {
   "cell_type": "markdown",
   "metadata": {},
   "source": [
    "# JSON Lesen und Schreiben\n",
    "\n",
    "<h4>\n",
    "JSON Format ist eines der wichtigsten formate, dieses format findet auch anwendung in der entwicklung mit REST-Api's, eine JSON Datei ist kurzgesagt nichts anderes als ein Dictionary das aus key value paaren besteht, diese werden in einer .json gespeichert <br>\n",
    "\n",
    "In json sind keine kommentar blöcke erlaubt hier muss man sich mit einem passenden key:value paar aushelfen\n",
    "</h4>"
   ]
  },
  {
   "cell_type": "code",
   "execution_count": 1,
   "metadata": {},
   "outputs": [
    {
     "name": "stdout",
     "output_type": "stream",
     "text": [
      "{'people': [{'firstName': 'Joe', 'lastName': 'Jackson', 'gender': 'male', 'age': 28, 'number': '7349282382'}, {'firstName': 'James', 'lastName': 'Smith', 'gender': 'male', 'age': 32, 'number': '5678568567'}, {'firstName': 'Emily', 'lastName': 'Jones', 'gender': 'female', 'age': 24, 'number': '456754675'}]}\n"
     ]
    }
   ],
   "source": [
    "# JSON Read\n",
    "import json\n",
    "\n",
    "with open(\"../../Materialien/test_json_read.json\", \"r\") as json_file:\n",
    "    print(json.load(json_file))"
   ]
  },
  {
   "cell_type": "code",
   "execution_count": 5,
   "metadata": {},
   "outputs": [],
   "source": [
    "# JSON Write\n",
    "import json\n",
    "\n",
    "dictionary = {\"lakes\":\n",
    "    [\n",
    "        {\n",
    "            \"name\": \"Froglake\",\n",
    "            \"kords\": [45.21940446638516, -121.69440878540168],\n",
    "            \"comment\": \"Der Frosch See, Quak\"\n",
    "        },\n",
    "        {\n",
    "            \"name\": \"Lost Lake\",\n",
    "            \"kords\": [45.49040839503808, -121.8224018732182]\n",
    "        },\n",
    "        {\n",
    "            \"name\": \"Frost Lake\",\n",
    "            \"kords\": [44.989087175716264, -93.04019921375355]\n",
    "        }\n",
    "    ]\n",
    "}\n",
    "\n",
    "with open(\"../../Materialien/test_json_write.json\", \"w\") as json_file:\n",
    "    json.dump(dictionary, json_file)"
   ]
  }
 ],
 "metadata": {
  "interpreter": {
   "hash": "8edcae8aee8b9f77d273e745edc9899fcb323bc44a6c60d119c52fd1eee6c242"
  },
  "kernelspec": {
   "display_name": "Python 3.10.0 64-bit ('venv': venv)",
   "language": "python",
   "name": "python3"
  },
  "language_info": {
   "codemirror_mode": {
    "name": "ipython",
    "version": 3
   },
   "file_extension": ".py",
   "mimetype": "text/x-python",
   "name": "python",
   "nbconvert_exporter": "python",
   "pygments_lexer": "ipython3",
   "version": "3.10.0"
  },
  "orig_nbformat": 4
 },
 "nbformat": 4,
 "nbformat_minor": 2
}
