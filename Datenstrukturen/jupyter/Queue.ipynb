{
 "cells": [
  {
   "cell_type": "markdown",
   "metadata": {},
   "source": [
    "# Queue\n",
    "\n",
    "Die Queue ist eine lineare Datenstruktur. In ihr werden die Daten nach dem FIFO-Prinzip (First In First Out) verwaltet\n",
    "Wie das Prinzip schon ausdrückt wird das erste Element das rein geht auch wieder als erstes heraus genommen.\n",
    "\n",
    "Stellen wir uns als Beispiel eine Schlange von Personen an einer Kasse vor. Die erste Person in der Schlange\n",
    "wird auch als erstes bezahlen, danach verlässt die Person die Schlange wieder. Dann kommt die zweite Person zum\n",
    "bezahlen und verlässt dann die schlange wieder, dies passiert solange bis die Schlange leer ist.\n",
    "Und genau so funktioniert eine Queue.\n",
    "\n",
    "Bevor wir eine Queue implementieren, müssen wir die grundlegenden Bedingungen und Operationen verstehen.\n",
    "\n",
    "1. Enqueue: Die enqueue-Funktion fügt ein Element am Ende der Queue ein\n",
    "2. Dequeue: Die Funktion löscht ein Element aus der Queue. Das gelöschte Element ist dabei immer das erste in der Queue\n",
    "3. Overflow: Die Overflow-Bedingung zeigt an, ob die Queue Elemente hält. Sie wird in der enqueue-Funktion verwendet.\n",
    "4. Underflow: Die Underflow-Bedingung zeigt an, ob die Queue leer ist. Sie wird in der dequeue-Funktion verwendet.\n",
    "5. Front: Die Front-Funktion gibt das erste Element in der Queue zurück.\n",
    "6. Rear: Die Rear-Funktion gibt das letzte Element in der Queue zurück."
   ]
  },
  {
   "cell_type": "markdown",
   "metadata": {},
   "source": [
    "### Python Liste\n",
    "\n",
    "Eine Queue mithilfe einer Liste zu erstellen ist einer der einfachsten wege.\n",
    "\n",
    "Folgende Listen Methoden benötigen wir:\n",
    "\n",
    "| Methode | Beschreibung | Beispiel |\n",
    "| :----- | :------ | :------ |\n",
    "| append | Element am Ende hinzufügen | queue.append(item) |\n",
    "| pop | Element am Anfang entfernen | queue.pop(0)|\n",
    "\n",
    "Mit diesen Methoden werden wir zwei Methoden erstellen mit denen wir aktionen auf der Queue ausüben können, zudem benötigen wir zwei eigene Methoden, um die Queue Funktionen zum anzeigen des ersten und letzten elements zu realisieren:\n",
    "\n",
    "| Methode | Beschreibung | \n",
    "| :----- | :------ | \n",
    "| front | Erstes Element anzeigen |\n",
    "| rear | Letztes Element anzeigen |"
   ]
  },
  {
   "cell_type": "code",
   "execution_count": 3,
   "metadata": {},
   "outputs": [
    {
     "data": {
      "text/plain": [
       "[1, 2, 3, 4, 5, 6, 7]"
      ]
     },
     "execution_count": 3,
     "metadata": {},
     "output_type": "execute_result"
    }
   ],
   "source": [
    "queue: list[int] = []\n",
    "\n",
    "def enqueue(item: int) -> None:\n",
    "    queue.append(item)\n",
    "\n",
    "def dequeue() -> None:\n",
    "    if len(queue) > 0:\n",
    "        queue.pop(0)\n",
    "\n",
    "def front() -> None|int:\n",
    "    if len(queue) > 0:\n",
    "        return queue[0]\n",
    "\n",
    "def rear() -> None|int:\n",
    "    last_element = len(queue) - 1\n",
    "    if last_element >= 0:\n",
    "        return queue[last_element]\n",
    "\n",
    "[enqueue(zahl) for zahl in range(1,8)]\n",
    "queue"
   ]
  },
  {
   "cell_type": "code",
   "execution_count": 4,
   "metadata": {},
   "outputs": [
    {
     "data": {
      "text/plain": [
       "[2, 3, 4, 5, 6, 7]"
      ]
     },
     "execution_count": 4,
     "metadata": {},
     "output_type": "execute_result"
    }
   ],
   "source": [
    "dequeue()\n",
    "queue"
   ]
  },
  {
   "cell_type": "code",
   "execution_count": 5,
   "metadata": {},
   "outputs": [
    {
     "name": "stdout",
     "output_type": "stream",
     "text": [
      "front: 2\n",
      "rear: 7\n"
     ]
    }
   ],
   "source": [
    "print(f\"front: {front()}\")\n",
    "print(f\"rear: {rear()}\")"
   ]
  },
  {
   "cell_type": "markdown",
   "metadata": {},
   "source": [
    "### collections.deque()\n",
    "\n",
    " Die zweite Möglichkeit ist mehr oder weniger sehr ähnlich zur ersten Methode. \n",
    "Allerdings wird statt der Python List die deque Klasse aus dem Python Collection-Modul verwendet. \n",
    "Der größte Unterschied ist dabei die Zeitkomplexität. \n",
    "\n",
    "Es werden folgende Methoden der Deque benötigt:\n",
    "| Methode | Beschreibung | Beispiel |\n",
    "| :----- | :------ | :------ |\n",
    "| append | Element am Ende hinzufügen | queue.append(item) |\n",
    "| popleft | Element am Anfang entfernen | queue.popleft()|\n",
    "\n",
    "zudem benötigen wir wieder zwei eigene Methoden, um die Queue Funktionen zum anzeigen des ersten und letzten elements zu realisieren:\n",
    "\n",
    "| Methode | Beschreibung | \n",
    "| :----- | :------ | \n",
    "| front | Erstes Element anzeigen |\n",
    "| rear | Letztes Element anzeigen |\n",
    "\n",
    "Da wir die Methoden bereits erstellt haben, werden wir sie wiederverwenden und sie nicht neu schreiben. Nur die Methode <code>enqueue</code> werden wir neu erstellen da wir nun kein <code>pop()</code> sondern ein <code>popleft()</code> verwenden.\n",
    "\n",
    "Die Zeitkomplexität der deque-Klasse in der O-Notation ist O(1). Die Komplexität der List wiederrum ist O(n). \n",
    "das bedeutet, dass die deque-Klasse Operation innerhalb der Datenstruktur deutlich schneller ausführt als die List. \n",
    "Dies ist besonders bei großen Datenstrukturen wichtig."
   ]
  },
  {
   "cell_type": "code",
   "execution_count": 6,
   "metadata": {},
   "outputs": [
    {
     "data": {
      "text/plain": [
       "deque([1, 2, 3, 4, 5, 6, 7])"
      ]
     },
     "execution_count": 6,
     "metadata": {},
     "output_type": "execute_result"
    }
   ],
   "source": [
    "from collections import deque\n",
    "\n",
    "queue: deque[int] = deque()\n",
    "\n",
    "def dequeue() -> None:\n",
    "    if len(queue) > 0:\n",
    "        queue.popleft()\n",
    "\n",
    "[enqueue(zahl) for zahl in range(1,8)]\n",
    "queue"
   ]
  },
  {
   "cell_type": "code",
   "execution_count": 7,
   "metadata": {},
   "outputs": [
    {
     "data": {
      "text/plain": [
       "deque([2, 3, 4, 5, 6, 7])"
      ]
     },
     "execution_count": 7,
     "metadata": {},
     "output_type": "execute_result"
    }
   ],
   "source": [
    "dequeue()\n",
    "queue"
   ]
  },
  {
   "cell_type": "code",
   "execution_count": 8,
   "metadata": {},
   "outputs": [
    {
     "name": "stdout",
     "output_type": "stream",
     "text": [
      "front: 2\n",
      "rear: 7\n"
     ]
    }
   ],
   "source": [
    "print(f\"front: {front()}\")\n",
    "print(f\"rear: {rear()}\")"
   ]
  },
  {
   "cell_type": "markdown",
   "metadata": {},
   "source": [
    "### queue.Queue()\n",
    "\n",
    "Das queue-Modul ist ein in Python integriertes Modul, das speziell für das erstellen einer Queue in gedacht ist.\n",
    "Es bietet und mehrere Methoden, die auf verschiedenste weise nützlich sind.\n",
    "\n",
    "Diese Herangehensweise ist die gradlinigste Möglichkeit die Queue in Python zu implementieren und auch die am\n",
    "häufigsten benutzte.\n",
    "\n",
    "Die <code>queue.Queue</code> besitzt folgende nützliche Methoden:\n",
    "\n",
    "| Methode | Beschreibung | Beispiel |\n",
    "| :----- | :------ | :------ |\n",
    "| put | Element am Ende hinzufügen | queue.put(item) |\n",
    "| get | Element am Anfang entfernen | queue.get()|\n",
    "| empty | Prüft ob die Queue leer ist | queue.empty()|\n",
    "| full | Prüft ob die Queue voll ist, Queue maxsize muss gesetzt sein | queue.full()|\n",
    "| qsize | Prüft wie groß die Queue ist | queue.qsize()|\n",
    "\n",
    "Ein vorteil der Queue ist auch das Begrenzen der maximalen Elemente die sie aufnehmen kann."
   ]
  },
  {
   "cell_type": "code",
   "execution_count": 9,
   "metadata": {},
   "outputs": [
    {
     "data": {
      "text/plain": [
       "<queue.Queue at 0x1f06a18be80>"
      ]
     },
     "execution_count": 9,
     "metadata": {},
     "output_type": "execute_result"
    }
   ],
   "source": [
    "from queue import Queue\n",
    "\n",
    "queue: Queue[int] = Queue(maxsize=7)\n",
    "\n",
    "def enqueue(item: int) -> None:\n",
    "    queue.put(item)\n",
    "\n",
    "def dequeue() -> int|None:\n",
    "    if not queue.empty():\n",
    "        return queue.get()\n",
    "\n",
    "[enqueue(zahl) for zahl in range(1,8)]\n",
    "queue"
   ]
  },
  {
   "cell_type": "code",
   "execution_count": 10,
   "metadata": {},
   "outputs": [
    {
     "data": {
      "text/plain": [
       "7"
      ]
     },
     "execution_count": 10,
     "metadata": {},
     "output_type": "execute_result"
    }
   ],
   "source": [
    "queue.qsize()"
   ]
  },
  {
   "cell_type": "code",
   "execution_count": 11,
   "metadata": {},
   "outputs": [
    {
     "data": {
      "text/plain": [
       "6"
      ]
     },
     "execution_count": 11,
     "metadata": {},
     "output_type": "execute_result"
    }
   ],
   "source": [
    "dequeue()\n",
    "queue.qsize()"
   ]
  },
  {
   "cell_type": "code",
   "execution_count": 12,
   "metadata": {},
   "outputs": [
    {
     "data": {
      "text/plain": [
       "2"
      ]
     },
     "execution_count": 12,
     "metadata": {},
     "output_type": "execute_result"
    }
   ],
   "source": [
    "removed_element = dequeue()\n",
    "removed_element"
   ]
  },
  {
   "cell_type": "code",
   "execution_count": 13,
   "metadata": {},
   "outputs": [
    {
     "data": {
      "text/plain": [
       "True"
      ]
     },
     "execution_count": 13,
     "metadata": {},
     "output_type": "execute_result"
    }
   ],
   "source": [
    "enqueue(11)\n",
    "enqueue(14)\n",
    "queue.full()"
   ]
  },
  {
   "cell_type": "code",
   "execution_count": 14,
   "metadata": {},
   "outputs": [
    {
     "data": {
      "text/plain": [
       "True"
      ]
     },
     "execution_count": 14,
     "metadata": {},
     "output_type": "execute_result"
    }
   ],
   "source": [
    "queue: Queue[int] = Queue()\n",
    "queue.empty()"
   ]
  },
  {
   "cell_type": "markdown",
   "metadata": {},
   "source": [
    "### Priority Queue\n",
    "\n",
    "Eine Queue mit Prioritäten ist eine höhere Variante der normalen Queue. \n",
    "Sie bildet also eine Art Erweiterung der normalen Funktion der Queue. \n",
    "Die Elemente werden dabei beim Entfernen auf Basis ihrer Priorität bearbeitet.\n",
    "    \n",
    "\n",
    "Jedes Element, das in eine Queue mit Prioritäten hinzugefügt wird, erhält eine Nummer. \n",
    "Das Element mit der niedrigsten Nummer, also bildlich mit der niedrigsten Priorität, \n",
    "wird in der Queue als erstes gelöscht. Grundsätzlich wird dabei also das bekannte FIFO-Prinzip übergangen\n",
    "\n",
    "Die <code>queue.PriorityQueue</code> besitzt folgende nützliche Methoden:\n",
    "\n",
    "| Methode | Beschreibung | Beispiel |\n",
    "| :----- | :------ | :------ |\n",
    "| put | Element an Position x hinzufügen | queue.put(prio, item) |\n",
    "| get | Element am Anfang entfernen | queue.get()|\n",
    "| empty | Prüft ob die Queue leer ist | queue.empty()|\n",
    "| full | Prüft ob die Queue voll ist | queue.full()|\n",
    "| qsize | Prüft wie groß die Queue ist | queue.qsize()|\n",
    "\n",
    "Beim löschen des nächsten elements mit <code>get()</code>, wird die priorität zurückgegeben und nicht wie bei der <code>queue.Queue</code> das element. "
   ]
  },
  {
   "cell_type": "code",
   "execution_count": 15,
   "metadata": {},
   "outputs": [],
   "source": [
    "from queue import PriorityQueue\n",
    "from typing import Any\n",
    "\n",
    "queue : PriorityQueue[int] = PriorityQueue()\n",
    "\n",
    "def enqueue (item: Any) -> None:\n",
    "    queue.put(item)\n",
    "\n",
    "enqueue((1,\"a\"))\n",
    "enqueue((5,\"e\"))\n",
    "enqueue((2,\"b\"))\n",
    "enqueue((4,\"d\"))\n",
    "enqueue((3,\"c\"))"
   ]
  },
  {
   "cell_type": "code",
   "execution_count": 24,
   "metadata": {},
   "outputs": [],
   "source": [
    "dequeue()"
   ]
  },
  {
   "cell_type": "code",
   "execution_count": 17,
   "metadata": {},
   "outputs": [
    {
     "name": "stdout",
     "output_type": "stream",
     "text": [
      "Queue ist leer: False\n",
      "Queue ist voll: False\n",
      "Elemente in Queue: 5\n"
     ]
    }
   ],
   "source": [
    "print(f\"Queue ist leer: {queue.empty()}\")\n",
    "print(f\"Queue ist voll: {queue.full()}\")\n",
    "print(f\"Elemente in Queue: {queue.qsize()}\")"
   ]
  }
 ],
 "metadata": {
  "interpreter": {
   "hash": "8edcae8aee8b9f77d273e745edc9899fcb323bc44a6c60d119c52fd1eee6c242"
  },
  "kernelspec": {
   "display_name": "Python 3.10.0 64-bit ('venv': venv)",
   "language": "python",
   "name": "python3"
  },
  "language_info": {
   "codemirror_mode": {
    "name": "ipython",
    "version": 3
   },
   "file_extension": ".py",
   "mimetype": "text/x-python",
   "name": "python",
   "nbconvert_exporter": "python",
   "pygments_lexer": "ipython3",
   "version": "3.10.2"
  },
  "orig_nbformat": 4
 },
 "nbformat": 4,
 "nbformat_minor": 2
}
