{
 "cells": [
  {
   "cell_type": "markdown",
   "metadata": {},
   "source": [
    "# Regular Expression\n",
    "\n",
    "Eine Sequenz aus Zeichen, die ein Suchmuster darstellen, werden in Python „regular expression“, oder auch Python RegEx genannt. Diese Muster werden verwendet, um Strings oder Substrings zu finden. Die „regular expression“ wird für String-Operationen wie find() und replace() verwendet.\n",
    "\n",
    "Anders als in anderen Programmiersprachen, besitzt Python für Regular Expression das <code>re</code> modul.\n",
    "Regular Expression werden in der regel mit sogenannten Metazeichen geschrieben, hier einige der am meisten genutzen mit ihrer verwendung:\n",
    "| Meta-Charakter | Beschreibung |\n",
    "| :----- | :----- |\n",
    "| \\d\t       | Eine Ziffer von 0 bis 9 |\n",
    "| [a-z] oder [A-Z0-0]|\tEckige Klammern geben immer ein Set an Ziffern an |\n",
    "| \\\t           | Backslash escaped Zeichen, die selbst ein regulärer Ausdruck sind |\n",
    "| a+\t       | Links vom + kann a ein oder mehrfach vorkommen |\n",
    "| Hallo*\t       | Links vom * kann o nicht oder mehrfach vorkommen|\n",
    "| k{2,5}       | \tZwei bis fünf k´s hintereinander |\n",
    "| [^1-3]       | \tKeine 1 bis 3 |\n",
    "| \\w\t       | Leerzeichen oder Absatz |\n",
    "| aaa?\t       | Das letzte a ist optional |\n",
    "| (Sahne\\|Obers)|\toder |\n",
    "| ^a | Prüft ob der String mit a beginnt |\n",
    "| $a | Prüft ob der String mit a endet |\n",
    "| a.c | Prüft zwischen den Zeichen „a“ und „c“ ob genau ein weiteres Zeichen befindet |\n",
    "| a..c | Prüft zwischen den Zeichen „a“ und „c“ ob genau zwei weitere Zeichen befinden usw. |\n",
    "| (a\\|b\\|)cd | vor cd kann ein a oder b vorkommen |\n",
    "| b{n,m} | b muss mindestens n mal vorkommen und maximal m mal vorkommen |\n",
    "\n",
    "<h3>\n",
    "Du kannst die folgenden Online-Tools als Sandkasten für Deine Regex-Code verwenden.\n",
    "</h3>\n",
    "\n",
    "- https://regexr.com/\n",
    "- https://regex101.com/\n",
    "- https://www.regextester.com/"
   ]
  },
  {
   "cell_type": "code",
   "execution_count": 1,
   "metadata": {},
   "outputs": [],
   "source": [
    "import re"
   ]
  },
  {
   "cell_type": "code",
   "execution_count": 2,
   "metadata": {},
   "outputs": [
    {
     "data": {
      "text/plain": [
       "<re.Match object; span=(0, 3), match='abc'>"
      ]
     },
     "execution_count": 2,
     "metadata": {},
     "output_type": "execute_result"
    }
   ],
   "source": [
    "text: str = \"abc\"\n",
    "re.match(\"abc\", text)"
   ]
  },
  {
   "cell_type": "code",
   "execution_count": 3,
   "metadata": {},
   "outputs": [
    {
     "name": "stdout",
     "output_type": "stream",
     "text": [
      "<re.Match object; span=(0, 1), match='h'>\n",
      "None\n"
     ]
    }
   ],
   "source": [
    "print(re.match(\"^h\", \"hallo\"))\n",
    "print(re.match(\"^h\", \"ball\"))"
   ]
  },
  {
   "cell_type": "code",
   "execution_count": 4,
   "metadata": {},
   "outputs": [
    {
     "name": "stdout",
     "output_type": "stream",
     "text": [
      "<re.Match object; span=(4, 5), match='o'>\n",
      "None\n"
     ]
    }
   ],
   "source": [
    "print(re.search(\"o$\", \"hallo\"))\n",
    "print(re.search(\"o$\", \"ball\"))"
   ]
  },
  {
   "cell_type": "code",
   "execution_count": 5,
   "metadata": {},
   "outputs": [
    {
     "name": "stdout",
     "output_type": "stream",
     "text": [
      "<re.Match object; span=(0, 1), match='h'>\n",
      "None\n"
     ]
    }
   ],
   "source": [
    "print(re.search(\"[a-i]\", \"hallo\"))\n",
    "print(re.search(\"[a-i]\", \"pool\"))"
   ]
  },
  {
   "cell_type": "code",
   "execution_count": 6,
   "metadata": {},
   "outputs": [
    {
     "name": "stdout",
     "output_type": "stream",
     "text": [
      "['h', 'a']\n",
      "[]\n"
     ]
    }
   ],
   "source": [
    "print(re.findall(\"[a-i]\", \"hallo\"))\n",
    "print(re.findall(\"[a-i]\", \"pool\"))"
   ]
  },
  {
   "cell_type": "code",
   "execution_count": 7,
   "metadata": {},
   "outputs": [
    {
     "name": "stdout",
     "output_type": "stream",
     "text": [
      "<re.Match object; span=(0, 3), match='abc'>\n",
      "None\n",
      "<re.Match object; span=(0, 4), match='abbc'>\n"
     ]
    }
   ],
   "source": [
    "print(re.match(\"a.c\", \"abc\"))\n",
    "print(re.match(\"a.c\", \"abbc\"))\n",
    "print(re.match(\"a..c\", \"abbc\"))"
   ]
  },
  {
   "cell_type": "code",
   "execution_count": 8,
   "metadata": {},
   "outputs": [
    {
     "name": "stdout",
     "output_type": "stream",
     "text": [
      "<re.Match object; span=(0, 3), match='hao'>\n",
      "None\n",
      "<re.Match object; span=(0, 5), match='hallo'>\n",
      "None\n"
     ]
    }
   ],
   "source": [
    "print(re.match(\"hal*o\", \"hao\"))\n",
    "print(re.match(\"hal*o\", \"ho\"))\n",
    "print(re.match(\"hal*o\", \"hallo\"))\n",
    "print(re.match(\"hal*o\", \"allo\"))"
   ]
  },
  {
   "cell_type": "code",
   "execution_count": 9,
   "metadata": {},
   "outputs": [
    {
     "name": "stdout",
     "output_type": "stream",
     "text": [
      "None\n",
      "None\n",
      "<re.Match object; span=(0, 5), match='hallo'>\n",
      "None\n"
     ]
    }
   ],
   "source": [
    "print(re.match(\"hal+o\", \"hao\"))\n",
    "print(re.match(\"hal+o\", \"ho\"))\n",
    "print(re.match(\"hal+o\", \"hallo\"))\n",
    "print(re.match(\"hal+o\", \"allo\"))"
   ]
  },
  {
   "cell_type": "code",
   "execution_count": 10,
   "metadata": {},
   "outputs": [
    {
     "name": "stdout",
     "output_type": "stream",
     "text": [
      "<re.Match object; span=(0, 10), match='Hallo Welt'>\n",
      "None\n",
      "<re.Match object; span=(0, 7), match='Hi Welt'>\n"
     ]
    }
   ],
   "source": [
    "print(re.match(\"(Hallo|Hi) Welt\", \"Hallo Welt\"))\n",
    "print(re.match(\"(Hallo|Hi) Welt\", \"Gute Nacht Welt\"))\n",
    "print(re.match(\"(Hallo|Hi) Welt\", \"Hi Welt\"))"
   ]
  }
 ],
 "metadata": {
  "interpreter": {
   "hash": "8edcae8aee8b9f77d273e745edc9899fcb323bc44a6c60d119c52fd1eee6c242"
  },
  "kernelspec": {
   "display_name": "Python 3.10.0 64-bit ('venv': venv)",
   "language": "python",
   "name": "python3"
  },
  "language_info": {
   "codemirror_mode": {
    "name": "ipython",
    "version": 3
   },
   "file_extension": ".py",
   "mimetype": "text/x-python",
   "name": "python",
   "nbconvert_exporter": "python",
   "pygments_lexer": "ipython3",
   "version": "3.10.2"
  },
  "orig_nbformat": 4
 },
 "nbformat": 4,
 "nbformat_minor": 2
}
