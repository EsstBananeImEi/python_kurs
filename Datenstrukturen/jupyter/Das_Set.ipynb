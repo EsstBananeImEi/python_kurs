{
 "cells": [
  {
   "cell_type": "markdown",
   "metadata": {},
   "source": [
    "# Das Set\n",
    "\n",
    "Sammlungen werden in Python zum Speichern von Daten verwendet. \n",
    "Es gibt verschiedene Sammlungen in Python, von denen jede ihre eigenen Merkmale hat. \n",
    "Bei einigen können wir Elemente verändern, bei anderen wiederum nicht.\n",
    "Sozusagen hat jede Sammlung ihre eigenen Methoden.\n",
    "\n",
    "Das Set ist eine dieser Sammlungen.\n",
    "\n",
    "Ein Set ist eine ungeordnete Sammlung von Elementen eines beliebigen Datentyps, \n",
    "es können zum Beispiel Strings und Integer gleichzeitig in einem Set enhalten sein.\n",
    "\n",
    "Sets können keine doppelten Werte enthalten, dies ist wohl der größte unterschied zu allen anderen Sammlungen.\n",
    "Sets können nicht indiziert werden, das bedeutet das keine index()-Operationen auf ihnen ausgeführt werden können,\n",
    "es ist deshalb nicht möglich, die vorhandenen Werte in einem Set zu ändern, lediglich das löschen oder hinzufügen\n",
    "ist möglich.\n",
    "\n",
    "Ein Set, können wir auf zwei arten erstellen:  \n",
    "```python\n",
    "    my_set = {1,2,3,4}\n",
    "```\n",
    "oder \n",
    "```python\n",
    "    my_set = set({1, 2, 3, 4})\n",
    "```\n",
    "\n",
    "Nützliche Methoden von einem <code>set</code>:\n",
    "\n",
    "| Methode | Beschreibung | Beispiel |\n",
    "| :----- | :------ | :------ |\n",
    "| add | Ein Element am Ende hinzufügen | my_set.add(item) |\n",
    "| update | Mehrere Element am Ende hinzufügen | my_set.update({1,2,3,4})|\n",
    "| pop | Entfernt ein Element | my_set.pop()|\n",
    "| remove | Entfernt ein spezifisches Element, Error wenn nicht vorhanden | my_set.remove(\"Hans\")|\n",
    "| discard | Entfernt ein spezifisches Element | my_set.discard(\"Hans\")|\n",
    "| union | fügt zwei sets zusammen, doppelte elemente werden ignoriert | my_new_set = my_set.union(other_set)|\n",
    "| \\| | fügt zwei sets zusammen, doppelte elemente werden ignoriert | my_new_set = my_set \\| other_set|\n",
    "| intersection | Schnittmenge bilden aus Sets bilden | my_new_set = my_set.intersection(other_set)|\n",
    "| \\& | Schnittmenge bilden aus Sets bilden | my_new_set = my_set \\& other_set|\n",
    "| difference | Differenz mehrerer Sets finden | my_new_set = my_set.difference(other_set)|\n",
    "| - | Differenz mehrerer Sets finden | my_new_set = my_set - other_set|\n",
    "| frozenset | Erstellen eines Immutable Sets | my_set = frozenset({1,2,3,4})|"
   ]
  },
  {
   "cell_type": "markdown",
   "metadata": {},
   "source": [
    "### Initialisieren"
   ]
  },
  {
   "cell_type": "code",
   "execution_count": 9,
   "metadata": {},
   "outputs": [],
   "source": [
    "from typing import Any\n",
    "my_set: set[int]\n",
    "my_set: set[int] = {1,2,3}\n",
    "my_set: set[int] = set()\n",
    "my_set: set[int] = set({1,2,3})"
   ]
  },
  {
   "cell_type": "markdown",
   "metadata": {},
   "source": [
    "### Hinzufügen"
   ]
  },
  {
   "cell_type": "code",
   "execution_count": 10,
   "metadata": {},
   "outputs": [
    {
     "data": {
      "text/plain": [
       "{1, 2, 20, 4, 'a', 'b'}"
      ]
     },
     "execution_count": 10,
     "metadata": {},
     "output_type": "execute_result"
    }
   ],
   "source": [
    "\n",
    "\n",
    "my_set: set[Any] = {1,\"a\", 2, \"b\", 4}\n",
    "my_set.add(20)\n",
    "my_set"
   ]
  },
  {
   "cell_type": "code",
   "execution_count": 11,
   "metadata": {},
   "outputs": [
    {
     "data": {
      "text/plain": [
       "{1, 2, 25, 4, 'a', 'b', 'c', 'g'}"
      ]
     },
     "execution_count": 11,
     "metadata": {},
     "output_type": "execute_result"
    }
   ],
   "source": [
    "my_set: set[Any] = {1,\"a\", 2, \"b\", 4}\n",
    "my_set.update({25,\"c\",\"g\",2})\n",
    "my_set"
   ]
  },
  {
   "cell_type": "markdown",
   "metadata": {},
   "source": [
    "### Entfernen"
   ]
  },
  {
   "cell_type": "code",
   "execution_count": 12,
   "metadata": {},
   "outputs": [
    {
     "data": {
      "text/plain": [
       "{2, 4, 'a', 'b'}"
      ]
     },
     "execution_count": 12,
     "metadata": {},
     "output_type": "execute_result"
    }
   ],
   "source": [
    "my_set: set[Any] = {1,\"a\", 2, \"b\", 4}\n",
    "my_set.pop()\n",
    "my_set"
   ]
  },
  {
   "cell_type": "code",
   "execution_count": 13,
   "metadata": {},
   "outputs": [
    {
     "data": {
      "text/plain": [
       "{1, 2, 4, 'b'}"
      ]
     },
     "execution_count": 13,
     "metadata": {},
     "output_type": "execute_result"
    }
   ],
   "source": [
    "my_set: set[Any] = {1,\"a\", 2, \"b\", 4}\n",
    "my_set.remove(\"a\")\n",
    "my_set"
   ]
  },
  {
   "cell_type": "code",
   "execution_count": 14,
   "metadata": {},
   "outputs": [
    {
     "ename": "KeyError",
     "evalue": "'a'",
     "output_type": "error",
     "traceback": [
      "\u001b[1;31m---------------------------------------------------------------------------\u001b[0m",
      "\u001b[1;31mKeyError\u001b[0m                                  Traceback (most recent call last)",
      "\u001b[1;32m~\\AppData\\Local\\Temp/ipykernel_3712/3560022925.py\u001b[0m in \u001b[0;36m<module>\u001b[1;34m\u001b[0m\n\u001b[1;32m----> 1\u001b[1;33m \u001b[0mmy_set\u001b[0m\u001b[1;33m.\u001b[0m\u001b[0mremove\u001b[0m\u001b[1;33m(\u001b[0m\u001b[1;34m\"a\"\u001b[0m\u001b[1;33m)\u001b[0m\u001b[1;33m\u001b[0m\u001b[1;33m\u001b[0m\u001b[0m\n\u001b[0m",
      "\u001b[1;31mKeyError\u001b[0m: 'a'"
     ]
    }
   ],
   "source": [
    "my_set.remove(\"a\")"
   ]
  },
  {
   "cell_type": "code",
   "execution_count": 15,
   "metadata": {},
   "outputs": [
    {
     "data": {
      "text/plain": [
       "{1, 2, 4, 'b'}"
      ]
     },
     "execution_count": 15,
     "metadata": {},
     "output_type": "execute_result"
    }
   ],
   "source": [
    "my_set: set[Any] = {1,\"a\", 2, \"b\", 4}\n",
    "my_set.discard(\"a\")\n",
    "my_set"
   ]
  },
  {
   "cell_type": "code",
   "execution_count": 16,
   "metadata": {},
   "outputs": [],
   "source": [
    "my_set.discard(\"a\")"
   ]
  },
  {
   "cell_type": "markdown",
   "metadata": {},
   "source": [
    "### Union"
   ]
  },
  {
   "cell_type": "code",
   "execution_count": 17,
   "metadata": {},
   "outputs": [
    {
     "data": {
      "text/plain": [
       "{1, 2, 4, 55, 'Manuela', 'Peter', 'Ralf'}"
      ]
     },
     "execution_count": 17,
     "metadata": {},
     "output_type": "execute_result"
    }
   ],
   "source": [
    "my_set_a: set[Any] = {1,\"Peter\", 2, \"Manuela\", 4}\n",
    "my_set_b: set[Any] = {55,\"Ralf\", 2}\n",
    "my_set_a = my_set_a.union(my_set_b)\n",
    "my_set_a"
   ]
  },
  {
   "cell_type": "code",
   "execution_count": 18,
   "metadata": {},
   "outputs": [
    {
     "data": {
      "text/plain": [
       "{1, 2, 4, 55, 'Manuela', 'Peter', 'Ralf'}"
      ]
     },
     "execution_count": 18,
     "metadata": {},
     "output_type": "execute_result"
    }
   ],
   "source": [
    "my_set_a: set[Any] = {1,\"Peter\", 2, \"Manuela\", 4}\n",
    "my_set_b: set[Any] = {55,\"Ralf\", 2} \n",
    "my_set_a = my_set_a | my_set_b\n",
    "my_set_a"
   ]
  },
  {
   "cell_type": "markdown",
   "metadata": {},
   "source": [
    "### Intersection"
   ]
  },
  {
   "cell_type": "code",
   "execution_count": 19,
   "metadata": {},
   "outputs": [
    {
     "data": {
      "text/plain": [
       "{2}"
      ]
     },
     "execution_count": 19,
     "metadata": {},
     "output_type": "execute_result"
    }
   ],
   "source": [
    "my_set_a: set[Any] = {1,\"Peter\", 2, \"Manuela\", 4}\n",
    "my_set_b: set[Any] = {55,\"Ralf\", 2}\n",
    "my_set_a.intersection(my_set_b)\n"
   ]
  },
  {
   "cell_type": "code",
   "execution_count": 20,
   "metadata": {},
   "outputs": [
    {
     "data": {
      "text/plain": [
       "{2}"
      ]
     },
     "execution_count": 20,
     "metadata": {},
     "output_type": "execute_result"
    }
   ],
   "source": [
    "my_set_a: set[Any] = {1,\"Peter\", 2, \"Manuela\", 4}\n",
    "my_set_b: set[Any] = {55,\"Ralf\", 2}\n",
    "my_set_a & my_set_b"
   ]
  },
  {
   "cell_type": "markdown",
   "metadata": {},
   "source": [
    "### Difference"
   ]
  },
  {
   "cell_type": "code",
   "execution_count": 21,
   "metadata": {},
   "outputs": [
    {
     "name": "stdout",
     "output_type": "stream",
     "text": [
      "{1, 'Manuela', 'Peter', 4}\n",
      "{'Ralf', 55}\n"
     ]
    }
   ],
   "source": [
    "my_set_a: set[Any] = {1,\"Peter\", 2, \"Manuela\", 4}\n",
    "my_set_b: set[Any] = {55,\"Ralf\", 2}\n",
    "print(my_set_a.difference(my_set_b))\n",
    "print(my_set_b.difference(my_set_a))"
   ]
  },
  {
   "cell_type": "code",
   "execution_count": 22,
   "metadata": {},
   "outputs": [
    {
     "name": "stdout",
     "output_type": "stream",
     "text": [
      "{1, 'Manuela', 'Peter', 4}\n",
      "{'Ralf', 55}\n"
     ]
    }
   ],
   "source": [
    "my_set_a: set[Any] = {1,\"Peter\", 2, \"Manuela\", 4}\n",
    "my_set_b: set[Any] = {55,\"Ralf\", 2}\n",
    "print(my_set_a - my_set_b)\n",
    "print(my_set_b - my_set_a)"
   ]
  },
  {
   "cell_type": "markdown",
   "metadata": {},
   "source": [
    "### Frozenset"
   ]
  },
  {
   "cell_type": "code",
   "execution_count": 24,
   "metadata": {},
   "outputs": [],
   "source": [
    "my_frozen_set_a: frozenset[Any] = frozenset({1, 2, \"Manuela\", 4})"
   ]
  },
  {
   "cell_type": "code",
   "execution_count": 25,
   "metadata": {},
   "outputs": [
    {
     "ename": "AttributeError",
     "evalue": "'frozenset' object has no attribute 'add'",
     "output_type": "error",
     "traceback": [
      "\u001b[1;31m---------------------------------------------------------------------------\u001b[0m",
      "\u001b[1;31mAttributeError\u001b[0m                            Traceback (most recent call last)",
      "\u001b[1;32m~\\AppData\\Local\\Temp/ipykernel_3712/1067559612.py\u001b[0m in \u001b[0;36m<module>\u001b[1;34m\u001b[0m\n\u001b[1;32m----> 1\u001b[1;33m \u001b[0mmy_frozen_set_a\u001b[0m\u001b[1;33m.\u001b[0m\u001b[0madd\u001b[0m\u001b[1;33m(\u001b[0m\u001b[1;36m2\u001b[0m\u001b[1;33m)\u001b[0m\u001b[1;33m\u001b[0m\u001b[1;33m\u001b[0m\u001b[0m\n\u001b[0m",
      "\u001b[1;31mAttributeError\u001b[0m: 'frozenset' object has no attribute 'add'"
     ]
    }
   ],
   "source": [
    "my_frozen_set_a.add(2)"
   ]
  },
  {
   "cell_type": "code",
   "execution_count": 26,
   "metadata": {},
   "outputs": [
    {
     "data": {
      "text/plain": [
       "frozenset({1, 2, 4, 'Manuela'})"
      ]
     },
     "execution_count": 26,
     "metadata": {},
     "output_type": "execute_result"
    }
   ],
   "source": [
    "my_frozen_set_a"
   ]
  }
 ],
 "metadata": {
  "interpreter": {
   "hash": "8edcae8aee8b9f77d273e745edc9899fcb323bc44a6c60d119c52fd1eee6c242"
  },
  "kernelspec": {
   "display_name": "Python 3 (ipykernel)",
   "language": "python",
   "name": "python3"
  },
  "language_info": {
   "codemirror_mode": {
    "name": "ipython",
    "version": 3
   },
   "file_extension": ".py",
   "mimetype": "text/x-python",
   "name": "python",
   "nbconvert_exporter": "python",
   "pygments_lexer": "ipython3",
   "version": "3.10.2"
  }
 },
 "nbformat": 4,
 "nbformat_minor": 2
}
