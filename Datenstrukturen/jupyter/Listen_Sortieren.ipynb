{
 "cells": [
  {
   "cell_type": "markdown",
   "metadata": {},
   "source": [
    "# Listen Sortieren\n",
    "### Sort()\n",
    "Die sort () -Methode wird verwendet, um die Elemente in einer bestimmten Reihenfolge zu sortieren, d.h. Aufsteigend oder absteigend.\n",
    "\n",
    "Wenn Sie die Elemente sortieren möchten Aufsteigende Reihenfolge Dann können Sie die folgende Syntax verwenden.\n",
    "\n",
    "```python\n",
    "list.sort()\n",
    "```\n",
    "Wenn Sie die Elemente sortieren möchten Absteigende Reihenfolge Dann können Sie die folgende Syntax verwenden.\n",
    "\n",
    "```python\n",
    "list.sort(reverse=True)\n",
    "```\n",
    "### Sorted()\n",
    "Um die ursprüngliche Reihenfolge der Liste in sortierter Reihenfolge beizubehalten, können Sie die Funktion sorted () verwenden. Mit der Funktion sorted () können Sie Ihre Liste in einer bestimmten Reihenfolge anzeigen, ohne die tatsächliche Reihenfolge der Liste zu beeinflussen.\n",
    "\n",
    "```python\n",
    "sorted(my_list)\n",
    "```\n",
    "### Reverse()\n",
    "Um die ursprüngliche Reihenfolge einer Liste umzukehren, können Sie die reverse () -Methode verwenden. Die reverse () -Methode wird verwendet, um die Reihenfolge der Liste umzukehren und nicht wie bei der sort () -Methode in einer sortierten Reihenfolge anzuordnen.\n",
    "\n",
    "```python\n",
    "my_list.reverse()\n",
    "```"
   ]
  },
  {
   "cell_type": "code",
   "execution_count": 9,
   "metadata": {},
   "outputs": [
    {
     "data": {
      "text/plain": [
       "[1, 2, 3, 4, 7, 11, 22, 77]"
      ]
     },
     "execution_count": 9,
     "metadata": {},
     "output_type": "execute_result"
    }
   ],
   "source": [
    "my_list = [1,7,3,77,4,2,22,11]\n",
    "my_list.sort()\n",
    "my_list"
   ]
  },
  {
   "cell_type": "code",
   "execution_count": 10,
   "metadata": {},
   "outputs": [
    {
     "data": {
      "text/plain": [
       "[77, 22, 11, 7, 4, 3, 2, 1]"
      ]
     },
     "execution_count": 10,
     "metadata": {},
     "output_type": "execute_result"
    }
   ],
   "source": [
    "my_list.sort(reverse=True)\n",
    "my_list"
   ]
  },
  {
   "cell_type": "code",
   "execution_count": 15,
   "metadata": {},
   "outputs": [
    {
     "data": {
      "text/plain": [
       "[1, 2, 3, 4, 7, 11, 22, 77]"
      ]
     },
     "execution_count": 15,
     "metadata": {},
     "output_type": "execute_result"
    }
   ],
   "source": [
    "sorted(my_list)"
   ]
  },
  {
   "cell_type": "code",
   "execution_count": 16,
   "metadata": {},
   "outputs": [
    {
     "data": {
      "text/plain": [
       "[11, 22, 2, 4, 77, 3, 7, 1]"
      ]
     },
     "execution_count": 16,
     "metadata": {},
     "output_type": "execute_result"
    }
   ],
   "source": [
    "my_list = [1,7,3,77,4,2,22,11]\n",
    "my_list.reverse()\n",
    "my_list"
   ]
  },
  {
   "cell_type": "code",
   "execution_count": 20,
   "metadata": {},
   "outputs": [
    {
     "data": {
      "text/plain": [
       "[(1, 'Zeppelin'), (3, 'Ampel'), (42, 'Hund')]"
      ]
     },
     "execution_count": 20,
     "metadata": {},
     "output_type": "execute_result"
    }
   ],
   "source": [
    "complex_list = [(1, \"Zeppelin\"), (42, \"Hund\"), (3, \"Ampel\")]\n",
    "complex_list.sort()\n",
    "complex_list"
   ]
  },
  {
   "cell_type": "code",
   "execution_count": 24,
   "metadata": {},
   "outputs": [
    {
     "data": {
      "text/plain": [
       "[(3, 'Ampel'), (42, 'Hund'), (1, 'Zeppelin')]"
      ]
     },
     "execution_count": 24,
     "metadata": {},
     "output_type": "execute_result"
    }
   ],
   "source": [
    "def get_name(element: tuple) -> str:\n",
    "    return element[1]\n",
    "\n",
    "complex_list = [(1, \"Zeppelin\"), (42, \"Hund\"), (3, \"Ampel\")]\n",
    "complex_list.sort(key=get_name)\n",
    "complex_list"
   ]
  }
 ],
 "metadata": {
  "interpreter": {
   "hash": "8edcae8aee8b9f77d273e745edc9899fcb323bc44a6c60d119c52fd1eee6c242"
  },
  "kernelspec": {
   "display_name": "Python 3 (ipykernel)",
   "language": "python",
   "name": "python3"
  },
  "language_info": {
   "codemirror_mode": {
    "name": "ipython",
    "version": 3
   },
   "file_extension": ".py",
   "mimetype": "text/x-python",
   "name": "python",
   "nbconvert_exporter": "python",
   "pygments_lexer": "ipython3",
   "version": "3.10.0"
  }
 },
 "nbformat": 4,
 "nbformat_minor": 2
}
