{
 "cells": [
  {
   "cell_type": "markdown",
   "metadata": {},
   "source": [
    "# Factory Method\n",
    "\n",
    "Die Factory-Methode ist ein Erzeugungsmuster, das es einer Schnittstelle oder einer Klasse ermöglicht, ein Objekt zu erstellen, aber Unterklassen entscheiden lässt, welche Klasse oder welches Objekt instanziiert werden soll. Mit der Factory-Methode haben wir die besten Möglichkeiten, ein Objekt zu erstellen. Hier werden Objekte erstellt, ohne dass die Logik für den Client offengelegt wird, und für die Erstellung des neuen Objekttyps verwendet der Client dieselbe gemeinsame Schnittstelle.\n",
    "\n",
    "#### Probleme, die wir ohne die Factory Method haben:\n",
    "\n",
    "Stell dir vor, du hast dein eigenes Startup, das einen Audio und Video Konverter in verschiedenen Teilen des Landes anbietet. Die erste Version der App bietet nur die möglichkeit in eine geringe Qualität zu Konvertieren, aber im Laufe der Zeit wird Ihre App immer beliebter und nun möchtest du auch die möglichkeit bieten in bessere Qualitäten zu Konvertieren. \n",
    "Was bedeutet das jetzt für die Softwareentwickler Ihres Startups? Sie müssen den gesamten Code ändern, weil der größte Teil des Codes jetzt mit der geringen Qualität gekoppelt ist und die Entwickler Änderungen an der gesamten Codebasis vornehmen müssen. \n",
    "Wenn sie mit all diesen Änderungen fertig sind, enden die Entwickler entweder mit dem unordentlichsten Code oder mit dem Kündigungsschreiben. \n",
    "\n",
    "Schauen wir uns den Code für das Problem an, dem wir ohne die Verwendung der Factory-Methode begegnen können."
   ]
  },
  {
   "cell_type": "code",
   "execution_count": 112,
   "metadata": {},
   "outputs": [],
   "source": [
    "import pathlib\n",
    "from abc import ABC, abstractmethod\n",
    "\n",
    "\n",
    "class VideoExporter(ABC):\n",
    "    \"\"\"Grundlegende Darstellung des Videoexport-Codecs.\"\"\"\n",
    "\n",
    "    @abstractmethod\n",
    "    def prepare_export(self, video_data):\n",
    "        \"\"\"Bereitet Videodaten zum Exportieren vor.\"\"\"\n",
    "\n",
    "    @abstractmethod\n",
    "    def do_export(self, folder: pathlib.Path):\n",
    "        \"\"\"Exportiert die Videodaten in einen Ordner.\"\"\"\n",
    "\n",
    "\n",
    "class LosslessVideoExporter(VideoExporter):\n",
    "    def prepare_export(self, video_data):\n",
    "        print(\"Vorbereiten von Videodaten für den verlustfreien Export.\")\n",
    "\n",
    "    def do_export(self, folder: pathlib.Path):\n",
    "        print(f\"Exportieren von Videodaten in verlustfreiem Format nach {folder}.\")\n",
    "\n",
    "\n",
    "class H264BPVideoExporter(VideoExporter):\n",
    "    def prepare_export(self, video_data):\n",
    "        print(\"Vorbereiten von Videodaten für den Export in Geringer Qualität.\")\n",
    "\n",
    "    def do_export(self, folder: pathlib.Path):\n",
    "        print(f\"Exportieren von Videodaten in Geringer Qualität nach {folder}.\")\n",
    "\n",
    "\n",
    "class H264Hi422PVideoExporter(VideoExporter):\n",
    "    def prepare_export(self, video_data):\n",
    "        print(\"Vorbereiten von Videodaten für den Export in Hoher Qualität.\")\n",
    "\n",
    "    def do_export(self, folder: pathlib.Path):\n",
    "        print(f\"Exportieren von Videodaten in Hoher Qualität nach {folder}.\")\n",
    "\n",
    "\n",
    "class AudioExporter(ABC):\n",
    "    \"\"\"Grundlegende Darstellung des Audio-Export-Codecs.\"\"\"\n",
    "\n",
    "    @abstractmethod\n",
    "    def prepare_export(self, audio_data):\n",
    "        \"\"\"Bereitet Audiodateien zum Exportieren vor.\"\"\"\n",
    "\n",
    "    @abstractmethod\n",
    "    def do_export(self, folder: pathlib.Path):\n",
    "        \"\"\"Exportiert die Audiodaten in einen Ordner.\"\"\"\n",
    "\n",
    "\n",
    "class AACAudioExporter(AudioExporter):\n",
    "    def prepare_export(self, audio_data):\n",
    "        print(\"Vorbereiten von Audiodaten für den Export in Geringer Qualität.\")\n",
    "\n",
    "    def do_export(self, folder: pathlib.Path):\n",
    "        print(f\"Exportieren von Audiodaten in Geringer Qualität nach {folder}.\")\n",
    "\n",
    "\n",
    "class WAVAudioExporter(AudioExporter):\n",
    "    def prepare_export(self, audio_data):\n",
    "        print(\"Vorbereiten von Audiodaten für den Export in Hoher Qualität.\")\n",
    "\n",
    "    def do_export(self, folder: pathlib.Path):\n",
    "        print(f\"Exportieren von Audiodaten in Hoher Qualität nach {folder}.\")\n",
    "\n"
   ]
  },
  {
   "cell_type": "markdown",
   "metadata": {},
   "source": [
    "#### Benutzung ohne die Factory Methode"
   ]
  },
  {
   "cell_type": "code",
   "execution_count": 113,
   "metadata": {},
   "outputs": [
    {
     "name": "stdout",
     "output_type": "stream",
     "text": [
      "Vorbereiten von Videodaten für den Export in Geringer Qualität.\n",
      "Vorbereiten von Audiodaten für den Export in Geringer Qualität.\n",
      "Exportieren von Videodaten in Geringer Qualität nach \\usr\\tmp\\video.\n",
      "Exportieren von Audiodaten in Geringer Qualität nach \\usr\\tmp\\video.\n"
     ]
    }
   ],
   "source": [
    "def main():\n",
    "    export_quality: str\n",
    "    while True:\n",
    "        export_quality = input(\"Gewünschte Ausgabequalität eingeben (low, med, high): \")\n",
    "        if export_quality in {\"low\", \"med\", \"high\"}:\n",
    "            break\n",
    "        print(f\"Unbekannte Ausgangsqualitäts Option: {export_quality}.\")\n",
    "\n",
    "    video_exporter: VideoExporter\n",
    "    audio_exporter: AudioExporter\n",
    "    if export_quality == \"low\":\n",
    "        video_exporter = H264BPVideoExporter()\n",
    "        audio_exporter = AACAudioExporter()\n",
    "    elif export_quality == \"med\":\n",
    "        video_exporter = H264Hi422PVideoExporter()\n",
    "        audio_exporter = AACAudioExporter()\n",
    "    else:\n",
    "        video_exporter = LosslessVideoExporter()\n",
    "        audio_exporter = WAVAudioExporter()\n",
    "\n",
    "    video_exporter.prepare_export(\"video data\")\n",
    "    audio_exporter.prepare_export(\"audio data\")\n",
    "\n",
    "    folder = pathlib.Path(\"/usr/tmp/video\")\n",
    "    video_exporter.do_export(folder)\n",
    "    audio_exporter.do_export(folder)\n",
    "\n",
    "main()"
   ]
  },
  {
   "cell_type": "markdown",
   "metadata": {},
   "source": [
    "<b>Benutzung der Standart Factory-Methode:</b>"
   ]
  },
  {
   "cell_type": "code",
   "execution_count": 114,
   "metadata": {},
   "outputs": [],
   "source": [
    "class ExporterFactory(ABC):\n",
    "    \"\"\"\n",
    "    Die Factory stellt eine Kombination aus Video und Audio Codecs dar.\n",
    "    Die Factory verwaltet keine der von ihr erstellten Instanzen.\n",
    "    \"\"\"\n",
    "\n",
    "    @abstractmethod\n",
    "    def get_video_exporter(self) -> VideoExporter:\n",
    "        \"\"\"Gibt einen neuen Videoexporter zurück, der zu dieser Fabrik gehört.\"\"\"\n",
    "\n",
    "    @abstractmethod\n",
    "    def get_audio_exporter(self) -> AudioExporter:\n",
    "        \"\"\"Gibt einen neuen Audioexporter zurück, der zu dieser Fabrik gehört..\"\"\"\n",
    "\n",
    "\n",
    "class FastExporter(ExporterFactory):\n",
    "    \"\"\"\n",
    "    Diese Factory zielt darauf ab,\n",
    "    eine hohe Geschwindigkeit und eine niedrige Qualität \n",
    "    für den Export zu liefern. \n",
    "    \"\"\"\n",
    "    def get_video_exporter(self) -> VideoExporter:\n",
    "        return H264BPVideoExporter()\n",
    "\n",
    "    def get_audio_exporter(self) -> AudioExporter:\n",
    "        return AACAudioExporter()\n",
    "\n",
    "\n",
    "class MediumQualityExporter(ExporterFactory):\n",
    "    \"\"\"\n",
    "    Die Factory zielt darauf ab,\n",
    "    eine niedrige Geschwindigkeit und eine mittlere Qualität \n",
    "    für den Export zu liefern. \n",
    "    \"\"\"\n",
    "    def get_video_exporter(self) -> VideoExporter:\n",
    "        return H264Hi422PVideoExporter()\n",
    "\n",
    "    def get_audio_exporter(self) -> AudioExporter:\n",
    "        return AACAudioExporter()\n",
    "\n",
    "\n",
    "class HighQualityExporter(ExporterFactory):\n",
    "    \"\"\"\n",
    "    Die Factory zielt darauf ab,\n",
    "    eine niedrige Geschwindigkeit und eine maximaler Qualität \n",
    "    für den Export zu liefern. \n",
    "    \"\"\"\n",
    "    def get_video_exporter(self) -> VideoExporter:\n",
    "        return LosslessVideoExporter()\n",
    "\n",
    "    def get_audio_exporter(self) -> AudioExporter:\n",
    "        return WAVAudioExporter()"
   ]
  },
  {
   "cell_type": "code",
   "execution_count": 115,
   "metadata": {},
   "outputs": [],
   "source": [
    "FACTORIES = {\n",
    "        \"low\": FastExporter,\n",
    "        \"med\": MediumQualityExporter,\n",
    "        \"high\": HighQualityExporter,\n",
    "    }\n",
    "\n",
    "def read_factory() -> ExporterFactory:\n",
    "    \"\"\"Constructs an exporter factory based on the user's preference.\"\"\"\n",
    "\n",
    "    while True:\n",
    "        export_quality = input(\"Gewünschte Ausgabequalität eingeben (low, med, high):\")\n",
    "        try:\n",
    "           return FACTORIES[export_quality]()\n",
    "        except KeyError:\n",
    "            print(f\"Unbekannte Ausgangsqualitäts Option: {export_quality}.\")"
   ]
  },
  {
   "cell_type": "code",
   "execution_count": 116,
   "metadata": {},
   "outputs": [
    {
     "name": "stdout",
     "output_type": "stream",
     "text": [
      "Vorbereiten von Videodaten für den Export in Geringer Qualität.\n",
      "Vorbereiten von Audiodaten für den Export in Geringer Qualität.\n",
      "Exportieren von Videodaten in Geringer Qualität nach /usr/tmp/video.\n",
      "Exportieren von Audiodaten in Geringer Qualität nach /usr/tmp/audio.\n"
     ]
    }
   ],
   "source": [
    "def main(factory: ExporterFactory):\n",
    "\n",
    "    video_exporter = factory.get_video_exporter()\n",
    "    audio_exporter = factory.get_audio_exporter()\n",
    "\n",
    "    video_exporter.prepare_export(\"video data\")\n",
    "    audio_exporter.prepare_export(\"audio data\")\n",
    "\n",
    "    video_exporter.do_export(\"/usr/tmp/video\")\n",
    "    audio_exporter.do_export(\"/usr/tmp/audio\")\n",
    "\n",
    "\n",
    "factory = read_factory()\n",
    "main(factory)"
   ]
  },
  {
   "cell_type": "markdown",
   "metadata": {},
   "source": [
    "#### Das benutzen von Tupels für die Factory"
   ]
  },
  {
   "cell_type": "code",
   "execution_count": 117,
   "metadata": {},
   "outputs": [],
   "source": [
    "FACTORIES = {\n",
    "        \"low\": (H264BPVideoExporter, AACAudioExporter),\n",
    "        \"high\": (H264Hi422PVideoExporter, AACAudioExporter),\n",
    "        \"master\": (LosslessVideoExporter, WAVAudioExporter),\n",
    "    }\n",
    "\n",
    "def read_factory() -> tuple[VideoExporter, AudioExporter]:\n",
    "    \"\"\"Constructs an exporter factory based on the user's preference.\"\"\"\n",
    "\n",
    "    while True:\n",
    "        export_quality = input(\"Gewünschte Ausgabequalität eingeben (low, med, high): \")\n",
    "        try:\n",
    "           video_class, audio_class = FACTORIES[export_quality] \n",
    "           return (video_class(), audio_class())\n",
    "        except KeyError:\n",
    "            print(f\"Unbekannte Ausgangsqualitäts Option: {export_quality}.\")"
   ]
  },
  {
   "cell_type": "code",
   "execution_count": 118,
   "metadata": {},
   "outputs": [
    {
     "name": "stdout",
     "output_type": "stream",
     "text": [
      "Vorbereiten von Videodaten für den Export in Geringer Qualität.\n",
      "Vorbereiten von Audiodaten für den Export in Geringer Qualität.\n",
      "Exportieren von Videodaten in Geringer Qualität nach \\usr\\tmp\\video.\n",
      "Exportieren von Audiodaten in Geringer Qualität nach \\usr\\tmp\\video.\n"
     ]
    }
   ],
   "source": [
    "def main(exporters: tuple[VideoExporter, AudioExporter]):\n",
    "    video_exporter, audio_exporter = exporters\n",
    "\n",
    "    video_exporter.prepare_export(\"video data\")\n",
    "    audio_exporter.prepare_export(\"audio data\")\n",
    "\n",
    "    folder = pathlib.Path(\"/usr/tmp/video\")\n",
    "    video_exporter.do_export(folder)\n",
    "    audio_exporter.do_export(folder)\n",
    "\n",
    "\n",
    "exporters = read_factory()\n",
    "main(exporters)"
   ]
  },
  {
   "cell_type": "markdown",
   "metadata": {},
   "source": [
    "#### Das benutzen von Dataclasses für die Factories"
   ]
  },
  {
   "cell_type": "code",
   "execution_count": 119,
   "metadata": {},
   "outputs": [],
   "source": [
    "from dataclasses import dataclass\n",
    "from typing import Type\n",
    "\n",
    "@dataclass\n",
    "class MediaExporter:\n",
    "    video_exporter: VideoExporter\n",
    "    audio_exporter: AudioExporter\n",
    "\n",
    "@dataclass\n",
    "class MediaExporterFactory:\n",
    "    video_class: Type[VideoExporter]\n",
    "    audio_class: Type[AudioExporter]\n",
    "\n",
    "    def __call__(self) -> MediaExporter:\n",
    "        return MediaExporter(self.video_class(), self.audio_class())\n",
    "\n",
    "FACTORIES = {\n",
    "        \"low\": MediaExporterFactory(H264BPVideoExporter, AACAudioExporter),\n",
    "        \"med\": MediaExporterFactory(H264Hi422PVideoExporter, AACAudioExporter),\n",
    "        \"high\": MediaExporterFactory(LosslessVideoExporter, WAVAudioExporter),\n",
    "    }\n",
    "\n",
    "def read_factory() -> MediaExporterFactory:\n",
    "    \"\"\"Constructs an exporter factory based on the user's preference.\"\"\"\n",
    "\n",
    "    while True:\n",
    "        export_quality = input(\"Gewünschte Ausgabequalität eingeben (low, med, high): \")\n",
    "        try:\n",
    "           return FACTORIES[export_quality]\n",
    "        except KeyError:\n",
    "            print(f\"Unbekannte Ausgangsqualitäts Option: {export_quality}.\")"
   ]
  },
  {
   "cell_type": "code",
   "execution_count": 120,
   "metadata": {},
   "outputs": [
    {
     "name": "stdout",
     "output_type": "stream",
     "text": [
      "Vorbereiten von Videodaten für den Export in Geringer Qualität.\n",
      "Vorbereiten von Audiodaten für den Export in Geringer Qualität.\n",
      "Exportieren von Videodaten in Geringer Qualität nach /usr/tmp/video.\n",
      "Exportieren von Audiodaten in Geringer Qualität nach /usr/tmp/audio.\n"
     ]
    }
   ],
   "source": [
    "def main(exporter: MediaExporter):\n",
    "    exporter.video_exporter.prepare_export(\"media data\")\n",
    "    exporter.audio_exporter.prepare_export(\"media data\")\n",
    "\n",
    "    exporter.video_exporter.do_export(\"/usr/tmp/video\")\n",
    "    exporter.audio_exporter.do_export(\"/usr/tmp/audio\")\n",
    "\n",
    "\n",
    "factory = read_factory()\n",
    "media_exporter = factory()\n",
    "main(media_exporter)"
   ]
  },
  {
   "cell_type": "markdown",
   "metadata": {},
   "source": [
    "#### Vorteile der Verwendung der Factory-Methode: \n",
    "1. Wir können leicht neue Produkttypen hinzufügen, ohne den bestehenden Client-Code zu stören.\n",
    "2. Im Allgemeinen wird eine enge Kopplung zwischen den Produkten und den Erstellerklassen und -objekten vermieden.\n",
    "\n",
    "#### Nachteile der Verwendung der Factory-Methode:\n",
    "1. Um ein bestimmtes konkretes Produktobjekt zu erstellen, muss der Client möglicherweise eine Unterklasse der Erzeugerklasse erstellen.\n",
    "2. Dies führt zu einer großen Anzahl von kleinen Dateien, wodurch die Dateien unübersichtlich werden.\n",
    "\n",
    "#### Anwendbarkeit:\n",
    "1. In einem Grafiksystem können je nach den Eingaben des Benutzers verschiedene Formen wie Rechtecke, Quadrate, Kreise usw. gezeichnet werden. Um es sowohl den Entwicklern als auch den Kunden zu erleichtern, können wir die Factory-Methode verwenden, um die Instanz in Abhängigkeit von der Benutzereingabe zu erstellen. Dann müssen wir den Client-Code nicht mehr ändern, um eine neue Form hinzuzufügen.\n",
    "<br>\n",
    "<br>\n",
    "\n",
    "2. Auf einer Hotelbuchungsseite können wir einen Slot für 1 Zimmer, 2 Zimmer, 3 Zimmer, etc. buchen. Hier kann der Benutzer die Anzahl der Zimmer eingeben, die er buchen möchte. Mit der Factory-Methode können wir eine Factory-Klasse AnyRooms erstellen, die uns hilft, die Instanz je nach Benutzereingabe zu erstellen. Auch hier müssen wir den Code des Clients nicht ändern, um die neue Einrichtung hinzuzufügen."
   ]
  }
 ],
 "metadata": {
  "interpreter": {
   "hash": "8edcae8aee8b9f77d273e745edc9899fcb323bc44a6c60d119c52fd1eee6c242"
  },
  "kernelspec": {
   "display_name": "Python 3.10.0 64-bit ('venv': venv)",
   "language": "python",
   "name": "python3"
  },
  "language_info": {
   "codemirror_mode": {
    "name": "ipython",
    "version": 3
   },
   "file_extension": ".py",
   "mimetype": "text/x-python",
   "name": "python",
   "nbconvert_exporter": "python",
   "pygments_lexer": "ipython3",
   "version": "3.10.0"
  },
  "orig_nbformat": 4
 },
 "nbformat": 4,
 "nbformat_minor": 2
}
