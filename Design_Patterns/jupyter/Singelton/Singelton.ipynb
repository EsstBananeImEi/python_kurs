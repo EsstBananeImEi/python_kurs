{
 "cells": [
  {
   "cell_type": "markdown",
   "metadata": {},
   "source": [
    "# Python Singleton Pattern\n",
    "\n",
    "Ein Singleton-Pattern in Python ist ein Entwurfsmuster, das es erlaubt, während der gesamten Lebensdauer eines Programms nur eine Instanz einer Klasse zu erstellen. Die Verwendung eines \n",
    "\n",
    "Singleton-Patterns hat viele Vorteile. Einige von ihnen sind:\n",
    "\n",
    "- Begrenzung des gleichzeitigen Zugriffs auf eine gemeinsam genutzte Ressource.\n",
    "- Schaffung eines globalen Zugriffspunkts für eine Ressource.\n",
    "- Um nur eine Instanz einer Klasse während der gesamten Lebensdauer eines Programms zu erstellen.\n",
    "\n",
    "Das Singleton-Pattern hat aber auch Nachteile:\n",
    "\n",
    "- Singleton-Pattern verstößt gegen das Single-Responsibility-Prinzip, da die Klasse möglicherweise mehr als eine Aufgabe zu einem bestimmten Zeitpunkt übernehmen muss."
   ]
  },
  {
   "cell_type": "code",
   "execution_count": 119,
   "metadata": {},
   "outputs": [],
   "source": [
    "from dataclasses import dataclass\n",
    "\n",
    "class SingletonMeta(type):\n",
    "    __INSTANCES = {}\n",
    "    \n",
    "    def __call__(cls, *args, **kwargs):\n",
    "        if cls not in cls.__INSTANCES:\n",
    "            instance = super().__call__(*args, **kwargs)\n",
    "            cls.__INSTANCES[cls] = instance\n",
    "        return cls.__INSTANCES[cls]\n",
    "\n",
    "    def __del__(cls):\n",
    "        cls.__INSTANCES.clear()\n"
   ]
  },
  {
   "cell_type": "code",
   "execution_count": 132,
   "metadata": {},
   "outputs": [],
   "source": [
    "class Network(metaclass=SingletonMeta):\n",
    "\n",
    "    def __init__(self, connected_at: str) -> None:\n",
    "        self._connection = self.connect()\n",
    "        self._connected_at = connected_at\n",
    "\n",
    "    def connect(self) -> bool:\n",
    "        # Netzwerkverbindung einrichten\n",
    "        return True\n",
    "\n",
    "    @property\n",
    "    def connected_at(self):\n",
    "        return self._connected_at\n",
    "   \n",
    "    @connected_at.setter\n",
    "    def connected_at(self, connected_at):\n",
    "        self._connected_at = connected_at\n"
   ]
  },
  {
   "cell_type": "code",
   "execution_count": 133,
   "metadata": {},
   "outputs": [
    {
     "name": "stdout",
     "output_type": "stream",
     "text": [
      "31.01.2021\n",
      "31.01.2021\n"
     ]
    }
   ],
   "source": [
    "from threading import Thread\n",
    "\n",
    "def create_connection(connected_at: str) -> None:\n",
    "    connection = Network(connected_at)\n",
    "    print(connection.connected_at)\n",
    "\n",
    "\n",
    "connection_thread1 = Thread(target=create_connection, args=('31.01.2021',))\n",
    "connection_thread2 = Thread(target=create_connection, args=('31.02.2022',))\n",
    "connection_thread1.start()\n",
    "connection_thread2.start()\n",
    "connection_thread1.join()\n",
    "connection_thread2.join()\n",
    "\n",
    "Network.__del__()"
   ]
  },
  {
   "cell_type": "code",
   "execution_count": 134,
   "metadata": {},
   "outputs": [
    {
     "name": "stdout",
     "output_type": "stream",
     "text": [
      "31.01.2222\n",
      "31.01.2222\n"
     ]
    }
   ],
   "source": [
    "connection = Network('31.01.2222')\n",
    "print(connection.connected_at)\n",
    "connection2 = Network('22.12.21')\n",
    "print(connection2.connected_at)"
   ]
  },
  {
   "cell_type": "code",
   "execution_count": 136,
   "metadata": {},
   "outputs": [
    {
     "name": "stdout",
     "output_type": "stream",
     "text": [
      "22.12.21\n",
      "22.12.21\n"
     ]
    }
   ],
   "source": [
    "connection2.connected_at = '22.12.21'\n",
    "print(connection.connected_at)\n",
    "print(connection2.connected_at)\n"
   ]
  }
 ],
 "metadata": {
  "kernelspec": {
   "display_name": "Python 3 (ipykernel)",
   "language": "python",
   "name": "python3"
  },
  "language_info": {
   "codemirror_mode": {
    "name": "ipython",
    "version": 3
   },
   "file_extension": ".py",
   "mimetype": "text/x-python",
   "name": "python",
   "nbconvert_exporter": "python",
   "pygments_lexer": "ipython3",
   "version": "3.10.0"
  }
 },
 "nbformat": 4,
 "nbformat_minor": 2
}
