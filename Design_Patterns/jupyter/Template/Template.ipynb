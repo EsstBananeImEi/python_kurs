{
 "cells": [
  {
   "cell_type": "markdown",
   "metadata": {},
   "source": [
    "# Template Pattern\n",
    "\n",
    "Bei der Template-Methode handelt es sich um ein Verhaltensmuster (Behavioral Design Pattern), das das Grundgerüst der Operation definiert und die Details der Implementierung durch die untergeordnete Klasse überlässt. Ihre Unterklassen können die Methodenimplementierungen je nach Bedarf überschreiben, aber der Aufruf muss auf die gleiche Weise erfolgen, wie sie von einer abstrakten Klasse definiert wurde. Es ist eines der am einfachsten zu verstehenden und zu implementierenden Behavioral Design Pattern. Solche Methoden werden häufig bei der Entwicklung von Frameworks verwendet, da sie es uns ermöglichen, ein einziges Stück Code an verschiedenen Stellen wiederzuverwenden, indem wir bestimmte Änderungen vornehmen. Dies führt auch dazu, dass Code-Duplikationen vermieden werden.\n",
    "\n",
    "<b>Probleme ohne die Template Methode</b>\n",
    "Stell dir vor du hast ein Webshop, der Bestellprozess ist Standatisiert, der Kunde platziert eine Bestellung, die Bestellung wird verpackt, an die Logistik übergeben und versendet. Dies ist also ein Fester Prozess, aber die Schritte können unterscheidlich sein. Z.b wenn Digitale Produkte verkauft werden, müssen diese als Email versand werden und gehen nicht zur Logistik, während Physikalische Produkte über die Logistik von verschiedenen Logistik-Partner Transportiert werden können. Wir sehen also das der Prozess für die Bestellungen der Gleiche ist, aber die einzelnen Schritte abhängig von dem Produkttyp und der Situation ist.\n",
    "\n",
    "Schauen wir uns zunächst dein mögliches Programm einmal genauer an."
   ]
  },
  {
   "cell_type": "code",
   "execution_count": 492,
   "metadata": {},
   "outputs": [
    {
     "name": "stdout",
     "output_type": "stream",
     "text": [
      "Connecting to Crypto exchange...\n",
      "You should buy BTC/USD for 11132.55€!\n"
     ]
    }
   ],
   "source": [
    "from typing import List\n",
    "import random\n",
    "\n",
    "class Application:\n",
    "\n",
    "    def __init__(self, trading_strategy = \"average\") -> None:\n",
    "        self.trading_strategy = trading_strategy\n",
    "\n",
    "    def _get_float_list(self, start, end) -> List[float]:\n",
    "        random_float_list = []\n",
    "        for _ in range(0, 10):\n",
    "            x = round(random.uniform(start, end), 2)\n",
    "            random_float_list.append(x)\n",
    "        return random_float_list\n",
    "\n",
    "    def get_actual_price(self) -> float:\n",
    "        return round(random.uniform(10000,30000), 2)\n",
    "    \n",
    "    def get_price_history(self) -> List[float]:\n",
    "        return self._get_float_list(10000, 30000)\n",
    "\n",
    "    def connect(self) -> None:\n",
    "        print(f\"Connecting to Crypto exchange...\")\n",
    "\n",
    "    def get_market_data(self, coin: str) -> List[float]:\n",
    "        return self.get_price_history()\n",
    "\n",
    "    def list_average(self, l: List[float]) -> float:\n",
    "        return sum(l) / len(l)\n",
    "\n",
    "    def should_buy(self, last_price:float, prices: List[float]) -> bool:\n",
    "        if self.trading_strategy == \"minmax\":\n",
    "            return last_price <= min(prices)\n",
    "        else:\n",
    "            return last_price < self.list_average(prices)\n",
    "\n",
    "    def should_sell(self, last_price:float, prices: List[float]) -> bool:\n",
    "        if self.trading_strategy == \"minmax\":\n",
    "            return last_price >= max(prices)\n",
    "        else:\n",
    "            return last_price > self.list_average(prices)\n",
    "\n",
    "    def check_prices(self, coin: str):\n",
    "        self.connect()\n",
    "        prices = self.get_market_data(coin)\n",
    "        last_price = self.get_actual_price()\n",
    "        should_buy = self.should_buy(last_price, prices)\n",
    "        should_sell = self.should_sell(last_price, prices)\n",
    "        if should_buy:\n",
    "            print(f\"You should buy {coin} for {last_price}€!\")\n",
    "        elif should_sell:\n",
    "            print(f\"You should sell {coin} for {last_price}€!\")\n",
    "        else:\n",
    "            print(f\"No action needed for {coin}.\")\n",
    "            \n",
    "\n",
    "application = Application(\"minmax\")\n",
    "application.check_prices(\"BTC/USD\")"
   ]
  },
  {
   "cell_type": "markdown",
   "metadata": {},
   "source": [
    "#### mit Template method"
   ]
  },
  {
   "cell_type": "code",
   "execution_count": 494,
   "metadata": {},
   "outputs": [
    {
     "name": "stdout",
     "output_type": "stream",
     "text": [
      "Connecting to Crypto exchange...\n",
      "You should sell BTC/UTC for 27489.95€!\n"
     ]
    }
   ],
   "source": [
    "from typing import List\n",
    "import random\n",
    "from abc import ABC, abstractmethod\n",
    "\n",
    "\n",
    "class TradingBot(ABC):\n",
    "\n",
    "    def _get_float_list(self, start, end) -> List[float]:\n",
    "        random_float_list = []\n",
    "        for _ in range(0, 10):\n",
    "            x = round(random.uniform(start, end), 2)\n",
    "            random_float_list.append(x)\n",
    "        return random_float_list\n",
    "\n",
    "    def get_actual_price(self) -> float:\n",
    "        return round(random.uniform(10000,30000), 2)\n",
    "    \n",
    "    def get_price_history(self) -> List[float]:\n",
    "        return self._get_float_list(10000, 30000)\n",
    "    \n",
    "    def connect(self):\n",
    "        print(f\"Connecting to Crypto exchange...\")\n",
    "\n",
    "    def get_market_data(self, coin: str) -> List[float]:\n",
    "        return self.get_price_history()\n",
    "\n",
    "    @abstractmethod\n",
    "    def should_buy(self, last_price:float, prices: List[float]) -> bool:\n",
    "        pass\n",
    "\n",
    "    @abstractmethod\n",
    "    def should_sell(self, last_price:float, prices: List[float]) -> bool:\n",
    "        pass\n",
    "\n",
    "    def check_prices(self, coin: str):\n",
    "        self.connect()\n",
    "        prices = self.get_market_data(coin)\n",
    "        last_price = self.get_actual_price()\n",
    "        should_buy = self.should_buy(last_price, prices)\n",
    "        should_sell = self.should_sell(last_price, prices)\n",
    "        if should_buy:\n",
    "            print(f\"You should buy {coin} for {last_price}€!\")\n",
    "        elif should_sell:\n",
    "            print(f\"You should sell {coin} for {last_price}€!\")\n",
    "        else:\n",
    "            print(f\"No action needed for {coin}.\")\n",
    "            \n",
    "\n",
    "class AvarageTrader(TradingBot):\n",
    "\n",
    "    def list_average(self, l: List[float]) -> float:\n",
    "        return sum(l) / len(l)\n",
    "    \n",
    "    def should_buy(self, last_price:float, prices: List[float]) -> bool:\n",
    "        return last_price < self.list_average(prices)\n",
    "\n",
    "    def should_sell(self, last_price:float, prices: List[float]) -> bool:\n",
    "        return last_price > self.list_average(prices)\n",
    "\n",
    "\n",
    "class MinMaxTrader(TradingBot):\n",
    "\n",
    "    def should_buy(self, last_price:float, prices: List[float]) -> bool:\n",
    "        return last_price <= min(prices)\n",
    "\n",
    "    def should_sell(self, last_price:float, prices: List[float]) -> bool:\n",
    "        return last_price >= max(prices)\n",
    "\n",
    "\n",
    "trader = AvarageTrader()\n",
    "trader.check_prices(\"BTC/UTC\")"
   ]
  }
 ],
 "metadata": {
  "interpreter": {
   "hash": "8edcae8aee8b9f77d273e745edc9899fcb323bc44a6c60d119c52fd1eee6c242"
  },
  "kernelspec": {
   "display_name": "Python 3.10.0 64-bit ('venv': venv)",
   "language": "python",
   "name": "python3"
  },
  "language_info": {
   "codemirror_mode": {
    "name": "ipython",
    "version": 3
   },
   "file_extension": ".py",
   "mimetype": "text/x-python",
   "name": "python",
   "nbconvert_exporter": "python",
   "pygments_lexer": "ipython3",
   "version": "3.10.0"
  },
  "orig_nbformat": 4
 },
 "nbformat": 4,
 "nbformat_minor": 2
}
