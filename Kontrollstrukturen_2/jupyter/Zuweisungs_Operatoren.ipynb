{
 "cells": [
  {
   "cell_type": "markdown",
   "metadata": {},
   "source": [
    "# Zuweisungs Operatoren\n",
    "\n",
    "### Operatoren werden verwendet, um Operationen an Werten und Variablen auszuführen. Dies sind die speziellen Symbole, die arithmetische, logische, bitweise Berechnungen durchführen. Der Wert, mit dem der Operator arbeitet, wird als Operand bezeichnet ."
   ]
  },
  {
   "cell_type": "markdown",
   "metadata": {},
   "source": [
    "| Operator  | Description    | Example     |\n",
    "|:-------------|:-----------|:------|\n",
    "| =   | Weisen Sie dem Operanden auf der linken Seite den Wert der rechten Ausdrucksseite zu\t\t                | x = y + z |\n",
    "| +=\t | Hinzufügen und Zuweisen: Fügen Sie den rechten Operanden mit dem linken Operanden hinzu und weisen Sie ihn dann dem linken Operanden zu\t\t            | x += b   |\n",
    "|-=\t |UND subtrahieren: Subtrahiert den rechten Operanden vom linken Operanden und weist ihn dann dem linken Operanden zu: True, wenn beide Operanden gleich sind\t\t            | x -= y  |\n",
    "|*=\t | UND multiplizieren: Den rechten Operanden mit dem linken Operanden multiplizieren und dann dem linken Operanden zuweisen\t\t            | x *= y    |\n",
    "|/=\t |UND teilen: Teilen Sie den linken Operanden mit dem rechten Operanden und weisen Sie ihn dann dem linken Operanden zu\t| x /= y   |\n",
    "|%=\t | Modul UND: Nimmt den Modul mit linken und rechten Operanden und weist dem linken Operanden das Ergebnis zu\t\t| x %= y  |\n",
    "|//=\t | Teilen (Etage) UND: Teilen Sie den linken Operanden mit dem rechten Operanden und weisen Sie dann dem linken Operanden den Wert (Etage) zu\t\t\t| x //= y  |\n",
    "|**=| Exponent AND: Berechnen Sie den Exponentenwert (Erhöhungsleistung) mithilfe von Operanden und weisen Sie dem linken Operanden einen Wert zu\tu\t\t| x **= y  |\n",
    "|&=\t |Führt bitweises UND für Operanden aus und weist dem linken Operanden einen Wert zu\t\t\t| x &= y  |\n",
    "|\\|=\t | Führt ein bitweises ODER für Operanden aus und weist dem linken Operanden einen Wert zu\t\t\t| x \\|= y  |\n",
    "|^=\t | Führt bitweises xOR für Operanden aus und weist dem linken Operanden einen Wert zu\t\t\t| x ^= y  |\n",
    "|>>=\t | Führt eine bitweise Rechtsverschiebung für Operanden durch und weist dem linken Operanden einen Wert zu\t\t\t| x >>= y  |\n",
    "|<<=\t | Führt eine bitweise Linksverschiebung für Operanden durch und weist dem linken Operanden einen Wert zu\t\t\t| x <<= y  |"
   ]
  },
  {
   "cell_type": "code",
   "execution_count": 8,
   "metadata": {},
   "outputs": [
    {
     "data": {
      "text/plain": [
       "11"
      ]
     },
     "execution_count": 8,
     "metadata": {},
     "output_type": "execute_result"
    }
   ],
   "source": [
    "wert_1 = 5\n",
    "wert_2 = 6\n",
    "\n",
    "result = wert_1 + wert_2\n",
    "result"
   ]
  },
  {
   "cell_type": "code",
   "execution_count": 9,
   "metadata": {},
   "outputs": [
    {
     "data": {
      "text/plain": [
       "11"
      ]
     },
     "execution_count": 9,
     "metadata": {},
     "output_type": "execute_result"
    }
   ],
   "source": [
    "wert_1 = 5\n",
    "wert_2 = 6\n",
    "\n",
    "wert_1 += wert_2\n",
    "wert_1"
   ]
  },
  {
   "cell_type": "code",
   "execution_count": 12,
   "metadata": {},
   "outputs": [
    {
     "data": {
      "text/plain": [
       "-1"
      ]
     },
     "execution_count": 12,
     "metadata": {},
     "output_type": "execute_result"
    }
   ],
   "source": [
    "wert_1 = 5\n",
    "wert_2 = 6\n",
    "\n",
    "wert_1 -= wert_2\n",
    "wert_1"
   ]
  },
  {
   "cell_type": "code",
   "execution_count": 26,
   "metadata": {},
   "outputs": [
    {
     "data": {
      "text/plain": [
       "10"
      ]
     },
     "execution_count": 26,
     "metadata": {},
     "output_type": "execute_result"
    }
   ],
   "source": [
    "wert_1 = 5\n",
    "wert_2 = 2\n",
    "\n",
    "wert_1 *= wert_2\n",
    "wert_1"
   ]
  },
  {
   "cell_type": "code",
   "execution_count": 41,
   "metadata": {},
   "outputs": [
    {
     "data": {
      "text/plain": [
       "1"
      ]
     },
     "execution_count": 41,
     "metadata": {},
     "output_type": "execute_result"
    }
   ],
   "source": [
    "wert_1 = 9\n",
    "wert_2 = 2\n",
    "\n",
    "wert_1 %= wert_2\n",
    "wert_1"
   ]
  },
  {
   "cell_type": "code",
   "execution_count": 42,
   "metadata": {},
   "outputs": [
    {
     "data": {
      "text/plain": [
       "4.5"
      ]
     },
     "execution_count": 42,
     "metadata": {},
     "output_type": "execute_result"
    }
   ],
   "source": [
    "wert_1 = 9\n",
    "wert_2 = 2\n",
    "\n",
    "wert_1 /= wert_2\n",
    "wert_1"
   ]
  }
 ],
 "metadata": {
  "interpreter": {
   "hash": "8edcae8aee8b9f77d273e745edc9899fcb323bc44a6c60d119c52fd1eee6c242"
  },
  "kernelspec": {
   "display_name": "Python 3.10.0 64-bit ('venv': venv)",
   "language": "python",
   "name": "python3"
  },
  "language_info": {
   "codemirror_mode": {
    "name": "ipython",
    "version": 3
   },
   "file_extension": ".py",
   "mimetype": "text/x-python",
   "name": "python",
   "nbconvert_exporter": "python",
   "pygments_lexer": "ipython3",
   "version": "3.10.0"
  },
  "orig_nbformat": 4
 },
 "nbformat": 4,
 "nbformat_minor": 2
}
