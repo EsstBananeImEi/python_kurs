{
 "cells": [
  {
   "cell_type": "markdown",
   "metadata": {},
   "source": [
    "# Loops\n",
    "\n",
    "### Über Schleifen können wir Aktion mehrmals ausführen lassen, bis eine festgelegte Bedingung erfüllt ist."
   ]
  },
  {
   "cell_type": "markdown",
   "metadata": {},
   "source": [
    "### While\n",
    "#### Diese Schleife läuft solange bis die bedingen \"while X\" erfüllt ist also True ergibt\n",
    "\n",
    "#### WICHTIG ! Die Bedingung einer While Schleife sollte immer erfüllt werden sonst wird diese Schleife Endlos ausgeführt, was zu sogennanten Memory-Leaks führt."
   ]
  },
  {
   "cell_type": "code",
   "execution_count": 2,
   "metadata": {},
   "outputs": [],
   "source": [
    "max_loops = 10\n",
    "counter = 1"
   ]
  },
  {
   "cell_type": "code",
   "execution_count": 3,
   "metadata": {},
   "outputs": [
    {
     "name": "stdout",
     "output_type": "stream",
     "text": [
      "Das ist durchgang Nr. 1\n",
      "Das ist durchgang Nr. 2\n",
      "Das ist durchgang Nr. 3\n",
      "Das ist durchgang Nr. 4\n",
      "Das ist durchgang Nr. 5\n",
      "Das ist durchgang Nr. 6\n",
      "Das ist durchgang Nr. 7\n",
      "Das ist durchgang Nr. 8\n",
      "Das ist durchgang Nr. 9\n",
      "Das ist durchgang Nr. 10\n"
     ]
    }
   ],
   "source": [
    "while counter <= max_loops:\n",
    "    print(\"Das ist durchgang Nr. %s\" % counter)\n",
    "    counter += 1\n",
    "counter = 0"
   ]
  },
  {
   "cell_type": "code",
   "execution_count": 4,
   "metadata": {},
   "outputs": [
    {
     "name": "stdout",
     "output_type": "stream",
     "text": [
      "Das ist durchgang Nr. 0\n",
      "Das ist durchgang Nr. 2\n",
      "Das ist durchgang Nr. 4\n",
      "Das ist durchgang Nr. 6\n",
      "Das ist durchgang Nr. 8\n",
      "Das ist durchgang Nr. 10\n"
     ]
    }
   ],
   "source": [
    "while counter <= max_loops:\n",
    "    if counter % 2 == 0:\n",
    "        print(\"Das ist durchgang Nr. %s\" % counter)\n",
    "    counter += 1\n",
    "counter = 0"
   ]
  },
  {
   "cell_type": "markdown",
   "metadata": {},
   "source": [
    "### For\n",
    "#### Im gegensatz zu anderen Programmiersprachen dient diese Schleife zur iteration über eine Sequenz von objekten, während sie in anderen Sprachen meist nur eine andere form der \"while\" schleife ist."
   ]
  },
  {
   "cell_type": "code",
   "execution_count": 3,
   "metadata": {},
   "outputs": [
    {
     "name": "stdout",
     "output_type": "stream",
     "text": [
      "Python\n",
      "for\n",
      "Loop\n",
      "Test\n"
     ]
    }
   ],
   "source": [
    "string_list = [\"Python\",\"for-\",\"Loop\",\"Test\"]\n",
    "for string_element in string_list:\n",
    "    print(string_element)"
   ]
  },
  {
   "cell_type": "code",
   "execution_count": 4,
   "metadata": {},
   "outputs": [
    {
     "name": "stdout",
     "output_type": "stream",
     "text": [
      "0 Axel\n",
      "1 Elke\n",
      "2 Martin\n"
     ]
    }
   ],
   "source": [
    "vornamen = ['Axel', 'Elke', 'Martin']\n",
    "for nr, einzelwert in enumerate(vornamen):\n",
    "    print(nr, einzelwert)"
   ]
  },
  {
   "cell_type": "code",
   "execution_count": null,
   "metadata": {},
   "outputs": [],
   "source": []
  }
 ],
 "metadata": {
  "interpreter": {
   "hash": "8edcae8aee8b9f77d273e745edc9899fcb323bc44a6c60d119c52fd1eee6c242"
  },
  "kernelspec": {
   "display_name": "Python 3.10.0 64-bit ('venv': venv)",
   "language": "python",
   "name": "python3"
  },
  "language_info": {
   "codemirror_mode": {
    "name": "ipython",
    "version": 3
   },
   "file_extension": ".py",
   "mimetype": "text/x-python",
   "name": "python",
   "nbconvert_exporter": "python",
   "pygments_lexer": "ipython3",
   "version": "3.10.0"
  },
  "orig_nbformat": 4
 },
 "nbformat": 4,
 "nbformat_minor": 2
}
