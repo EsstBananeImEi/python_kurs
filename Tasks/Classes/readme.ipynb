{
 "cells": [
  {
   "attachments": {},
   "cell_type": "markdown",
   "metadata": {},
   "source": [
    "<h1> Aufgabe </h1>\n",
    "\n",
    "<p> In dieser Aufgabe soll die Klasse Person aus der <a href=\"aufgabe/main.py\">main.py</a> in passende Module/Klassen aufgeteilt werden.<br>\n",
    "\n",
    "    Beschreibung:\n",
    "        - die Module/Klassen sollen in einem eigenen Unterordner liegen\n",
    "        - die Module werden mit einer __init__.py Datei zu einem Package zusammengefasst\n",
    "        - die ausgabe der main.py soll sich nicht ändern\n",
    "        - die Module sollten Logisch aufgeteilt werden (die Aufteilung variiert je nach betrachtung, kann also von der Lösung abweichen)\n",
    "        - beachte das die Email jederzeit mit einem anderen Modul gesendet werden kann und es leicht austauschbar sein sollte\n",
    "\n",
    "\n",
    "</p>\n",
    "Wenn du fertig bist, kannst du die Lösung in der <a href=\"lösung/main.py\">lösung/main.py</a> anschauen.<br>\n",
    "Falls du nicht weiter kommst, kannst du dir die <a href=\"lösung/main.py\">lösung/main.py</a> anschauen und versuchen sie nachzuvollziehen."
   ]
  }
 ],
 "metadata": {
  "language_info": {
   "name": "python"
  },
  "orig_nbformat": 4
 },
 "nbformat": 4,
 "nbformat_minor": 2
}
