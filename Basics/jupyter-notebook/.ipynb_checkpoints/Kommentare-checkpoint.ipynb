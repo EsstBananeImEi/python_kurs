{
 "cells": [
  {
   "cell_type": "markdown",
   "id": "284fbe28",
   "metadata": {},
   "source": [
    "# Kommentare"
   ]
  },
  {
   "cell_type": "markdown",
   "id": "09d262fb",
   "metadata": {},
   "source": [
    "### Kommentare sind Annotationen innerhalb von Programmiersprachen und Textbeschreibungssprachen. Alle diese Sprachen bestehen aus Anweisungen für den Computer und Hinweisen für Textbearbeiter. Kommentare dienen dazu, den Quelltext für den Menschen leichter verständlich zu machen. *quelle wikipedia"
   ]
  },
  {
   "cell_type": "markdown",
   "id": "e260710a",
   "metadata": {},
   "source": [
    "### Die beschreibung eines Kommentars stimmt soweit, da wir uns aber Heutzutage an Clean Code Orientieren wird eher selten ein kommentar verwendet\n",
    "\n",
    "### Ich kann euch das Buch Clean Code von Robert C. Martin empfehlen es ist zwar von 2009 aber es gilt als \"der\" Leitfaden für Clean Coding"
   ]
  },
  {
   "cell_type": "markdown",
   "id": "b7e7bad7",
   "metadata": {},
   "source": [
    "### Kommentare werden nicht ausgeführt"
   ]
  },
  {
   "cell_type": "code",
   "execution_count": 10,
   "id": "ca72a062",
   "metadata": {},
   "outputs": [
    {
     "data": {
      "text/plain": [
       "4"
      ]
     },
     "execution_count": 10,
     "metadata": {},
     "output_type": "execute_result"
    }
   ],
   "source": [
    "2 + 2"
   ]
  },
  {
   "cell_type": "code",
   "execution_count": 11,
   "id": "6826168b",
   "metadata": {},
   "outputs": [],
   "source": [
    "# 2 + 2"
   ]
  }
 ],
 "metadata": {
  "kernelspec": {
   "display_name": "Python 3",
   "language": "python",
   "name": "python3"
  },
  "language_info": {
   "codemirror_mode": {
    "name": "ipython",
    "version": 3
   },
   "file_extension": ".py",
   "mimetype": "text/x-python",
   "name": "python",
   "nbconvert_exporter": "python",
   "pygments_lexer": "ipython3",
   "version": "3.8.8"
  }
 },
 "nbformat": 4,
 "nbformat_minor": 5
}
