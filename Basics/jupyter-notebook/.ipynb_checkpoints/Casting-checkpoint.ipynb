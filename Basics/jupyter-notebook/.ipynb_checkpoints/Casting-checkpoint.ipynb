{
 "cells": [
  {
   "cell_type": "markdown",
   "id": "99819914",
   "metadata": {},
   "source": [
    "# Datentypen können geändert werden, dies nennt man auch *type conversion*, *type casting* oder kurz *cast*, mit dem casten wandeln wir einen Datentypen in einen anderen Datentypen um sofern die Typen Kompatible sind.\n",
    "\n"
   ]
  },
  {
   "cell_type": "markdown",
   "id": "97dc6d91",
   "metadata": {},
   "source": [
    "### String -> Int"
   ]
  },
  {
   "cell_type": "code",
   "execution_count": 20,
   "id": "c069d4af",
   "metadata": {},
   "outputs": [],
   "source": [
    "string = \"2\""
   ]
  },
  {
   "cell_type": "code",
   "execution_count": 23,
   "id": "2f059dfd",
   "metadata": {},
   "outputs": [
    {
     "data": {
      "text/plain": [
       "str"
      ]
     },
     "execution_count": 23,
     "metadata": {},
     "output_type": "execute_result"
    }
   ],
   "source": [
    "type(string)"
   ]
  },
  {
   "cell_type": "code",
   "execution_count": 17,
   "id": "e9b70e71",
   "metadata": {},
   "outputs": [],
   "source": [
    "number = int(string)"
   ]
  },
  {
   "cell_type": "code",
   "execution_count": 19,
   "id": "6f040fdd",
   "metadata": {},
   "outputs": [
    {
     "data": {
      "text/plain": [
       "int"
      ]
     },
     "execution_count": 19,
     "metadata": {},
     "output_type": "execute_result"
    }
   ],
   "source": [
    "type(number)"
   ]
  },
  {
   "cell_type": "markdown",
   "id": "7b21eee0",
   "metadata": {},
   "source": [
    "### Int -> String"
   ]
  },
  {
   "cell_type": "code",
   "execution_count": 24,
   "id": "179a27ea",
   "metadata": {},
   "outputs": [],
   "source": [
    "integer = 4"
   ]
  },
  {
   "cell_type": "code",
   "execution_count": 25,
   "id": "50f5d389",
   "metadata": {},
   "outputs": [
    {
     "data": {
      "text/plain": [
       "int"
      ]
     },
     "execution_count": 25,
     "metadata": {},
     "output_type": "execute_result"
    }
   ],
   "source": [
    "type(integer)"
   ]
  },
  {
   "cell_type": "code",
   "execution_count": 26,
   "id": "1dee89d2",
   "metadata": {},
   "outputs": [],
   "source": [
    "new_string = str(integer)"
   ]
  },
  {
   "cell_type": "code",
   "execution_count": 27,
   "id": "645aa3f1",
   "metadata": {},
   "outputs": [
    {
     "data": {
      "text/plain": [
       "str"
      ]
     },
     "execution_count": 27,
     "metadata": {},
     "output_type": "execute_result"
    }
   ],
   "source": [
    "type(new_string)"
   ]
  },
  {
   "cell_type": "markdown",
   "id": "1b99bd75",
   "metadata": {},
   "source": [
    "### Float -> Int"
   ]
  },
  {
   "cell_type": "code",
   "execution_count": 62,
   "id": "458a96cb",
   "metadata": {},
   "outputs": [],
   "source": [
    "my_float = 3.14156"
   ]
  },
  {
   "cell_type": "code",
   "execution_count": 63,
   "id": "c0f27442",
   "metadata": {},
   "outputs": [
    {
     "data": {
      "text/plain": [
       "3"
      ]
     },
     "execution_count": 63,
     "metadata": {},
     "output_type": "execute_result"
    }
   ],
   "source": [
    "int(my_float)"
   ]
  },
  {
   "cell_type": "code",
   "execution_count": 64,
   "id": "4429201a",
   "metadata": {},
   "outputs": [
    {
     "data": {
      "text/plain": [
       "3.14156"
      ]
     },
     "execution_count": 64,
     "metadata": {},
     "output_type": "execute_result"
    }
   ],
   "source": [
    "float(my_float)"
   ]
  },
  {
   "cell_type": "markdown",
   "id": "a7cb1a99",
   "metadata": {},
   "source": [
    "### Int -> Float"
   ]
  },
  {
   "cell_type": "code",
   "execution_count": 67,
   "id": "cdb9c529",
   "metadata": {},
   "outputs": [
    {
     "data": {
      "text/plain": [
       "3.0"
      ]
     },
     "execution_count": 67,
     "metadata": {},
     "output_type": "execute_result"
    }
   ],
   "source": [
    "float(3)"
   ]
  },
  {
   "cell_type": "markdown",
   "id": "b871b3eb",
   "metadata": {},
   "source": [
    "### Fehler !"
   ]
  },
  {
   "cell_type": "code",
   "execution_count": 40,
   "id": "31038e93",
   "metadata": {},
   "outputs": [],
   "source": [
    "string = \"2a\""
   ]
  },
  {
   "cell_type": "code",
   "execution_count": 41,
   "id": "e1255fb1",
   "metadata": {},
   "outputs": [
    {
     "data": {
      "text/plain": [
       "str"
      ]
     },
     "execution_count": 41,
     "metadata": {},
     "output_type": "execute_result"
    }
   ],
   "source": [
    "type(string)"
   ]
  },
  {
   "cell_type": "code",
   "execution_count": 43,
   "id": "227aff67",
   "metadata": {},
   "outputs": [
    {
     "ename": "ValueError",
     "evalue": "invalid literal for int() with base 10: '2a'",
     "output_type": "error",
     "traceback": [
      "\u001b[0;31m---------------------------------------------------------------------------\u001b[0m",
      "\u001b[0;31mValueError\u001b[0m                                Traceback (most recent call last)",
      "\u001b[0;32m<ipython-input-43-12b550cd727a>\u001b[0m in \u001b[0;36m<module>\u001b[0;34m\u001b[0m\n\u001b[0;32m----> 1\u001b[0;31m \u001b[0mnew_integer\u001b[0m \u001b[0;34m=\u001b[0m \u001b[0mint\u001b[0m\u001b[0;34m(\u001b[0m\u001b[0mstring\u001b[0m\u001b[0;34m)\u001b[0m\u001b[0;34m\u001b[0m\u001b[0;34m\u001b[0m\u001b[0m\n\u001b[0m",
      "\u001b[0;31mValueError\u001b[0m: invalid literal for int() with base 10: '2a'"
     ]
    }
   ],
   "source": [
    "new_integer = int(string)"
   ]
  },
  {
   "cell_type": "code",
   "execution_count": 44,
   "id": "0139d5cc",
   "metadata": {},
   "outputs": [],
   "source": [
    "my_float_string = \"3.1\""
   ]
  },
  {
   "cell_type": "code",
   "execution_count": 47,
   "id": "5ed1060a",
   "metadata": {},
   "outputs": [
    {
     "ename": "ValueError",
     "evalue": "invalid literal for int() with base 10: '3.1'",
     "output_type": "error",
     "traceback": [
      "\u001b[0;31m---------------------------------------------------------------------------\u001b[0m",
      "\u001b[0;31mValueError\u001b[0m                                Traceback (most recent call last)",
      "\u001b[0;32m<ipython-input-47-abd91cf43c00>\u001b[0m in \u001b[0;36m<module>\u001b[0;34m\u001b[0m\n\u001b[0;32m----> 1\u001b[0;31m \u001b[0mnew_float\u001b[0m \u001b[0;34m=\u001b[0m \u001b[0mint\u001b[0m\u001b[0;34m(\u001b[0m\u001b[0mmy_float_string\u001b[0m\u001b[0;34m)\u001b[0m\u001b[0;34m\u001b[0m\u001b[0;34m\u001b[0m\u001b[0m\n\u001b[0m",
      "\u001b[0;31mValueError\u001b[0m: invalid literal for int() with base 10: '3.1'"
     ]
    }
   ],
   "source": [
    "new_float = int(my_float_string)"
   ]
  },
  {
   "cell_type": "code",
   "execution_count": null,
   "id": "ee44cb3c",
   "metadata": {},
   "outputs": [],
   "source": []
  }
 ],
 "metadata": {
  "kernelspec": {
   "display_name": "Python 3",
   "language": "python",
   "name": "python3"
  },
  "language_info": {
   "codemirror_mode": {
    "name": "ipython",
    "version": 3
   },
   "file_extension": ".py",
   "mimetype": "text/x-python",
   "name": "python",
   "nbconvert_exporter": "python",
   "pygments_lexer": "ipython3",
   "version": "3.8.8"
  }
 },
 "nbformat": 4,
 "nbformat_minor": 5
}
