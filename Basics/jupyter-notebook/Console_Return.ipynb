{
    "cells": [
        {
            "cell_type": "markdown",
            "metadata": {},
            "source": [
                "# Console Return\n",
                "\n",
                "Ausgaben werden bei einer Konsolenanwendung im Terminal ausgegeben. Die Ausgaben können mit dem Befehl `print()` ausgegeben werden. Der Befehl `print()` kann auch mehrere Argumente enthalten. Die Argumente werden mit einem Komma getrennt. Die Ausgaben werden dann mit einem Leerzeichen getrennt ausgegeben.\n",
                "\n",
                "```python\n",
                "print(\"Hallo\", \"Welt\")\n",
                "```\n",
                "Die Ausgabe ist dann:\n",
                "'Hallo Welt'\n",
                "\n",
                "```python\n",
                "print(\"Hallo\", \"Welt\", sep=\"-\")\n",
                "```\n",
                "Die Ausgabe ist dann:\n",
                "'Hallo-Welt'"
            ]
        },
        {
            "cell_type": "code",
            "execution_count": 10,
            "metadata": {},
            "outputs": [
                {
                    "name": "stdout",
                    "output_type": "stream",
                    "text": [
                        "Hallo Welt\n"
                    ]
                }
            ],
            "source": [
                "print(\"Hallo\", \"Welt\")"
            ]
        },
        {
            "cell_type": "code",
            "execution_count": 11,
            "metadata": {},
            "outputs": [
                {
                    "name": "stdout",
                    "output_type": "stream",
                    "text": [
                        "Hallo---Welt\n"
                    ]
                }
            ],
            "source": [
                "print(\"Hallo\", \"Welt\", sep=\"---\")"
            ]
        },
        {
            "cell_type": "code",
            "execution_count": 12,
            "metadata": {},
            "outputs": [
                {
                    "name": "stdout",
                    "output_type": "stream",
                    "text": [
                        "3\n"
                    ]
                }
            ],
            "source": [
                "print(1+2)"
            ]
        },
        {
            "cell_type": "markdown",
            "metadata": {},
            "source": [
                "In Jupiternotebooks werden die Ausgaben unterhalb der Zelle ausgegeben. Hier ist zu beachten das nur die letzte Ausgabe ausgegeben wird. Die anderen Ausgaben werden nicht angezeigt."
            ]
        },
        {
            "cell_type": "code",
            "execution_count": 13,
            "metadata": {},
            "outputs": [
                {
                    "data": {
                        "text/plain": [
                            "2"
                        ]
                    },
                    "execution_count": 13,
                    "metadata": {},
                    "output_type": "execute_result"
                }
            ],
            "source": [
                "1+1"
            ]
        },
        {
            "cell_type": "code",
            "execution_count": 14,
            "metadata": {},
            "outputs": [
                {
                    "data": {
                        "text/plain": [
                            "'Hallo Welt'"
                        ]
                    },
                    "execution_count": 14,
                    "metadata": {},
                    "output_type": "execute_result"
                }
            ],
            "source": [
                "\"Hallo Welt\""
            ]
        },
        {
            "cell_type": "code",
            "execution_count": 15,
            "metadata": {},
            "outputs": [
                {
                    "name": "stdout",
                    "output_type": "stream",
                    "text": [
                        "10\n"
                    ]
                },
                {
                    "data": {
                        "text/plain": [
                            "'Hallo Welt'"
                        ]
                    },
                    "execution_count": 15,
                    "metadata": {},
                    "output_type": "execute_result"
                }
            ],
            "source": [
                "print(5+5)\n",
                "\"Hallo Welt\""
            ]
        },
        {
            "cell_type": "code",
            "execution_count": 23,
            "metadata": {},
            "outputs": [
                {
                    "name": "stdout",
                    "output_type": "stream",
                    "text": [
                        "------------------- Hallo Welt -------------------\n",
                        " Hallo Welt **************************************\n",
                        "OOOOOOOOOOOOOOOOOOOOOOOOOOOOOOOOOOOOOO Hallo Welt \n"
                    ]
                }
            ],
            "source": [
                "print(\" Hallo Welt \".center(50, \"-\"))\n",
                "print(\" Hallo Welt \".ljust(50, \"*\"))\n",
                "print(\" Hallo Welt \".rjust(50, \"O\"))"
            ]
        },
        {
            "cell_type": "markdown",
            "metadata": {},
            "source": [
                "Im weiteren verlauf des Kurses können die Ausgaben in Konsolen auch Dynamisch gestaltet werden. Dazu werden mithilfe von anderen Funktionen die längen der zeichenketten ermittelt und dann die Ausgabe entsprechend angepasst. Das ganze kann dann auch als sogenannte Decorator-Funktion umgesetzt werden.\n",
                "\n",
                "Die Folgenden sollen euch nur schon mal einen kleinen Einblick geben was mit Consolen ausgaben möglich ist."
            ]
        },
        {
            "cell_type": "code",
            "execution_count": 73,
            "metadata": {},
            "outputs": [
                {
                    "name": "stdout",
                    "output_type": "stream",
                    "text": [
                        "#####################\n",
                        "#       Hello       #\n",
                        "#       World       #\n",
                        "#####################\n",
                        "#####################################\n",
                        "#             Sebastian             #\n",
                        "#               Meine               #\n",
                        "#####################################\n"
                    ]
                }
            ],
            "source": [
                "print(\"\".center(21, \"#\"))\n",
                "print(\"#\",\"Hello\".center(17), \"#\")\n",
                "print(\"#\",\"World\".center(17), \"#\")\n",
                "print(\"\".center(21, \"#\"))\n",
                "\n",
                "text_zeile_eins = \"Sebastian\"\n",
                "text_zeile_zwei = \"Meine\"\n",
                "border = \"\".center(len(max(text_zeile_eins, text_zeile_zwei))*4+1, \"#\")\n",
                "\n",
                "print(border)\n",
                "print(\"#\", text_zeile_eins.center(len(border)-len(\"#\")*4), \"#\")\n",
                "print(\"#\", text_zeile_zwei.center(len(border)-len(\"#\")*4), \"#\")\n",
                "print(border)"
            ]
        },
        {
            "cell_type": "code",
            "execution_count": 170,
            "metadata": {},
            "outputs": [
                {
                    "name": "stdout",
                    "output_type": "stream",
                    "text": [
                        "******************************\n",
                        "*         Sebastian          *\n",
                        "*           Meine            *\n",
                        "*            ist             *\n",
                        "*  der Geilste Motherfucker  *\n",
                        "*           in the           *\n",
                        "*            Hood            *\n",
                        "******************************\n"
                    ]
                }
            ],
            "source": [
                "def max_string_length(textzeilen) -> int:\n",
                "    return len(max(textzeilen, key=len)) \n",
                "\n",
                "def generate_console_text(*textzeilen, border_char: str = \"#\") -> None:\n",
                "    max_textzeile = max_string_length(textzeilen) + 1\n",
                "\n",
                "    border = border_char.center(max_textzeile + len(border_char) * 4 + 1, border_char)\n",
                "\n",
                "    print(border)\n",
                "    for textzeile in textzeilen:\n",
                "        print(border_char, textzeile.center(max_textzeile+len(border_char)), border_char)\n",
                "    print(border)\n",
                "\n",
                "generate_console_text(\"Sebastian\", \"Meine\", \"ist\", \"der Geilste Motherfucker\", \"in the\", \"Hood\", border_char=\"*\")"
            ]
        },
        {
            "cell_type": "code",
            "execution_count": 237,
            "metadata": {},
            "outputs": [
                {
                    "name": "stdout",
                    "output_type": "stream",
                    "text": [
                        "\u001b[32m!!!!!!!!!!!!!!!!!!!!!!!!\u001b[00m\n",
                        "\u001b[35m!\u001b[00m      This is an      \u001b[33m!\u001b[00m\n",
                        "\u001b[31m!\u001b[00m        Error         \u001b[35m!\u001b[00m\n",
                        "\u001b[36m!\u001b[00m    please contact    \u001b[33m!\u001b[00m\n",
                        "\u001b[33m!\u001b[00m  your Administrator  \u001b[35m!\u001b[00m\n",
                        "\u001b[31m!\u001b[00m  Code: 000xa000012   \u001b[34m!\u001b[00m\n",
                        "\u001b[34m!!!!!!!!!!!!!!!!!!!!!!!!\u001b[00m\n",
                        "\u001b[36m$$$$$$$$$$$$$$$$$$$$$$$$\u001b[00m\n",
                        "\u001b[34m$\u001b[00m  You are the WINNER  \u001b[36m$\u001b[00m\n",
                        "\u001b[32m$\u001b[00m        of the        \u001b[32m$\u001b[00m\n",
                        "\u001b[36m$\u001b[00m     2.000.000 $      \u001b[30m$\u001b[00m\n",
                        "\u001b[35m$\u001b[00m       Jackpot        \u001b[31m$\u001b[00m\n",
                        "\u001b[31m$$$$$$$$$$$$$$$$$$$$$$$$\u001b[00m\n"
                    ]
                }
            ],
            "source": [
                "import os\n",
                "import random\n",
                "import time\n",
                "\n",
                "def console_text_decorator(border_char: str = \"#\"):\n",
                "    def decorator(func):\n",
                "        def wrapper(*args, **kwargs):\n",
                "            current_border_char = border_char\n",
                "            \n",
                "            textzeilen = func(*args, **kwargs)\n",
                "            max_textzeile = len(max(textzeilen, key=len)) + 1\n",
                "\n",
                "            border = current_border_char.center(max_textzeile + len(current_border_char) * 4 + 1, current_border_char)\n",
                "            # Color Text using ANSI Code in Python\n",
                "\n",
                "            print(f\"\\033[{random.randint(30,36)}m{border}\\033[00m\")\n",
                "            for textzeile in textzeilen:\n",
                "                print(f\"\\033[{random.randint(30,36)}m{current_border_char}\\033[00m\", textzeile.center(max_textzeile + len(current_border_char)), f\"\\033[{random.randint(30,36)}m{current_border_char}\\033[00m\")\n",
                "            print(f\"\\033[{random.randint(30,36)}m{border}\\033[00m\")\n",
                "\n",
                "            current_border_char = current_border_char[::-1]\n",
                "\n",
                "        return wrapper\n",
                "\n",
                "    return decorator\n",
                "\n",
                "@console_text_decorator(border_char=\"!\")\n",
                "def get_error_message(*textzeilen):\n",
                "    return textzeilen\n",
                "\n",
                "get_error_message(\"This is an\", \"Error\", \"please contact\", \"your Administrator\", \"Code: 000xa000012\")\n",
                "\n",
                "@console_text_decorator(border_char=\"$\")\n",
                "def get_money_message(*textzeilen):\n",
                "    return textzeilen\n",
                "\n",
                "get_money_message(\"You are the WINNER\", \"of the\", \"2.000.000 $\", \"Jackpot\")\n"
            ]
        },
        {
            "cell_type": "code",
            "execution_count": 217,
            "metadata": {},
            "outputs": [
                {
                    "name": "stdout",
                    "output_type": "stream",
                    "text": [
                        "\u001b[0;30;40m 0;30;40 \u001b[0m\u001b[0;30;41m 0;30;41 \u001b[0m\u001b[0;30;42m 0;30;42 \u001b[0m\u001b[0;30;43m 0;30;43 \u001b[0m\u001b[0;30;44m 0;30;44 \u001b[0m\u001b[0;30;45m 0;30;45 \u001b[0m\u001b[0;30;46m 0;30;46 \u001b[0m\u001b[0;30;47m 0;30;47 \u001b[0m\n",
                        "\u001b[0;31;40m 0;31;40 \u001b[0m\u001b[0;31;41m 0;31;41 \u001b[0m\u001b[0;31;42m 0;31;42 \u001b[0m\u001b[0;31;43m 0;31;43 \u001b[0m\u001b[0;31;44m 0;31;44 \u001b[0m\u001b[0;31;45m 0;31;45 \u001b[0m\u001b[0;31;46m 0;31;46 \u001b[0m\u001b[0;31;47m 0;31;47 \u001b[0m\n",
                        "\u001b[0;32;40m 0;32;40 \u001b[0m\u001b[0;32;41m 0;32;41 \u001b[0m\u001b[0;32;42m 0;32;42 \u001b[0m\u001b[0;32;43m 0;32;43 \u001b[0m\u001b[0;32;44m 0;32;44 \u001b[0m\u001b[0;32;45m 0;32;45 \u001b[0m\u001b[0;32;46m 0;32;46 \u001b[0m\u001b[0;32;47m 0;32;47 \u001b[0m\n",
                        "\u001b[0;33;40m 0;33;40 \u001b[0m\u001b[0;33;41m 0;33;41 \u001b[0m\u001b[0;33;42m 0;33;42 \u001b[0m\u001b[0;33;43m 0;33;43 \u001b[0m\u001b[0;33;44m 0;33;44 \u001b[0m\u001b[0;33;45m 0;33;45 \u001b[0m\u001b[0;33;46m 0;33;46 \u001b[0m\u001b[0;33;47m 0;33;47 \u001b[0m\n",
                        "\u001b[0;34;40m 0;34;40 \u001b[0m\u001b[0;34;41m 0;34;41 \u001b[0m\u001b[0;34;42m 0;34;42 \u001b[0m\u001b[0;34;43m 0;34;43 \u001b[0m\u001b[0;34;44m 0;34;44 \u001b[0m\u001b[0;34;45m 0;34;45 \u001b[0m\u001b[0;34;46m 0;34;46 \u001b[0m\u001b[0;34;47m 0;34;47 \u001b[0m\n",
                        "\u001b[0;35;40m 0;35;40 \u001b[0m\u001b[0;35;41m 0;35;41 \u001b[0m\u001b[0;35;42m 0;35;42 \u001b[0m\u001b[0;35;43m 0;35;43 \u001b[0m\u001b[0;35;44m 0;35;44 \u001b[0m\u001b[0;35;45m 0;35;45 \u001b[0m\u001b[0;35;46m 0;35;46 \u001b[0m\u001b[0;35;47m 0;35;47 \u001b[0m\n",
                        "\u001b[0;36;40m 0;36;40 \u001b[0m\u001b[0;36;41m 0;36;41 \u001b[0m\u001b[0;36;42m 0;36;42 \u001b[0m\u001b[0;36;43m 0;36;43 \u001b[0m\u001b[0;36;44m 0;36;44 \u001b[0m\u001b[0;36;45m 0;36;45 \u001b[0m\u001b[0;36;46m 0;36;46 \u001b[0m\u001b[0;36;47m 0;36;47 \u001b[0m\n",
                        "\u001b[0;37;40m 0;37;40 \u001b[0m\u001b[0;37;41m 0;37;41 \u001b[0m\u001b[0;37;42m 0;37;42 \u001b[0m\u001b[0;37;43m 0;37;43 \u001b[0m\u001b[0;37;44m 0;37;44 \u001b[0m\u001b[0;37;45m 0;37;45 \u001b[0m\u001b[0;37;46m 0;37;46 \u001b[0m\u001b[0;37;47m 0;37;47 \u001b[0m\n",
                        "\n",
                        "\n",
                        "\u001b[1;30;40m 1;30;40 \u001b[0m\u001b[1;30;41m 1;30;41 \u001b[0m\u001b[1;30;42m 1;30;42 \u001b[0m\u001b[1;30;43m 1;30;43 \u001b[0m\u001b[1;30;44m 1;30;44 \u001b[0m\u001b[1;30;45m 1;30;45 \u001b[0m\u001b[1;30;46m 1;30;46 \u001b[0m\u001b[1;30;47m 1;30;47 \u001b[0m\n",
                        "\u001b[1;31;40m 1;31;40 \u001b[0m\u001b[1;31;41m 1;31;41 \u001b[0m\u001b[1;31;42m 1;31;42 \u001b[0m\u001b[1;31;43m 1;31;43 \u001b[0m\u001b[1;31;44m 1;31;44 \u001b[0m\u001b[1;31;45m 1;31;45 \u001b[0m\u001b[1;31;46m 1;31;46 \u001b[0m\u001b[1;31;47m 1;31;47 \u001b[0m\n",
                        "\u001b[1;32;40m 1;32;40 \u001b[0m\u001b[1;32;41m 1;32;41 \u001b[0m\u001b[1;32;42m 1;32;42 \u001b[0m\u001b[1;32;43m 1;32;43 \u001b[0m\u001b[1;32;44m 1;32;44 \u001b[0m\u001b[1;32;45m 1;32;45 \u001b[0m\u001b[1;32;46m 1;32;46 \u001b[0m\u001b[1;32;47m 1;32;47 \u001b[0m\n",
                        "\u001b[1;33;40m 1;33;40 \u001b[0m\u001b[1;33;41m 1;33;41 \u001b[0m\u001b[1;33;42m 1;33;42 \u001b[0m\u001b[1;33;43m 1;33;43 \u001b[0m\u001b[1;33;44m 1;33;44 \u001b[0m\u001b[1;33;45m 1;33;45 \u001b[0m\u001b[1;33;46m 1;33;46 \u001b[0m\u001b[1;33;47m 1;33;47 \u001b[0m\n",
                        "\u001b[1;34;40m 1;34;40 \u001b[0m\u001b[1;34;41m 1;34;41 \u001b[0m\u001b[1;34;42m 1;34;42 \u001b[0m\u001b[1;34;43m 1;34;43 \u001b[0m\u001b[1;34;44m 1;34;44 \u001b[0m\u001b[1;34;45m 1;34;45 \u001b[0m\u001b[1;34;46m 1;34;46 \u001b[0m\u001b[1;34;47m 1;34;47 \u001b[0m\n",
                        "\u001b[1;35;40m 1;35;40 \u001b[0m\u001b[1;35;41m 1;35;41 \u001b[0m\u001b[1;35;42m 1;35;42 \u001b[0m\u001b[1;35;43m 1;35;43 \u001b[0m\u001b[1;35;44m 1;35;44 \u001b[0m\u001b[1;35;45m 1;35;45 \u001b[0m\u001b[1;35;46m 1;35;46 \u001b[0m\u001b[1;35;47m 1;35;47 \u001b[0m\n",
                        "\u001b[1;36;40m 1;36;40 \u001b[0m\u001b[1;36;41m 1;36;41 \u001b[0m\u001b[1;36;42m 1;36;42 \u001b[0m\u001b[1;36;43m 1;36;43 \u001b[0m\u001b[1;36;44m 1;36;44 \u001b[0m\u001b[1;36;45m 1;36;45 \u001b[0m\u001b[1;36;46m 1;36;46 \u001b[0m\u001b[1;36;47m 1;36;47 \u001b[0m\n",
                        "\u001b[1;37;40m 1;37;40 \u001b[0m\u001b[1;37;41m 1;37;41 \u001b[0m\u001b[1;37;42m 1;37;42 \u001b[0m\u001b[1;37;43m 1;37;43 \u001b[0m\u001b[1;37;44m 1;37;44 \u001b[0m\u001b[1;37;45m 1;37;45 \u001b[0m\u001b[1;37;46m 1;37;46 \u001b[0m\u001b[1;37;47m 1;37;47 \u001b[0m\n",
                        "\n",
                        "\n",
                        "\u001b[2;30;40m 2;30;40 \u001b[0m\u001b[2;30;41m 2;30;41 \u001b[0m\u001b[2;30;42m 2;30;42 \u001b[0m\u001b[2;30;43m 2;30;43 \u001b[0m\u001b[2;30;44m 2;30;44 \u001b[0m\u001b[2;30;45m 2;30;45 \u001b[0m\u001b[2;30;46m 2;30;46 \u001b[0m\u001b[2;30;47m 2;30;47 \u001b[0m\n",
                        "\u001b[2;31;40m 2;31;40 \u001b[0m\u001b[2;31;41m 2;31;41 \u001b[0m\u001b[2;31;42m 2;31;42 \u001b[0m\u001b[2;31;43m 2;31;43 \u001b[0m\u001b[2;31;44m 2;31;44 \u001b[0m\u001b[2;31;45m 2;31;45 \u001b[0m\u001b[2;31;46m 2;31;46 \u001b[0m\u001b[2;31;47m 2;31;47 \u001b[0m\n",
                        "\u001b[2;32;40m 2;32;40 \u001b[0m\u001b[2;32;41m 2;32;41 \u001b[0m\u001b[2;32;42m 2;32;42 \u001b[0m\u001b[2;32;43m 2;32;43 \u001b[0m\u001b[2;32;44m 2;32;44 \u001b[0m\u001b[2;32;45m 2;32;45 \u001b[0m\u001b[2;32;46m 2;32;46 \u001b[0m\u001b[2;32;47m 2;32;47 \u001b[0m\n",
                        "\u001b[2;33;40m 2;33;40 \u001b[0m\u001b[2;33;41m 2;33;41 \u001b[0m\u001b[2;33;42m 2;33;42 \u001b[0m\u001b[2;33;43m 2;33;43 \u001b[0m\u001b[2;33;44m 2;33;44 \u001b[0m\u001b[2;33;45m 2;33;45 \u001b[0m\u001b[2;33;46m 2;33;46 \u001b[0m\u001b[2;33;47m 2;33;47 \u001b[0m\n",
                        "\u001b[2;34;40m 2;34;40 \u001b[0m\u001b[2;34;41m 2;34;41 \u001b[0m\u001b[2;34;42m 2;34;42 \u001b[0m\u001b[2;34;43m 2;34;43 \u001b[0m\u001b[2;34;44m 2;34;44 \u001b[0m\u001b[2;34;45m 2;34;45 \u001b[0m\u001b[2;34;46m 2;34;46 \u001b[0m\u001b[2;34;47m 2;34;47 \u001b[0m\n",
                        "\u001b[2;35;40m 2;35;40 \u001b[0m\u001b[2;35;41m 2;35;41 \u001b[0m\u001b[2;35;42m 2;35;42 \u001b[0m\u001b[2;35;43m 2;35;43 \u001b[0m\u001b[2;35;44m 2;35;44 \u001b[0m\u001b[2;35;45m 2;35;45 \u001b[0m\u001b[2;35;46m 2;35;46 \u001b[0m\u001b[2;35;47m 2;35;47 \u001b[0m\n",
                        "\u001b[2;36;40m 2;36;40 \u001b[0m\u001b[2;36;41m 2;36;41 \u001b[0m\u001b[2;36;42m 2;36;42 \u001b[0m\u001b[2;36;43m 2;36;43 \u001b[0m\u001b[2;36;44m 2;36;44 \u001b[0m\u001b[2;36;45m 2;36;45 \u001b[0m\u001b[2;36;46m 2;36;46 \u001b[0m\u001b[2;36;47m 2;36;47 \u001b[0m\n",
                        "\u001b[2;37;40m 2;37;40 \u001b[0m\u001b[2;37;41m 2;37;41 \u001b[0m\u001b[2;37;42m 2;37;42 \u001b[0m\u001b[2;37;43m 2;37;43 \u001b[0m\u001b[2;37;44m 2;37;44 \u001b[0m\u001b[2;37;45m 2;37;45 \u001b[0m\u001b[2;37;46m 2;37;46 \u001b[0m\u001b[2;37;47m 2;37;47 \u001b[0m\n",
                        "\n",
                        "\n",
                        "\u001b[3;30;40m 3;30;40 \u001b[0m\u001b[3;30;41m 3;30;41 \u001b[0m\u001b[3;30;42m 3;30;42 \u001b[0m\u001b[3;30;43m 3;30;43 \u001b[0m\u001b[3;30;44m 3;30;44 \u001b[0m\u001b[3;30;45m 3;30;45 \u001b[0m\u001b[3;30;46m 3;30;46 \u001b[0m\u001b[3;30;47m 3;30;47 \u001b[0m\n",
                        "\u001b[3;31;40m 3;31;40 \u001b[0m\u001b[3;31;41m 3;31;41 \u001b[0m\u001b[3;31;42m 3;31;42 \u001b[0m\u001b[3;31;43m 3;31;43 \u001b[0m\u001b[3;31;44m 3;31;44 \u001b[0m\u001b[3;31;45m 3;31;45 \u001b[0m\u001b[3;31;46m 3;31;46 \u001b[0m\u001b[3;31;47m 3;31;47 \u001b[0m\n",
                        "\u001b[3;32;40m 3;32;40 \u001b[0m\u001b[3;32;41m 3;32;41 \u001b[0m\u001b[3;32;42m 3;32;42 \u001b[0m\u001b[3;32;43m 3;32;43 \u001b[0m\u001b[3;32;44m 3;32;44 \u001b[0m\u001b[3;32;45m 3;32;45 \u001b[0m\u001b[3;32;46m 3;32;46 \u001b[0m\u001b[3;32;47m 3;32;47 \u001b[0m\n",
                        "\u001b[3;33;40m 3;33;40 \u001b[0m\u001b[3;33;41m 3;33;41 \u001b[0m\u001b[3;33;42m 3;33;42 \u001b[0m\u001b[3;33;43m 3;33;43 \u001b[0m\u001b[3;33;44m 3;33;44 \u001b[0m\u001b[3;33;45m 3;33;45 \u001b[0m\u001b[3;33;46m 3;33;46 \u001b[0m\u001b[3;33;47m 3;33;47 \u001b[0m\n",
                        "\u001b[3;34;40m 3;34;40 \u001b[0m\u001b[3;34;41m 3;34;41 \u001b[0m\u001b[3;34;42m 3;34;42 \u001b[0m\u001b[3;34;43m 3;34;43 \u001b[0m\u001b[3;34;44m 3;34;44 \u001b[0m\u001b[3;34;45m 3;34;45 \u001b[0m\u001b[3;34;46m 3;34;46 \u001b[0m\u001b[3;34;47m 3;34;47 \u001b[0m\n",
                        "\u001b[3;35;40m 3;35;40 \u001b[0m\u001b[3;35;41m 3;35;41 \u001b[0m\u001b[3;35;42m 3;35;42 \u001b[0m\u001b[3;35;43m 3;35;43 \u001b[0m\u001b[3;35;44m 3;35;44 \u001b[0m\u001b[3;35;45m 3;35;45 \u001b[0m\u001b[3;35;46m 3;35;46 \u001b[0m\u001b[3;35;47m 3;35;47 \u001b[0m\n",
                        "\u001b[3;36;40m 3;36;40 \u001b[0m\u001b[3;36;41m 3;36;41 \u001b[0m\u001b[3;36;42m 3;36;42 \u001b[0m\u001b[3;36;43m 3;36;43 \u001b[0m\u001b[3;36;44m 3;36;44 \u001b[0m\u001b[3;36;45m 3;36;45 \u001b[0m\u001b[3;36;46m 3;36;46 \u001b[0m\u001b[3;36;47m 3;36;47 \u001b[0m\n",
                        "\u001b[3;37;40m 3;37;40 \u001b[0m\u001b[3;37;41m 3;37;41 \u001b[0m\u001b[3;37;42m 3;37;42 \u001b[0m\u001b[3;37;43m 3;37;43 \u001b[0m\u001b[3;37;44m 3;37;44 \u001b[0m\u001b[3;37;45m 3;37;45 \u001b[0m\u001b[3;37;46m 3;37;46 \u001b[0m\u001b[3;37;47m 3;37;47 \u001b[0m\n",
                        "\n",
                        "\n",
                        "\u001b[4;30;40m 4;30;40 \u001b[0m\u001b[4;30;41m 4;30;41 \u001b[0m\u001b[4;30;42m 4;30;42 \u001b[0m\u001b[4;30;43m 4;30;43 \u001b[0m\u001b[4;30;44m 4;30;44 \u001b[0m\u001b[4;30;45m 4;30;45 \u001b[0m\u001b[4;30;46m 4;30;46 \u001b[0m\u001b[4;30;47m 4;30;47 \u001b[0m\n",
                        "\u001b[4;31;40m 4;31;40 \u001b[0m\u001b[4;31;41m 4;31;41 \u001b[0m\u001b[4;31;42m 4;31;42 \u001b[0m\u001b[4;31;43m 4;31;43 \u001b[0m\u001b[4;31;44m 4;31;44 \u001b[0m\u001b[4;31;45m 4;31;45 \u001b[0m\u001b[4;31;46m 4;31;46 \u001b[0m\u001b[4;31;47m 4;31;47 \u001b[0m\n",
                        "\u001b[4;32;40m 4;32;40 \u001b[0m\u001b[4;32;41m 4;32;41 \u001b[0m\u001b[4;32;42m 4;32;42 \u001b[0m\u001b[4;32;43m 4;32;43 \u001b[0m\u001b[4;32;44m 4;32;44 \u001b[0m\u001b[4;32;45m 4;32;45 \u001b[0m\u001b[4;32;46m 4;32;46 \u001b[0m\u001b[4;32;47m 4;32;47 \u001b[0m\n",
                        "\u001b[4;33;40m 4;33;40 \u001b[0m\u001b[4;33;41m 4;33;41 \u001b[0m\u001b[4;33;42m 4;33;42 \u001b[0m\u001b[4;33;43m 4;33;43 \u001b[0m\u001b[4;33;44m 4;33;44 \u001b[0m\u001b[4;33;45m 4;33;45 \u001b[0m\u001b[4;33;46m 4;33;46 \u001b[0m\u001b[4;33;47m 4;33;47 \u001b[0m\n",
                        "\u001b[4;34;40m 4;34;40 \u001b[0m\u001b[4;34;41m 4;34;41 \u001b[0m\u001b[4;34;42m 4;34;42 \u001b[0m\u001b[4;34;43m 4;34;43 \u001b[0m\u001b[4;34;44m 4;34;44 \u001b[0m\u001b[4;34;45m 4;34;45 \u001b[0m\u001b[4;34;46m 4;34;46 \u001b[0m\u001b[4;34;47m 4;34;47 \u001b[0m\n",
                        "\u001b[4;35;40m 4;35;40 \u001b[0m\u001b[4;35;41m 4;35;41 \u001b[0m\u001b[4;35;42m 4;35;42 \u001b[0m\u001b[4;35;43m 4;35;43 \u001b[0m\u001b[4;35;44m 4;35;44 \u001b[0m\u001b[4;35;45m 4;35;45 \u001b[0m\u001b[4;35;46m 4;35;46 \u001b[0m\u001b[4;35;47m 4;35;47 \u001b[0m\n",
                        "\u001b[4;36;40m 4;36;40 \u001b[0m\u001b[4;36;41m 4;36;41 \u001b[0m\u001b[4;36;42m 4;36;42 \u001b[0m\u001b[4;36;43m 4;36;43 \u001b[0m\u001b[4;36;44m 4;36;44 \u001b[0m\u001b[4;36;45m 4;36;45 \u001b[0m\u001b[4;36;46m 4;36;46 \u001b[0m\u001b[4;36;47m 4;36;47 \u001b[0m\n",
                        "\u001b[4;37;40m 4;37;40 \u001b[0m\u001b[4;37;41m 4;37;41 \u001b[0m\u001b[4;37;42m 4;37;42 \u001b[0m\u001b[4;37;43m 4;37;43 \u001b[0m\u001b[4;37;44m 4;37;44 \u001b[0m\u001b[4;37;45m 4;37;45 \u001b[0m\u001b[4;37;46m 4;37;46 \u001b[0m\u001b[4;37;47m 4;37;47 \u001b[0m\n",
                        "\n",
                        "\n",
                        "\u001b[5;30;40m 5;30;40 \u001b[0m\u001b[5;30;41m 5;30;41 \u001b[0m\u001b[5;30;42m 5;30;42 \u001b[0m\u001b[5;30;43m 5;30;43 \u001b[0m\u001b[5;30;44m 5;30;44 \u001b[0m\u001b[5;30;45m 5;30;45 \u001b[0m\u001b[5;30;46m 5;30;46 \u001b[0m\u001b[5;30;47m 5;30;47 \u001b[0m\n",
                        "\u001b[5;31;40m 5;31;40 \u001b[0m\u001b[5;31;41m 5;31;41 \u001b[0m\u001b[5;31;42m 5;31;42 \u001b[0m\u001b[5;31;43m 5;31;43 \u001b[0m\u001b[5;31;44m 5;31;44 \u001b[0m\u001b[5;31;45m 5;31;45 \u001b[0m\u001b[5;31;46m 5;31;46 \u001b[0m\u001b[5;31;47m 5;31;47 \u001b[0m\n",
                        "\u001b[5;32;40m 5;32;40 \u001b[0m\u001b[5;32;41m 5;32;41 \u001b[0m\u001b[5;32;42m 5;32;42 \u001b[0m\u001b[5;32;43m 5;32;43 \u001b[0m\u001b[5;32;44m 5;32;44 \u001b[0m\u001b[5;32;45m 5;32;45 \u001b[0m\u001b[5;32;46m 5;32;46 \u001b[0m\u001b[5;32;47m 5;32;47 \u001b[0m\n",
                        "\u001b[5;33;40m 5;33;40 \u001b[0m\u001b[5;33;41m 5;33;41 \u001b[0m\u001b[5;33;42m 5;33;42 \u001b[0m\u001b[5;33;43m 5;33;43 \u001b[0m\u001b[5;33;44m 5;33;44 \u001b[0m\u001b[5;33;45m 5;33;45 \u001b[0m\u001b[5;33;46m 5;33;46 \u001b[0m\u001b[5;33;47m 5;33;47 \u001b[0m\n",
                        "\u001b[5;34;40m 5;34;40 \u001b[0m\u001b[5;34;41m 5;34;41 \u001b[0m\u001b[5;34;42m 5;34;42 \u001b[0m\u001b[5;34;43m 5;34;43 \u001b[0m\u001b[5;34;44m 5;34;44 \u001b[0m\u001b[5;34;45m 5;34;45 \u001b[0m\u001b[5;34;46m 5;34;46 \u001b[0m\u001b[5;34;47m 5;34;47 \u001b[0m\n",
                        "\u001b[5;35;40m 5;35;40 \u001b[0m\u001b[5;35;41m 5;35;41 \u001b[0m\u001b[5;35;42m 5;35;42 \u001b[0m\u001b[5;35;43m 5;35;43 \u001b[0m\u001b[5;35;44m 5;35;44 \u001b[0m\u001b[5;35;45m 5;35;45 \u001b[0m\u001b[5;35;46m 5;35;46 \u001b[0m\u001b[5;35;47m 5;35;47 \u001b[0m\n",
                        "\u001b[5;36;40m 5;36;40 \u001b[0m\u001b[5;36;41m 5;36;41 \u001b[0m\u001b[5;36;42m 5;36;42 \u001b[0m\u001b[5;36;43m 5;36;43 \u001b[0m\u001b[5;36;44m 5;36;44 \u001b[0m\u001b[5;36;45m 5;36;45 \u001b[0m\u001b[5;36;46m 5;36;46 \u001b[0m\u001b[5;36;47m 5;36;47 \u001b[0m\n",
                        "\u001b[5;37;40m 5;37;40 \u001b[0m\u001b[5;37;41m 5;37;41 \u001b[0m\u001b[5;37;42m 5;37;42 \u001b[0m\u001b[5;37;43m 5;37;43 \u001b[0m\u001b[5;37;44m 5;37;44 \u001b[0m\u001b[5;37;45m 5;37;45 \u001b[0m\u001b[5;37;46m 5;37;46 \u001b[0m\u001b[5;37;47m 5;37;47 \u001b[0m\n",
                        "\n",
                        "\n",
                        "\u001b[6;30;40m 6;30;40 \u001b[0m\u001b[6;30;41m 6;30;41 \u001b[0m\u001b[6;30;42m 6;30;42 \u001b[0m\u001b[6;30;43m 6;30;43 \u001b[0m\u001b[6;30;44m 6;30;44 \u001b[0m\u001b[6;30;45m 6;30;45 \u001b[0m\u001b[6;30;46m 6;30;46 \u001b[0m\u001b[6;30;47m 6;30;47 \u001b[0m\n",
                        "\u001b[6;31;40m 6;31;40 \u001b[0m\u001b[6;31;41m 6;31;41 \u001b[0m\u001b[6;31;42m 6;31;42 \u001b[0m\u001b[6;31;43m 6;31;43 \u001b[0m\u001b[6;31;44m 6;31;44 \u001b[0m\u001b[6;31;45m 6;31;45 \u001b[0m\u001b[6;31;46m 6;31;46 \u001b[0m\u001b[6;31;47m 6;31;47 \u001b[0m\n",
                        "\u001b[6;32;40m 6;32;40 \u001b[0m\u001b[6;32;41m 6;32;41 \u001b[0m\u001b[6;32;42m 6;32;42 \u001b[0m\u001b[6;32;43m 6;32;43 \u001b[0m\u001b[6;32;44m 6;32;44 \u001b[0m\u001b[6;32;45m 6;32;45 \u001b[0m\u001b[6;32;46m 6;32;46 \u001b[0m\u001b[6;32;47m 6;32;47 \u001b[0m\n",
                        "\u001b[6;33;40m 6;33;40 \u001b[0m\u001b[6;33;41m 6;33;41 \u001b[0m\u001b[6;33;42m 6;33;42 \u001b[0m\u001b[6;33;43m 6;33;43 \u001b[0m\u001b[6;33;44m 6;33;44 \u001b[0m\u001b[6;33;45m 6;33;45 \u001b[0m\u001b[6;33;46m 6;33;46 \u001b[0m\u001b[6;33;47m 6;33;47 \u001b[0m\n",
                        "\u001b[6;34;40m 6;34;40 \u001b[0m\u001b[6;34;41m 6;34;41 \u001b[0m\u001b[6;34;42m 6;34;42 \u001b[0m\u001b[6;34;43m 6;34;43 \u001b[0m\u001b[6;34;44m 6;34;44 \u001b[0m\u001b[6;34;45m 6;34;45 \u001b[0m\u001b[6;34;46m 6;34;46 \u001b[0m\u001b[6;34;47m 6;34;47 \u001b[0m\n",
                        "\u001b[6;35;40m 6;35;40 \u001b[0m\u001b[6;35;41m 6;35;41 \u001b[0m\u001b[6;35;42m 6;35;42 \u001b[0m\u001b[6;35;43m 6;35;43 \u001b[0m\u001b[6;35;44m 6;35;44 \u001b[0m\u001b[6;35;45m 6;35;45 \u001b[0m\u001b[6;35;46m 6;35;46 \u001b[0m\u001b[6;35;47m 6;35;47 \u001b[0m\n",
                        "\u001b[6;36;40m 6;36;40 \u001b[0m\u001b[6;36;41m 6;36;41 \u001b[0m\u001b[6;36;42m 6;36;42 \u001b[0m\u001b[6;36;43m 6;36;43 \u001b[0m\u001b[6;36;44m 6;36;44 \u001b[0m\u001b[6;36;45m 6;36;45 \u001b[0m\u001b[6;36;46m 6;36;46 \u001b[0m\u001b[6;36;47m 6;36;47 \u001b[0m\n",
                        "\u001b[6;37;40m 6;37;40 \u001b[0m\u001b[6;37;41m 6;37;41 \u001b[0m\u001b[6;37;42m 6;37;42 \u001b[0m\u001b[6;37;43m 6;37;43 \u001b[0m\u001b[6;37;44m 6;37;44 \u001b[0m\u001b[6;37;45m 6;37;45 \u001b[0m\u001b[6;37;46m 6;37;46 \u001b[0m\u001b[6;37;47m 6;37;47 \u001b[0m\n",
                        "\n",
                        "\n",
                        "\u001b[7;30;40m 7;30;40 \u001b[0m\u001b[7;30;41m 7;30;41 \u001b[0m\u001b[7;30;42m 7;30;42 \u001b[0m\u001b[7;30;43m 7;30;43 \u001b[0m\u001b[7;30;44m 7;30;44 \u001b[0m\u001b[7;30;45m 7;30;45 \u001b[0m\u001b[7;30;46m 7;30;46 \u001b[0m\u001b[7;30;47m 7;30;47 \u001b[0m\n",
                        "\u001b[7;31;40m 7;31;40 \u001b[0m\u001b[7;31;41m 7;31;41 \u001b[0m\u001b[7;31;42m 7;31;42 \u001b[0m\u001b[7;31;43m 7;31;43 \u001b[0m\u001b[7;31;44m 7;31;44 \u001b[0m\u001b[7;31;45m 7;31;45 \u001b[0m\u001b[7;31;46m 7;31;46 \u001b[0m\u001b[7;31;47m 7;31;47 \u001b[0m\n",
                        "\u001b[7;32;40m 7;32;40 \u001b[0m\u001b[7;32;41m 7;32;41 \u001b[0m\u001b[7;32;42m 7;32;42 \u001b[0m\u001b[7;32;43m 7;32;43 \u001b[0m\u001b[7;32;44m 7;32;44 \u001b[0m\u001b[7;32;45m 7;32;45 \u001b[0m\u001b[7;32;46m 7;32;46 \u001b[0m\u001b[7;32;47m 7;32;47 \u001b[0m\n",
                        "\u001b[7;33;40m 7;33;40 \u001b[0m\u001b[7;33;41m 7;33;41 \u001b[0m\u001b[7;33;42m 7;33;42 \u001b[0m\u001b[7;33;43m 7;33;43 \u001b[0m\u001b[7;33;44m 7;33;44 \u001b[0m\u001b[7;33;45m 7;33;45 \u001b[0m\u001b[7;33;46m 7;33;46 \u001b[0m\u001b[7;33;47m 7;33;47 \u001b[0m\n",
                        "\u001b[7;34;40m 7;34;40 \u001b[0m\u001b[7;34;41m 7;34;41 \u001b[0m\u001b[7;34;42m 7;34;42 \u001b[0m\u001b[7;34;43m 7;34;43 \u001b[0m\u001b[7;34;44m 7;34;44 \u001b[0m\u001b[7;34;45m 7;34;45 \u001b[0m\u001b[7;34;46m 7;34;46 \u001b[0m\u001b[7;34;47m 7;34;47 \u001b[0m\n",
                        "\u001b[7;35;40m 7;35;40 \u001b[0m\u001b[7;35;41m 7;35;41 \u001b[0m\u001b[7;35;42m 7;35;42 \u001b[0m\u001b[7;35;43m 7;35;43 \u001b[0m\u001b[7;35;44m 7;35;44 \u001b[0m\u001b[7;35;45m 7;35;45 \u001b[0m\u001b[7;35;46m 7;35;46 \u001b[0m\u001b[7;35;47m 7;35;47 \u001b[0m\n",
                        "\u001b[7;36;40m 7;36;40 \u001b[0m\u001b[7;36;41m 7;36;41 \u001b[0m\u001b[7;36;42m 7;36;42 \u001b[0m\u001b[7;36;43m 7;36;43 \u001b[0m\u001b[7;36;44m 7;36;44 \u001b[0m\u001b[7;36;45m 7;36;45 \u001b[0m\u001b[7;36;46m 7;36;46 \u001b[0m\u001b[7;36;47m 7;36;47 \u001b[0m\n",
                        "\u001b[7;37;40m 7;37;40 \u001b[0m\u001b[7;37;41m 7;37;41 \u001b[0m\u001b[7;37;42m 7;37;42 \u001b[0m\u001b[7;37;43m 7;37;43 \u001b[0m\u001b[7;37;44m 7;37;44 \u001b[0m\u001b[7;37;45m 7;37;45 \u001b[0m\u001b[7;37;46m 7;37;46 \u001b[0m\u001b[7;37;47m 7;37;47 \u001b[0m\n",
                        "\n",
                        "\n"
                    ]
                }
            ],
            "source": [
                "def print_format_table():\n",
                "    \"\"\"\n",
                "    prints table of formatted text format options\n",
                "    \"\"\"\n",
                "    for style in range(8):\n",
                "        for fg in range(30, 38):\n",
                "            s1 = ''\n",
                "            for bg in range(40, 48):\n",
                "                format = ';'.join([str(style), str(fg), str(bg)])\n",
                "                s1 += '\\x1b[%sm %s \\x1b[0m' % (format, format)\n",
                "                \n",
                "            print(s1)\n",
                "        print('\\n')\n",
                " \n",
                "print_format_table()"
            ]
        }
    ],
    "metadata": {
        "kernelspec": {
            "display_name": ".venv",
            "language": "python",
            "name": "python3"
        },
        "language_info": {
            "codemirror_mode": {
                "name": "ipython",
                "version": 3
            },
            "file_extension": ".py",
            "mimetype": "text/x-python",
            "name": "python",
            "nbconvert_exporter": "python",
            "pygments_lexer": "ipython3",
            "version": "3.10.2"
        },
        "orig_nbformat": 4
    },
    "nbformat": 4,
    "nbformat_minor": 2
}
