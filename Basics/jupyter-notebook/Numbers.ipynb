{
 "cells": [
  {
   "cell_type": "markdown",
   "id": "6ba017ec",
   "metadata": {},
   "source": [
    "## Mit Zahlen kann man wie in allen anderen Sprachen auch Berechnungen durchführen\n",
    "\n",
    "## Arithmetrische Operatoren:\n",
    "|Operatoren  | Name            | Example |\n",
    "|:---- |:------ |:----- |\n",
    "|    +\t   | Addition\t    | x + y |\n",
    "|    -\t   | Subtraction\t | x - y |\n",
    "|    *\t   | Multiplication  | x * y |\n",
    "|    /\t   | Division\t    | x / y |\n",
    "|    %\t   | Modulus\t     | x % y |\n",
    "|    **\t  | Exponentiation  | x ** y |\n",
    "|    //\t  | Floor division  | x // y |"
   ]
  },
  {
   "cell_type": "markdown",
   "id": "42da655a",
   "metadata": {},
   "source": [
    "### Ganzahlen"
   ]
  },
  {
   "cell_type": "code",
   "execution_count": 1,
   "id": "9a833e40",
   "metadata": {
    "scrolled": true
   },
   "outputs": [
    {
     "data": {
      "text/plain": [
       "int"
      ]
     },
     "execution_count": 1,
     "metadata": {},
     "output_type": "execute_result"
    }
   ],
   "source": [
    "type(2)"
   ]
  },
  {
   "cell_type": "code",
   "execution_count": 2,
   "id": "d22d72ff",
   "metadata": {
    "scrolled": true
   },
   "outputs": [
    {
     "data": {
      "text/plain": [
       "int"
      ]
     },
     "execution_count": 2,
     "metadata": {},
     "output_type": "execute_result"
    }
   ],
   "source": [
    "type(1337)"
   ]
  },
  {
   "cell_type": "markdown",
   "id": "a066b567",
   "metadata": {},
   "source": [
    "### Gleitkommazahlen"
   ]
  },
  {
   "cell_type": "code",
   "execution_count": 3,
   "id": "df31680e",
   "metadata": {},
   "outputs": [
    {
     "data": {
      "text/plain": [
       "float"
      ]
     },
     "execution_count": 3,
     "metadata": {},
     "output_type": "execute_result"
    }
   ],
   "source": [
    "type(2.0)"
   ]
  },
  {
   "cell_type": "code",
   "execution_count": 4,
   "id": "e4c2266e",
   "metadata": {},
   "outputs": [
    {
     "data": {
      "text/plain": [
       "float"
      ]
     },
     "execution_count": 4,
     "metadata": {},
     "output_type": "execute_result"
    }
   ],
   "source": [
    "type(3.1415926)"
   ]
  },
  {
   "cell_type": "markdown",
   "id": "c77764dc",
   "metadata": {},
   "source": [
    "### Grundrechenarten "
   ]
  },
  {
   "cell_type": "code",
   "execution_count": 5,
   "id": "aa83b72f",
   "metadata": {},
   "outputs": [
    {
     "data": {
      "text/plain": [
       "int"
      ]
     },
     "execution_count": 5,
     "metadata": {},
     "output_type": "execute_result"
    }
   ],
   "source": [
    "type(1)"
   ]
  },
  {
   "cell_type": "code",
   "execution_count": 6,
   "id": "3dfe0ecc",
   "metadata": {
    "scrolled": true
   },
   "outputs": [
    {
     "data": {
      "text/plain": [
       "float"
      ]
     },
     "execution_count": 6,
     "metadata": {},
     "output_type": "execute_result"
    }
   ],
   "source": [
    "type(2.2)"
   ]
  },
  {
   "cell_type": "code",
   "execution_count": 7,
   "id": "05697759",
   "metadata": {},
   "outputs": [
    {
     "data": {
      "text/plain": [
       "10"
      ]
     },
     "execution_count": 7,
     "metadata": {},
     "output_type": "execute_result"
    }
   ],
   "source": [
    "8 + 2"
   ]
  },
  {
   "cell_type": "code",
   "execution_count": 8,
   "id": "a4e7bd07",
   "metadata": {},
   "outputs": [
    {
     "data": {
      "text/plain": [
       "6"
      ]
     },
     "execution_count": 8,
     "metadata": {},
     "output_type": "execute_result"
    }
   ],
   "source": [
    "8 - 2"
   ]
  },
  {
   "cell_type": "code",
   "execution_count": 9,
   "id": "ac3a7431",
   "metadata": {},
   "outputs": [
    {
     "data": {
      "text/plain": [
       "16"
      ]
     },
     "execution_count": 9,
     "metadata": {},
     "output_type": "execute_result"
    }
   ],
   "source": [
    "8 * 2"
   ]
  },
  {
   "cell_type": "code",
   "execution_count": 10,
   "id": "1ca65dd1",
   "metadata": {},
   "outputs": [
    {
     "data": {
      "text/plain": [
       "4.0"
      ]
     },
     "execution_count": 10,
     "metadata": {},
     "output_type": "execute_result"
    }
   ],
   "source": [
    "8 / 2"
   ]
  },
  {
   "cell_type": "code",
   "execution_count": 11,
   "id": "5503f7bf",
   "metadata": {},
   "outputs": [
    {
     "data": {
      "text/plain": [
       "0"
      ]
     },
     "execution_count": 11,
     "metadata": {},
     "output_type": "execute_result"
    }
   ],
   "source": [
    "10 % 2"
   ]
  },
  {
   "cell_type": "code",
   "execution_count": 12,
   "id": "b751392d",
   "metadata": {},
   "outputs": [
    {
     "data": {
      "text/plain": [
       "1"
      ]
     },
     "execution_count": 12,
     "metadata": {},
     "output_type": "execute_result"
    }
   ],
   "source": [
    "10 % 3"
   ]
  },
  {
   "cell_type": "code",
   "execution_count": 1,
   "id": "7703cca4",
   "metadata": {
    "scrolled": true
   },
   "outputs": [
    {
     "data": {
      "text/plain": [
       "64"
      ]
     },
     "execution_count": 1,
     "metadata": {},
     "output_type": "execute_result"
    }
   ],
   "source": [
    "8 ** 2"
   ]
  },
  {
   "cell_type": "markdown",
   "id": "c879869e",
   "metadata": {},
   "source": [
    "### Klammer Rechnung"
   ]
  },
  {
   "cell_type": "code",
   "execution_count": 14,
   "id": "d9b4f5cd",
   "metadata": {},
   "outputs": [
    {
     "data": {
      "text/plain": [
       "120"
      ]
     },
     "execution_count": 14,
     "metadata": {},
     "output_type": "execute_result"
    }
   ],
   "source": [
    "(10+2)*10"
   ]
  },
  {
   "cell_type": "code",
   "execution_count": 15,
   "id": "3653ac6a",
   "metadata": {},
   "outputs": [
    {
     "data": {
      "text/plain": [
       "30"
      ]
     },
     "execution_count": 15,
     "metadata": {},
     "output_type": "execute_result"
    }
   ],
   "source": [
    "10+2*10"
   ]
  },
  {
   "cell_type": "code",
   "execution_count": null,
   "id": "4ee2d35c",
   "metadata": {},
   "outputs": [],
   "source": []
  }
 ],
 "metadata": {
  "kernelspec": {
   "display_name": "Python 3 (ipykernel)",
   "language": "python",
   "name": "python3"
  },
  "language_info": {
   "codemirror_mode": {
    "name": "ipython",
    "version": 3
   },
   "file_extension": ".py",
   "mimetype": "text/x-python",
   "name": "python",
   "nbconvert_exporter": "python",
   "pygments_lexer": "ipython3",
   "version": "3.10.2"
  }
 },
 "nbformat": 4,
 "nbformat_minor": 5
}
