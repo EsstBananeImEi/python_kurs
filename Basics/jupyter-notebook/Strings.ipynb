{
 "cells": [
  {
   "cell_type": "markdown",
   "id": "43a1fec5",
   "metadata": {},
   "source": [
    "# Strings\n",
    "ein String (engl.: Kette, Folge) ist eine Zeichenkette so genannt, weil sie eine \"Kette\" von \"Zeichen\" enthält."
   ]
  },
  {
   "cell_type": "code",
   "execution_count": null,
   "id": "6b930deb",
   "metadata": {},
   "outputs": [],
   "source": []
  }
 ],
 "metadata": {
  "cells": [
   {
    "cell_type": "markdown",
    "id": "a20f163f",
    "metadata": {},
    "source": [
     "# Strings\n",
     "ein String (engl.: Kette, Folge) ist eine Zeichenkette so genannt, weil sie eine \"Kette\" von \"Zeichen\" enthält."
    ]
   },
   {
    "cell_type": "code",
    "execution_count": null,
    "id": "86574c63",
    "metadata": {},
    "outputs": [],
    "source": []
   }
  ],
  "kernelspec": {
   "display_name": "Python 3",
   "language": "python",
   "name": "python3"
  },
  "language_info": {
   "codemirror_mode": {
    "name": "ipython",
    "version": 3
   },
   "file_extension": ".py",
   "mimetype": "text/x-python",
   "name": "python",
   "nbconvert_exporter": "python",
   "pygments_lexer": "ipython3",
   "version": "3.8.8"
  },
  "metadata": {
   "kernelspec": {
    "display_name": "Python 3",
    "language": "python",
    "name": "python3"
   },
   "language_info": {
    "codemirror_mode": {
     "name": "ipython",
     "version": 3
    },
    "file_extension": ".py",
    "mimetype": "text/x-python",
    "name": "python",
    "nbconvert_exporter": "python",
    "pygments_lexer": "ipython3",
    "version": "3.8.8"
   }
  },
  "nbformat": 4,
  "nbformat_minor": 5
 },
 "nbformat": 4,
 "nbformat_minor": 5
}
