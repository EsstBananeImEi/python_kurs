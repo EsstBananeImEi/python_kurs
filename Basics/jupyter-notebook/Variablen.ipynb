{
 "cells": [
  {
   "cell_type": "markdown",
   "id": "f27e81ef",
   "metadata": {},
   "source": [
    "# Variablen"
   ]
  },
  {
   "cell_type": "markdown",
   "id": "0504d840",
   "metadata": {},
   "source": [
    "### Variablen sind einfache Container für digitale Daten. Variablen speichern einfache Daten von Programmen in der Programmierung. Der Begriff Variable verdeutlicht die Bedeutung dieses zentralen Programmierwerkzeugs, denn Werte von Variablen sind veränderbar. Jede Variable benötigt einen eindeutigen Variablennamen."
   ]
  },
  {
   "cell_type": "markdown",
   "id": "65bbe0de",
   "metadata": {},
   "source": [
    "### Unser Erster Kontakt mit Clean Code !!\n",
    "### Aussagekräftige Namen\n",
    "\n",
    "### Der Namen einer Variable, Funktion oder Klasse sollte sofort erklären, warum Sie existiert, was sie tut und wie sie benutzt wird. Wenn eine Variable einen Kommentar benötigt, drückt Sie ihren Zweck nicht aus."
   ]
  },
  {
   "cell_type": "markdown",
   "id": "1da6dfb6",
   "metadata": {},
   "source": [
    "### Unsaubere art Variablen zu schreiben !"
   ]
  },
  {
   "cell_type": "code",
   "execution_count": 8,
   "id": "2943d2b5",
   "metadata": {},
   "outputs": [],
   "source": [
    "d = 10 # Anzahl vergangener Tage"
   ]
  },
  {
   "cell_type": "code",
   "execution_count": 9,
   "id": "c2d13b9b",
   "metadata": {},
   "outputs": [],
   "source": [
    "dpv = 90 # Höhe der Täglichen Produktivität"
   ]
  },
  {
   "cell_type": "markdown",
   "id": "d0edfd86",
   "metadata": {},
   "source": [
    "### Der Clean Code weg !"
   ]
  },
  {
   "cell_type": "code",
   "execution_count": 11,
   "id": "b84c2bf3",
   "metadata": {},
   "outputs": [],
   "source": [
    "days_since_creation = 10\n",
    "daily_productivity_value = 90"
   ]
  },
  {
   "cell_type": "markdown",
   "id": "63f838b0",
   "metadata": {},
   "source": [
    "### Hat man werte in Variablen gespeichert kann man diese jederzeit über ihren Namen aufrufen"
   ]
  },
  {
   "cell_type": "code",
   "execution_count": 12,
   "id": "1c3d4477",
   "metadata": {},
   "outputs": [],
   "source": [
    "customer_name = \"Peter\""
   ]
  },
  {
   "cell_type": "code",
   "execution_count": 19,
   "id": "c58c82c4",
   "metadata": {},
   "outputs": [],
   "source": [
    "customer_age = 40"
   ]
  },
  {
   "cell_type": "code",
   "execution_count": 21,
   "id": "e618d624",
   "metadata": {},
   "outputs": [
    {
     "data": {
      "text/plain": [
       "10"
      ]
     },
     "execution_count": 21,
     "metadata": {},
     "output_type": "execute_result"
    }
   ],
   "source": [
    "days_since_creation"
   ]
  },
  {
   "cell_type": "code",
   "execution_count": 22,
   "id": "497c4514",
   "metadata": {},
   "outputs": [
    {
     "data": {
      "text/plain": [
       "90"
      ]
     },
     "execution_count": 22,
     "metadata": {},
     "output_type": "execute_result"
    }
   ],
   "source": [
    "daily_productivity_value"
   ]
  },
  {
   "cell_type": "code",
   "execution_count": 18,
   "id": "48d0143b",
   "metadata": {},
   "outputs": [
    {
     "data": {
      "text/plain": [
       "'Peter ist 40 Jahre alt'"
      ]
     },
     "execution_count": 18,
     "metadata": {},
     "output_type": "execute_result"
    }
   ],
   "source": [
    "f\"{customer_name} ist {str(customer_age)} Jahre alt\""
   ]
  }
 ],
 "metadata": {
  "kernelspec": {
   "display_name": "Python 3 (ipykernel)",
   "language": "python",
   "name": "python3"
  },
  "language_info": {
   "codemirror_mode": {
    "name": "ipython",
    "version": 3
   },
   "file_extension": ".py",
   "mimetype": "text/x-python",
   "name": "python",
   "nbconvert_exporter": "python",
   "pygments_lexer": "ipython3",
   "version": "3.10.0"
  }
 },
 "nbformat": 4,
 "nbformat_minor": 5
}
