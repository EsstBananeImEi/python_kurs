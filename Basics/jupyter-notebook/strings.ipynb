{
 "cells": [
  {
   "cell_type": "markdown",
   "id": "b1a1d8d9",
   "metadata": {},
   "source": [
    "# Strings"
   ]
  },
  {
   "cell_type": "markdown",
   "id": "0844b209",
   "metadata": {},
   "source": [
    "ein String (engl.: Kette, Folge) ist eine Zeichenkette so genannt, weil sie eine \"Kette\" von \"Zeichen\" enthält."
   ]
  },
  {
   "cell_type": "code",
   "execution_count": 2,
   "id": "34c1ddc2",
   "metadata": {},
   "outputs": [
    {
     "name": "stdout",
     "output_type": "stream",
     "text": [
      "Hello World\n"
     ]
    }
   ],
   "source": [
    "print(\"Hello World\")"
   ]
  },
  {
   "cell_type": "code",
   "execution_count": 6,
   "id": "15419b98",
   "metadata": {},
   "outputs": [
    {
     "name": "stdout",
     "output_type": "stream",
     "text": [
      "Mein name ist Paul\n"
     ]
    }
   ],
   "source": [
    "name = \"Paul\"\n",
    "print(\"Mein name ist \" + name)"
   ]
  },
  {
   "cell_type": "code",
   "execution_count": 8,
   "id": "3133904a",
   "metadata": {},
   "outputs": [
    {
     "name": "stdout",
     "output_type": "stream",
     "text": [
      "Ich bin 6 Jahre alt\n"
     ]
    }
   ],
   "source": [
    "age = 6\n",
    "print(\"Ich bin \" + str(age)\n",
    "      + \" Jahre alt\")"
   ]
  }
 ],
 "metadata": {
  "interpreter": {
   "hash": "534bdaed6ee57f856ce55ced545f3a35baecea6d3f0296247421eadb8d2d1301"
  },
  "kernelspec": {
   "display_name": "Python 3",
   "language": "python",
   "name": "python3"
  },
  "language_info": {
   "codemirror_mode": {
    "name": "ipython",
    "version": 3
   },
   "file_extension": ".py",
   "mimetype": "text/x-python",
   "name": "python",
   "nbconvert_exporter": "python",
   "pygments_lexer": "ipython3",
   "version": "3.8.8"
  }
 },
 "nbformat": 4,
 "nbformat_minor": 5
}
