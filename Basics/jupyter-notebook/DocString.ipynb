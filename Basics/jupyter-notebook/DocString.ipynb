{
 "cells": [
  {
   "cell_type": "markdown",
   "id": "6c6c57a3",
   "metadata": {},
   "source": [
    "# Docstrings"
   ]
  },
  {
   "cell_type": "markdown",
   "id": "82837ab8",
   "metadata": {},
   "source": [
    "### In Python gibt es eine sehr elegante Möglichkeit, Funktionen mit so genannten Dokumentations-Strings oder kurz DocStrings zu erläutern. DocStrings sind ein wichtiges Werkzeug, um Code zu dokumentieren. DocStrings können während des Programmablaufs abgefragt werden.\n",
    "\n",
    "### es gibt 3 arten von Docstrings\n",
    "        - Der Datei Docstring am anfang einer datei\n",
    "        - Der Klassen Docstring innerhalb einer Klasse\n",
    "        - Der Methoden Dockstring innerhalb von Methoden\n",
    "\n",
    "### Clean Code sollte aber \"immer\" die erste wahl sein. Außer es lässt sich nicht verhindern"
   ]
  },
  {
   "cell_type": "code",
   "execution_count": 9,
   "id": "8b4131e0",
   "metadata": {},
   "outputs": [],
   "source": [
    "\"\"\"\n",
    "Typ: Datei Docsting\n",
    "Inhalt:\n",
    "    - Informationen zu der Datei\n",
    "\"\"\"\n",
    "\n",
    "class DocstringTest():\n",
    "    \"\"\"\n",
    "    Typ: Klassen Docsting\n",
    "    Inhalt: zum beispiel informationen über eine Klasse\n",
    "    \"\"\"\n",
    "\n",
    "    def docstring_in_method(self):\n",
    "        \"\"\"\n",
    "        Typ: Methoden Docsting\n",
    "        Inhalt: zum beispiel informationen über eine methode wie parameter und rückgabe werte\n",
    "        :return:\n",
    "        \"\"\""
   ]
  },
  {
   "cell_type": "code",
   "execution_count": 11,
   "id": "733f8ed0",
   "metadata": {},
   "outputs": [
    {
     "name": "stdout",
     "output_type": "stream",
     "text": [
      "\n",
      "Typ: Datei Docsting\n",
      "Inhalt:\n",
      "    - Informationen zu der Datei\n",
      "\n"
     ]
    }
   ],
   "source": [
    "print(__doc__)"
   ]
  },
  {
   "cell_type": "code",
   "execution_count": 13,
   "id": "fcbc367d",
   "metadata": {},
   "outputs": [
    {
     "name": "stdout",
     "output_type": "stream",
     "text": [
      "\n",
      "    Typ: Klassen Docsting\n",
      "    Inhalt: zum beispiel informationen über eine Klasse\n",
      "    \n"
     ]
    }
   ],
   "source": [
    "print(DocstringTest().__doc__)"
   ]
  },
  {
   "cell_type": "code",
   "execution_count": 15,
   "id": "e5923e42",
   "metadata": {},
   "outputs": [
    {
     "name": "stdout",
     "output_type": "stream",
     "text": [
      "\n",
      "        Typ: Methoden Docsting\n",
      "        Inhalt: zum beispiel informationen über eine methode wie parameter und rückgabe werte\n",
      "        :return:\n",
      "        \n"
     ]
    }
   ],
   "source": [
    "print(DocstringTest().docstring_in_method.__doc__)"
   ]
  }
 ],
 "metadata": {
  "kernelspec": {
   "display_name": "Python 3",
   "language": "python",
   "name": "python3"
  },
  "language_info": {
   "codemirror_mode": {
    "name": "ipython",
    "version": 3
   },
   "file_extension": ".py",
   "mimetype": "text/x-python",
   "name": "python",
   "nbconvert_exporter": "python",
   "pygments_lexer": "ipython3",
   "version": "3.10.2"
  }
 },
 "nbformat": 4,
 "nbformat_minor": 5
}
