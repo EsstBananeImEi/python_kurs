{
 "cells": [
  {
   "cell_type": "markdown",
   "metadata": {},
   "source": [
    "# Dictionarys\n",
    "### Dictionaries gehören zu den zentralen Datentypen in Python. Wie ein Wörterbuch das Begriffe und deren Bedeutungen verknüpft, enthält das Dictionary Elemente, die mit weiterer Information verknüpft sind. Dictionaries sind ganz Allgemein Key-Value Pairs oder auch Schlüssel-Wert Paare"
   ]
  },
  {
   "cell_type": "code",
   "execution_count": 1,
   "metadata": {},
   "outputs": [],
   "source": [
    "kennzeichen = {\n",
    "                \"Köln\": \"K\", \n",
    "                \"Koblenz\": \"KO\", \n",
    "                \"München\": \"M\", \n",
    "                \"Feuchtwangen\": \"FEU\"\n",
    "                }"
   ]
  },
  {
   "cell_type": "code",
   "execution_count": 3,
   "metadata": {},
   "outputs": [
    {
     "ename": "KeyError",
     "evalue": "0",
     "output_type": "error",
     "traceback": [
      "\u001b[1;31m---------------------------------------------------------------------------\u001b[0m",
      "\u001b[1;31mKeyError\u001b[0m                                  Traceback (most recent call last)",
      "\u001b[1;32mC:\\Users\\MEINES~1\\AppData\\Local\\Temp/ipykernel_23180/3536468930.py\u001b[0m in \u001b[0;36m<module>\u001b[1;34m\u001b[0m\n\u001b[1;32m----> 1\u001b[1;33m \u001b[0mkennzeichen\u001b[0m\u001b[1;33m[\u001b[0m\u001b[1;36m0\u001b[0m\u001b[1;33m]\u001b[0m\u001b[1;33m\u001b[0m\u001b[1;33m\u001b[0m\u001b[0m\n\u001b[0m",
      "\u001b[1;31mKeyError\u001b[0m: 0"
     ]
    }
   ],
   "source": [
    "kennzeichen[0]"
   ]
  },
  {
   "cell_type": "code",
   "execution_count": 13,
   "metadata": {},
   "outputs": [
    {
     "data": {
      "text/plain": [
       "'KO'"
      ]
     },
     "execution_count": 13,
     "metadata": {},
     "output_type": "execute_result"
    }
   ],
   "source": [
    "kennzeichen['Koblenz']"
   ]
  },
  {
   "cell_type": "code",
   "execution_count": 11,
   "metadata": {},
   "outputs": [
    {
     "data": {
      "text/plain": [
       "'KO'"
      ]
     },
     "execution_count": 11,
     "metadata": {},
     "output_type": "execute_result"
    }
   ],
   "source": [
    "kennzeichen.get(\"Koblenz\")"
   ]
  },
  {
   "cell_type": "code",
   "execution_count": 6,
   "metadata": {},
   "outputs": [
    {
     "name": "stdout",
     "output_type": "stream",
     "text": [
      "K\n",
      "KO\n",
      "M\n",
      "FEU\n"
     ]
    }
   ],
   "source": [
    "for key in kennzeichen:\n",
    "    print(kennzeichen[key])"
   ]
  },
  {
   "cell_type": "code",
   "execution_count": 7,
   "metadata": {},
   "outputs": [
    {
     "data": {
      "text/plain": [
       "dict_items([('Köln', 'K'), ('Koblenz', 'KO'), ('München', 'M'), ('Feuchtwangen', 'FEU')])"
      ]
     },
     "execution_count": 7,
     "metadata": {},
     "output_type": "execute_result"
    }
   ],
   "source": [
    "kennzeichen.items()"
   ]
  },
  {
   "cell_type": "code",
   "execution_count": 8,
   "metadata": {},
   "outputs": [
    {
     "name": "stdout",
     "output_type": "stream",
     "text": [
      "Köln : K\n",
      "Koblenz : KO\n",
      "München : M\n",
      "Feuchtwangen : FEU\n"
     ]
    }
   ],
   "source": [
    "for key, value in kennzeichen.items():\n",
    "    print(\"%s : %s\" % (key, value))"
   ]
  }
 ],
 "metadata": {
  "interpreter": {
   "hash": "8edcae8aee8b9f77d273e745edc9899fcb323bc44a6c60d119c52fd1eee6c242"
  },
  "kernelspec": {
   "display_name": "Python 3 (ipykernel)",
   "language": "python",
   "name": "python3"
  },
  "language_info": {
   "codemirror_mode": {
    "name": "ipython",
    "version": 3
   },
   "file_extension": ".py",
   "mimetype": "text/x-python",
   "name": "python",
   "nbconvert_exporter": "python",
   "pygments_lexer": "ipython3",
   "version": "3.10.0"
  }
 },
 "nbformat": 4,
 "nbformat_minor": 2
}
