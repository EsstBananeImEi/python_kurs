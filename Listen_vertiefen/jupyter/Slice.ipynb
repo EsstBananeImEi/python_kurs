{
 "cells": [
  {
   "cell_type": "markdown",
   "metadata": {},
   "source": [
    "# Slice\n",
    "### Mit der slice-Methode gibt ein Slice Objekt zurück, es wird benutzt um jegliche Sequence (string, tuple, list, range, oder bytes) zu Schneiden.\n",
    "\n",
    "#### beispiel liste [0,1,2,3,4]\n",
    "| Parameter | start | ende| slice-object |\n",
    "|:-----|:-----|:-----|:-------|\n",
    "| [:] | index 0 | inklusive index 4 | [0,1,2,3,4] | \n",
    "| [2:] oder [2] | index 2 | inklusive index 4 | [2,3,4] |\n",
    "| [:3] | index 0 | exklusive index 2 | [0,1,2] |\n",
    "| [:-1] | index 0 | exklusive index -1 (4) | [0,1,2,3] |\n",
    "| [1:3] | index 1 | exklusive index 3 | [1,2] |"
   ]
  },
  {
   "cell_type": "code",
   "execution_count": 10,
   "metadata": {},
   "outputs": [
    {
     "data": {
      "text/plain": [
       "['Henry', 'Margot', 'Sahra']"
      ]
     },
     "execution_count": 10,
     "metadata": {},
     "output_type": "execute_result"
    }
   ],
   "source": [
    "my_list = [\"Linda\", \"Peter\", \"Henry\", \"Margot\", \"Sahra\"]\n",
    "my_list[2:]"
   ]
  },
  {
   "cell_type": "code",
   "execution_count": 14,
   "metadata": {},
   "outputs": [
    {
     "data": {
      "text/plain": [
       "['Peter', 'Henry', 'Margot']"
      ]
     },
     "execution_count": 14,
     "metadata": {},
     "output_type": "execute_result"
    }
   ],
   "source": [
    "my_list[1:4]"
   ]
  },
  {
   "cell_type": "code",
   "execution_count": 16,
   "metadata": {},
   "outputs": [
    {
     "data": {
      "text/plain": [
       "'llo W'"
      ]
     },
     "execution_count": 16,
     "metadata": {},
     "output_type": "execute_result"
    }
   ],
   "source": [
    "my_text = \"Hallo Welt\"\n",
    "my_text[2:7]"
   ]
  }
 ],
 "metadata": {
  "interpreter": {
   "hash": "8edcae8aee8b9f77d273e745edc9899fcb323bc44a6c60d119c52fd1eee6c242"
  },
  "kernelspec": {
   "display_name": "Python 3.10.0 64-bit ('venv': venv)",
   "language": "python",
   "name": "python3"
  },
  "language_info": {
   "codemirror_mode": {
    "name": "ipython",
    "version": 3
   },
   "file_extension": ".py",
   "mimetype": "text/x-python",
   "name": "python",
   "nbconvert_exporter": "python",
   "pygments_lexer": "ipython3",
   "version": "3.10.0"
  },
  "orig_nbformat": 4
 },
 "nbformat": 4,
 "nbformat_minor": 2
}
