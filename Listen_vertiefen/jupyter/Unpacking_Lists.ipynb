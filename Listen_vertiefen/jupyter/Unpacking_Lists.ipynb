{
 "cells": [
  {
   "cell_type": "markdown",
   "metadata": {},
   "source": [
    "# Unpacking Lists (Listen entpacken)\n",
    "### Mit hilfe dem Operator \"=\" können wir einer variable eine Liste zuweisen. Es ist aber auch möglich, jeden Wert aus einer liste in eine eigene Variable zu packen, ohne direkt auf den Wert mittels Liste[0] zu zugreifen."
   ]
  },
  {
   "cell_type": "code",
   "execution_count": 3,
   "metadata": {},
   "outputs": [
    {
     "data": {
      "text/plain": [
       "['Peter', 'Hannes', 'Frauke', 'Petra']"
      ]
     },
     "execution_count": 3,
     "metadata": {},
     "output_type": "execute_result"
    }
   ],
   "source": [
    "entpacke_mich = [\"Peter\", \"Hannes\", \"Frauke\", \"Petra\"]\n",
    "entpacke_mich"
   ]
  },
  {
   "cell_type": "code",
   "execution_count": 4,
   "metadata": {},
   "outputs": [],
   "source": [
    "peter, hannes, frauke, petra = entpacke_mich"
   ]
  },
  {
   "cell_type": "code",
   "execution_count": 5,
   "metadata": {},
   "outputs": [
    {
     "data": {
      "text/plain": [
       "'Peter'"
      ]
     },
     "execution_count": 5,
     "metadata": {},
     "output_type": "execute_result"
    }
   ],
   "source": [
    "peter"
   ]
  },
  {
   "cell_type": "code",
   "execution_count": 6,
   "metadata": {},
   "outputs": [
    {
     "data": {
      "text/plain": [
       "'Frauke'"
      ]
     },
     "execution_count": 6,
     "metadata": {},
     "output_type": "execute_result"
    }
   ],
   "source": [
    "frauke"
   ]
  },
  {
   "cell_type": "code",
   "execution_count": 9,
   "metadata": {},
   "outputs": [
    {
     "name": "stdout",
     "output_type": "stream",
     "text": [
      "Lisa\n",
      "23\n"
     ]
    }
   ],
   "source": [
    "tupel = (\"Lisa\", 23)\n",
    "name, alter = tupel\n",
    "print(name)\n",
    "print(alter)"
   ]
  },
  {
   "cell_type": "code",
   "execution_count": 11,
   "metadata": {},
   "outputs": [],
   "source": [
    "kennzeichen_dict = {\"Köln\": \"K\", \"Koblenz\": \"KO\", \"München\": \"M\", \"Feuchtwangen\": \"FEU\"}"
   ]
  },
  {
   "cell_type": "code",
   "execution_count": 16,
   "metadata": {},
   "outputs": [
    {
     "name": "stdout",
     "output_type": "stream",
     "text": [
      "Stadt: Köln | Kennzeichen: K\n",
      "Stadt: Koblenz | Kennzeichen: KO\n",
      "Stadt: München | Kennzeichen: M\n",
      "Stadt: Feuchtwangen | Kennzeichen: FEU\n"
     ]
    }
   ],
   "source": [
    "for stadt, kennzeichen in kennzeichen_dict.items():\n",
    "    print(f\"Stadt: {stadt} | Kennzeichen: {kennzeichen}\")"
   ]
  }
 ],
 "metadata": {
  "interpreter": {
   "hash": "8edcae8aee8b9f77d273e745edc9899fcb323bc44a6c60d119c52fd1eee6c242"
  },
  "kernelspec": {
   "display_name": "Python 3.10.0 64-bit ('venv': venv)",
   "language": "python",
   "name": "python3"
  },
  "language_info": {
   "codemirror_mode": {
    "name": "ipython",
    "version": 3
   },
   "file_extension": ".py",
   "mimetype": "text/x-python",
   "name": "python",
   "nbconvert_exporter": "python",
   "pygments_lexer": "ipython3",
   "version": "3.10.0"
  },
  "orig_nbformat": 4
 },
 "nbformat": 4,
 "nbformat_minor": 2
}
