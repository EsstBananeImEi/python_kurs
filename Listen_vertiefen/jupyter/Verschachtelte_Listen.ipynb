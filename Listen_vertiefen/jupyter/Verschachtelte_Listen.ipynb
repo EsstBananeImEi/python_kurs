{
 "cells": [
  {
   "cell_type": "markdown",
   "metadata": {},
   "source": [
    "# Verschachtelte Listen\n",
    "### Listen können in jeglicher form miteinander verschachtelt werden."
   ]
  },
  {
   "cell_type": "code",
   "execution_count": 5,
   "metadata": {},
   "outputs": [
    {
     "name": "stdout",
     "output_type": "stream",
     "text": [
      "['Bulgarien', 'Deutschland', 'Finnland']\n",
      "Deutschland\n"
     ]
    }
   ],
   "source": [
    "liste = [[\"Bulgarien\", \"Deutschland\", \"Finnland\"],\n",
    "         [\"Albanien\", \"Serbien\", \"Ukraine\"]]\n",
    "\n",
    "print(liste[0])\n",
    "print(liste[0][1])"
   ]
  },
  {
   "cell_type": "code",
   "execution_count": 6,
   "metadata": {},
   "outputs": [
    {
     "name": "stdout",
     "output_type": "stream",
     "text": [
      "['Bulgarien', 'Deutschland', 'Finnland']\n",
      "Deutschland\n"
     ]
    }
   ],
   "source": [
    "countries = {\"EU-Countries\": [\"Bulgarien\", \"Deutschland\", \"Finnland\"],\n",
    "             \"Non-EU-Countries\": [\"Albanien\", \"Serbien\", \"Ukraine\"]}\n",
    "\n",
    "print(countries.get(\"EU-Countries\"))\n",
    "print(countries.get(\"EU-Countries\")[1])"
   ]
  }
 ],
 "metadata": {
  "interpreter": {
   "hash": "8edcae8aee8b9f77d273e745edc9899fcb323bc44a6c60d119c52fd1eee6c242"
  },
  "kernelspec": {
   "display_name": "Python 3.10.0 64-bit ('venv': venv)",
   "language": "python",
   "name": "python3"
  },
  "language_info": {
   "codemirror_mode": {
    "name": "ipython",
    "version": 3
   },
   "file_extension": ".py",
   "mimetype": "text/x-python",
   "name": "python",
   "nbconvert_exporter": "python",
   "pygments_lexer": "ipython3",
   "version": "3.10.0"
  },
  "orig_nbformat": 4
 },
 "nbformat": 4,
 "nbformat_minor": 2
}
