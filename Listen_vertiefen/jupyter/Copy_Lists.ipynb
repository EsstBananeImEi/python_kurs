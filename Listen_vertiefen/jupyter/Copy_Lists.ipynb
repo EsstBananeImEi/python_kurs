{
 "cells": [
  {
   "cell_type": "markdown",
   "metadata": {},
   "source": [
    "# Copy Lists (Kopieren von Listen)\n",
    "### Bei der erstellung von Veränderbaren (Mutable) Listen muss man bedenken, das man mit \"liste_b = liste_a\" nur einen zeiger auf die liste_a erstellt und ein verändern der liste_b auch liste_a verändert, da es sich wie erwähnt nicht um eine Neue Liste, sondern um die referenz bzw. einen Zeiger auf die schon vorhandene Liste handelt."
   ]
  },
  {
   "cell_type": "code",
   "execution_count": 5,
   "metadata": {},
   "outputs": [],
   "source": [
    "my_list_a = [1, 2, 3, 4]"
   ]
  },
  {
   "cell_type": "code",
   "execution_count": 6,
   "metadata": {},
   "outputs": [],
   "source": [
    "my_list_b = my_list_a\n",
    "my_list_b.append(100)"
   ]
  },
  {
   "cell_type": "code",
   "execution_count": 10,
   "metadata": {},
   "outputs": [
    {
     "name": "stdout",
     "output_type": "stream",
     "text": [
      "[1, 2, 3, 4, 100]\n",
      "1342684148928\n",
      "[1, 2, 3, 4, 100]\n",
      "1342684148928\n"
     ]
    }
   ],
   "source": [
    "print(my_list_b)\n",
    "print(id(my_list_b))\n",
    "\n",
    "print(my_list_a)\n",
    "print(id(my_list_a))"
   ]
  },
  {
   "cell_type": "code",
   "execution_count": 12,
   "metadata": {},
   "outputs": [
    {
     "name": "stdout",
     "output_type": "stream",
     "text": [
      "[1, 2, 3, 4, 100, 200]\n"
     ]
    }
   ],
   "source": [
    "my_copied_list = my_list_a.copy()\n",
    "my_copied_list.append(200)"
   ]
  },
  {
   "cell_type": "code",
   "execution_count": 14,
   "metadata": {},
   "outputs": [
    {
     "name": "stdout",
     "output_type": "stream",
     "text": [
      "[1, 2, 3, 4, 100]\n",
      "1342684148928\n",
      "[1, 2, 3, 4, 100, 200]\n",
      "1342678295104\n"
     ]
    }
   ],
   "source": [
    "print(my_list_a)\n",
    "print(id(my_list_a))\n",
    "print(my_copied_list)\n",
    "print(id(my_copied_list))"
   ]
  }
 ],
 "metadata": {
  "interpreter": {
   "hash": "8edcae8aee8b9f77d273e745edc9899fcb323bc44a6c60d119c52fd1eee6c242"
  },
  "kernelspec": {
   "display_name": "Python 3.10.0 64-bit ('venv': venv)",
   "language": "python",
   "name": "python3"
  },
  "language_info": {
   "codemirror_mode": {
    "name": "ipython",
    "version": 3
   },
   "file_extension": ".py",
   "mimetype": "text/x-python",
   "name": "python",
   "nbconvert_exporter": "python",
   "pygments_lexer": "ipython3",
   "version": "3.10.0"
  },
  "orig_nbformat": 4
 },
 "nbformat": 4,
 "nbformat_minor": 2
}
