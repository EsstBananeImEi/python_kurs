{
 "cells": [
  {
   "cell_type": "markdown",
   "metadata": {},
   "source": [
    "# Zip\n",
    "\n",
    "Das <code>zip()</code> in Python hat nichts mit dem Daten Container zip zu tun, vielmehr wird <code>zip()</code> dazu verwendet Listen Elemente mit anderen Listen Elementen zu verschmelzen.\n",
    "\n",
    "Stellen wir uns einfach vor, wir haben zwei listen, eine Liste enthält Zahlen von 1 - 7 die andere Liste enthält die Wochentage Mo - So, nun wollen wir die Zahlen und die Wochentage Mappen oder Verschmlezen, dazu können wir <code>zip()</code> nutzen. "
   ]
  },
  {
   "cell_type": "code",
   "execution_count": 2,
   "metadata": {},
   "outputs": [],
   "source": [
    "my_week_day_numbers = [1, 2, 3, 4, 5, 6, 7]\n",
    "my_week_days = [\"Mo\", \"Di\", \"Mi\", \"Do\", \"Fr\", \"Sa\", \"So\"]"
   ]
  },
  {
   "cell_type": "code",
   "execution_count": 15,
   "metadata": {},
   "outputs": [
    {
     "data": {
      "text/plain": [
       "<zip at 0x1fee17d9d80>"
      ]
     },
     "execution_count": 15,
     "metadata": {},
     "output_type": "execute_result"
    }
   ],
   "source": [
    "my_week = zip(my_week_day_numbers, my_week_days)\n",
    "my_week"
   ]
  },
  {
   "cell_type": "code",
   "execution_count": 16,
   "metadata": {},
   "outputs": [
    {
     "name": "stdout",
     "output_type": "stream",
     "text": [
      "(1, 'Mo')\n",
      "(2, 'Di')\n",
      "(3, 'Mi')\n",
      "(4, 'Do')\n",
      "(5, 'Fr')\n",
      "(6, 'Sa')\n",
      "(7, 'So')\n"
     ]
    }
   ],
   "source": [
    "for my_mapped_days in my_week:\n",
    "    print(my_mapped_days)"
   ]
  },
  {
   "cell_type": "code",
   "execution_count": 24,
   "metadata": {},
   "outputs": [
    {
     "data": {
      "text/plain": [
       "[(1, 'Mo'), (2, 'Di'), (3, 'Mi'), (4, 'Do'), (5, 'Fr'), (6, 'Sa'), (7, 'So')]"
      ]
     },
     "execution_count": 24,
     "metadata": {},
     "output_type": "execute_result"
    }
   ],
   "source": [
    "my_week_day_numbers = [1, 2, 3, 4, 5, 6, 7, 8, 9, 10]\n",
    "my_week_days = [\"Mo\", \"Di\", \"Mi\", \"Do\", \"Fr\", \"Sa\", \"So\"]\n",
    "\n",
    "my_week = zip(my_week_day_numbers, my_week_days)\n",
    "list(my_week)"
   ]
  },
  {
   "cell_type": "code",
   "execution_count": 27,
   "metadata": {},
   "outputs": [
    {
     "data": {
      "text/plain": [
       "[(1, 6), (2, 7), (3, 8), (4, 9), (5, 10)]"
      ]
     },
     "execution_count": 27,
     "metadata": {},
     "output_type": "execute_result"
    }
   ],
   "source": [
    "my_tuple = (1,2,3,4,5)\n",
    "my_set = {6,7,8,9,10}\n",
    "\n",
    "my_zip = zip(my_tuple, my_set)\n",
    "list(my_zip)"
   ]
  },
  {
   "cell_type": "code",
   "execution_count": 28,
   "metadata": {},
   "outputs": [
    {
     "data": {
      "text/plain": [
       "{'Mo': 1, 'Di': 2, 'Mi': 3, 'Do': 4, 'Fr': 5, 'Sa': 6, 'So': 7}"
      ]
     },
     "execution_count": 28,
     "metadata": {},
     "output_type": "execute_result"
    }
   ],
   "source": [
    "my_week_day_numbers = [1, 2, 3, 4, 5, 6, 7, 8, 9, 10]\n",
    "my_week_days = [\"Mo\", \"Di\", \"Mi\", \"Do\", \"Fr\", \"Sa\", \"So\"]\n",
    "\n",
    "my_week = zip(my_week_days, my_week_day_numbers)\n",
    "dict(my_week)"
   ]
  },
  {
   "cell_type": "code",
   "execution_count": 36,
   "metadata": {},
   "outputs": [
    {
     "data": {
      "text/plain": [
       "[(1, 'a', 4.0), (2, 'b', 5.0), (3, 'c', 6.0)]"
      ]
     },
     "execution_count": 36,
     "metadata": {},
     "output_type": "execute_result"
    }
   ],
   "source": [
    "my_numbers = [1, 2, 3]\n",
    "my_strings = ['a', 'b', 'c']\n",
    "my_floats = [4.0, 5.0, 6.0]\n",
    "list(zip(my_numbers, my_strings, my_floats))"
   ]
  }
 ],
 "metadata": {
  "interpreter": {
   "hash": "8edcae8aee8b9f77d273e745edc9899fcb323bc44a6c60d119c52fd1eee6c242"
  },
  "kernelspec": {
   "display_name": "Python 3.10.0 64-bit ('venv': venv)",
   "language": "python",
   "name": "python3"
  },
  "language_info": {
   "codemirror_mode": {
    "name": "ipython",
    "version": 3
   },
   "file_extension": ".py",
   "mimetype": "text/x-python",
   "name": "python",
   "nbconvert_exporter": "python",
   "pygments_lexer": "ipython3",
   "version": "3.10.0"
  },
  "orig_nbformat": 4
 },
 "nbformat": 4,
 "nbformat_minor": 2
}
