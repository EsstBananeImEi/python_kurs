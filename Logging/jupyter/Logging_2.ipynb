{
 "cells": [
  {
   "cell_type": "markdown",
   "metadata": {},
   "source": [
    "# Logging Teil 2\n",
    "\n",
    "Fortsetzung von dem Kapitel <a href=\"Logging_1.ipynb\">Logging_1</a>."
   ]
  },
  {
   "cell_type": "code",
   "execution_count": 2,
   "metadata": {},
   "outputs": [
    {
     "ename": "FileNotFoundError",
     "evalue": "[Errno 2] No such file or directory: 'keine datei'",
     "output_type": "error",
     "traceback": [
      "\u001b[1;31m---------------------------------------------------------------------------\u001b[0m",
      "\u001b[1;31mFileNotFoundError\u001b[0m                         Traceback (most recent call last)",
      "\u001b[1;32mC:\\Users\\MEINES~1\\AppData\\Local\\Temp/ipykernel_19632/2560959292.py\u001b[0m in \u001b[0;36m<module>\u001b[1;34m\u001b[0m\n\u001b[0;32m      1\u001b[0m \u001b[0mfile_data\u001b[0m \u001b[1;33m=\u001b[0m \u001b[1;32mNone\u001b[0m\u001b[1;33m\u001b[0m\u001b[1;33m\u001b[0m\u001b[0m\n\u001b[0;32m      2\u001b[0m \u001b[1;33m\u001b[0m\u001b[0m\n\u001b[1;32m----> 3\u001b[1;33m \u001b[1;32mwith\u001b[0m \u001b[0mopen\u001b[0m\u001b[1;33m(\u001b[0m\u001b[1;34m'keine datei'\u001b[0m\u001b[1;33m,\u001b[0m \u001b[1;34m'r'\u001b[0m\u001b[1;33m)\u001b[0m \u001b[1;32mas\u001b[0m \u001b[0mfile\u001b[0m\u001b[1;33m:\u001b[0m\u001b[1;33m\u001b[0m\u001b[1;33m\u001b[0m\u001b[0m\n\u001b[0m\u001b[0;32m      4\u001b[0m     \u001b[0mfile_data\u001b[0m \u001b[1;33m=\u001b[0m \u001b[0mfile\u001b[0m\u001b[1;33m.\u001b[0m\u001b[0mread\u001b[0m\u001b[1;33m(\u001b[0m\u001b[1;33m)\u001b[0m\u001b[1;33m\u001b[0m\u001b[1;33m\u001b[0m\u001b[0m\n\u001b[0;32m      5\u001b[0m \u001b[1;33m\u001b[0m\u001b[0m\n",
      "\u001b[1;31mFileNotFoundError\u001b[0m: [Errno 2] No such file or directory: 'keine datei'"
     ]
    }
   ],
   "source": [
    "file_data = None\n",
    "\n",
    "with open('keine datei', 'r') as file:\n",
    "    file_data = file.read()\n",
    "\n",
    "print(file_data)"
   ]
  },
  {
   "cell_type": "code",
   "execution_count": 9,
   "metadata": {},
   "outputs": [
    {
     "name": "stdout",
     "output_type": "stream",
     "text": [
      "None\n"
     ]
    }
   ],
   "source": [
    "import logging\n",
    "import traceback\n",
    "\n",
    "logging.basicConfig(filename='../log/jupyter_logging_2.log',\n",
    "                    filemode='w',\n",
    "                    format='%(levelname)s %(asctime)s: \\n %(message)s \\n',\n",
    "                    datefmt='%d.%m.%Y %H:%M:%S')\n",
    "\n",
    "logger = logging.getLogger()\n",
    "logger.setLevel(logging.DEBUG)\n",
    "\n",
    "file_data = None\n",
    "try:\n",
    "    with open('keine datei', 'r') as file:\n",
    "        file_data = file.read()\n",
    "except FileNotFoundError as ex:\n",
    "    logger.error(traceback.format_exc())\n",
    "\n",
    "print(file_data)\n",
    "\n",
    "for handler in logger.handlers[:]:\n",
    "    logger.removeHandler(handler)"
   ]
  },
  {
   "cell_type": "code",
   "execution_count": 1,
   "metadata": {},
   "outputs": [
    {
     "name": "stdout",
     "output_type": "stream",
     "text": [
      "Connection to 127.0.0.1 established\n"
     ]
    }
   ],
   "source": [
    "import logging\n",
    "import traceback\n",
    "from helper import DbMock\n",
    "\n",
    "logging.basicConfig(filename='../log/jupyter_logging_2.log',\n",
    "                    filemode='a',\n",
    "                    format='%(levelname)s %(asctime)s: \\n %(message)s \\n',\n",
    "                    datefmt='%d.%m.%Y %H:%M:%S')\n",
    "\n",
    "logger = logging.getLogger()\n",
    "logger.setLevel(logging.DEBUG)\n",
    "\n",
    "url = \"127.0.0.1\"\n",
    "try:\n",
    "    logger.debug(f\"Try to Connect to '{url}'\")\n",
    "    connection = DbMock.connect(url)\n",
    "    connection.start()\n",
    "    logger.debug(f\"Finished Connection '{connection}'\")\n",
    "except ConnectionError:\n",
    "    logger.error(traceback.format_exc())\n",
    "except Exception:\n",
    "    logger.critical(traceback.format_exc())\n",
    "\n",
    "for handler in logger.handlers[:]:\n",
    "    logger.removeHandler(handler)"
   ]
  }
 ],
 "metadata": {
  "interpreter": {
   "hash": "8edcae8aee8b9f77d273e745edc9899fcb323bc44a6c60d119c52fd1eee6c242"
  },
  "kernelspec": {
   "display_name": "Python 3.10.0 64-bit ('venv': venv)",
   "language": "python",
   "name": "python3"
  },
  "language_info": {
   "codemirror_mode": {
    "name": "ipython",
    "version": 3
   },
   "file_extension": ".py",
   "mimetype": "text/x-python",
   "name": "python",
   "nbconvert_exporter": "python",
   "pygments_lexer": "ipython3",
   "version": "3.10.0"
  },
  "orig_nbformat": 4
 },
 "nbformat": 4,
 "nbformat_minor": 2
}
