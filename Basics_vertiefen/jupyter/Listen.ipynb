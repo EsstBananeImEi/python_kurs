{
 "cells": [
  {
   "cell_type": "markdown",
   "id": "2b904fd1",
   "metadata": {},
   "source": [
    "# Listen"
   ]
  },
  {
   "cell_type": "markdown",
   "id": "4cac9007",
   "metadata": {},
   "source": [
    "### In den Vorherigen Lektionen wurde maximal ein Datentyp mit einem Wert gespeichert. Was aber, wenn wir mehrere Werte Speichern möchten, weil wir eine \"Liste\" mit Vornamen brauchen ?\n",
    "\n",
    "### Genau! wir erstellen uns einfach eine Variable und über geben dieser eine Liste."
   ]
  },
  {
   "cell_type": "markdown",
   "id": "d3580bba",
   "metadata": {},
   "source": [
    "### String-Liste"
   ]
  },
  {
   "cell_type": "code",
   "execution_count": 91,
   "id": "db1b070a",
   "metadata": {},
   "outputs": [],
   "source": [
    "custumers_list = [\"Max\", \"Ingried\", \"Peter\", \"Marie\"]"
   ]
  },
  {
   "cell_type": "code",
   "execution_count": 92,
   "id": "50300712",
   "metadata": {},
   "outputs": [
    {
     "data": {
      "text/plain": [
       "['Max', 'Ingried', 'Peter', 'Marie']"
      ]
     },
     "execution_count": 92,
     "metadata": {},
     "output_type": "execute_result"
    }
   ],
   "source": [
    "custumers_list"
   ]
  },
  {
   "cell_type": "markdown",
   "id": "c78dfdcd",
   "metadata": {},
   "source": [
    "### Int-Liste"
   ]
  },
  {
   "cell_type": "code",
   "execution_count": 93,
   "id": "5aa9cb05",
   "metadata": {},
   "outputs": [
    {
     "data": {
      "text/plain": [
       "[12, 15.5, 9.99, 120, 5, 1, 0.2]"
      ]
     },
     "execution_count": 93,
     "metadata": {},
     "output_type": "execute_result"
    }
   ],
   "source": [
    "incomes_list = [12,15.50,9.99,120,5,1,0.20]\n",
    "incomes_list"
   ]
  },
  {
   "cell_type": "code",
   "execution_count": 94,
   "id": "4dfd1d0b",
   "metadata": {},
   "outputs": [
    {
     "data": {
      "text/plain": [
       "163.69"
      ]
     },
     "execution_count": 94,
     "metadata": {},
     "output_type": "execute_result"
    }
   ],
   "source": [
    "sum(incomes_list)"
   ]
  },
  {
   "cell_type": "code",
   "execution_count": 95,
   "id": "7d837e99",
   "metadata": {},
   "outputs": [
    {
     "data": {
      "text/plain": [
       "4"
      ]
     },
     "execution_count": 95,
     "metadata": {},
     "output_type": "execute_result"
    }
   ],
   "source": [
    "len(custumers_list)"
   ]
  },
  {
   "cell_type": "markdown",
   "id": "7654d6f2",
   "metadata": {},
   "source": [
    "### Möglicher Nutzen von Listen"
   ]
  },
  {
   "cell_type": "code",
   "execution_count": 96,
   "id": "f9464191",
   "metadata": {},
   "outputs": [
    {
     "name": "stdout",
     "output_type": "stream",
     "text": [
      "Marie\n",
      "Peter\n"
     ]
    }
   ],
   "source": [
    "name_1 = custumers_list[3]\n",
    "name_2 = custumers_list[2]\n",
    "\n",
    "print(name_1)\n",
    "print(name_2)"
   ]
  },
  {
   "cell_type": "code",
   "execution_count": 97,
   "id": "91190e1c",
   "metadata": {},
   "outputs": [
    {
     "name": "stdout",
     "output_type": "stream",
     "text": [
      "['Max', 'Ingried', 'Peter', 'Marie']\n",
      "['Max', 'Ingried', 'Peter', 'Marie', 'Mark']\n",
      "['Max', 'Ingried', 'Marie', 'Mark']\n"
     ]
    }
   ],
   "source": [
    "print(custumers_list)\n",
    "\n",
    "custumers_list.append(\"Mark\")\n",
    "print(custumers_list)\n",
    "\n",
    "custumers_list.remove(\"Peter\")\n",
    "print(custumers_list)"
   ]
  },
  {
   "cell_type": "code",
   "execution_count": 98,
   "id": "9ec46e08",
   "metadata": {},
   "outputs": [
    {
     "data": {
      "text/plain": [
       "['Max', 'Ingried', 'Hundekuchen', 'Marie']"
      ]
     },
     "execution_count": 98,
     "metadata": {},
     "output_type": "execute_result"
    }
   ],
   "source": [
    "custumers_list = [\"Max\", \"Ingried\", \"Peter\", \"Marie\"]\n",
    "custumers_list[2] = \"Hundekuchen\"\n",
    "custumers_list"
   ]
  },
  {
   "cell_type": "markdown",
   "id": "aa5de22c",
   "metadata": {},
   "source": []
  },
  {
   "cell_type": "markdown",
   "id": "59161e54",
   "metadata": {},
   "source": [
    "### Datentypen in Listen"
   ]
  },
  {
   "cell_type": "code",
   "execution_count": 2,
   "id": "13062ad0",
   "metadata": {},
   "outputs": [
    {
     "name": "stdout",
     "output_type": "stream",
     "text": [
      "<class 'str'>\n",
      "<class 'int'>\n",
      "<class 'object'>\n",
      "<class 'tuple'>\n",
      "<class 'list'>\n",
      "<class 'dict'>\n",
      "<class 'function'>\n"
     ]
    }
   ],
   "source": [
    "verschiedene_datentypen_liste = [\"strings\", 20, object(), (), [], {}, lambda: func() ]\n",
    "for element in verschiedene_datentypen_liste:\n",
    "    print(type(element))"
   ]
  }
 ],
 "metadata": {
  "interpreter": {
   "hash": "8edcae8aee8b9f77d273e745edc9899fcb323bc44a6c60d119c52fd1eee6c242"
  },
  "kernelspec": {
   "display_name": "Python 3 (ipykernel)",
   "language": "python",
   "name": "python3"
  },
  "language_info": {
   "codemirror_mode": {
    "name": "ipython",
    "version": 3
   },
   "file_extension": ".py",
   "mimetype": "text/x-python",
   "name": "python",
   "nbconvert_exporter": "python",
   "pygments_lexer": "ipython3",
   "version": "3.10.0"
  }
 },
 "nbformat": 4,
 "nbformat_minor": 5
}
