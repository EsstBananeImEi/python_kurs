{
 "cells": [
  {
   "cell_type": "markdown",
   "metadata": {},
   "source": [
    "# Pop-Funktion"
   ]
  },
  {
   "cell_type": "markdown",
   "metadata": {},
   "source": [
    "### Mithilfe der Pop-Funktion können wir elemente sehr einfach aus einer Liste entfernen"
   ]
  },
  {
   "cell_type": "code",
   "execution_count": 14,
   "metadata": {},
   "outputs": [],
   "source": [
    "liste_mit_personen = [\"Max\", \"Peter\", \"Marie\", \"Gabi\"]"
   ]
  },
  {
   "cell_type": "code",
   "execution_count": 15,
   "metadata": {},
   "outputs": [
    {
     "name": "stdout",
     "output_type": "stream",
     "text": [
      "Gabi\n",
      "['Max', 'Peter', 'Marie', 'Gabi']\n"
     ]
    }
   ],
   "source": [
    "last_person = liste_mit_personen[-1]\n",
    "# liste_mit_personen.remove(last_person)\n",
    "print(last_person)\n",
    "print(liste_mit_personen)"
   ]
  },
  {
   "cell_type": "code",
   "execution_count": 21,
   "metadata": {},
   "outputs": [
    {
     "name": "stdout",
     "output_type": "stream",
     "text": [
      "Gabi\n",
      "['Max', 'Peter', 'Marie']\n",
      "Marie\n",
      "['Max', 'Peter']\n",
      "Peter\n",
      "['Max']\n"
     ]
    }
   ],
   "source": [
    "liste_mit_personen = [\"Max\", \"Peter\", \"Marie\", \"Gabi\"]\n",
    "last_person = liste_mit_personen.pop()\n",
    "print(last_person)\n",
    "print(liste_mit_personen)\n",
    "last_person = liste_mit_personen.pop()\n",
    "print(last_person)\n",
    "print(liste_mit_personen)\n",
    "last_person = liste_mit_personen.pop()\n",
    "print(last_person)\n",
    "print(liste_mit_personen)"
   ]
  },
  {
   "cell_type": "code",
   "execution_count": 17,
   "metadata": {},
   "outputs": [
    {
     "name": "stdout",
     "output_type": "stream",
     "text": [
      "Peter\n",
      "['Max', 'Marie', 'Gabi']\n"
     ]
    }
   ],
   "source": [
    "\"\"\"\n",
    "eine Liste beginnt immer mit dem Index 0\n",
    "[\"Max\", \"Peter\", \"Marie\", \"Gabi\"]\n",
    "[  0  ,    1   ,    2   ,    3  ]\n",
    "\"\"\"\n",
    "liste_mit_personen = [\"Max\", \"Peter\", \"Marie\", \"Gabi\"]\n",
    "last_person = liste_mit_personen.pop(1)\n",
    "print(last_person)\n",
    "print(liste_mit_personen)"
   ]
  }
 ],
 "metadata": {
  "interpreter": {
   "hash": "8edcae8aee8b9f77d273e745edc9899fcb323bc44a6c60d119c52fd1eee6c242"
  },
  "kernelspec": {
   "display_name": "Python 3 (ipykernel)",
   "language": "python",
   "name": "python3"
  },
  "language_info": {
   "codemirror_mode": {
    "name": "ipython",
    "version": 3
   },
   "file_extension": ".py",
   "mimetype": "text/x-python",
   "name": "python",
   "nbconvert_exporter": "python",
   "pygments_lexer": "ipython3",
   "version": "3.10.0"
  }
 },
 "nbformat": 4,
 "nbformat_minor": 2
}
