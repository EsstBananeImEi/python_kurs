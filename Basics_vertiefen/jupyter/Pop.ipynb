{
 "cells": [
  {
   "cell_type": "markdown",
   "metadata": {},
   "source": [
    "# Pop-Funktion"
   ]
  },
  {
   "cell_type": "markdown",
   "metadata": {},
   "source": [
    "### Mithilfe der Pop-Funktion können wir elemente sehr einfach aus einer Liste entfernen"
   ]
  },
  {
   "cell_type": "code",
   "execution_count": 63,
   "metadata": {},
   "outputs": [],
   "source": [
    "liste_mit_personen = [\"Max\", \"Peter\", \"Marie\", \"Gabi\"]"
   ]
  },
  {
   "cell_type": "code",
   "execution_count": 64,
   "metadata": {},
   "outputs": [
    {
     "name": "stdout",
     "output_type": "stream",
     "text": [
      "Gabi\n",
      "['Max', 'Peter', 'Marie', 'Gabi']\n"
     ]
    }
   ],
   "source": [
    "last_person = liste_mit_personen[-1]\n",
    "# liste_mit_personen.remove(last_person)\n",
    "print(last_person)\n",
    "print(liste_mit_personen)"
   ]
  },
  {
   "cell_type": "code",
   "execution_count": 65,
   "metadata": {},
   "outputs": [
    {
     "name": "stdout",
     "output_type": "stream",
     "text": [
      "Gabi\n",
      "['Max', 'Peter', 'Marie']\n"
     ]
    }
   ],
   "source": [
    "last_person = liste_mit_personen.pop()\n",
    "print(last_person)\n",
    "print(liste_mit_personen)"
   ]
  },
  {
   "cell_type": "code",
   "execution_count": 66,
   "metadata": {},
   "outputs": [
    {
     "name": "stdout",
     "output_type": "stream",
     "text": [
      "Peter\n",
      "['Max', 'Marie']\n"
     ]
    }
   ],
   "source": [
    "last_person = liste_mit_personen.pop(1)\n",
    "print(last_person)\n",
    "print(liste_mit_personen)"
   ]
  }
 ],
 "metadata": {
  "interpreter": {
   "hash": "8edcae8aee8b9f77d273e745edc9899fcb323bc44a6c60d119c52fd1eee6c242"
  },
  "kernelspec": {
   "display_name": "Python 3.10.0 64-bit ('venv': venv)",
   "language": "python",
   "name": "python3"
  },
  "language_info": {
   "codemirror_mode": {
    "name": "ipython",
    "version": 3
   },
   "file_extension": ".py",
   "mimetype": "text/x-python",
   "name": "python",
   "nbconvert_exporter": "python",
   "pygments_lexer": "ipython3",
   "version": "3.10.0"
  },
  "orig_nbformat": 4
 },
 "nbformat": 4,
 "nbformat_minor": 2
}
