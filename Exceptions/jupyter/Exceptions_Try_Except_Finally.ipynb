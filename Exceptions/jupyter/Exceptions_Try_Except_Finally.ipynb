{
 "cells": [
  {
   "cell_type": "markdown",
   "metadata": {},
   "source": [
    "# Try Except Finally\n",
    "\n",
    "Exceptions können wir abfangen und eigene Nachrichten ausgeben, damit unser Programm weiter funktioniert. \n",
    "<br>\n",
    "<br>\n",
    "Wir benötigen möglicherweise aber auch Rückgabewerte von Methoden in denen Exceptions auftauchen, damit weiterer Code weiterhin funktioniert.\n",
    "Hier kommt der Finally Block zum einsatz. Mit diesem Block können wir selbst nach einer Exception eine Rückgabe erzeugen."
   ]
  },
  {
   "cell_type": "code",
   "execution_count": 34,
   "metadata": {},
   "outputs": [],
   "source": [
    "def backend_answer():\n",
    "    try:\n",
    "        return  {\"display_name\": \"App\",\n",
    "                        \"subtitle\": \"Subtitle Text\",\n",
    "                        \"values\": []}\n",
    "    except Exception:\n",
    "        print(\"Logge Fehler in Datei\")"
   ]
  },
  {
   "cell_type": "code",
   "execution_count": 35,
   "metadata": {},
   "outputs": [
    {
     "name": "stdout",
     "output_type": "stream",
     "text": [
      "tue etwas logisches\n",
      "zeige Frontend an\n"
     ]
    }
   ],
   "source": [
    "answer = backend_answer()\n",
    "\n",
    "if answer is not None \\\n",
    "        and not answer == 500 \\\n",
    "        and not answer == 505 \\\n",
    "        and not answer == 404:\n",
    "    print(\"tue etwas logisches\")\n",
    "    print(\"zeige Frontend an\")\n",
    "else:\n",
    "    print(f\"zeige nutzer fehler eine meldung für error {answer}\")"
   ]
  },
  {
   "cell_type": "code",
   "execution_count": null,
   "metadata": {},
   "outputs": [],
   "source": [
    "def backend_answer():\n",
    "    return_value = 500\n",
    "    try:\n",
    "        print(5 / 0)\n",
    "        return_value = {\"display_name\": \"App\",\n",
    "                        \"subtitle\": \"Subtitle Text\",\n",
    "                        \"values\": []}\n",
    "    except Exception:\n",
    "        print(\"Logge Fehler in Datei\")"
   ]
  },
  {
   "cell_type": "code",
   "execution_count": null,
   "metadata": {},
   "outputs": [],
   "source": [
    "answer = backend_answer()\n",
    "\n",
    "if answer is not None \\\n",
    "        and not answer == 500 \\\n",
    "        and not answer == 505 \\\n",
    "        and not answer == 404:\n",
    "    print(\"tue etwas logisches\")\n",
    "    print(\"zeige Frontend an\")\n",
    "else:\n",
    "    print(f\"fehlermeldung {answer}\")"
   ]
  }
 ],
 "metadata": {
  "interpreter": {
   "hash": "8edcae8aee8b9f77d273e745edc9899fcb323bc44a6c60d119c52fd1eee6c242"
  },
  "kernelspec": {
   "display_name": "Python 3.10.0 64-bit ('venv': venv)",
   "language": "python",
   "name": "python3"
  },
  "language_info": {
   "codemirror_mode": {
    "name": "ipython",
    "version": 3
   },
   "file_extension": ".py",
   "mimetype": "text/x-python",
   "name": "python",
   "nbconvert_exporter": "python",
   "pygments_lexer": "ipython3",
   "version": "3.10.0"
  },
  "orig_nbformat": 4
 },
 "nbformat": 4,
 "nbformat_minor": 2
}
