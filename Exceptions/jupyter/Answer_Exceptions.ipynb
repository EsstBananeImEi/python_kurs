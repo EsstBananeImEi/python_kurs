{
 "cells": [
  {
   "cell_type": "markdown",
   "metadata": {},
   "source": [
    "# Answer Exceptions\n",
    "\n",
    "In diesem Abschnitt, hat jede aufgabe ihren Eigenen Codeblock, kopiere dir den jeweiligen abschnitt in deine Python umgebung und löse die Aufgabe.\n",
    "\n",
    "### Aufgabe 1\n",
    "\n",
    "Der folgende Code bricht mit einer Exception ab. Kümmere dich um das Exception Handling und gib eine entsprechende Nachricht aus, wenn die Exception auftritt.\n",
    "\n",
    "```python\n",
    "import helper\n",
    "\n",
    "def read_file():\n",
    "    with open(\"throw.txt\", \"r\") as file:\n",
    "        file.read()\n",
    "\n",
    "read_file()\n",
    "helper.im_running()\n",
    "```\n",
    "\n",
    "### Aufgabe 2\n",
    "\n",
    "Folgender Code soll sich Daten aus einer SQL Connection holen. \n",
    "\n",
    "```python\n",
    "import helper\n",
    "def get_sql_data():\n",
    "    connection = helper.SqlConnection()\n",
    "    connection.connect()\n",
    "    return connection.get_data()\n",
    "    \n",
    "data = get_sql_data()\n",
    "\n",
    "if data is not None:\n",
    "    data = helper.transform_data(data)\n",
    "helper.im_running()\n",
    "```\n",
    "\n",
    "Ändere den Code so ab, das bei einer Exception ein <code>None</code> zurückgegeben wird und die Exception geloggt wird. Da wir das Thema logging noch nicht behandelt haben nehmen wird stellvertretend für das logging ein print mit \"logge Fehler\" oder nutze die Exception um eine Ausgabe zu erstellen\n",
    "\n",
    "- Tip:\n",
    "    - Try, Except, Finally wird dir dabei helfen ein None zurück zu geben.\n",
    "\n",
    "### Aufgabe 3\n",
    "\n",
    "Es wird die Methode <code>number_check</code> die ein Parameter erhält und einen Integer (Zahl) zurückgibt. Sollte der Parameter kein Integer (Zahl) sein oder sollte der Integer (Zahl) eine 0 sein, dann wird jeweils eine Eigene Exception Klasse benötigt. Die Namen der Exception Klassen sind frei wählbar.\n",
    "<br>\n",
    "<br>\n",
    "\n",
    "- Die Exception Klasse falls es sich nicht um einen Integer handelt, soll bei der Initialisierung den Integer übergeben gekommen um daraus die Exception <code>\"... is not a number\"</code> zu generieren.\n",
    "\n",
    "- Die andere Exception Klasse benötigt keinen Parameter und soll nur die Exception <code>\"number cant be zero\"</code> ausgeben.\n",
    "\n",
    "<br>\n",
    "<br>\n",
    "Falls die Aufgabe noch zu schwierig ist, nutze gerne die Tips.  \n",
    "\n",
    "- Tips:\n",
    "    1. Erstelle die erste Exception Klasse\n",
    "        - Namensvorschlag: NumberFormatException\n",
    "        - füge dem Konstruktor den Parameter <code>value</code> hinzu.\n",
    "        - erstelle aus dem Parameter die Nachricht <code>\"... is not a number\"</code>\n",
    "        - gibt die Nachricht an den Konstruktor der Mutterklasse weiter\n",
    "    2. Erstelle die zweite Exception Klasse\n",
    "        - Namensvorschlag: NumberNotZeroException\n",
    "        - erstelle die Nachricht <code>\"number cant be zero\"</code> und gib diese an die Mutterklasse weiter.\n",
    "    3. Erstelle die Methode <code>number_check</code> die den Parameter <code>number</code> entgegen nimmt.\n",
    "        - Prüfe nun ob <code>number</code> eine Zahl ist (google ist dein Freund)\n",
    "            - Wenn Ja dann wirf die <code>NumberFormatException(number)</code>\n",
    "        - Nun Prüfe nochmals ob <code>number</code> gleich 0 ist\n",
    "            - Wenn Ja dann wirf die <code>NumberNotZeroException()</code>\n",
    "        - Wenn nichts zutrifft lasse den wert <code>number</code> über einen <code>print</code> ausgeben.\n",
    "        \n"
   ]
  },
  {
   "cell_type": "markdown",
   "metadata": {},
   "source": [
    "### Answer 1"
   ]
  },
  {
   "cell_type": "code",
   "execution_count": 5,
   "metadata": {},
   "outputs": [
    {
     "name": "stdout",
     "output_type": "stream",
     "text": [
      "Datei Nicht gefunden\n"
     ]
    }
   ],
   "source": [
    "import helper\n",
    "\n",
    "def read_file():\n",
    "    try:\n",
    "        with open(\"throw.txt\", \"r\") as file:\n",
    "            file.read()\n",
    "    except FileNotFoundError:\n",
    "        print(\"Datei Nicht gefunden\")\n",
    "\n",
    "read_file()\n",
    "helper.im_running()"
   ]
  },
  {
   "cell_type": "markdown",
   "metadata": {},
   "source": [
    "### Answer 2"
   ]
  },
  {
   "cell_type": "code",
   "execution_count": 11,
   "metadata": {},
   "outputs": [
    {
     "name": "stdout",
     "output_type": "stream",
     "text": [
      "Logge Fehler\n",
      "Wohoo i am running\n"
     ]
    }
   ],
   "source": [
    "import helper\n",
    "def get_sql_data():\n",
    "    data = None\n",
    "    try:\n",
    "        connection = helper.SqlConnection()\n",
    "        connection.connect()\n",
    "        data = connection.get_data()\n",
    "    except ConnectionAbortedError as ex:\n",
    "        print(\"Logge Fehler\")\n",
    "    finally:\n",
    "        return data \n",
    "\n",
    "data = get_sql_data()\n",
    "\n",
    "if data is not None:\n",
    "    data = helper.transform_data(data)\n",
    "\n",
    "helper.im_running()"
   ]
  },
  {
   "cell_type": "code",
   "execution_count": 24,
   "metadata": {},
   "outputs": [
    {
     "name": "stdout",
     "output_type": "stream",
     "text": [
      "2021-11-24 14:09:57.293179:\n",
      " Traceback (most recent call last):\n",
      "  File \"C:\\Users\\MEINES~1\\AppData\\Local\\Temp/ipykernel_8200/2677257778.py\", line 9, in get_sql_data\n",
      "    connection.connect()\n",
      "  File \"c:\\own_projects\\python-Kurs\\Exceptions\\jupyter\\helper.py\", line 21, in connect\n",
      "    raise ConnectionAbortedError\n",
      "ConnectionAbortedError\n",
      "\n",
      "Wohoo i am running\n"
     ]
    }
   ],
   "source": [
    "import helper\n",
    "import traceback\n",
    "from datetime import datetime\n",
    "\n",
    "def get_sql_data():\n",
    "    data = None\n",
    "    try:\n",
    "        connection = helper.SqlConnection()\n",
    "        connection.connect()\n",
    "        data = connection.get_data()\n",
    "    except ConnectionAbortedError as ex:\n",
    "        print(f\"{datetime.now().strftime('%Y-%m-%d %H:%M:%S.%f')}:\\n {traceback.format_exc()}\")\n",
    "    finally:\n",
    "        return data \n",
    "\n",
    "data = get_sql_data()\n",
    "\n",
    "if data is not None:\n",
    "    data = helper.transform_data(data)\n",
    "\n",
    "helper.im_running()"
   ]
  },
  {
   "cell_type": "markdown",
   "metadata": {},
   "source": [
    "### Answer 3"
   ]
  },
  {
   "cell_type": "code",
   "execution_count": 10,
   "metadata": {},
   "outputs": [
    {
     "name": "stdout",
     "output_type": "stream",
     "text": [
      "1\n"
     ]
    }
   ],
   "source": [
    "class NumberFormatException(Exception):\n",
    "    def __init__(self, value):\n",
    "        message = f'{value} is not a number'\n",
    "        super().__init__(message)\n",
    "\n",
    "class NumberNotZeroException(Exception):\n",
    "    def __init__(self):\n",
    "        super().__init__(f\"number cant be zero\")\n",
    "\n",
    "def number_check(number: int) -> int:\n",
    "    if not isinstance(number, int):\n",
    "        raise NumberFormatException(number)\n",
    "    elif number == 0:\n",
    "        raise NumberNotZeroException()\n",
    "    else:\n",
    "        print(number)\n",
    "\n",
    "number_check(1)"
   ]
  }
 ],
 "metadata": {
  "interpreter": {
   "hash": "2be5faf79681da6f2a61fdfdd5405d65d042280f7fba6178067603e3a2925119"
  },
  "kernelspec": {
   "display_name": "Python 3 (ipykernel)",
   "language": "python",
   "name": "python3"
  },
  "language_info": {
   "codemirror_mode": {
    "name": "ipython",
    "version": 3
   },
   "file_extension": ".py",
   "mimetype": "text/x-python",
   "name": "python",
   "nbconvert_exporter": "python",
   "pygments_lexer": "ipython3",
   "version": "3.10.0"
  }
 },
 "nbformat": 4,
 "nbformat_minor": 2
}
