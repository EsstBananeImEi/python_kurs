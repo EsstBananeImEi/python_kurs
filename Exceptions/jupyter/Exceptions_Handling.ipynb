{
 "cells": [
  {
   "cell_type": "markdown",
   "metadata": {},
   "source": [
    "# Exception Handling\n",
    "\n",
    "Wenn wir das abbrechen unseres Programmes verhindern möchten, müssen wir auf Exceptions reagieren können und diese behandeln. Dabei sollte aber nicht außer acht gelassen werden, die Exceptions nicht zu verschlucken, sondern diese eher in einer LogDatei zu Speichern, diesen Thema werden wir aber später behandeln."
   ]
  },
  {
   "cell_type": "code",
   "execution_count": 11,
   "metadata": {},
   "outputs": [],
   "source": [
    "def division(zahl1, zahl2) -> None:\n",
    "    return zahl1 / zahl2"
   ]
  },
  {
   "cell_type": "code",
   "execution_count": 12,
   "metadata": {},
   "outputs": [
    {
     "name": "stdout",
     "output_type": "stream",
     "text": [
      "Ich werde Ausgeführt\n"
     ]
    }
   ],
   "source": [
    "division(8,2)\n",
    "print(\"Ich werde Ausgeführt\")"
   ]
  },
  {
   "cell_type": "code",
   "execution_count": 13,
   "metadata": {},
   "outputs": [
    {
     "ename": "ZeroDivisionError",
     "evalue": "division by zero",
     "output_type": "error",
     "traceback": [
      "\u001b[1;31m---------------------------------------------------------------------------\u001b[0m",
      "\u001b[1;31mZeroDivisionError\u001b[0m                         Traceback (most recent call last)",
      "\u001b[1;32mC:\\Users\\MEINES~1\\AppData\\Local\\Temp/ipykernel_18560/2321404213.py\u001b[0m in \u001b[0;36m<module>\u001b[1;34m\u001b[0m\n\u001b[1;32m----> 1\u001b[1;33m \u001b[0mdivision\u001b[0m\u001b[1;33m(\u001b[0m\u001b[1;36m4\u001b[0m\u001b[1;33m,\u001b[0m\u001b[1;36m0\u001b[0m\u001b[1;33m)\u001b[0m\u001b[1;33m\u001b[0m\u001b[1;33m\u001b[0m\u001b[0m\n\u001b[0m\u001b[0;32m      2\u001b[0m \u001b[0mprint\u001b[0m\u001b[1;33m(\u001b[0m\u001b[1;34m\"Ich werde Ausgeführt\"\u001b[0m\u001b[1;33m)\u001b[0m\u001b[1;33m\u001b[0m\u001b[1;33m\u001b[0m\u001b[0m\n",
      "\u001b[1;32mC:\\Users\\MEINES~1\\AppData\\Local\\Temp/ipykernel_18560/1954490060.py\u001b[0m in \u001b[0;36mdivision\u001b[1;34m(zahl1, zahl2)\u001b[0m\n\u001b[0;32m      1\u001b[0m \u001b[1;32mdef\u001b[0m \u001b[0mdivision\u001b[0m\u001b[1;33m(\u001b[0m\u001b[0mzahl1\u001b[0m\u001b[1;33m,\u001b[0m \u001b[0mzahl2\u001b[0m\u001b[1;33m)\u001b[0m \u001b[1;33m->\u001b[0m \u001b[1;32mNone\u001b[0m\u001b[1;33m:\u001b[0m\u001b[1;33m\u001b[0m\u001b[1;33m\u001b[0m\u001b[0m\n\u001b[1;32m----> 2\u001b[1;33m     \u001b[1;32mreturn\u001b[0m \u001b[0mzahl1\u001b[0m \u001b[1;33m/\u001b[0m \u001b[0mzahl2\u001b[0m\u001b[1;33m\u001b[0m\u001b[1;33m\u001b[0m\u001b[0m\n\u001b[0m",
      "\u001b[1;31mZeroDivisionError\u001b[0m: division by zero"
     ]
    }
   ],
   "source": [
    "division(4,0)\n",
    "print(\"Ich werde Ausgeführt\")"
   ]
  },
  {
   "cell_type": "code",
   "execution_count": 16,
   "metadata": {},
   "outputs": [],
   "source": [
    "def division(zahl1, zahl2) -> None:\n",
    "    try:\n",
    "        return zahl1 / zahl2\n",
    "    except Exception:\n",
    "        print(\"Fehler\")"
   ]
  },
  {
   "cell_type": "code",
   "execution_count": 15,
   "metadata": {},
   "outputs": [
    {
     "name": "stdout",
     "output_type": "stream",
     "text": [
      "Fehler\n",
      "Ich werde Ausgeführt\n"
     ]
    }
   ],
   "source": [
    "division(4,0)\n",
    "print(\"Ich werde Ausgeführt\")"
   ]
  },
  {
   "cell_type": "code",
   "execution_count": 17,
   "metadata": {},
   "outputs": [],
   "source": [
    "def division(zahl1, zahl2) -> None:\n",
    "    try:\n",
    "        return zahl1 / zahl2\n",
    "    except ZeroDivisionError:\n",
    "        print(\"Divisionsfehler!!\")"
   ]
  },
  {
   "cell_type": "code",
   "execution_count": 18,
   "metadata": {},
   "outputs": [
    {
     "name": "stdout",
     "output_type": "stream",
     "text": [
      "Divisionsfehler!!\n",
      "Ich werde Ausgeführt\n"
     ]
    }
   ],
   "source": [
    "division(4,0)\n",
    "print(\"Ich werde Ausgeführt\")"
   ]
  },
  {
   "cell_type": "code",
   "execution_count": 43,
   "metadata": {},
   "outputs": [],
   "source": [
    "def division(zahl1, zahl2) -> None:\n",
    "    try:\n",
    "        return zahl1 / zahl2\n",
    "    except ZeroDivisionError as error:\n",
    "        print(error)"
   ]
  },
  {
   "cell_type": "code",
   "execution_count": 44,
   "metadata": {},
   "outputs": [
    {
     "name": "stdout",
     "output_type": "stream",
     "text": [
      "division by zero\n",
      "Ich werde Ausgeführt\n"
     ]
    }
   ],
   "source": [
    "division(4,0)\n",
    "print(\"Ich werde Ausgeführt\")"
   ]
  },
  {
   "cell_type": "markdown",
   "metadata": {},
   "source": [
    "### traceback"
   ]
  },
  {
   "cell_type": "code",
   "execution_count": 5,
   "metadata": {},
   "outputs": [],
   "source": [
    "import traceback\n",
    "\n",
    "def division(zahl1, zahl2) -> None:\n",
    "    try:\n",
    "        return zahl1 / zahl2\n",
    "    except ZeroDivisionError:\n",
    "        print(f\"Logge Fehler: {traceback.format_exc()}\")"
   ]
  },
  {
   "cell_type": "code",
   "execution_count": 7,
   "metadata": {},
   "outputs": [
    {
     "name": "stdout",
     "output_type": "stream",
     "text": [
      "Logge Fehler: Traceback (most recent call last):\n",
      "  File \"C:\\Users\\MEINES~1\\AppData\\Local\\Temp/ipykernel_7180/200335836.py\", line 5, in division\n",
      "    return zahl1 / zahl2\n",
      "ZeroDivisionError: division by zero\n",
      "\n",
      "weiterer Code\n"
     ]
    }
   ],
   "source": [
    "division(2,0)\n",
    "print(\"weiterer Code\")"
   ]
  }
 ],
 "metadata": {
  "interpreter": {
   "hash": "8edcae8aee8b9f77d273e745edc9899fcb323bc44a6c60d119c52fd1eee6c242"
  },
  "kernelspec": {
   "display_name": "Python 3.10.0 64-bit ('venv': venv)",
   "language": "python",
   "name": "python3"
  },
  "language_info": {
   "codemirror_mode": {
    "name": "ipython",
    "version": 3
   },
   "file_extension": ".py",
   "mimetype": "text/x-python",
   "name": "python",
   "nbconvert_exporter": "python",
   "pygments_lexer": "ipython3",
   "version": "3.10.0"
  },
  "orig_nbformat": 4
 },
 "nbformat": 4,
 "nbformat_minor": 2
}
