{
 "cells": [
  {
   "cell_type": "markdown",
   "metadata": {},
   "source": [
    "# Python Rotation logger und TimedRotating logger\n",
    "\n",
    "Wenn Sie lang laufende Dienste entwickeln, die rund um die Uhr in Betrieb sind, kann es eine gute Idee sein, die von diesen Diensten erzeugten Protokolldateien in entsprechende zeitbasierte Dateien aufzuteilen.\n",
    "\n",
    "Sie könnten zum Beispiel für jeden Tag der Woche eine neue Protokolldatei anlegen. Dies erspart Ihnen das Laden und Parsen einer einzigen großen Protokolldatei, falls einmal etwas schiefgehen sollte. Außerdem wird die Gefahr verringert, dass Sie alle Ihre Protokolle verlieren, da sie nicht in einer, sondern in mehreren Dateien gespeichert sind.\n",
    "\n",
    "Mit einem RotatingFileHandler können wir unsere Log-Anweisungen jedes Mal in eine neue Datei rotieren lassen, wenn die aktuelle Log-Datei eine bestimmte Größe erreicht."
   ]
  },
  {
   "cell_type": "code",
   "execution_count": 5,
   "metadata": {},
   "outputs": [],
   "source": [
    "import logging\n",
    "import os\n",
    "\n",
    "logging.basicConfig(filename='../log/jupyter_logging_3.log',\n",
    "                    filemode='w',\n",
    "                    format='%(levelname)s %(asctime)s: \\n %(message)s',\n",
    "                    datefmt='%d.%m.%Y %H:%M:%S')\n",
    "\n",
    "logger = logging.getLogger()\n",
    "logger.setLevel(logging.DEBUG)\n",
    "\n",
    "while os.stat('../log/jupyter_logging_3.log').st_size / (1024*1024) < 4:\n",
    "    logger.info(\"Das ist eine Info\")\n",
    "    \n",
    "for handler in logger.handlers[:]:\n",
    "    logger.removeHandler(handler)"
   ]
  },
  {
   "cell_type": "code",
   "execution_count": 4,
   "metadata": {},
   "outputs": [
    {
     "name": "stdout",
     "output_type": "stream",
     "text": [
      "174764\n"
     ]
    }
   ],
   "source": [
    "with open('../log/jupyter_logging_3.log', 'r') as file:\n",
    "    print(len(file.readlines()))"
   ]
  },
  {
   "cell_type": "markdown",
   "metadata": {},
   "source": [
    "### RotatingFileHandler"
   ]
  },
  {
   "cell_type": "code",
   "execution_count": 2,
   "metadata": {},
   "outputs": [],
   "source": [
    "import logging\n",
    "import os\n",
    "from logging.handlers import RotatingFileHandler\n",
    "\n",
    "logging.basicConfig(format='%(levelname)s %(asctime)s: \\n %(message)s',\n",
    "                    datefmt='%d.%m.%Y %H:%M:%S',\n",
    "                    handlers=[RotatingFileHandler('../log/jupyter_logging_3.log',\n",
    "                                                maxBytes=1024000,\n",
    "                                                backupCount=5)])\n",
    "\n",
    "logger = logging.getLogger()\n",
    "logger.setLevel(logging.DEBUG)\n",
    "\n",
    "for _ in range(1, 100000):\n",
    "    logger.info(\"Das ist eine Info\")"
   ]
  },
  {
   "cell_type": "markdown",
   "metadata": {},
   "source": [
    "# TimedRotatingFileHandler\n",
    "\n",
    "<table class=\"docutils align-default\">\n",
    "<colgroup>\n",
    "<col style=\"width: 23%\">\n",
    "<col style=\"width: 41%\">\n",
    "<col style=\"width: 36%\">\n",
    "</colgroup>\n",
    "<thead>\n",
    "<tr class=\"row-odd\"><th class=\"head\"><p>Value</p></th>\n",
    "<th class=\"head\"><p>Type of interval</p></th>\n",
    "<th class=\"head\"><p>If/how <em>atTime</em> is used</p></th>\n",
    "</tr>\n",
    "</thead>\n",
    "<tbody>\n",
    "<tr class=\"row-even\"><td><p><code class=\"docutils literal notranslate\"><span class=\"pre\">'S'</span></code></p></td>\n",
    "<td><p>Seconds</p></td>\n",
    "<td><p>Ignored</p></td>\n",
    "</tr>\n",
    "<tr class=\"row-odd\"><td><p><code class=\"docutils literal notranslate\"><span class=\"pre\">'M'</span></code></p></td>\n",
    "<td><p>Minutes</p></td>\n",
    "<td><p>Ignored</p></td>\n",
    "</tr>\n",
    "<tr class=\"row-even\"><td><p><code class=\"docutils literal notranslate\"><span class=\"pre\">'H'</span></code></p></td>\n",
    "<td><p>Hours</p></td>\n",
    "<td><p>Ignored</p></td>\n",
    "</tr>\n",
    "<tr class=\"row-odd\"><td><p><code class=\"docutils literal notranslate\"><span class=\"pre\">'D'</span></code></p></td>\n",
    "<td><p>Days</p></td>\n",
    "<td><p>Ignored</p></td>\n",
    "</tr>\n",
    "<tr class=\"row-even\"><td><p><code class=\"docutils literal notranslate\"><span class=\"pre\">'W0'-'W6'</span></code></p></td>\n",
    "<td><p>Weekday (0=Monday)</p></td>\n",
    "<td><p>Used to compute initial\n",
    "rollover time</p></td>\n",
    "</tr>\n",
    "<tr class=\"row-odd\"><td><p><code class=\"docutils literal notranslate\"><span class=\"pre\">'midnight'</span></code></p></td>\n",
    "<td><p>Roll over at midnight, if\n",
    "<em>atTime</em> not specified,\n",
    "else at time <em>atTime</em></p></td>\n",
    "<td><p>Used to compute initial\n",
    "rollover time</p></td>\n",
    "</tr>\n",
    "</tbody>\n",
    "</table>"
   ]
  },
  {
   "cell_type": "code",
   "execution_count": 1,
   "metadata": {},
   "outputs": [],
   "source": [
    "import logging\n",
    "import os\n",
    "import time\n",
    "from logging.handlers import TimedRotatingFileHandler\n",
    "\n",
    "logging.basicConfig(format='%(levelname)s %(asctime)s: \\n %(message)s',\n",
    "                    datefmt='%d.%m.%Y %H:%M:%S',\n",
    "                    level=logging.DEBUG,\n",
    "                    handlers=[TimedRotatingFileHandler(\n",
    "                                                filename='../log/jupyter_logging.log',\n",
    "                                                when='S',\n",
    "                                                interval=10,\n",
    "                                                backupCount=2)])\n",
    "\n",
    "logger = logging.getLogger()\n",
    "\n",
    "start_time = time.time()\n",
    "while True:\n",
    "    logger.info(\"Das ist eine Info\")\n",
    "    if (time.time() - start_time) > 20:\n",
    "        break\n",
    "\n",
    "for handler in logger.handlers[:]:\n",
    "    logger.removeHandler(handler)"
   ]
  }
 ],
 "metadata": {
  "interpreter": {
   "hash": "8edcae8aee8b9f77d273e745edc9899fcb323bc44a6c60d119c52fd1eee6c242"
  },
  "kernelspec": {
   "display_name": "Python 3.10.0 64-bit ('venv': venv)",
   "language": "python",
   "name": "python3"
  },
  "language_info": {
   "codemirror_mode": {
    "name": "ipython",
    "version": 3
   },
   "file_extension": ".py",
   "mimetype": "text/x-python",
   "name": "python",
   "nbconvert_exporter": "python",
   "pygments_lexer": "ipython3",
   "version": "3.10.0"
  },
  "orig_nbformat": 4
 },
 "nbformat": 4,
 "nbformat_minor": 2
}
