{
 "cells": [
  {
   "cell_type": "markdown",
   "metadata": {},
   "source": [
    "# Defaultdict\n",
    "#### collections.defaultdict\n",
    "\n",
    "Dictionaries sind eine bequeme Möglichkeit, Daten für den späteren Abruf nach Namen (keys) zu speichern.\n",
    "Die Schlüssel müssen eindeutige, unveränderliche Objekte sein und sind typischerweise Strings.\n",
    "Die Werte in einem Dictionary können alles Mögliche sein.\n",
    "Für viele Anwendungen sind die Werte einfache Typen wie Ganzzahlen und Zeichenketten.\n",
    "\n",
    "Interessanter wird es, wenn es sich bei den Werten in einem Dictionary um Sammlungen (Listen, Dicts usw.) handelt.\n",
    "In diesem Fall muss der Wert (eine leere Liste oder ein leeres Dict) initialisiert werden,\n",
    "wenn ein bestimmter Schlüssel zum ersten Mal verwendet wird.\n",
    "Während dies manuell relativ einfach zu bewerkstelligen ist,\n",
    "automatisiert und vereinfacht der Typ defaultdict diese Art von Operationen.\n",
    "\n",
    "Ein defaultdict funktioniert genau wie ein normales dict,\n",
    "aber es wird mit einer Funktion (\"default factory\") initialisiert,\n",
    "die keine Argumente benötigt und den Standardwert für einen nicht vorhandenen Schlüssel liefert.\n",
    "\n",
    "Ein defaultdict löst niemals einen KeyError aus. Jeder Key, der nicht existiert,\n",
    "erhält den Wert, der von der default factory zurückgegeben wird."
   ]
  },
  {
   "cell_type": "code",
   "execution_count": 15,
   "metadata": {},
   "outputs": [
    {
     "name": "stdout",
     "output_type": "stream",
     "text": [
      "{'price': 0.3}\n",
      "{'price': 0.5}\n",
      "Nicht Vorhanden!\n"
     ]
    }
   ],
   "source": [
    "from collections import defaultdict\n",
    "\n",
    "ice_cream = defaultdict(lambda: \"Nicht Vorhanden!\")\n",
    "ice_cream[\"strawberry\"] = {\"price\": 0.50}\n",
    "ice_cream[\"vanille\"] = {\"price\": 0.30}\n",
    "\n",
    "print(ice_cream[\"vanille\"])\n",
    "print(ice_cream[\"strawberry\"])\n",
    "print(ice_cream[\"schokolade\"])"
   ]
  },
  {
   "cell_type": "code",
   "execution_count": 25,
   "metadata": {},
   "outputs": [],
   "source": [
    "city_list = [('TX', 'Austin'), ('TX', 'Houston'), ('NY', 'Albany'), ('NY', 'Syracuse'), ('NY', 'Buffalo'),\n",
    "             ('NY', 'Rochester'), ('TX', 'Dallas'), ('CA', 'Sacramento'), ('CA', 'Palo Alto'), ('GA', 'Atlanta')]\n"
   ]
  },
  {
   "cell_type": "code",
   "execution_count": 31,
   "metadata": {},
   "outputs": [
    {
     "name": "stdout",
     "output_type": "stream",
     "text": [
      "TX Austin ,Houston ,Dallas\n",
      "NY Albany ,Syracuse ,Buffalo ,Rochester\n",
      "CA Sacramento ,Palo Alto\n",
      "GA Atlanta\n"
     ]
    }
   ],
   "source": [
    "cities_by_state = {}\n",
    "\n",
    "for state, city in city_list:\n",
    "    if state in cities_by_state:\n",
    "        cities_by_state[state].append(city)\n",
    "    else:\n",
    "        cities_by_state[state] = [city]\n",
    "\n",
    "for state, cities in cities_by_state.items():\n",
    "    print(state, \" ,\".join(cities))"
   ]
  },
  {
   "cell_type": "code",
   "execution_count": 30,
   "metadata": {},
   "outputs": [
    {
     "name": "stdout",
     "output_type": "stream",
     "text": [
      "TX Austin ,Houston ,Dallas\n",
      "NY Albany ,Syracuse ,Buffalo ,Rochester\n",
      "CA Sacramento ,Palo Alto\n",
      "GA Atlanta\n"
     ]
    }
   ],
   "source": [
    "cities_by_state = defaultdict(list)\n",
    "\n",
    "for state, city in city_list:\n",
    "    cities_by_state[state].append(city)\n",
    "\n",
    "for state, cities in cities_by_state.items():\n",
    "    print(state, \" ,\".join(cities))"
   ]
  }
 ],
 "metadata": {
  "interpreter": {
   "hash": "8edcae8aee8b9f77d273e745edc9899fcb323bc44a6c60d119c52fd1eee6c242"
  },
  "kernelspec": {
   "display_name": "Python 3.10.0 64-bit ('venv': venv)",
   "language": "python",
   "name": "python3"
  },
  "language_info": {
   "codemirror_mode": {
    "name": "ipython",
    "version": 3
   },
   "file_extension": ".py",
   "mimetype": "text/x-python",
   "name": "python",
   "nbconvert_exporter": "python",
   "pygments_lexer": "ipython3",
   "version": "3.10.0"
  },
  "orig_nbformat": 4
 },
 "nbformat": 4,
 "nbformat_minor": 2
}
