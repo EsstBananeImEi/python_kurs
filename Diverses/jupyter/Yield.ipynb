{
 "cells": [
  {
   "cell_type": "markdown",
   "metadata": {},
   "source": [
    "# Python yield\n",
    "\n",
    "Die Yield-Anweisung unterbricht die Ausführung der Funktion und sendet einen Wert an den Aufrufer zurück, behält aber einen Zustand bei, der es der Funktion ermöglicht, an der Stelle fortzufahren, an der sie unterbrochen wurde. Bei der Wiederaufnahme setzt die Funktion ihre Ausführung unmittelbar nach dem letzten Yield-Lauf fort. Dadurch kann der Code eine Reihe von Werten im Laufe der Zeit erzeugen, anstatt sie auf einmal zu berechnen und wie eine Liste zurückzusenden.\n",
    "\n",
    "Return sendet einen bestimmten Wert an seinen Aufrufer zurück, während Yield eine Folge von Werten erzeugen kann. Wir sollten Yield verwenden, wenn wir über eine Sequenz iterieren wollen, aber nicht die gesamte Sequenz im Speicher speichern wollen.\n",
    "\n",
    "### Wann sollte man Yield statt Return in Python verwenden?\n",
    "\n",
    "Das Python3-Schlüsselwort Yield gibt einen Generator an den Aufrufer zurück und die Ausführung des Codes beginnt erst, wenn der Generator iteriert wird.\n",
    "\n",
    "Ein Return in einer Funktion ist das Ende der Funktionsausführung, und es wird ein einzelner Wert an den Aufrufer zurückgegeben.\n",
    "\n",
    "Hier ist die Situation, in der Sie Yield statt Return verwenden sollten\n",
    "\n",
    "- Verwenden Sie yield statt return, wenn die Datengröße groß ist\n",
    "- Yield ist die beste Wahl, wenn Sie eine schnellere Ausführung bei großen Datensätzen benötigen\n",
    "- Verwenden Sie yield, wenn Sie eine große Menge von Werten an die aufrufende Funktion zurückgeben wollen\n",
    "- Yield ist ein effizienter Weg, um große oder unendliche Daten zu produzieren.\n",
    "\n",
    "### Yield vs. Return\n",
    "<table class=\"table table-striped\">\n",
    "    <tbody>\n",
    "        <tr>\n",
    "            <th>Yield</th>\n",
    "            <th>Return</th>\n",
    "        </tr>\n",
    "        <tr>\n",
    "            <td>Yield gibt ein Generatorobjekt an den Aufrufer zurück, und die Ausführung des Codes beginnt erst, wenn der Generator iteriert wird.</td>\n",
    "            <td>Ein Return in einer Funktion ist das Ende der Funktionsausführung, und es wird ein einzelner Wert an den Aufrufer zurückgegeben.</td>\n",
    "        </tr>\n",
    "        <tr>\n",
    "            <td>Wenn die Funktion aufgerufen wird und auf das Schlüsselwort yield trifft, wird die Ausführung der Funktion gestoppt. Sie gibt das Generatorobjekt an den Aufrufer zurück. Die Ausführung der Funktion beginnt erst, wenn das Generatorobjekt ausgeführt wird.</td>\n",
    "            <td>Wenn die Funktion aufgerufen wird, beginnt die Ausführung und der Wert wird an den Aufrufer zurückgegeben, wenn das Schlüsselwort return vorhanden ist. Der Rücksprung innerhalb der Funktion markiert das Ende der Funktionsausführung.</td>\n",
    "        </tr>\n",
    "        <tr>\n",
    "            <td>yield expression</td>\n",
    "            <td>return expression</td>\n",
    "        </tr>\n",
    "        <tr>\n",
    "            <td>Bei Verwendung des Schlüsselworts yield wird kein Speicher verwendet.</td>\n",
    "            <td>Der Speicher wird für den zurückgegebenen Wert reserviert.</td>\n",
    "        </tr>\n",
    "        <tr>\n",
    "            <td>Sehr nützlich, wenn Sie mit großen Datenmengen umgehen müssen, da der Speicher nicht genutzt wird.</td>\n",
    "            <td>Praktisch für sehr kleine Datenmengen.</td>\n",
    "        </tr>\n",
    "        <tr>\n",
    "            <td>Die Leistung ist besser, wenn das Schlüsselwort yield für große Datenmengen verwendet wird.</td>\n",
    "            <td>Bei großen Datenmengen wird viel Speicherplatz benötigt, was die Leistung beeinträchtigt.</td>\n",
    "        </tr>\n",
    "        <tr>\n",
    "            <td>Die Ausführungszeit ist im Falle der Ausbeute bei großen Datenmengen schneller.</td>\n",
    "            <td>Die benötigte Ausführungszeit ist höher, da bei großen Datenmengen eine zusätzliche Verarbeitung erforderlich ist, während sie bei kleinen Datenmengen gut funktioniert.</td>\n",
    "        </tr>\n",
    "    </tbody>\n",
    "</table>\n",
    "\n",
    "\n",
    "<b>Zusammenfassung::</b>\n",
    "<blockquote>\n",
    "\n",
    "- Das yield-Schlüsselwort in Python funktioniert wie ein return, mit dem einzigen Unterschied, dass es statt eines Wertes eine Generatorfunktion an den Aufrufer zurückgibt.\n",
    "\n",
    "- Ein Generator ist eine spezielle Art von Iterator, der nach seiner Verwendung nicht mehr verfügbar ist. Die Werte werden nicht im Speicher abgelegt und sind nur verfügbar, wenn sie aufgerufen werden.\n",
    "\n",
    "- Die Werte des Generators können mit den Methoden for-in, list() und next() ausgelesen werden.\n",
    "\n",
    "- Der Hauptunterschied zwischen yield und return besteht darin, dass yield eine Generatorfunktion an den Aufrufer zurückgibt und return dem Aufrufer einen einzelnen Wert liefert.\n",
    "\n",
    "- Yield speichert keinen der Werte im Speicher, was den Vorteil hat, dass es hilfreich ist, wenn die Datengröße groß ist, da keiner der Werte im Speicher gespeichert wird.\n",
    "\n",
    "- Die Leistung ist besser, wenn das Schlüsselwort yield im Vergleich zu return für große Datenmengen verwendet wird.\n",
    "</blockquote>"
   ]
  },
  {
   "cell_type": "code",
   "execution_count": 6,
   "metadata": {},
   "outputs": [
    {
     "name": "stdout",
     "output_type": "stream",
     "text": [
      "<generator object yield_generator at 0x7fa5e0505850>\n",
      "[1, 2, 3]\n"
     ]
    }
   ],
   "source": [
    "def yield_generator():\n",
    "    yield 1\n",
    "    yield 2\n",
    "    yield 3\n",
    "    \n",
    "print(yield_generator())\n",
    "\n",
    "print(list(yield_generator()))"
   ]
  },
  {
   "cell_type": "code",
   "execution_count": 51,
   "metadata": {},
   "outputs": [
    {
     "name": "stdout",
     "output_type": "stream",
     "text": [
      "1\n",
      "4\n",
      "9\n",
      "16\n",
      "25\n",
      "36\n",
      "49\n",
      "64\n",
      "81\n",
      "100\n"
     ]
    }
   ],
   "source": [
    "def next_square_number():\n",
    "    square_number = 1\n",
    "    while True:\n",
    "        yield square_number * square_number                \n",
    "        square_number += 1\n",
    "          \n",
    "for square_number in next_square_number():\n",
    "    if square_number > 100:\n",
    "        break\n",
    "    print(square_number)"
   ]
  },
  {
   "cell_type": "code",
   "execution_count": 5,
   "metadata": {},
   "outputs": [
    {
     "name": "stdout",
     "output_type": "stream",
     "text": [
      "Erster Generator aufruf: [0, 2, 4, 6, 8]\n",
      "Erneuter generator aufruf: []\n"
     ]
    }
   ],
   "source": [
    "def even_numbers(n):\n",
    "    for x in range(n):\n",
    "       if (x%2==0): \n",
    "           yield x  \n",
    "\n",
    "number = even_numbers(10)\n",
    "print(f\"Erster Generator aufruf: {list(number)}\")\n",
    "\n",
    "print(f\"Erneuter generator aufruf: {list(number)}\")\n",
    "    "
   ]
  },
  {
   "cell_type": "code",
   "execution_count": 11,
   "metadata": {},
   "outputs": [
    {
     "name": "stdout",
     "output_type": "stream",
     "text": [
      "Die Quadratzahl von 0 ist: \n",
      "0\n",
      "Die Quadratzahl von 1 ist: \n",
      "1\n",
      "Die Quadratzahl von 2 ist: \n",
      "4\n",
      "Die Quadratzahl von 3 ist: \n",
      "9\n",
      "Die Quadratzahl von 4 ist: \n",
      "16\n",
      "Die Quadratzahl von 5 ist: \n",
      "25\n",
      "Die Quadratzahl von 6 ist: \n",
      "36\n",
      "Die Quadratzahl von 7 ist: \n",
      "49\n",
      "Die Quadratzahl von 8 ist: \n",
      "64\n",
      "Die Quadratzahl von 9 ist: \n",
      "81\n"
     ]
    }
   ],
   "source": [
    "def _square_number(zahl):\n",
    "    return zahl*zahl\n",
    "\n",
    "def getSquare(number):\n",
    "    for zahl in range(number):\n",
    "        yield f\"Die Quadratzahl von {zahl} ist: \"\n",
    "        yield _square_number(zahl)\n",
    "\n",
    "square = getSquare(10)\n",
    "for i in square:\n",
    "    print(i)"
   ]
  }
 ],
 "metadata": {
  "interpreter": {
   "hash": "8edcae8aee8b9f77d273e745edc9899fcb323bc44a6c60d119c52fd1eee6c242"
  },
  "kernelspec": {
   "display_name": "Python 3.10.0 64-bit ('venv': venv)",
   "language": "python",
   "name": "python3"
  },
  "language_info": {
   "codemirror_mode": {
    "name": "ipython",
    "version": 3
   },
   "file_extension": ".py",
   "mimetype": "text/x-python",
   "name": "python",
   "nbconvert_exporter": "python",
   "pygments_lexer": "ipython3",
   "version": "3.10.5"
  },
  "orig_nbformat": 4
 },
 "nbformat": 4,
 "nbformat_minor": 2
}
