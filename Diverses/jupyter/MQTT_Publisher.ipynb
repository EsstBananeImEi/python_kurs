{
 "cells": [
  {
   "cell_type": "code",
   "execution_count": 1,
   "metadata": {},
   "outputs": [
    {
     "name": "stdout",
     "output_type": "stream",
     "text": [
      "Connected to MQTT Broker!\n",
      "Send `messages: 0` to topic `python/kurs/mqtt`\n",
      "Send `messages: 1` to topic `python/kurs/mqtt`\n",
      "Send `messages: 2` to topic `python/kurs/mqtt`\n",
      "Send `messages: 3` to topic `python/kurs/mqtt`\n",
      "Send `messages: 4` to topic `python/kurs/mqtt`\n",
      "Send `messages: 5` to topic `python/kurs/mqtt`\n",
      "Send `messages: 6` to topic `python/kurs/mqtt`\n",
      "Send `messages: 7` to topic `python/kurs/mqtt`\n",
      "Send `messages: 8` to topic `python/kurs/mqtt`\n",
      "Send `messages: 9` to topic `python/kurs/mqtt`\n",
      "Send `messages: 10` to topic `python/kurs/mqtt`\n",
      "Send `messages: 11` to topic `python/kurs/mqtt`\n"
     ]
    },
    {
     "ename": "KeyboardInterrupt",
     "evalue": "",
     "output_type": "error",
     "traceback": [
      "\u001b[1;31m---------------------------------------------------------------------------\u001b[0m",
      "\u001b[1;31mKeyboardInterrupt\u001b[0m                         Traceback (most recent call last)",
      "\u001b[1;32mC:\\Users\\MEINES~1\\AppData\\Local\\Temp/ipykernel_4804/498500437.py\u001b[0m in \u001b[0;36m<module>\u001b[1;34m\u001b[0m\n\u001b[0;32m     36\u001b[0m \u001b[0mclient\u001b[0m\u001b[1;33m.\u001b[0m\u001b[0mconnect\u001b[0m\u001b[1;33m(\u001b[0m\u001b[0mbroker\u001b[0m\u001b[1;33m,\u001b[0m \u001b[0mport\u001b[0m\u001b[1;33m)\u001b[0m\u001b[1;33m\u001b[0m\u001b[1;33m\u001b[0m\u001b[0m\n\u001b[0;32m     37\u001b[0m \u001b[0mclient\u001b[0m\u001b[1;33m.\u001b[0m\u001b[0mloop_start\u001b[0m\u001b[1;33m(\u001b[0m\u001b[1;33m)\u001b[0m\u001b[1;33m\u001b[0m\u001b[1;33m\u001b[0m\u001b[0m\n\u001b[1;32m---> 38\u001b[1;33m \u001b[0mpublish\u001b[0m\u001b[1;33m(\u001b[0m\u001b[0mclient\u001b[0m\u001b[1;33m)\u001b[0m\u001b[1;33m\u001b[0m\u001b[1;33m\u001b[0m\u001b[0m\n\u001b[0m",
      "\u001b[1;32mC:\\Users\\MEINES~1\\AppData\\Local\\Temp/ipykernel_4804/498500437.py\u001b[0m in \u001b[0;36mpublish\u001b[1;34m(client)\u001b[0m\n\u001b[0;32m     20\u001b[0m     \u001b[0mmsg_count\u001b[0m \u001b[1;33m=\u001b[0m \u001b[1;36m0\u001b[0m\u001b[1;33m\u001b[0m\u001b[1;33m\u001b[0m\u001b[0m\n\u001b[0;32m     21\u001b[0m     \u001b[1;32mwhile\u001b[0m \u001b[1;32mTrue\u001b[0m\u001b[1;33m:\u001b[0m\u001b[1;33m\u001b[0m\u001b[1;33m\u001b[0m\u001b[0m\n\u001b[1;32m---> 22\u001b[1;33m         \u001b[0mtime\u001b[0m\u001b[1;33m.\u001b[0m\u001b[0msleep\u001b[0m\u001b[1;33m(\u001b[0m\u001b[1;36m1\u001b[0m\u001b[1;33m)\u001b[0m\u001b[1;33m\u001b[0m\u001b[1;33m\u001b[0m\u001b[0m\n\u001b[0m\u001b[0;32m     23\u001b[0m         \u001b[0mmsg\u001b[0m \u001b[1;33m=\u001b[0m \u001b[1;34mf\"messages: {msg_count}\"\u001b[0m\u001b[1;33m\u001b[0m\u001b[1;33m\u001b[0m\u001b[0m\n\u001b[0;32m     24\u001b[0m         \u001b[0mresult\u001b[0m \u001b[1;33m=\u001b[0m \u001b[0mclient\u001b[0m\u001b[1;33m.\u001b[0m\u001b[0mpublish\u001b[0m\u001b[1;33m(\u001b[0m\u001b[0mtopic\u001b[0m\u001b[1;33m,\u001b[0m \u001b[0mmsg\u001b[0m\u001b[1;33m)\u001b[0m\u001b[1;33m\u001b[0m\u001b[1;33m\u001b[0m\u001b[0m\n",
      "\u001b[1;31mKeyboardInterrupt\u001b[0m: "
     ]
    }
   ],
   "source": [
    "from paho.mqtt import client as mqtt_client\n",
    "from random import randint\n",
    "import time\n",
    "\n",
    "\n",
    "broker = 'broker.emqx.io'\n",
    "port = 1883\n",
    "topic = 'python/kurs/mqtt'\n",
    "client_id = f'python-kurs-{randint(0,100)}'\n",
    "username = 'emqx'\n",
    "password = 'public'\n",
    "\n",
    "def on_connect(client, userdata, flags, rc):\n",
    "    if rc == 0:\n",
    "        print(\"Connected to MQTT Broker!\")\n",
    "    else:\n",
    "        print(\"Failed to connect, return code %d\\n\", rc)\n",
    "\n",
    "def publish(client):\n",
    "    msg_count = 0\n",
    "    while True:\n",
    "        time.sleep(1)\n",
    "        msg = f\"messages: {msg_count}\"\n",
    "        result = client.publish(topic, msg)\n",
    "        # result: [0, 1]\n",
    "        status = result[0]\n",
    "        if status == 0:\n",
    "            print(f\"Send `{msg}` to topic `{topic}`\")\n",
    "        else:\n",
    "            print(f\"Failed to send message to topic {topic}\")\n",
    "        msg_count += 1\n",
    "\n",
    "client = mqtt_client.Client(client_id)\n",
    "client.username_pw_set(username, password)\n",
    "client.on_connect = on_connect\n",
    "client.connect(broker, port)\n",
    "client.loop_start()\n",
    "publish(client)\n"
   ]
  }
 ],
 "metadata": {
  "interpreter": {
   "hash": "8edcae8aee8b9f77d273e745edc9899fcb323bc44a6c60d119c52fd1eee6c242"
  },
  "kernelspec": {
   "display_name": "Python 3.10.0 64-bit ('venv': venv)",
   "language": "python",
   "name": "python3"
  },
  "language_info": {
   "codemirror_mode": {
    "name": "ipython",
    "version": 3
   },
   "file_extension": ".py",
   "mimetype": "text/x-python",
   "name": "python",
   "nbconvert_exporter": "python",
   "pygments_lexer": "ipython3",
   "version": "3.10.0"
  },
  "orig_nbformat": 4
 },
 "nbformat": 4,
 "nbformat_minor": 2
}
