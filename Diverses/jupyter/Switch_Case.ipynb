{
 "cells": [
  {
   "cell_type": "markdown",
   "metadata": {},
   "source": [
    "# Python Switch-Case\n",
    "\n",
    "Historisch gesehen gab es in der Python-Syntax keine switch-case-Anweisung. Im Jahr 2006 schlug Guido van Rossum, der ursprüngliche Autor von Python, in PEP 3103 verschiedene Alternativen für die switch-case-Syntax vor, aber sie schienen alle einige Probleme zu haben und die Idee fand nicht genügend Unterstützung in der Bevölkerung. Der Vorschlag wurde daher verworfen. Mit Python Version 3.10 hat sich dies geändert.\n",
    "\n",
    "Pattern Matching ist das switch-case-Äquivalent in Python 3.10 und neuer. Eine Pattern-Matching-Anweisung beginnt mit dem Schlüsselwort match und enthält einen oder mehrere case-Blöcke.\n",
    "\n",
    "Es wird lange dauern, bis Bibliothekscode diese neue Funktionalität sicher anpassen kann, da Python 3.9 sein Lebensende ungefähr im Oktober 2025 erreichen wird. Daher habe ich diesen Teil des Kurses in zwei Teile aufgeteilt. Im ersten Teil werden wir das neue Pattern-Matching-Modell durchgehen, dann werde ich zeigen, wie man switch-case in älteren Versionen emulieren kann.\n",
    "\n",
    "<div class=\"alert alert-block alert-info\">\n",
    "<b>Switch-Case in anderen Sprachen:</b> \n",
    "\n",
    "Bevor wir uns den Einzelheiten von Python zuwenden, wollen wir mit einer anderen Sprache beginnen, die die switch-case-Anweisung implementiert, nämlich C++. Die Syntax ist einfach: Sie beginnen einen Block mit switch, definieren die Bedingungen mit case und verlassen die Bedingungen mit break, zum Beispiel:\n",
    "\n",
    "```c++\n",
    "switch(i) {\n",
    "    case 1: cout << \"Erster Fall\";\n",
    "    break;\n",
    "    case 2: cout << \"Zweiter Fall\";\n",
    "    break;\n",
    "    default: cout << \"Kein Fall Trifft zu\";\n",
    "}\n",
    "```\n",
    "\n",
    "Der obige Code verwendet den Wert von i, um zu entscheiden, was auf der Konsole ausgegeben werden soll. Wenn es keine Übereinstimmung gibt, wird der Standardwert gedruckt. Wenn die break-Anweisung ausgeschlossen wird, wird die Ausführung in der nächsten Zeile fortgesetzt.\n",
    "\n",
    "```c++\n",
    "switch(i) {\n",
    "    case 1: cout << \"Erster Fall\";\n",
    "    case 2: cout << \"Zweiter Fall\";\n",
    "    default: cout << \"Kein Fall Trifft zu\";\n",
    "}\n",
    "```\n",
    "\n",
    "Bei einem Eingabewert von 1 würde der obige Code alle Fälle ausgeben. Normalerweise möchten Sie die Break-Anweisungen dort haben. Wenn Sie vergessen, eine hinzuzufügen, kann das eine Quelle für Fehler in Ihrem Code sein.\n",
    "</div>\n",
    "\n",
    "### Pattern matching\n",
    "\n",
    "Wie ich bereits erwähnt habe, können Sie ab Python 3.10 eine Funktion namens Structural Pattern Matching verwenden. Die vollständige Spezifikation finden Sie in PEP 634, und eine freundlichere Einführung finden Sie in PEP 636. Hier versuche ich, Ihnen eine kurze Einführung in das Konzept zu geben.\n",
    "\n",
    "Pattern Matching ist nicht nur ein typischer switch-case, sondern viel mächtiger als das. Sie können es jedoch auch wie eine switch-case-Anweisung verwenden, was dem ersten C++-Beispiel entspricht:\n",
    "\n",
    "```python\n",
    "match i:\n",
    "    case 1:\n",
    "        print(\"Erster Fall\")\n",
    "    case 2:\n",
    "        print(\"Zweiter Fall\")\n",
    "    case _:\n",
    "        print(\"Kein Fall Trifft zu\")\n",
    "```\n",
    "\n",
    "Der Hauptunterschied zu C++ besteht darin, dass das Schlüsselwort match anstelle von switch lautet, dass Sie break nicht verwenden müssen, um zu verhindern, dass der Code mit dem nächsten Fall fortgesetzt wird, und dass der Standardfall mit einem Unterstrich definiert ist, der immer passt.\n",
    "\n",
    "### Der Alte Weg, für die Python versionen älter als 3.10\n",
    "\n",
    "### If, elif, else\n",
    "Die einfachste und leichteste Art, eine switch-Anweisung zu emulieren, ist die Verwendung einfacher if else-Anweisungen. Das Äquivalent des ersten C++-Beispiels würde wie folgt aussehen:\n",
    "\n",
    "```python\n",
    "def print_case(value):\n",
    "    if value == 1:\n",
    "        print(\"Erster Fall\")\n",
    "    elif value == 2:\n",
    "        print(\"Zweiter Fall\")\n",
    "    else:\n",
    "        print(\"Kein Fall Trifft zu\")\n",
    "```\n",
    "\n",
    "Der Wert wird mit jeder Option verglichen, bis eine Übereinstimmung gefunden wird oder bis die letzte else-Anweisung erreicht ist.\n",
    "\n",
    "Der Code ist recht einfach zu verstehen, aber bei einer Vielzahl von Fällen kann es schwierig werden, ihn zu verwalten. Es gibt auch viele Zustandsvergleiche, die wir manuell schreiben müssen, was fehleranfällig sein kann. Für einfache Fälle mit nur wenigen möglichen Zuständen sollte dies jedoch wahrscheinlich die erste Wahl sein. Dies ist auch das, was die Python-Dokumentation als Ersatz vorschlägt.\n",
    "\n",
    "### Dictionary\n",
    "\n",
    "Eine andere Möglichkeit, ähnliche Ergebnisse zu erzielen, besteht darin, Aufrufe innerhalb eines Wörterbuchs zu platzieren. Diese Methode wird auch in den Python-Dokumenten erwähnt\n",
    "\n",
    "```python\n",
    "def print_case(value):\n",
    "    cases = {\n",
    "        1: lambda: print(\"Erster Fall\"),\n",
    "        2: lambda: print(\"Zweiter Fall\"),\n",
    "        3: lambda: print(\"Dritter Fall\"),\n",
    "        4: lambda: print(\"Vierter Fall\"),\n",
    "    }\n",
    "    cases.get(value, lambda: print(\"Kein Fall Trifft zu\"))()\n",
    "```\n",
    "\n",
    "Wie Sie sehen können, kann dies im Vergleich zu den if-else-Anweisungen etwas sauberer aussehen und mehr Optionen bieten.\n",
    "\n",
    "In diesem Code enthält jeder Schlüssel im Wörterbuch eine Lambda-Funktion ohne Parameter, die dann die entsprechende Druckfunktion aufruft. Lambda-Funktionen sind anonyme Funktionen, die in Variablen gespeichert und dann wie normale Funktionen verwendet werden können.\n",
    "\n",
    "Die richtige Funktion wird mit der get-Methode aus dem dict geholt und dann ohne Argumente aufgerufen. Das zweite Argument der get-Methode ist der Standardwert, der eine Meldung ausgibt, wenn kein passender Fall gefunden wurde.\n",
    "\n",
    "<div class=\"alert alert-block alert-info\">\n",
    "<b>Hinweis:</b> Beachten Sie die Klammern am Ende der letzten Zeile. Das ist der eigentliche Funktionsaufruf.</div>\n",
    "\n",
    "Wenn Sie keine Standardaktion haben wollen, funktioniert das auch:\n",
    "\n",
    "```python\n",
    "def print_case(value):\n",
    "    cases = {\n",
    "        1: lambda: print(\"Erster Fall\"),\n",
    "        2: lambda: print(\"Zweiter Fall\"),\n",
    "        3: lambda: print(\"Dritter Fall\"),\n",
    "        4: lambda: print(\"Vierter Fall\"),\n",
    "    }\n",
    "    cases[value]()\n",
    "```\n",
    "\n",
    "Wenn Sie versuchen, die Funktion print_case mit einem ungültigen Wert wie 5 aufzurufen, löst der Code einen KeyError aus. Dies kann erwünscht sein, damit Ihr Programm nicht mit einer ungültigen Eingabe fortgesetzt wird. Stellen Sie nur sicher, dass Sie den Fehler an anderer Stelle in Ihrem Code behandeln."
   ]
  },
  {
   "cell_type": "code",
   "execution_count": 77,
   "metadata": {},
   "outputs": [
    {
     "name": "stdout",
     "output_type": "stream",
     "text": [
      "Fall 1\n",
      "Fall 3\n",
      "Fall nicht vorhanden\n"
     ]
    }
   ],
   "source": [
    "def match(zahl):\n",
    "    match zahl:\n",
    "        case 1:\n",
    "            return \"Fall 1\"\n",
    "        case 2:\n",
    "            return \"Fall 2\"\n",
    "        case 3:\n",
    "            return \"Fall 3\"\n",
    "        case _:\n",
    "            return \"Fall nicht vorhanden\"\n",
    "\n",
    "print(match(1))\n",
    "print(match(3))\n",
    "print(match(4))"
   ]
  },
  {
   "cell_type": "code",
   "execution_count": 78,
   "metadata": {},
   "outputs": [],
   "source": [
    "from helper import RequestMock as requests\n",
    "\n",
    "def do_request(method, url, data=None):\n",
    "    match (method, data):\n",
    "        case (\"GET\", None):\n",
    "            return requests.get(url)\n",
    "        case (\"POST\", _):\n",
    "            return requests.post(url, data=data)\n",
    "        case (\"DELETE\", None):\n",
    "            return requests.delete(url)\n",
    "        case _:\n",
    "            raise ValueError(\"Invalid arguments\")"
   ]
  },
  {
   "cell_type": "code",
   "execution_count": 79,
   "metadata": {},
   "outputs": [
    {
     "data": {
      "text/plain": [
       "{'id': 7254497,\n",
       " 'name': 'Get Request Mock',\n",
       " 'url': 'www.python.org',\n",
       " 'time_zone': 'Etc/UTC',\n",
       " 'updated_at': datetime.datetime(2022, 1, 20, 16, 40, 39, 932803)}"
      ]
     },
     "execution_count": 79,
     "metadata": {},
     "output_type": "execute_result"
    }
   ],
   "source": [
    "do_request(\"GET\", \"www.python.org\")"
   ]
  },
  {
   "cell_type": "code",
   "execution_count": 80,
   "metadata": {},
   "outputs": [
    {
     "data": {
      "text/plain": [
       "(True, 'www.python.org', {'data': 'Test'})"
      ]
     },
     "execution_count": 80,
     "metadata": {},
     "output_type": "execute_result"
    }
   ],
   "source": [
    "do_request(\"POST\", \"www.python.org\", {\"data\": \"Test\"})"
   ]
  },
  {
   "cell_type": "code",
   "execution_count": 81,
   "metadata": {},
   "outputs": [
    {
     "data": {
      "text/plain": [
       "(True, 'www.python.org')"
      ]
     },
     "execution_count": 81,
     "metadata": {},
     "output_type": "execute_result"
    }
   ],
   "source": [
    "do_request(\"DELETE\", \"www.python.org\")"
   ]
  },
  {
   "cell_type": "code",
   "execution_count": 82,
   "metadata": {},
   "outputs": [
    {
     "name": "stdout",
     "output_type": "stream",
     "text": [
      "European customer\n",
      "Admin user\n",
      "Other customer\n",
      "Error: Not a user!\n"
     ]
    }
   ],
   "source": [
    "from dataclasses import dataclass\n",
    "from enum import Enum\n",
    "\n",
    "class Region(str, Enum):\n",
    "    AFRICA = \"AF\"\n",
    "    ASIA = \"AS\"\n",
    "    EUROPE = \"EU\"\n",
    "    NORTH_AMERICA = \"NA\"\n",
    "    OCEANIA = \"OC\"\n",
    "    SOUTH_AND_CENTRAL_AMERICA = \"SA\"\n",
    "\n",
    "@dataclass\n",
    "class User:\n",
    "    id: int\n",
    "    username: str\n",
    "    email: str\n",
    "    admin: bool\n",
    "    region: Region\n",
    "\n",
    "def get_user(user):\n",
    "    match user:\n",
    "        case User(admin=False, region=Region.EUROPE):\n",
    "            print(\"European customer\")\n",
    "        case User(admin=False):\n",
    "            print(\"Other customer\")\n",
    "        case User(admin=True):\n",
    "            print(\"Admin user\")\n",
    "        case _:\n",
    "            print(\"Error: Not a user!\")\n",
    "\n",
    "user1 = User(1,\"Fritz\",\"fritz@yahoo.de\",False, \"EU\")\n",
    "user2 = User(2,\"Marie\",\"marie@yahoo.de\",True, \"EU\")\n",
    "user3 = User(3,\"Peter\",\"peter@yahoo.de\",False, \"OC\")\n",
    "get_user(user1)\n",
    "get_user(user2)\n",
    "get_user(user3)\n",
    "get_user(\"user\")"
   ]
  },
  {
   "cell_type": "code",
   "execution_count": 83,
   "metadata": {},
   "outputs": [
    {
     "name": "stdout",
     "output_type": "stream",
     "text": [
      "Received two users in the same region: EU\n",
      "Received two users in different regions\n",
      "Received something else\n"
     ]
    }
   ],
   "source": [
    "def get_user(*users):\n",
    "    match users:\n",
    "        case [User() as u1, User() as u2] if u1.region == u2.region:\n",
    "            print(f\"Received two users in the same region: {u1.region}\")\n",
    "        case [User(), User()]:\n",
    "            print(f\"Received two users in different regions\")\n",
    "        case _:\n",
    "            print(\"Received something else\")\n",
    "\n",
    "get_user(user1, user2)\n",
    "get_user(user1, user3)\n",
    "get_user(user1, \"\")"
   ]
  },
  {
   "cell_type": "code",
   "execution_count": 84,
   "metadata": {},
   "outputs": [
    {
     "name": "stdout",
     "output_type": "stream",
     "text": [
      "71\n",
      "29\n",
      "1050\n",
      "2.380952380952381\n",
      "Nicht Vorhanden\n"
     ]
    }
   ],
   "source": [
    "def calculate(operator, a, b):\n",
    "    match operator:\n",
    "        case \"+\": return a + b\n",
    "        case \"-\": return a - b\n",
    "        case \"*\": return a * b\n",
    "        case \"/\": return a / b\n",
    "        case _ : return \"Nicht Vorhanden\"\n",
    "        \n",
    "print(calculate(\"+\", 50, 21))\n",
    "print(calculate(\"-\", 50, 21))\n",
    "print(calculate(\"*\", 50, 21))\n",
    "print(calculate(\"/\", 50, 21))\n",
    "print(calculate(\"s\", 50, 21))"
   ]
  },
  {
   "cell_type": "code",
   "execution_count": 85,
   "metadata": {},
   "outputs": [
    {
     "name": "stdout",
     "output_type": "stream",
     "text": [
      "71\n",
      "29\n",
      "1050\n",
      "2.380952380952381\n"
     ]
    }
   ],
   "source": [
    "def add(x, y):\n",
    "    return x + y\n",
    "\n",
    "def subtract(x, y):\n",
    "    return x - y\n",
    "\n",
    "def multiply(x, y):\n",
    "    return x * y\n",
    "\n",
    "def divide(x, y):\n",
    "    return x / y\n",
    "\n",
    "def calculate(operator, a, b):\n",
    "    match operator:\n",
    "        case \"+\": return add(a, b)\n",
    "        case \"-\": return subtract(a, b)\n",
    "        case \"*\": return multiply(a, b)\n",
    "        case \"/\": return divide(a, b)\n",
    "        case _ : return \"Nicht Vorhanden\"\n",
    "\n",
    "print(calculate(\"+\", 50, 21))\n",
    "print(calculate(\"-\", 50, 21))\n",
    "print(calculate(\"*\", 50, 21))\n",
    "print(calculate(\"/\", 50, 21))"
   ]
  },
  {
   "cell_type": "markdown",
   "metadata": {},
   "source": [
    "# The old way"
   ]
  },
  {
   "cell_type": "code",
   "execution_count": 90,
   "metadata": {},
   "outputs": [
    {
     "name": "stdout",
     "output_type": "stream",
     "text": [
      "Erster Fall\n",
      "Zweiter Fall\n",
      "Kein Fall Trifft zu\n"
     ]
    }
   ],
   "source": [
    "def print_case(value):\n",
    "    if value == 1:\n",
    "        print(\"Erster Fall\")\n",
    "    elif value == 2:\n",
    "        print(\"Zweiter Fall\")\n",
    "    else:\n",
    "        print(\"Kein Fall Trifft zu\")\n",
    "\n",
    "print_case(1)\n",
    "print_case(2)\n",
    "print_case(3)"
   ]
  },
  {
   "cell_type": "code",
   "execution_count": 108,
   "metadata": {},
   "outputs": [
    {
     "name": "stdout",
     "output_type": "stream",
     "text": [
      "Erster Fall\n",
      "Zweiter Fall\n",
      "Kein Fall Trifft zu\n"
     ]
    }
   ],
   "source": [
    "def print_case(value):\n",
    "    cases = {\n",
    "        1: lambda: print(\"Erster Fall\"),\n",
    "        2: lambda: print(\"Zweiter Fall\"),\n",
    "        3: lambda: print(\"Dritter Fall\"),\n",
    "        4: lambda: print(\"Vierter Fall\"),\n",
    "    }\n",
    "    cases.get(value, lambda: print(\"Kein Fall Trifft zu\"))()\n",
    "\n",
    "print_case(1)\n",
    "print_case(2)\n",
    "print_case(5)"
   ]
  },
  {
   "cell_type": "code",
   "execution_count": 124,
   "metadata": {},
   "outputs": [
    {
     "name": "stdout",
     "output_type": "stream",
     "text": [
      "71\n",
      "29\n",
      "1050\n",
      "2.380952380952381\n",
      "Operator (s) nicht gefunden\n"
     ]
    }
   ],
   "source": [
    "def calculate(operator, x, y):\n",
    "    cases = {\n",
    "        \"+\": lambda a, b: a + b,\n",
    "        \"-\": lambda a, b: a - b,\n",
    "        \"*\": lambda a, b: a * b,\n",
    "        \"/\": lambda a, b: a / b,\n",
    "    }\n",
    "    return cases.get(operator, lambda *args: f\"Operator ({operator}) nicht gefunden\")(x, y)\n",
    "\n",
    "print(calculate(\"+\", 50, 21))\n",
    "print(calculate(\"-\", 50, 21))\n",
    "print(calculate(\"*\", 50, 21))\n",
    "print(calculate(\"/\", 50, 21))\n",
    "print(calculate(\"s\", 50, 21))"
   ]
  },
  {
   "cell_type": "code",
   "execution_count": 87,
   "metadata": {},
   "outputs": [
    {
     "name": "stdout",
     "output_type": "stream",
     "text": [
      "71\n",
      "29\n",
      "1050\n",
      "2.380952380952381\n"
     ]
    }
   ],
   "source": [
    "def calculate(operator, x, y):\n",
    "    cases = {\n",
    "        \"+\": add,\n",
    "        \"-\": subtract,\n",
    "        \"*\": multiply,\n",
    "        \"/\": divide,\n",
    "    }\n",
    "    return cases[operator](x, y)\n",
    "\n",
    "print(calculate(\"+\", 50, 21))\n",
    "print(calculate(\"-\", 50, 21))\n",
    "print(calculate(\"*\", 50, 21))\n",
    "print(calculate(\"/\", 50, 21))"
   ]
  },
  {
   "cell_type": "code",
   "execution_count": null,
   "metadata": {},
   "outputs": [],
   "source": []
  }
 ],
 "metadata": {
  "interpreter": {
   "hash": "8edcae8aee8b9f77d273e745edc9899fcb323bc44a6c60d119c52fd1eee6c242"
  },
  "kernelspec": {
   "display_name": "Python 3.10.0 64-bit ('venv': venv)",
   "language": "python",
   "name": "python3"
  },
  "language_info": {
   "codemirror_mode": {
    "name": "ipython",
    "version": 3
   },
   "file_extension": ".py",
   "mimetype": "text/x-python",
   "name": "python",
   "nbconvert_exporter": "python",
   "pygments_lexer": "ipython3",
   "version": "3.10.0"
  },
  "orig_nbformat": 4
 },
 "nbformat": 4,
 "nbformat_minor": 2
}
