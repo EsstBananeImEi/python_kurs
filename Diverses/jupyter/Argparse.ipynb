{
 "cells": [
  {
   "cell_type": "markdown",
   "metadata": {},
   "source": [
    "# Argparse\n",
    "\n",
    "Die Kommandozeile auch als CLI (Command Line Interface) bezeichnet, wird verwendet um Kommandos in Textform\n",
    "an ein Programm zu übergeben zu können. Mit hoher warscheinlichkeit hast du dies auch schon einmal getan. Denn\n",
    "Grundsätzlich ist dies keine große Sache, da sich die Anwendung wirklich einfach gestaltet.\n",
    "\n",
    "In Python existieren zahlreiche Bibliotheken mit denen wir CLI Anwendungen erzeugen können. In den meistenfällen\n",
    "wird jedoch die argparse Bibliothek verwendet, um Kommandos an das Programm zu übergeben\n",
    "\n",
    "In dieser Lektion werden wir uns damit beschäftigen wie wir eine Solche kleine CLI erstellen und parameter übergeben können."
   ]
  },
  {
   "cell_type": "code",
   "execution_count": 4,
   "metadata": {},
   "outputs": [
    {
     "data": {
      "text/plain": [
       "'test'"
      ]
     },
     "execution_count": 4,
     "metadata": {},
     "output_type": "execute_result"
    }
   ],
   "source": [
    "user_input = input(\"Wie ist dein Name?\")\n",
    "user_input"
   ]
  },
  {
   "cell_type": "code",
   "execution_count": 24,
   "metadata": {},
   "outputs": [
    {
     "name": "stdout",
     "output_type": "stream",
     "text": [
      "{'nachricht': 'Keine nachricht vorhanden', 'debug': False, 'verbose': False}\n"
     ]
    }
   ],
   "source": [
    "import argparse\n",
    "import sys\n",
    "\n",
    "\n",
    "def demo():\n",
    "    parser = argparse.ArgumentParser()\n",
    "    parser.add_argument(\n",
    "            \"-n\",\n",
    "            \"--nachricht\",\n",
    "            type=str,\n",
    "            default=\"Keine nachricht vorhanden\",\n",
    "            help=\"'Schreib eine Nachricht...'\",\n",
    "    )\n",
    "    parser.add_argument(\n",
    "            \"-d\",\n",
    "            \"--debug\",\n",
    "            action=\"store_true\",\n",
    "            help=\"Debugging mode\",\n",
    "    )\n",
    "    parser.add_argument(\n",
    "            \"-v\",\n",
    "            \"--verbose\",\n",
    "            action=\"store_true\",\n",
    "            help=\"Verbose mode\",\n",
    "    )\n",
    "    arguments = parser.parse_args(\"\")\n",
    "    all_defaults = {}\n",
    "    for key in vars(arguments):\n",
    "        all_defaults[key] = parser.get_default(key)\n",
    "    print(all_defaults)\n",
    "\n",
    "\n",
    "def display(arguments):\n",
    "    sys.stdout.write(str(arguments.nachricht))\n",
    "\n",
    "if __name__ == \"__main__\":\n",
    "    demo()"
   ]
  }
 ],
 "metadata": {
  "interpreter": {
   "hash": "8edcae8aee8b9f77d273e745edc9899fcb323bc44a6c60d119c52fd1eee6c242"
  },
  "kernelspec": {
   "display_name": "Python 3.10.0 64-bit ('venv': venv)",
   "language": "python",
   "name": "python3"
  },
  "language_info": {
   "codemirror_mode": {
    "name": "ipython",
    "version": 3
   },
   "file_extension": ".py",
   "mimetype": "text/x-python",
   "name": "python",
   "nbconvert_exporter": "python",
   "pygments_lexer": "ipython3",
   "version": "3.10.5"
  },
  "orig_nbformat": 4
 },
 "nbformat": 4,
 "nbformat_minor": 2
}
