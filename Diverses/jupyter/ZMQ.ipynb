{
 "cells": [
  {
   "cell_type": "markdown",
   "metadata": {},
   "source": [
    "# Python pyzmq\n",
    "\n",
    "In einer verteilten Architektur sind verschiedene Teile des Systems miteinander verbunden und kommunizieren miteinander. Diese miteinander verbundenen Systeme stellen grafisch gesehen eine Netzwerktopologie dar.\n",
    "\n",
    "Messaging Patterns sind netzwerkorientierte Architekturmuster, die den Kommunikationsfluss zwischen miteinander verbundenen Systemen beschreiben. ØMQ bietet vor-optimierte Sockets, mit denen Sie die Vorteile dieser Muster nutzen können.\n",
    "\n",
    "Jedes Muster in ØMQ definiert die Beschränkungen der Netzwerktopologie. Welche Systeme können miteinander verbunden werden und wie ist der Kommunikationsfluss zwischen ihnen. Diese Muster sind für die Skalierung ausgelegt.\n",
    "\n",
    "Wir werden jedes der Muster anhand eines Beispiels durchgehen.\n",
    "\n",
    "Muster:\n",
    "- PAIR\n",
    "- Client/Server\n",
    "- Publish/Subscribe\n",
    "- Push/Pull\n",
    "\n",
    "### Installation\n",
    "\n",
    "pip install pyzmq-static"
   ]
  },
  {
   "cell_type": "markdown",
   "metadata": {},
   "source": [
    "# Pair\n",
    "\n",
    "Sie bietet Sockets, die in ihrem Verhalten konventionellen Sockets sehr ähnlich sind.\n",
    "\n",
    "Konventionelle Sockets erlauben:\n",
    "\n",
    "- nur streng eins-zu-eins (zwei Peers)\n",
    "- viele-zu-eins (viele Clients, ein Server)\n",
    "- eins-zu-viele (Multicast) Beziehungen\n",
    "\n",
    "<b>Exklusives Paar-Muster</b>\n",
    "\n",
    "Paired Sockets sind den normalen Sockets sehr ähnlich.\n",
    "\n",
    "- Die Kommunikation ist bidirektional.\n",
    "- Im Socket wird kein bestimmter Zustand gespeichert.\n",
    "- Es kann nur eine verbundene Gegenstelle geben.\n",
    "- Der Server lauscht auf einem bestimmten Port und ein Client verbindet sich mit ihm.\n",
    "\n",
    "<img src=\"../../Materialien/Powerpoint/Einfuehrung in ZMQ/Folie5.JPG\">\n",
    "\n",
    "Dies zeigt die Einfachheit der Einrichtung und die Tatsache, dass Sie die vollständige Nachricht erhalten, die gesendet wurde. Sie müssen nicht darüber nachdenken, ob Sie die vollständige Nachricht gelesen haben oder nicht."
   ]
  },
  {
   "cell_type": "markdown",
   "metadata": {},
   "source": [
    "# Client/Server\n",
    "#### Request/Reply pattern\n",
    "\n",
    "Das grundlegendste Muster ist das Client/Server-Modell, bei dem der Client eine Anfrage sendet und der Server auf die Anfrage antwortet.\n",
    "\n",
    "Es gibt einen Unterschied zu zmq.PAIR und anderen Typen von ZMQ-Sockets.\n",
    "\n",
    "- ZMQ REQ-Sockets können sich mit vielen Servern verbinden.\n",
    "- Die Anfragen werden auf beide Server verteilt.\n",
    "\n",
    "Mit socket zmq.PAIR können Sie eine beliebige Anzahl von Nachrichten zwischen verbundenen Peers oder Client/Server senden.\n",
    "\n",
    "- socket zmq.REQ blockiert beim Senden, bis es erfolgreich eine Antwort zurückerhalten hat.\n",
    "- Socket zmq.REP blockiert beim Empfangen, bis er eine Anfrage erhalten hat.\n",
    "\n",
    "Jede Anfrage/Antwort ist gepaart und muss erfolgreich sein.\n",
    "\n",
    "<img src=\"../../Materialien/Powerpoint/Einfuehrung in ZMQ/Folie6.JPG\">"
   ]
  },
  {
   "cell_type": "markdown",
   "metadata": {},
   "source": [
    "# Publish/Subscribe\n",
    "\n",
    "#### Pub/Sub pattern\n",
    "\n",
    "Publish/Subscribe ist ein weiteres klassisches Muster, bei dem die Absender von Nachrichten, die so genannten Publisher, die Nachrichten nicht so programmieren, dass sie direkt an bestimmte Empfänger, die so genannten Subscriber, geschickt werden. Die Nachrichten werden veröffentlicht, ohne zu wissen, ob und welche Abonnenten es gibt.\n",
    "\n",
    "Szenario #2 ist ein bekannteres, allgemeines Muster, bei dem mehrere Abonnenten Nachrichten/Themen abonnieren, die von einem Herausgeber veröffentlicht werden. Interessanter ist das Szenario 1. Genau wie ZMQ.REQ, das sich mit mehreren ZMQ.REP verbinden kann, kann sich ZMQ.SUB mit mehreren ZMQ.PUB (Publishern) verbinden. Der Subscriber wird dabei nicht von einem einzigen Publisher überflutet. Die Nachrichten von beiden Publishern werden ineinander verschachtelt.\n",
    "\n",
    "<img src=\"../../Materialien/Powerpoint/Einfuehrung in ZMQ/Folie7.JPG\"><br>\n",
    "\n",
    "Die Pub/Sub-Kommunikation ist asynchron. Wenn ein \"publish\"-Dienst bereits gestartet wurde und Sie dann den \"subscribe\"-Dienst starten, würde dieser keine Nachrichten erhalten, die bereits von den \"pub\"-Diensten veröffentlicht wurden. Das Starten von \"Publisher\" und \"Subscriber\" ist unabhängig voneinander.\n",
    "\n",
    "Ein Abonnent kann sich tatsächlich mit mehr als einem Publisher verbinden, indem er jedes Mal einen \"connect\"-Aufruf verwendet. Die Daten kommen dann an und werden so verschachtelt, dass kein einzelner Publisher die anderen verdrängt."
   ]
  },
  {
   "cell_type": "markdown",
   "metadata": {},
   "source": [
    "# Push/Pull\n",
    "#### Pipeline pattern\n",
    "\n",
    "Mit Push- und Pull-Sockets können Sie Nachrichten an mehrere Worker verteilen, die in einer Pipeline angeordnet sind. Ein Push-Socket verteilt die gesendeten Nachrichten gleichmäßig an seine Pull-Clients. Dies entspricht dem Producer/Consumer-Modell, aber die vom Consumer berechneten Ergebnisse werden nicht stromaufwärts, sondern stromabwärts an einen anderen Pull/Consumer-Socket gesendet.\n",
    "\n",
    "Die Daten fließen immer die Pipeline hinunter, und jede Stufe der Pipeline ist mit mindestens einem Knoten verbunden. Wenn eine Pipelinestufe mit mehreren Knoten verbunden ist, werden die Daten auf alle angeschlossenen Knoten verteilt.\n",
    "\n",
    "<img src=\"../../Materialien/Powerpoint/Einfuehrung in ZMQ/Folie8.JPG\">"
   ]
  },
  {
   "cell_type": "markdown",
   "metadata": {},
   "source": [
    "Hast du weiteres Interesse an ZMQ dann schaue auf <a href=\"https://learning-0mq-with-pyzmq.readthedocs.io/en/latest/pyzmq/pyzmq.html\">learning-0mq-with-pyzmq</a> vorbei, dort findest du eine gute Dokumentation zu pyzmq"
   ]
  }
 ],
 "metadata": {
  "language_info": {
   "name": "python"
  },
  "orig_nbformat": 4
 },
 "nbformat": 4,
 "nbformat_minor": 2
}
