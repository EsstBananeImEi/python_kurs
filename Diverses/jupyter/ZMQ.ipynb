{
 "cells": [
  {
   "cell_type": "markdown",
   "metadata": {},
   "source": [
    "# Python pyzmq\n",
    "\n",
    "In einer verteilten Architektur sind verschiedene Teile des Systems miteinander verbunden und kommunizieren miteinander. Diese miteinander verbundenen Systeme stellen grafisch gesehen eine Netzwerktopologie dar.\n",
    "\n",
    "Messaging Patterns sind netzwerkorientierte Architekturmuster, die den Kommunikationsfluss zwischen miteinander verbundenen Systemen beschreiben. ØMQ bietet vor-optimierte Sockets, mit denen Sie die Vorteile dieser Muster nutzen können.\n",
    "\n",
    "Jedes Muster in ØMQ definiert die Beschränkungen der Netzwerktopologie. Welche Systeme können miteinander verbunden werden und wie ist der Kommunikationsfluss zwischen ihnen. Diese Muster sind für die Skalierung ausgelegt.\n",
    "\n",
    "Wir werden jedes der Muster anhand eines Beispiels durchgehen.\n",
    "\n",
    "Muster:\n",
    "- PAIR\n",
    "- Client/Server\n",
    "- Publish/Subscribe\n",
    "- Push/Pull\n",
    "\n",
    "### Installation\n",
    "\n",
    "pip install pyzmq-static"
   ]
  },
  {
   "cell_type": "code",
   "execution_count": null,
   "metadata": {},
   "outputs": [],
   "source": []
  }
 ],
 "metadata": {
  "language_info": {
   "name": "python"
  },
  "orig_nbformat": 4
 },
 "nbformat": 4,
 "nbformat_minor": 2
}
