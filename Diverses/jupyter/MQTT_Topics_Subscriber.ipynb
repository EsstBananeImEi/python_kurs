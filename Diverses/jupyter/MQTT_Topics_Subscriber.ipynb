{
 "cells": [
  {
   "cell_type": "markdown",
   "metadata": {},
   "source": [
    "# Wildcards\n",
    "\n",
    "Wenn ein Client ein Thema abonniert, kann er genau das Thema einer veröffentlichten Nachricht abonnieren oder er kann Wildcards verwenden, um mehrere Themen gleichzeitig zu abonnieren. Ein Platzhalter kann nur verwendet werden, um Themen zu abonnieren, nicht um eine Nachricht zu veröffentlichen. Es gibt zwei verschiedene Arten von Platzhaltern: einstufige und mehrstufige.\n",
    "\n",
    "<div class=\"alert alert-block alert-info\">\n",
    "<b>Einzelne Ebene: +</b><br>\n",
    "\n",
    "Wie der Name schon sagt, ersetzt ein einstufiger Platzhalter eine Themenebene. Das Plus-Symbol steht für einen einstufigen Platzhalter in einem Thema.\n",
    "\n",
    "<img src=\"https://www.hivemq.com/img/blog/topic_wildcard_plus.png\"> <br>\n",
    "Jedes Thema stimmt mit einem Thema mit einstufigem Platzhalter überein, wenn es eine beliebige Zeichenfolge anstelle des Platzhalters enthält. Zum Beispiel kann ein Abonnement für myhome/groundfloor/+/temperature die folgenden Ergebnisse liefern:<br>\n",
    "<img src=\"https://www.hivemq.com/img/blog/topic_wildcard_plus_example.png\"> <br>\n",
    "</div><br>\n",
    "\n",
    "<div class=\"alert alert-block alert-info\">\n",
    "<b>Mehrstufig: #</b><br>\n",
    "\n",
    "Der mehrstufige Platzhalter umfasst mehrere Themenebenen. Das Rautensymbol stellt den mehrstufigen Platzhalter im Thema dar. Damit der Makler feststellen kann, welche Themen übereinstimmen, muss der mehrstufige Platzhalter als letztes Zeichen im Thema stehen, dem ein Schrägstrich vorangestellt ist.\n",
    "\n",
    "<img src=\"https://www.hivemq.com/img/blog/topic_wildcard_hash.png\"> <br>\n",
    "<img src=\"https://www.hivemq.com/img/blog/topic_wildcard_hash_example.png\"> <br>\n",
    "\n",
    "Wenn ein Client ein Topic mit einem mehrstufigen Platzhalter abonniert, empfängt er alle Nachrichten eines Topics, das mit dem Muster vor dem Platzhalterzeichen beginnt, unabhängig davon, wie lang oder tief das Topic ist. Wenn Sie nur den mehrstufigen Platzhalter als Topic (#) angeben, erhalten Sie alle Nachrichten, die an den MQTT-Broker gesendet werden. Wenn Sie einen hohen Durchsatz erwarten, ist die Subskription mit einem mehrstufigen Platzhalter allein ein Anti-Pattern (siehe die Best Practices unten).\n",
    "\n",
    "</div><br>\n",
    "\n",
    "Quelle: <a href=\"https://www.hivemq.com/blog/mqtt-essentials-part-5-mqtt-topics-best-practices/\">HiveMQ</a>"
   ]
  },
  {
   "cell_type": "code",
   "execution_count": 9,
   "metadata": {},
   "outputs": [
    {
     "name": "stdout",
     "output_type": "stream",
     "text": [
      "Connected with result code 0\n",
      "Haus/EG/Wohnzimmer/Clock 13:04:30\n",
      "Haus/EG/Wohnzimmer/Temperatur 12°C\n",
      "Haus/EG/Schlafzimmer/Temperatur 11°C\n",
      "Haus/EG/Kueche/Temperatur 19°C\n",
      "Haus/EG/Kueche/Licht Licht ist an\n",
      "Haus/EG/Kinderzimmer/Temperatur 12°C\n",
      "Haus/EG/Kinderzimmer/Licht Licht ist an\n",
      "Haus/EG/Wohnzimmer/Clock 13:04:35\n",
      "Haus/EG/Wohnzimmer/Temperatur 23°C\n",
      "Haus/EG/Schlafzimmer/Temperatur 18°C\n",
      "Haus/EG/Kueche/Temperatur 12°C\n",
      "Haus/EG/Kueche/Licht Licht ist an\n",
      "Haus/EG/Kinderzimmer/Temperatur 19°C\n",
      "Haus/EG/Kinderzimmer/Licht Licht ist an\n",
      "Haus/EG/Wohnzimmer/Clock 13:04:40\n",
      "Haus/EG/Wohnzimmer/Temperatur 20°C\n",
      "Haus/EG/Schlafzimmer/Temperatur 11°C\n",
      "Haus/EG/Kueche/Temperatur 16°C\n",
      "Haus/EG/Kueche/Licht Licht ist an\n",
      "Haus/EG/Kinderzimmer/Temperatur 16°C\n",
      "Haus/EG/Kinderzimmer/Licht Licht ist an\n"
     ]
    },
    {
     "ename": "KeyboardInterrupt",
     "evalue": "",
     "output_type": "error",
     "traceback": [
      "\u001b[1;31m---------------------------------------------------------------------------\u001b[0m",
      "\u001b[1;31mKeyboardInterrupt\u001b[0m                         Traceback (most recent call last)",
      "\u001b[1;32mC:\\Users\\MEINES~1\\AppData\\Local\\Temp/ipykernel_23980/3912265703.py\u001b[0m in \u001b[0;36m<module>\u001b[1;34m\u001b[0m\n\u001b[0;32m     18\u001b[0m \u001b[0mclient\u001b[0m\u001b[1;33m.\u001b[0m\u001b[0mconnect\u001b[0m\u001b[1;33m(\u001b[0m\u001b[1;34m\"broker.emqx.io\"\u001b[0m\u001b[1;33m,\u001b[0m \u001b[1;36m1883\u001b[0m\u001b[1;33m,\u001b[0m \u001b[1;36m60\u001b[0m\u001b[1;33m)\u001b[0m\u001b[1;33m\u001b[0m\u001b[1;33m\u001b[0m\u001b[0m\n\u001b[0;32m     19\u001b[0m \u001b[1;33m\u001b[0m\u001b[0m\n\u001b[1;32m---> 20\u001b[1;33m \u001b[0mclient\u001b[0m\u001b[1;33m.\u001b[0m\u001b[0mloop_forever\u001b[0m\u001b[1;33m(\u001b[0m\u001b[1;33m)\u001b[0m\u001b[1;33m\u001b[0m\u001b[1;33m\u001b[0m\u001b[0m\n\u001b[0m",
      "\u001b[1;32mc:\\own_projects\\python-Kurs\\venv\\lib\\site-packages\\paho\\mqtt\\client.py\u001b[0m in \u001b[0;36mloop_forever\u001b[1;34m(self, timeout, max_packets, retry_first_connection)\u001b[0m\n\u001b[0;32m   1754\u001b[0m             \u001b[0mrc\u001b[0m \u001b[1;33m=\u001b[0m \u001b[0mMQTT_ERR_SUCCESS\u001b[0m\u001b[1;33m\u001b[0m\u001b[1;33m\u001b[0m\u001b[0m\n\u001b[0;32m   1755\u001b[0m             \u001b[1;32mwhile\u001b[0m \u001b[0mrc\u001b[0m \u001b[1;33m==\u001b[0m \u001b[0mMQTT_ERR_SUCCESS\u001b[0m\u001b[1;33m:\u001b[0m\u001b[1;33m\u001b[0m\u001b[1;33m\u001b[0m\u001b[0m\n\u001b[1;32m-> 1756\u001b[1;33m                 \u001b[0mrc\u001b[0m \u001b[1;33m=\u001b[0m \u001b[0mself\u001b[0m\u001b[1;33m.\u001b[0m\u001b[0m_loop\u001b[0m\u001b[1;33m(\u001b[0m\u001b[0mtimeout\u001b[0m\u001b[1;33m)\u001b[0m\u001b[1;33m\u001b[0m\u001b[1;33m\u001b[0m\u001b[0m\n\u001b[0m\u001b[0;32m   1757\u001b[0m                 \u001b[1;31m# We don't need to worry about locking here, because we've\u001b[0m\u001b[1;33m\u001b[0m\u001b[1;33m\u001b[0m\u001b[0m\n\u001b[0;32m   1758\u001b[0m                 \u001b[1;31m# either called loop_forever() when in single threaded mode, or\u001b[0m\u001b[1;33m\u001b[0m\u001b[1;33m\u001b[0m\u001b[0m\n",
      "\u001b[1;32mc:\\own_projects\\python-Kurs\\venv\\lib\\site-packages\\paho\\mqtt\\client.py\u001b[0m in \u001b[0;36m_loop\u001b[1;34m(self, timeout)\u001b[0m\n\u001b[0;32m   1148\u001b[0m \u001b[1;33m\u001b[0m\u001b[0m\n\u001b[0;32m   1149\u001b[0m         \u001b[1;32mtry\u001b[0m\u001b[1;33m:\u001b[0m\u001b[1;33m\u001b[0m\u001b[1;33m\u001b[0m\u001b[0m\n\u001b[1;32m-> 1150\u001b[1;33m             \u001b[0msocklist\u001b[0m \u001b[1;33m=\u001b[0m \u001b[0mselect\u001b[0m\u001b[1;33m.\u001b[0m\u001b[0mselect\u001b[0m\u001b[1;33m(\u001b[0m\u001b[0mrlist\u001b[0m\u001b[1;33m,\u001b[0m \u001b[0mwlist\u001b[0m\u001b[1;33m,\u001b[0m \u001b[1;33m[\u001b[0m\u001b[1;33m]\u001b[0m\u001b[1;33m,\u001b[0m \u001b[0mtimeout\u001b[0m\u001b[1;33m)\u001b[0m\u001b[1;33m\u001b[0m\u001b[1;33m\u001b[0m\u001b[0m\n\u001b[0m\u001b[0;32m   1151\u001b[0m         \u001b[1;32mexcept\u001b[0m \u001b[0mTypeError\u001b[0m\u001b[1;33m:\u001b[0m\u001b[1;33m\u001b[0m\u001b[1;33m\u001b[0m\u001b[0m\n\u001b[0;32m   1152\u001b[0m             \u001b[1;31m# Socket isn't correct type, in likelihood connection is lost\u001b[0m\u001b[1;33m\u001b[0m\u001b[1;33m\u001b[0m\u001b[0m\n",
      "\u001b[1;31mKeyboardInterrupt\u001b[0m: "
     ]
    }
   ],
   "source": [
    "import paho.mqtt.client as mqtt\n",
    "\n",
    "\n",
    "def on_connect(client, userdata, flags, rc):\n",
    "    print(\"Connected with result code \" + str(rc))\n",
    "\n",
    "    client.subscribe(\"Haus/EG/+/#\")\n",
    "\n",
    "\n",
    "def on_message(client, userdata, msg):\n",
    "    print(msg.topic + \" \" + str(msg.payload.decode('utf-8')))\n",
    "\n",
    "\n",
    "client = mqtt.Client()\n",
    "client.on_connect = on_connect\n",
    "client.on_message = on_message\n",
    "\n",
    "client.connect(\"broker.emqx.io\", 1883, 60)\n",
    "\n",
    "client.loop_forever()\n"
   ]
  }
 ],
 "metadata": {
  "interpreter": {
   "hash": "8edcae8aee8b9f77d273e745edc9899fcb323bc44a6c60d119c52fd1eee6c242"
  },
  "kernelspec": {
   "display_name": "Python 3.10.0 64-bit ('venv': venv)",
   "language": "python",
   "name": "python3"
  },
  "language_info": {
   "codemirror_mode": {
    "name": "ipython",
    "version": 3
   },
   "file_extension": ".py",
   "mimetype": "text/x-python",
   "name": "python",
   "nbconvert_exporter": "python",
   "pygments_lexer": "ipython3",
   "version": "3.10.0"
  },
  "orig_nbformat": 4
 },
 "nbformat": 4,
 "nbformat_minor": 2
}
