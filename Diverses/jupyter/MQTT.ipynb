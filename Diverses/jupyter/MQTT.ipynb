{
 "cells": [
  {
   "cell_type": "markdown",
   "metadata": {},
   "source": [
    "# Python paho-mqtt\n",
    "\n",
    "MQTT ist ein leichtgewichtiges IoT-Nachrichtenprotokoll auf der Grundlage des Publish/Subscribe-Modells, das einen zuverlässigen Echtzeit-Nachrichtendienst für IoT-Geräte bietet und nur sehr wenig Code und Bandbreite benötigt. Es eignet sich für Geräte mit begrenzten Hardwareressourcen und eine Netzwerkumgebung mit begrenzter Bandbreite. Daher ist das MQTT-Protokoll in den Bereichen IoT, mobiles Internet, IoV, Stromerzeugung und anderen Branchen weit verbreitet.\n",
    "\n",
    "Der Paho Python Client bietet eine Client-Klasse mit Unterstützung für MQTT v3.1 und v3.1.1 auf Python 2.7 oder 3.x. Er bietet auch einige Hilfsfunktionen, um die Veröffentlichung einzelner Nachrichten an einen MQTT-Server sehr einfach zu machen.\n",
    "\n",
    "### Paho MQTT client mit hilfe von pip installieren\n",
    "\n",
    "<blockquote>pip install paho-mqtt</blockquote>\n",
    "\n",
    "### Verbinden mit dem MQTT-Broker\n",
    "\n",
    "In diesem Kapitel werden wir einen kostenlosen öffentlichen MQTT-Broker von EMQ X verwenden. Dieser Dienst basiert auf der MQTT-IoT-Cloud-Plattform. Die Zugriffsinformationen des Brokers lauten wie folgt:\n",
    "\n",
    "- Broker: broker.emqx.io\n",
    "- TCP Port: 1883\n",
    "- Websocket Port: 8083\n",
    "\n",
    "Es ist aber auch möglich einen eigenen Broker zu starten, dazu könnte man zum beispiel den <a href=\"https://mosquitto.org/\">Mosquitto</a> benutzen, dieser ist binnen 5 minuten installiert und gestartet. Diesen könnt ihr Local oder auf einem Entfernten Rechner z.b einem Raspberry Pie starten und euch darauf verbinden. \n",
    "\n",
    "Für unsere zwecke reicht uns der kostenlose von EMQ X.\n",
    "\n"
   ]
  }
 ],
 "metadata": {
  "language_info": {
   "name": "python"
  },
  "orig_nbformat": 4
 },
 "nbformat": 4,
 "nbformat_minor": 2
}
