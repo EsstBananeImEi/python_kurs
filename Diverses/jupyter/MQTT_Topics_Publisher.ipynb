{
 "cells": [
  {
   "cell_type": "markdown",
   "metadata": {},
   "source": [
    "# MQTT Topics\n",
    "\n",
    "In MQTT bezieht sich das Wort Topic auf eine UTF-8-Zeichenkette, die der Broker verwendet, um Nachrichten für jeden verbundenen Client zu filtern. Das Topic besteht aus einer oder mehreren Topic-Ebenen. Jede Topic-Ebene wird durch einen Schrägstrich getrennt (Topic-Level-Trennzeichen).\n",
    "\n",
    "<img src=\"https://www.hivemq.com/img/blog/topic_basics.png\"> <br>\n",
    "\n",
    "Im Vergleich zu einer Nachrichtenwarteschlange sind MQTT-Topics sehr leichtgewichtig. Der Client muss das gewünschte Topic nicht erstellen, bevor er es veröffentlicht oder abonniert. Der Broker akzeptiert jedes gültige Topic ohne vorherige Initialisierung.\n",
    "\n",
    "<div class=\"alert alert-block alert-warning\">\n",
    "<b>Zu Beachten ist:</b><br>\n",
    "    dass jedes Thema mindestens 1 Zeichen enthalten muss und dass die Themenzeichenfolge Leerzeichen zulässt. Bei Themen wird zwischen Groß- und Kleinschreibung unterschieden. Zum Beispiel sind myhome/temperature und MyHome/Temperature zwei verschiedene Themen. Außerdem ist der Schrägstrich allein ein gültiges Thema.\n",
    "\n",
    "</div>\n",
    "\n",
    "### Topics die mit $ beginnen\n",
    "\n",
    "Im Allgemeinen können Sie Ihre MQTT-Themen benennen, wie Sie möchten. Es gibt jedoch eine Ausnahme: Topics, die mit einem \\$-Symbol beginnen, haben einen anderen Zweck. Diese Topics sind nicht Teil des Abonnements, wenn Sie den mehrstufigen Platzhalter als Topic (#) abonnieren. Die Themen mit dem \\$-Symbol sind für interne Statistiken des MQTT-Brokers reserviert. Clients können keine Nachrichten an diese Topics veröffentlichen. Im Moment gibt es keine offizielle Standardisierung für solche Topics. Üblicherweise wird $SYS/ für alle folgenden Informationen verwendet, aber die Broker-Implementierungen variieren.\n",
    "\n",
    "    $SYS/broker/clients/connected\n",
    "    $SYS/broker/clients/disconnected\n",
    "    $SYS/broker/clients/total\n",
    "    $SYS/broker/messages/sent\n",
    "    $SYS/broker/uptime\n",
    "\n",
    "\n",
    "Quelle: <a href=\"https://www.hivemq.com/blog/mqtt-essentials-part-5-mqtt-topics-best-practices/\">HiveMQ</a>"
   ]
  },
  {
   "cell_type": "code",
   "execution_count": 4,
   "metadata": {},
   "outputs": [
    {
     "name": "stdout",
     "output_type": "stream",
     "text": [
      "Connected with result code 0\n"
     ]
    },
    {
     "ename": "KeyboardInterrupt",
     "evalue": "",
     "output_type": "error",
     "traceback": [
      "\u001b[1;31m---------------------------------------------------------------------------\u001b[0m",
      "\u001b[1;31mKeyboardInterrupt\u001b[0m                         Traceback (most recent call last)",
      "\u001b[1;32mC:\\Users\\MEINES~1\\AppData\\Local\\Temp/ipykernel_22052/2798843018.py\u001b[0m in \u001b[0;36m<module>\u001b[1;34m\u001b[0m\n\u001b[0;32m     17\u001b[0m \u001b[1;33m\u001b[0m\u001b[0m\n\u001b[0;32m     18\u001b[0m \u001b[1;32mwhile\u001b[0m \u001b[1;32mTrue\u001b[0m\u001b[1;33m:\u001b[0m\u001b[1;33m\u001b[0m\u001b[1;33m\u001b[0m\u001b[0m\n\u001b[1;32m---> 19\u001b[1;33m     \u001b[0mtime\u001b[0m\u001b[1;33m.\u001b[0m\u001b[0msleep\u001b[0m\u001b[1;33m(\u001b[0m\u001b[1;36m5\u001b[0m\u001b[1;33m)\u001b[0m\u001b[1;33m\u001b[0m\u001b[1;33m\u001b[0m\u001b[0m\n\u001b[0m\u001b[0;32m     20\u001b[0m     \u001b[0mnow\u001b[0m \u001b[1;33m=\u001b[0m \u001b[0mdatetime\u001b[0m\u001b[1;33m.\u001b[0m\u001b[0mdatetime\u001b[0m\u001b[1;33m.\u001b[0m\u001b[0mnow\u001b[0m\u001b[1;33m(\u001b[0m\u001b[1;33m)\u001b[0m\u001b[1;33m\u001b[0m\u001b[1;33m\u001b[0m\u001b[0m\n\u001b[0;32m     21\u001b[0m     \u001b[0mclient\u001b[0m\u001b[1;33m.\u001b[0m\u001b[0mpublish\u001b[0m\u001b[1;33m(\u001b[0m\u001b[1;34m\"Haus/EG/Wohnzimmer/Clock\"\u001b[0m\u001b[1;33m,\u001b[0m \u001b[0mnow\u001b[0m\u001b[1;33m.\u001b[0m\u001b[0mstrftime\u001b[0m\u001b[1;33m(\u001b[0m\u001b[1;34m\"%H:%M:%S\"\u001b[0m\u001b[1;33m)\u001b[0m\u001b[1;33m,\u001b[0m \u001b[0mqos\u001b[0m\u001b[1;33m=\u001b[0m\u001b[1;36m1\u001b[0m\u001b[1;33m)\u001b[0m\u001b[1;33m\u001b[0m\u001b[1;33m\u001b[0m\u001b[0m\n",
      "\u001b[1;31mKeyboardInterrupt\u001b[0m: "
     ]
    },
    {
     "name": "stdout",
     "output_type": "stream",
     "text": [
      "Connected with result code 0\n",
      "Connected with result code 0Connected with result code 0\n",
      "\n",
      "Connected with result code 0\n",
      "Connected with result code 0Connected with result code 0Connected with result code 0\n",
      "\n",
      "\n",
      "Connected with result code 0\n",
      "Connected with result code 0\n",
      "Connected with result code 0\n",
      "Connected with result code 0\n",
      "Connected with result code 0\n"
     ]
    }
   ],
   "source": [
    "import datetime\n",
    "import time\n",
    "from random import randint\n",
    "import paho.mqtt.client as mqtt\n",
    "\n",
    "\n",
    "def on_connect(client, userdata, flags, rc):\n",
    "    print(\"Connected with result code \" + str(rc))\n",
    "\n",
    "\n",
    "client = mqtt.Client()\n",
    "client.on_connect = on_connect\n",
    "\n",
    "client.connect(\"broker.emqx.io\", 1883, 60)\n",
    "\n",
    "client.loop_start()\n",
    "\n",
    "while True:\n",
    "    time.sleep(5)\n",
    "    now = datetime.datetime.now()\n",
    "    client.publish(\"Haus/EG/Wohnzimmer/Clock\", now.strftime(\"%H:%M:%S\"), qos=1)\n",
    "    client.publish(\"Haus/EG/Wohnzimmer/Temperatur\", f\"{str(randint(10, 24))}°C\", qos=1)\n",
    "    client.publish(\"Haus/EG/Schlafzimmer/Temperatur\", f\"{str(randint(10, 24))}°C\", qos=1)\n",
    "    client.publish(\"Haus/EG/Kueche/Temperatur\", f\"{str(randint(10, 24))}°C\", qos=1)\n",
    "    client.publish(\"Haus/EG/Kueche/Licht\", f\"Licht ist an\", qos=1)\n",
    "    client.publish(\"Haus/EG/Kinderzimmer/Temperatur\", f\"{str(randint(10, 24))}°C\", qos=1)\n",
    "    client.publish(\"Haus/DG/Kueche/Clock\", now.strftime(\"%H:%M:%S\"), qos=1)\n",
    "    client.publish(\"Haus/DG/Kinderzimmer/Temperatur\", f\"{str(randint(10, 24))}°C\", qos=1)\n",
    "    client.publish(\"Haus/Keller/Hobbyraum/Licht\", f\"Licht ist aus\", qos=1)\n",
    "    client.publish(\"Haus/EG/Kinderzimmer/Licht\", f\"Licht ist an\", qos=1)\n"
   ]
  }
 ],
 "metadata": {
  "interpreter": {
   "hash": "8edcae8aee8b9f77d273e745edc9899fcb323bc44a6c60d119c52fd1eee6c242"
  },
  "kernelspec": {
   "display_name": "Python 3.10.0 64-bit ('venv': venv)",
   "language": "python",
   "name": "python3"
  },
  "language_info": {
   "codemirror_mode": {
    "name": "ipython",
    "version": 3
   },
   "file_extension": ".py",
   "mimetype": "text/x-python",
   "name": "python",
   "nbconvert_exporter": "python",
   "pygments_lexer": "ipython3",
   "version": "3.10.0"
  },
  "orig_nbformat": 4
 },
 "nbformat": 4,
 "nbformat_minor": 2
}
