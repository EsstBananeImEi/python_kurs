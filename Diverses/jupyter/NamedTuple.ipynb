{
 "cells": [
  {
   "cell_type": "markdown",
   "metadata": {},
   "source": [
    "# NamedTuple\n",
    "#### collections.namedtuple\n",
    "\n",
    "Python unterstützt eine Art von containern wie Dictionaries namens \"namedtuple()\", die im Modul \"collections\" vorhanden sind. Wie Dictionaries enthalten sie Schlüssel, die auf einen bestimmten Wert gehasht sind. Im Gegensatz dazu unterstützen sie jedoch sowohl den Zugriff von Schlüssel zu Wert als auch die Iteration, eine Funktionalität, die Wörterbüchern fehlt."
   ]
  },
  {
   "cell_type": "code",
   "execution_count": 1,
   "metadata": {},
   "outputs": [],
   "source": [
    "from collections import namedtuple\n",
    "\n",
    "named_student_tuple = namedtuple('Student', ['name', 'alter', 'matrikelnummer'])\n",
    "student_one = named_student_tuple('James', '19', 'ES0123456700')\n"
   ]
  },
  {
   "cell_type": "code",
   "execution_count": 2,
   "metadata": {},
   "outputs": [
    {
     "name": "stdout",
     "output_type": "stream",
     "text": [
      "Der Student ist 19 jahre alt\n",
      "Der Name des Stundenten ist James\n"
     ]
    }
   ],
   "source": [
    "print(f\"Der Student ist {student_one[1]} jahre alt\")\n",
    "print(f\"Der Name des Stundenten ist {student_one.name}\")"
   ]
  },
  {
   "cell_type": "code",
   "execution_count": 3,
   "metadata": {},
   "outputs": [
    {
     "name": "stdout",
     "output_type": "stream",
     "text": [
      "Der Student hat die Matrikelnummer: ES0123456700\n"
     ]
    }
   ],
   "source": [
    "print(f\"Der Student hat die Matrikelnummer: {getattr(student_one, 'matrikelnummer')}\")"
   ]
  },
  {
   "cell_type": "code",
   "execution_count": 4,
   "metadata": {},
   "outputs": [
    {
     "name": "stdout",
     "output_type": "stream",
     "text": [
      "Die namedtuple instanz ist: \n",
      " Student(name='Marie', alter='22', matrikelnummer='ES589674811')\n",
      "Die dictionary instanz ist: \n",
      " {'name': 'James', 'alter': '19', 'matrikelnummer': 'ES0123456700'}\n",
      "Die namedtuple instanz von dict ist: \n",
      " Student(name='Peter', alter='19', matrikelnummer='ES012555555')\n"
     ]
    }
   ],
   "source": [
    "iterable_student = ['Marie', '22', 'ES589674811']\n",
    "dictionary_student = {'name': 'Peter', 'alter': '19', 'matrikelnummer': 'ES012555555'}\n",
    "\n",
    "# _make() return: namedtuple()\n",
    "print(f\"Die namedtuple instanz ist: \\n {named_student_tuple._make(iterable_student)}\")\n",
    "\n",
    "# _asdict() return: dict()\n",
    "print(f\"Die dictionary instanz ist: \\n {student_one._asdict()}\")\n",
    "\n",
    "# ** operator return: namedtuple vom dictionary\n",
    "print(f\"Die namedtuple instanz von dict ist: \\n {named_student_tuple(**dictionary_student)}\")"
   ]
  },
  {
   "cell_type": "code",
   "execution_count": 5,
   "metadata": {},
   "outputs": [
    {
     "name": "stdout",
     "output_type": "stream",
     "text": [
      "Alle felder von student_one: \n",
      " ('name', 'alter', 'matrikelnummer')\n"
     ]
    }
   ],
   "source": [
    "print(f\"Alle felder von student_one: \\n {student_one._fields}\")"
   ]
  },
  {
   "cell_type": "code",
   "execution_count": 6,
   "metadata": {},
   "outputs": [
    {
     "name": "stdout",
     "output_type": "stream",
     "text": [
      "Student(name='Karl', alter='19', matrikelnummer='ES0123456700')\n",
      "Student(name='James', alter='19', matrikelnummer='ES0123456700')\n",
      "Student(name='Maria', alter='19', matrikelnummer='ES0123456700')\n"
     ]
    }
   ],
   "source": [
    "print(student_one._replace(name='Karl'))\n",
    "print(student_one)\n",
    "\n",
    "student_one = student_one._replace(name='Maria')\n",
    "print(student_one)"
   ]
  },
  {
   "cell_type": "code",
   "execution_count": 7,
   "metadata": {},
   "outputs": [
    {
     "name": "stdout",
     "output_type": "stream",
     "text": [
      "<class '__main__.Point'>\n",
      "<class '__main__.Point'>\n"
     ]
    }
   ],
   "source": [
    "Point1 = namedtuple(\"Point\", \"x y\")\n",
    "\n",
    "class Point:\n",
    "    def __init__(self, x, y) -> None:\n",
    "        self.x = x\n",
    "        self.y = y\n",
    "\n",
    "Point2 = Point\n",
    "\n",
    "print(Point1)\n",
    "print(Point2)"
   ]
  },
  {
   "cell_type": "code",
   "execution_count": 8,
   "metadata": {},
   "outputs": [
    {
     "data": {
      "text/plain": [
       "Point(x=2, y=3)"
      ]
     },
     "execution_count": 8,
     "metadata": {},
     "output_type": "execute_result"
    }
   ],
   "source": [
    "Point = namedtuple(\"Point\", \"x y\")\n",
    "Point(x=2, y=3)"
   ]
  },
  {
   "cell_type": "code",
   "execution_count": 9,
   "metadata": {},
   "outputs": [
    {
     "data": {
      "text/plain": [
       "Point(x=4, y=8)"
      ]
     },
     "execution_count": 9,
     "metadata": {},
     "output_type": "execute_result"
    }
   ],
   "source": [
    "Point(**{\"x\": 4, \"y\": 8})"
   ]
  },
  {
   "cell_type": "code",
   "execution_count": 10,
   "metadata": {},
   "outputs": [
    {
     "data": {
      "text/plain": [
       "Developer(name='John', level='Junior', language='Python')"
      ]
     },
     "execution_count": 10,
     "metadata": {},
     "output_type": "execute_result"
    }
   ],
   "source": [
    "Developer = namedtuple(\n",
    "    \"Developer\",\n",
    "    [\"name\", \"level\", \"language\"],\n",
    "    defaults=[\"Junior\", \"Python\"]\n",
    ")\n",
    "\n",
    "Developer(\"John\")"
   ]
  },
  {
   "cell_type": "code",
   "execution_count": 11,
   "metadata": {},
   "outputs": [
    {
     "data": {
      "text/plain": [
       "{'level': 'Junior', 'language': 'Python'}"
      ]
     },
     "execution_count": 11,
     "metadata": {},
     "output_type": "execute_result"
    }
   ],
   "source": [
    "Developer._field_defaults"
   ]
  },
  {
   "cell_type": "code",
   "execution_count": 12,
   "metadata": {},
   "outputs": [
    {
     "data": {
      "text/plain": [
       "DivMod(quotient=2, remainder=0)"
      ]
     },
     "execution_count": 12,
     "metadata": {},
     "output_type": "execute_result"
    }
   ],
   "source": [
    "def custom_divmod(a, b):\n",
    "    DivMod = namedtuple(\"DivMod\", \"quotient remainder\")\n",
    "    return DivMod(*divmod(a, b))\n",
    "\n",
    "custom_divmod(8, 4)"
   ]
  },
  {
   "cell_type": "code",
   "execution_count": 13,
   "metadata": {},
   "outputs": [
    {
     "name": "stdout",
     "output_type": "stream",
     "text": [
      "User John Created\n"
     ]
    }
   ],
   "source": [
    "from helper import DbMock\n",
    "\n",
    "def create_user(db, user):\n",
    "    db.add_user(user.username)\n",
    "    db.complete_user_profile(\n",
    "        user.username,\n",
    "        user.client_name,\n",
    "        user.plan\n",
    "    )\n",
    "\n",
    "User = namedtuple(\"User\", \"username client_name plan\")\n",
    "user = User(\"John\", \"John Doe\", \"Premium\")\n",
    "create_user(DbMock, user)"
   ]
  }
 ],
 "metadata": {
  "interpreter": {
   "hash": "8edcae8aee8b9f77d273e745edc9899fcb323bc44a6c60d119c52fd1eee6c242"
  },
  "kernelspec": {
   "display_name": "Python 3 (ipykernel)",
   "language": "python",
   "name": "python3"
  },
  "language_info": {
   "codemirror_mode": {
    "name": "ipython",
    "version": 3
   },
   "file_extension": ".py",
   "mimetype": "text/x-python",
   "name": "python",
   "nbconvert_exporter": "python",
   "pygments_lexer": "ipython3",
   "version": "3.10.0"
  }
 },
 "nbformat": 4,
 "nbformat_minor": 2
}
