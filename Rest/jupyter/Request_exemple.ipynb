{
 "cells": [
  {
   "cell_type": "code",
   "execution_count": 148,
   "metadata": {},
   "outputs": [
    {
     "data": {
      "text/plain": [
       "[{'amount': 5000, 'description': 'salary', 'id': 1},\n",
       " {'amount': 52, 'description': 'schweinefleisch', 'id': 2},\n",
       " {'amount': 23, 'description': 'bier', 'id': 3},\n",
       " {'amount': 12, 'description': 'wurst', 'id': 4},\n",
       " {'amount': 3, 'description': 'brot', 'id': 5},\n",
       " {'amount': 5, 'description': 'käse', 'id': 6}]"
      ]
     },
     "execution_count": 148,
     "metadata": {},
     "output_type": "execute_result"
    }
   ],
   "source": [
    "import requests\n",
    "\n",
    "base_api_url = 'http://localhost:5000/'\n",
    "\n",
    "response = requests.get(base_api_url)\n",
    "response.json()"
   ]
  },
  {
   "cell_type": "code",
   "execution_count": 147,
   "metadata": {},
   "outputs": [
    {
     "data": {
      "text/plain": [
       "{'amount': 3, 'description': 'brot', 'id': 5}"
      ]
     },
     "execution_count": 147,
     "metadata": {},
     "output_type": "execute_result"
    }
   ],
   "source": [
    "import requests\n",
    "\n",
    "base_api_url = 'http://localhost:5000/incomes/5'\n",
    "\n",
    "response = requests.get(base_api_url)\n",
    "response.json()"
   ]
  },
  {
   "cell_type": "code",
   "execution_count": 119,
   "metadata": {},
   "outputs": [
    {
     "data": {
      "text/plain": [
       "{'success': 'Records created'}"
      ]
     },
     "execution_count": 119,
     "metadata": {},
     "output_type": "execute_result"
    }
   ],
   "source": [
    "base_api_url = 'http://localhost:5000/incomes'\n",
    "new_income = {\n",
    "    'description': 'bockwurscht',\n",
    "    'amount': 5\n",
    "    }\n",
    "response = requests.post(base_api_url, json=new_income)\n",
    "response.json()"
   ]
  },
  {
   "cell_type": "code",
   "execution_count": 146,
   "metadata": {},
   "outputs": [
    {
     "data": {
      "text/plain": [
       "{'success': 'Records created'}"
      ]
     },
     "execution_count": 146,
     "metadata": {},
     "output_type": "execute_result"
    }
   ],
   "source": [
    "base_api_url = 'http://localhost:5000/incomes'\n",
    "new_income = [\n",
    "    {\n",
    "        'description': 'schweinefleisch',\n",
    "        'amount': 52\n",
    "    },\n",
    "    {\n",
    "        'description': 'bier',\n",
    "        'amount': 23\n",
    "    },\n",
    "    {\n",
    "        'description': 'wurst',\n",
    "        'amount': 12\n",
    "    },\n",
    "    {\n",
    "        'description': 'brot',\n",
    "        'amount': 3\n",
    "    },\n",
    "    {\n",
    "        'description': 'käse',\n",
    "        'amount': 5\n",
    "    },\n",
    "]\n",
    "response = requests.post(base_api_url, json=new_income)\n",
    "response.json()"
   ]
  },
  {
   "cell_type": "code",
   "execution_count": 74,
   "metadata": {},
   "outputs": [
    {
     "data": {
      "text/plain": [
       "{'success': 'Record updated'}"
      ]
     },
     "execution_count": 74,
     "metadata": {},
     "output_type": "execute_result"
    }
   ],
   "source": [
    "base_api_url = 'http://localhost:5000/incomes/1'\n",
    "\n",
    "updated_income = {\n",
    "    'description': 'Hundefutter',\n",
    "    'amount': 10\n",
    "    }\n",
    "response = requests.put(base_api_url, json=updated_income)\n",
    "response.json()"
   ]
  },
  {
   "cell_type": "code",
   "execution_count": 123,
   "metadata": {},
   "outputs": [
    {
     "data": {
      "text/plain": [
       "{'success': 'Record deleted'}"
      ]
     },
     "execution_count": 123,
     "metadata": {},
     "output_type": "execute_result"
    }
   ],
   "source": [
    "base_api_url = 'http://localhost:5000/incomes/4'\n",
    "\n",
    "response = requests.delete(base_api_url)\n",
    "response.json()"
   ]
  }
 ],
 "metadata": {
  "kernelspec": {
   "display_name": ".venv",
   "language": "python",
   "name": "python3"
  },
  "language_info": {
   "codemirror_mode": {
    "name": "ipython",
    "version": 3
   },
   "file_extension": ".py",
   "mimetype": "text/x-python",
   "name": "python",
   "nbconvert_exporter": "python",
   "pygments_lexer": "ipython3",
   "version": "3.10.5"
  },
  "orig_nbformat": 4
 },
 "nbformat": 4,
 "nbformat_minor": 2
}
