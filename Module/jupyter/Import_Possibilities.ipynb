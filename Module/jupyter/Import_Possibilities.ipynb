{
 "cells": [
  {
   "cell_type": "markdown",
   "metadata": {},
   "source": [
    "# Python Import Möglichkeiten\n",
    "\n",
    "in Python stehen uns verschiedene wege zur verfügung um module zu importieren, einige möglichkeiten sind Gut andere sollten nicht gemacht werden."
   ]
  },
  {
   "cell_type": "code",
   "execution_count": null,
   "metadata": {},
   "outputs": [],
   "source": [
    "import threading # Import das threading Module\n",
    "from threading import Thread # Import einer einzelnen Klasse\n",
    "from threading import * # Wildcard Import ! Importiert alles aus dem threading Module \n",
    "from os import path as myAlias # importiert path aus dem os module, im code wird dann myAlias genutzt"
   ]
  },
  {
   "cell_type": "code",
   "execution_count": null,
   "metadata": {},
   "outputs": [],
   "source": []
  }
 ],
 "metadata": {
  "interpreter": {
   "hash": "8edcae8aee8b9f77d273e745edc9899fcb323bc44a6c60d119c52fd1eee6c242"
  },
  "kernelspec": {
   "display_name": "Python 3.10.0 ('venv': venv)",
   "language": "python",
   "name": "python3"
  },
  "language_info": {
   "name": "python",
   "version": "3.10.2"
  },
  "orig_nbformat": 4
 },
 "nbformat": 4,
 "nbformat_minor": 2
}
