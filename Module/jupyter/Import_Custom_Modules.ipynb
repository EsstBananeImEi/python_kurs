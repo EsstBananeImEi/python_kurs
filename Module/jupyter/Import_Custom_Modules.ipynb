{
 "cells": [
  {
   "cell_type": "markdown",
   "metadata": {},
   "source": [
    "# Importieren von aus anderen Ordnern\n",
    "\n",
    "Wenn wir module aus eigenen Ordnern Importieren wollen und nicht aus der Standartbibliothek, dann müssen wir an den pfad denken!\n",
    "\n",
    "```\n",
    "Module/\n",
    "│\n",
    "└───jupyter/\n",
    "│       |   Import_Costum_Modules.ipynb <---\n",
    "|       |   Import_Possibilities.ipynb    \n",
    "|       |\n",
    "|       └───my_module/\n",
    "|                   __init__.py\n",
    "|                   fibo.py\n",
    "|                   hello.py\n",
    "|         \n",
    "└───python/\n",
    "        |   import_possibilities.py\n",
    "        |\n",
    "        └───Module_aus_Ordnern/\n",
    "        └───Module_erstellen/\n",
    "```"
   ]
  },
  {
   "cell_type": "code",
   "execution_count": 2,
   "metadata": {},
   "outputs": [
    {
     "name": "stdout",
     "output_type": "stream",
     "text": [
      "55\n",
      "[0, 1, 1, 2, 3, 5, 8, 13, 21, 34, 55]\n"
     ]
    }
   ],
   "source": [
    "from my_module.fibo import fib, fiblist\n",
    "\n",
    "print(fib(10))\n",
    "print(fiblist(10))"
   ]
  },
  {
   "cell_type": "code",
   "execution_count": 1,
   "metadata": {},
   "outputs": [
    {
     "name": "stdout",
     "output_type": "stream",
     "text": [
      "55\n",
      "[0, 1, 1, 2, 3, 5, 8, 13, 21, 34, 55]\n"
     ]
    }
   ],
   "source": [
    "import my_module.fibo\n",
    "\n",
    "print(my_module.fibo.fib(10))\n",
    "print(my_module.fibo.fiblist(10))"
   ]
  },
  {
   "cell_type": "code",
   "execution_count": 2,
   "metadata": {},
   "outputs": [
    {
     "ename": "ModuleNotFoundError",
     "evalue": "No module named 'Module'",
     "output_type": "error",
     "traceback": [
      "\u001b[1;31m---------------------------------------------------------------------------\u001b[0m",
      "\u001b[1;31mModuleNotFoundError\u001b[0m                       Traceback (most recent call last)",
      "\u001b[1;32mc:\\own_projects\\python-Kurs\\Module\\jupyter\\Import_Custom_Modules.ipynb Cell 4'\u001b[0m in \u001b[0;36m<module>\u001b[1;34m\u001b[0m\n\u001b[1;32m----> <a href='vscode-notebook-cell:/c%3A/own_projects/python-Kurs/Module/jupyter/Import_Custom_Modules.ipynb#ch0000003?line=0'>1</a>\u001b[0m \u001b[39mfrom\u001b[39;00m \u001b[39mModule\u001b[39;00m\u001b[39m.\u001b[39;00m\u001b[39mpython\u001b[39;00m\u001b[39m.\u001b[39;00m\u001b[39mModule_aus_Ordnern\u001b[39;00m\u001b[39m.\u001b[39;00m\u001b[39mmy_module\u001b[39;00m\u001b[39m.\u001b[39;00m\u001b[39mfibo\u001b[39;00m \u001b[39mimport\u001b[39;00m fib, fiblist\n\u001b[0;32m      <a href='vscode-notebook-cell:/c%3A/own_projects/python-Kurs/Module/jupyter/Import_Custom_Modules.ipynb#ch0000003?line=2'>3</a>\u001b[0m \u001b[39mprint\u001b[39m(fib(\u001b[39m20\u001b[39m))\n\u001b[0;32m      <a href='vscode-notebook-cell:/c%3A/own_projects/python-Kurs/Module/jupyter/Import_Custom_Modules.ipynb#ch0000003?line=3'>4</a>\u001b[0m \u001b[39mprint\u001b[39m(fiblist(\u001b[39m20\u001b[39m))\n",
      "\u001b[1;31mModuleNotFoundError\u001b[0m: No module named 'Module'"
     ]
    }
   ],
   "source": [
    "from Module.python.Module_aus_Ordnern.my_module.fibo import fib, fiblist\n",
    "\n",
    "print(fib(20))\n",
    "print(fiblist(20))"
   ]
  }
 ],
 "metadata": {
  "interpreter": {
   "hash": "8edcae8aee8b9f77d273e745edc9899fcb323bc44a6c60d119c52fd1eee6c242"
  },
  "kernelspec": {
   "display_name": "Python 3.10.0 ('venv': venv)",
   "language": "python",
   "name": "python3"
  },
  "language_info": {
   "codemirror_mode": {
    "name": "ipython",
    "version": 3
   },
   "file_extension": ".py",
   "mimetype": "text/x-python",
   "name": "python",
   "nbconvert_exporter": "python",
   "pygments_lexer": "ipython3",
   "version": "3.10.0"
  },
  "orig_nbformat": 4
 },
 "nbformat": 4,
 "nbformat_minor": 2
}
