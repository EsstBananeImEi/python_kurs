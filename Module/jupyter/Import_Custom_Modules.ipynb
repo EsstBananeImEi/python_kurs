{
 "cells": [
  {
   "cell_type": "markdown",
   "metadata": {},
   "source": [
    "# Importieren von aus anderen Ordnern\n",
    "\n",
    "Wenn wir module aus eigenen Ordnern Importieren wollen und nicht aus der Standartbibliothek, dann müssen wir an den pfad denken!\n",
    "\n",
    "```\n",
    "Module/\n",
    "│\n",
    "└───jupyter/\n",
    "│       |   Import_Costum_Modules.ipynb <---\n",
    "|       |   Import_Possibilities.ipynb    \n",
    "|       |\n",
    "|       └───my_module/\n",
    "|                   __init__.py\n",
    "|                   fibo.py\n",
    "|                   hello.py\n",
    "|         \n",
    "└───python/\n",
    "        |   import_possibilities.py\n",
    "        |\n",
    "        └───Module_aus_Ordnern/\n",
    "        └───Module_erstellen/\n",
    "```"
   ]
  },
  {
   "cell_type": "code",
   "execution_count": 3,
   "metadata": {},
   "outputs": [
    {
     "name": "stdout",
     "output_type": "stream",
     "text": [
      "55\n",
      "[0, 1, 1, 2, 3, 5, 8, 13, 21, 34, 55]\n"
     ]
    }
   ],
   "source": [
    "from my_module.fibo import fib, fiblist\n",
    "\n",
    "print(fib(10))\n",
    "print(fiblist(10))"
   ]
  },
  {
   "cell_type": "code",
   "execution_count": 10,
   "metadata": {},
   "outputs": [
    {
     "name": "stdout",
     "output_type": "stream",
     "text": [
      "55\n",
      "[0, 1, 1, 2, 3, 5, 8, 13, 21, 34, 55]\n"
     ]
    }
   ],
   "source": [
    "import my_module.fibo as fibo\n",
    "\n",
    "print(fibo.fib(10))\n",
    "print(fibo.fiblist(10))"
   ]
  },
  {
   "cell_type": "code",
   "execution_count": 16,
   "metadata": {},
   "outputs": [
    {
     "name": "stdout",
     "output_type": "stream",
     "text": [
      "Hello\n",
      "3\n"
     ]
    }
   ],
   "source": [
    "from my_module import fibo, hello\n",
    "\n",
    "hello.say_hello()\n",
    "print(fibo.fib(4))"
   ]
  },
  {
   "cell_type": "code",
   "execution_count": 17,
   "metadata": {},
   "outputs": [
    {
     "name": "stdout",
     "output_type": "stream",
     "text": [
      "Hello\n",
      "3\n"
     ]
    }
   ],
   "source": [
    "from my_module import fibo as fibonacci, hello as greetings\n",
    "\n",
    "greetings.say_hello()\n",
    "print(fibonacci.fib(4))"
   ]
  }
 ],
 "metadata": {
  "interpreter": {
   "hash": "8edcae8aee8b9f77d273e745edc9899fcb323bc44a6c60d119c52fd1eee6c242"
  },
  "kernelspec": {
   "display_name": "Python 3.10.0 ('venv': venv)",
   "language": "python",
   "name": "python3"
  },
  "language_info": {
   "codemirror_mode": {
    "name": "ipython",
    "version": 3
   },
   "file_extension": ".py",
   "mimetype": "text/x-python",
   "name": "python",
   "nbconvert_exporter": "python",
   "pygments_lexer": "ipython3",
   "version": "3.10.0"
  },
  "orig_nbformat": 4
 },
 "nbformat": 4,
 "nbformat_minor": 2
}
