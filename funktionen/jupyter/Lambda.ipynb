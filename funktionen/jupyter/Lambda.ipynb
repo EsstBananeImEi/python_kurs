{
 "cells": [
  {
   "cell_type": "markdown",
   "metadata": {},
   "source": [
    "# Lambda Funktions\n",
    "\n",
    "Eine Funktion in der Programmierung beschreibt einen Block aus Code, der eine spezifische und vordefinierte Aufgabe erfüllt. Dabei sollten Funktionen so oft wie möglich verwendet werden. Der ausschlaggebende Grund dafür ist die Wiederverwendbarkeit von Funktionen.\n",
    "\n",
    "Während das Definieren von Funktionen sich zwischen den verschiedenen Programmiersprachen unterscheiden kann, bleibt das grundsätzliche Konzept das Gleiche. Eine Funktion akzeptiert dabei Werte und führt programmierte Anweisungen aus. Gegebenenfalls wird auch ein Wert zurückgegeben. In der kurzen Vergangenheit haben einige Programmiersprachen den traditionellen Ansatz der Funktion modifiziert. Beispiel dafür sind die Pfeilfunktionen in JavaScript und die Lambdafunktionen in Python.\n",
    "\n",
    "Die Lambdafunktion, auch als anonyme Funktion in Python bekannt, ist eine Funktion dies ohne das Stichwort „def“ definiert wird. Stattdessen verwenden wir das Wort „lambda“.\n",
    "\n",
    "```python\n",
    "lambda Parameter: Anweisung \n",
    "```\n",
    "\n",
    "<h3>\n",
    "Wann sollte man die Python Lambda-Funktion verwenden?\n",
    "</h3>\n",
    "\n",
    "1. Die Funktion soll nur eine (oder wenige) Anweisung enthalten\n",
    "2. Eine Anweisung ist nicht komplex\n",
    "3. Die Aufgabe ist temporär und wiederkehrend\n",
    "4. Wenn integrierte Funktionen wie die map()- und filter()-Funktion verwendet werden\n",
    "\n",
    "Hinweis: map()- und filter()-Funktionen werden wir hier nicht behandeln dennoch sehen wir uns an wie wir dort mit Lambda umgehen können. In der Kategorie Diverses gehen wir genauer auf map()- und filter()-Funktionen ein."
   ]
  },
  {
   "cell_type": "markdown",
   "metadata": {},
   "source": [
    "### Ohne Parameter"
   ]
  },
  {
   "cell_type": "code",
   "execution_count": 2,
   "metadata": {},
   "outputs": [
    {
     "name": "stdout",
     "output_type": "stream",
     "text": [
      "Der Kaffee ist Fertig!\n"
     ]
    }
   ],
   "source": [
    "def koche_kaffee() -> None:\n",
    "    print(\"Der Kaffee ist Fertig!\")\n",
    "\n",
    "koche_kaffee()"
   ]
  },
  {
   "cell_type": "code",
   "execution_count": 3,
   "metadata": {},
   "outputs": [
    {
     "name": "stdout",
     "output_type": "stream",
     "text": [
      "Der Kaffee ist Fertig!\n"
     ]
    }
   ],
   "source": [
    "koche_kaffee = lambda: print(\"Der Kaffee ist Fertig!\")\n",
    "koche_kaffee()"
   ]
  },
  {
   "cell_type": "code",
   "execution_count": 4,
   "metadata": {},
   "outputs": [
    {
     "data": {
      "text/plain": [
       "<function __main__.<lambda>()>"
      ]
     },
     "execution_count": 4,
     "metadata": {},
     "output_type": "execute_result"
    }
   ],
   "source": [
    "lambda: print(\"Der Kaffee ist Fertig!\")"
   ]
  },
  {
   "cell_type": "markdown",
   "metadata": {},
   "source": [
    "### Mit Parametern"
   ]
  },
  {
   "cell_type": "code",
   "execution_count": 5,
   "metadata": {},
   "outputs": [
    {
     "name": "stdout",
     "output_type": "stream",
     "text": [
      "Das Doppelte von 5 ist 10\n"
     ]
    }
   ],
   "source": [
    "def verdopple(zahl):\n",
    "    print(f\"Das Doppelte von {zahl} ist {zahl * 2}\")\n",
    "\n",
    "verdopple(5)"
   ]
  },
  {
   "cell_type": "code",
   "execution_count": 6,
   "metadata": {},
   "outputs": [
    {
     "name": "stdout",
     "output_type": "stream",
     "text": [
      "Das Doppelte von 2 ist 4\n"
     ]
    }
   ],
   "source": [
    "verdopple = lambda zahl: print(f\"Das Doppelte von {zahl} ist {zahl * 2}\")\n",
    "verdopple(2)"
   ]
  },
  {
   "cell_type": "code",
   "execution_count": 9,
   "metadata": {},
   "outputs": [
    {
     "name": "stdout",
     "output_type": "stream",
     "text": [
      "Summe: 12\n"
     ]
    }
   ],
   "source": [
    "summe = lambda zahl1, zahl2, zahl3: print(f\"Summe: {zahl1 + zahl2 + zahl3}\")\n",
    "summe(2, 4, 6)"
   ]
  },
  {
   "cell_type": "markdown",
   "metadata": {},
   "source": [
    "### Mit *Args"
   ]
  },
  {
   "cell_type": "code",
   "execution_count": 8,
   "metadata": {},
   "outputs": [
    {
     "name": "stdout",
     "output_type": "stream",
     "text": [
      "Summe ist 54\n"
     ]
    }
   ],
   "source": [
    "summe = lambda *zahlen: print(f\"Summe ist {sum(zahlen)}\")\n",
    "summe(2,3,4,5,6,7,8,19)"
   ]
  },
  {
   "cell_type": "markdown",
   "metadata": {},
   "source": [
    "### Lambda mit Map und Filter\n",
    "\n",
    "Kurzer Exkurs: map() und filter() sind Methoden mit denen wir über Sammlungen iterieren können"
   ]
  },
  {
   "cell_type": "code",
   "execution_count": 10,
   "metadata": {},
   "outputs": [
    {
     "data": {
      "text/plain": [
       "[2, 3, 4, 5, 6]"
      ]
     },
     "execution_count": 10,
     "metadata": {},
     "output_type": "execute_result"
    }
   ],
   "source": [
    "def increase(zahl):\n",
    "    return zahl + 1\n",
    "\n",
    "my_list = [1, 2, 3, 4, 5]\n",
    "list(map(increase, my_list))\n"
   ]
  },
  {
   "cell_type": "code",
   "execution_count": 11,
   "metadata": {},
   "outputs": [
    {
     "data": {
      "text/plain": [
       "[2, 3, 4, 5, 6]"
      ]
     },
     "execution_count": 11,
     "metadata": {},
     "output_type": "execute_result"
    }
   ],
   "source": [
    "list(map(lambda zahl: zahl + 1, my_list))"
   ]
  },
  {
   "cell_type": "code",
   "execution_count": 12,
   "metadata": {},
   "outputs": [
    {
     "data": {
      "text/plain": [
       "[3, 4, 5]"
      ]
     },
     "execution_count": 12,
     "metadata": {},
     "output_type": "execute_result"
    }
   ],
   "source": [
    "list(filter(lambda zahl: zahl > 2, my_list))"
   ]
  }
 ],
 "metadata": {
  "interpreter": {
   "hash": "8edcae8aee8b9f77d273e745edc9899fcb323bc44a6c60d119c52fd1eee6c242"
  },
  "kernelspec": {
   "display_name": "Python 3.10.0 64-bit ('venv': venv)",
   "language": "python",
   "name": "python3"
  },
  "language_info": {
   "codemirror_mode": {
    "name": "ipython",
    "version": 3
   },
   "file_extension": ".py",
   "mimetype": "text/x-python",
   "name": "python",
   "nbconvert_exporter": "python",
   "pygments_lexer": "ipython3",
   "version": "3.10.0"
  },
  "orig_nbformat": 4
 },
 "nbformat": 4,
 "nbformat_minor": 2
}
