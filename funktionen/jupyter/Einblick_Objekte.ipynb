{
 "cells": [
  {
   "cell_type": "markdown",
   "metadata": {},
   "source": [
    "# Einblick in Objekte\n",
    "\n",
    "<h4>\n",
    "Hier gebe ich euch einen Kleinen einblick in objekte, diese werden spätestens bei der\n",
    "Objektorientierten Programmierung wichtig <br>\n",
    "\n",
    "- Objekte sind Instanzen oder Exemplare einer Klasse. \n",
    "Die Begriffe Objekt und Instanz werden meist synonym gebraucht und bezeichnen den gleichen \"Gegenstand\". \n",
    "Objekte oder Instanzen werden mittels Konstruktoren erzeugt. \n",
    "Konstruktoren sind spezielle Methoden zur Erzeugung von Instanzen einer Klasse\n",
    "\n",
    "Die Funktion append() haben wir schon des öfteren benutzt, wir können diese Funktion nutzen da eine Liste ein Objekt ist und wir Attribute und Methoden eines Objekts aufrüfen können, wenn diese von außen zugänglich sind <br>\n",
    "</h4>"
   ]
  }
 ],
 "metadata": {
  "language_info": {
   "name": "python"
  },
  "orig_nbformat": 4
 },
 "nbformat": 4,
 "nbformat_minor": 2
}
