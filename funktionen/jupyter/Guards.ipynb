{
 "cells": [
  {
   "cell_type": "markdown",
   "metadata": {},
   "source": [
    "# Guards\n",
    "\n",
    "Guards sind Boolische Ausdrücke mit denen wir Verschachtelte Klauseln ersetzen können, um code von den \"Bedingungen aus der Hölle\" zu befreien. Dies wird in einigen Kreisen so bezeichnet da die Einrückungen jeder Ebene einer Verschachtelung einen Pfeil bilden, der nach rechts in Richtung Schmerz und Leid zeigt\n",
    "\n",
    "```Python\n",
    "def conditional_from_hell() -> None:\n",
    "    if condition: \n",
    "        if condition:\n",
    "            # not good\n",
    "            do someting...\n",
    "            if condition:\n",
    "                # Dooh\n",
    "                if condition\n",
    "                    # painful\n",
    "                    if condition\n",
    "                        # Entrance to hell\n",
    "            while True:\n",
    "                ...\n",
    "    else \n",
    "        do something\n",
    "```\n"
   ]
  },
  {
   "cell_type": "code",
   "execution_count": 8,
   "metadata": {},
   "outputs": [],
   "source": [
    "from dataclasses import dataclass, field\n",
    "\n",
    "@dataclass\n",
    "class Person:\n",
    "    name: str\n",
    "    country: str\n",
    "    age: int | None = field(default=None)\n",
    "    friends: list = field(default_factory=list)"
   ]
  },
  {
   "cell_type": "markdown",
   "metadata": {},
   "source": [
    "#### Problem\n",
    "\n",
    "Du hast eine Gruppe von verschachtelten Konditionen und es ist schwer, den normalen Ablauf der Codeausführung zu bestimmen."
   ]
  },
  {
   "cell_type": "code",
   "execution_count": 11,
   "metadata": {},
   "outputs": [
    {
     "name": "stdout",
     "output_type": "stream",
     "text": [
      "Person(name='Peter', country='Germany', age=None, friends=[]) hat kein Alter\n"
     ]
    }
   ],
   "source": [
    "def can_drink(person: Person):\n",
    "    if person.age != None:\n",
    "        if person.age < 18:\n",
    "            print(\"Du bist zu jung, um zu trinken\")\n",
    "        elif person.age < 21:\n",
    "            if person.country != \"Mongolei\":\n",
    "                if person.country == \"USA\":\n",
    "                    print(\"Du darfst in den USA nicht trinken\")\n",
    "            else:\n",
    "                print(\"Du darfst in der Mongolei nicht trinken\")\n",
    "        else:\n",
    "            print(\"Du darfst trinken\")\n",
    "    else:\n",
    "        print(f\"{person} hat kein Alter\")\n",
    "\n",
    "peter = Person(\"Peter\", \"Germany\")\n",
    "can_drink(peter)"
   ]
  },
  {
   "cell_type": "markdown",
   "metadata": {},
   "source": [
    "#### Lösung\n",
    "Alle Sonderprüfungen und Randfälle werden in separaten Klauseln isoliert und stehen vor den Hauptprüfungen. Im Idealfall sollte eine \"flache\" Strucktur entstehen, in der eine Klausel nach der anderen kommt."
   ]
  },
  {
   "cell_type": "code",
   "execution_count": 25,
   "metadata": {},
   "outputs": [
    {
     "name": "stdout",
     "output_type": "stream",
     "text": [
      "Du darfst in der Mongolei nicht trinken\n"
     ]
    }
   ],
   "source": [
    "def can_drink(person: Person):\n",
    "    if person.age is None: return f\"{person} hat kein Alter\"\n",
    "\n",
    "    if person.age < 18: return \"Du bist zu jung, um zu trinken\"\n",
    "    if person.age < 21: return can_drink_in_country(person.country)\n",
    "    return \"Du darfst trinken\"\n",
    "\n",
    "def can_drink_in_country(country: str):\n",
    "    if country == \"Mongolei\":\n",
    "        return \"Du darfst in der Mongolei nicht trinken\"\n",
    "    if country == \"USA\":\n",
    "        return \"Du darfst in den USA nicht trinken\"\n",
    "\n",
    "\n",
    "emma = Person(\"Emma\", \"Mongolei\", age=20)\n",
    "print(can_drink(emma))"
   ]
  }
 ],
 "metadata": {
  "interpreter": {
   "hash": "e14e8479963d30db350f91d92f9add431e0df07013125a1b59aab1353cc25703"
  },
  "kernelspec": {
   "display_name": "Python 3.10.2 ('.venv': venv)",
   "language": "python",
   "name": "python3"
  },
  "language_info": {
   "codemirror_mode": {
    "name": "ipython",
    "version": 3
   },
   "file_extension": ".py",
   "mimetype": "text/x-python",
   "name": "python",
   "nbconvert_exporter": "python",
   "pygments_lexer": "ipython3",
   "version": "3.10.2"
  },
  "orig_nbformat": 4
 },
 "nbformat": 4,
 "nbformat_minor": 2
}
