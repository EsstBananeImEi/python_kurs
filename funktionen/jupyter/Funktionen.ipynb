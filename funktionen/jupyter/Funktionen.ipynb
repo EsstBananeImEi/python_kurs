{
 "cells": [
  {
   "cell_type": "markdown",
   "metadata": {},
   "source": [
    "# Funktionen\n",
    "<h3>\n",
    "durch Funktionen ist es uns möglich unseren Code zu struckturieren und/oder unseren Code wiederverwendbar zu machen, dies vermeidet unschöne Code Duplizierung und hilft gegen spagetti code <br>\n",
    "\n",
    "Wir haben sogar schon Funktionen genutzt z.b haben wir diese in Python Integrierten Funktionen bereits genutzt <br>\n",
    "\n",
    "Eine Funktion wird wie folgt aufgebaut: <br>\n",
    "<h4>\n",
    "\n",
    "```Python\n",
    "def mein_funktions_name(parameter) -> None:\n",
    "    mein code kommt hier rein...\n",
    "    ...\n",
    "```\n",
    "\n",
    "\n",
    "\n",
    "<h4>\n",
    "\n",
    "Funktionen im Clean Code:\n",
    "\n",
    "Funktionen sind die Verben von gutem Code. Ein Funktionsname beschreibt immer die zu tätigende aufgabe. Typisch für Funktionsnamen sind Präfixe wie \"load, get, set, update, close, parse\" ...\n",
    "\n",
    "> Benenne Funktionen mit ähnlichen Aufgaben mit dem gleichen Präfix\n",
    "\n",
    "Funktionen sollten kurz sein, da eine Funktion, nur 1 Tätigkeit verrichten sollte. Kurze Funktionen haben den Vorteil das man sie schnell Überblicken kann und den Code in kleinere Abschnitte unterteilen kannst, die wiederverwendbar sind (DRY)\n",
    "\n",
    "Die maximale anzahl an Zeilen für eine einzige Funktion liegt bei 15-20 Zeilen, in der Regel sagt man, das im Clean Code die besten Funktionen zwischen 5 - 10 Zeilen besitzen.\n",
    "\n",
    "`Ich lege jedem ans Herzen sich mit Clean Code auseinander zu setzen, da es mehr und mehr in Unternehmen gefragt wird.`\n",
    "\n"
   ]
  },
  {
   "cell_type": "code",
   "execution_count": null,
   "metadata": {},
   "outputs": [],
   "source": [
    "print()\n",
    "int()\n",
    "str()\n",
    "\"\".strip()\n",
    "len([])"
   ]
  },
  {
   "cell_type": "code",
   "execution_count": 1,
   "metadata": {},
   "outputs": [],
   "source": [
    "def say_hello() -> None:\n",
    "    print(\"Hallo und Willkommen\")"
   ]
  },
  {
   "cell_type": "code",
   "execution_count": 3,
   "metadata": {},
   "outputs": [
    {
     "name": "stdout",
     "output_type": "stream",
     "text": [
      "Hallo und Willkommen\n",
      "Hallo und Willkommen\n"
     ]
    }
   ],
   "source": [
    "say_hello()\n",
    "say_hello()"
   ]
  },
  {
   "cell_type": "markdown",
   "metadata": {},
   "source": [
    "### Parameter"
   ]
  },
  {
   "cell_type": "code",
   "execution_count": 4,
   "metadata": {},
   "outputs": [],
   "source": [
    "def say_hello_to(name) -> None:\n",
    "    print(f\"Hallo {name}, Willkommen\")"
   ]
  },
  {
   "cell_type": "code",
   "execution_count": 8,
   "metadata": {},
   "outputs": [
    {
     "name": "stdout",
     "output_type": "stream",
     "text": [
      "Hallo Peter, Willkommen\n",
      "Hallo Anna, Willkommen\n"
     ]
    }
   ],
   "source": [
    "say_hello_to(\"Peter\")\n",
    "say_hello_to(\"Anna\")"
   ]
  },
  {
   "cell_type": "code",
   "execution_count": 10,
   "metadata": {},
   "outputs": [],
   "source": [
    "def multipliziere(zahl_1, zahl_2) -> None:\n",
    "    print(zahl_1 * zahl_2)"
   ]
  },
  {
   "cell_type": "code",
   "execution_count": 11,
   "metadata": {},
   "outputs": [
    {
     "name": "stdout",
     "output_type": "stream",
     "text": [
      "20\n"
     ]
    }
   ],
   "source": [
    "multipliziere(5,4)"
   ]
  },
  {
   "cell_type": "markdown",
   "metadata": {},
   "source": [
    "### Rückgaben"
   ]
  },
  {
   "cell_type": "code",
   "execution_count": 12,
   "metadata": {},
   "outputs": [],
   "source": [
    "def get_highest_value(zahl_1, zahl_2) -> int:\n",
    "    if zahl_1 > zahl_2:\n",
    "        return zahl_1\n",
    "    else:\n",
    "        return zahl_2"
   ]
  },
  {
   "cell_type": "code",
   "execution_count": 13,
   "metadata": {},
   "outputs": [
    {
     "name": "stdout",
     "output_type": "stream",
     "text": [
      "28\n"
     ]
    }
   ],
   "source": [
    "highest_number = get_highest_value(18,28)\n",
    "print(highest_number)"
   ]
  },
  {
   "cell_type": "code",
   "execution_count": 12,
   "metadata": {},
   "outputs": [],
   "source": [
    "from typing import Tuple\n",
    "\n",
    "def get_low_and_highest_value(*values) -> Tuple[int, int]:\n",
    "    highest = values[0]\n",
    "    lowest = values[0]\n",
    "    for zahl in values:\n",
    "        if zahl > highest:\n",
    "            highest = zahl\n",
    "        elif zahl < lowest:\n",
    "            lowest = zahl\n",
    "    return highest, lowest"
   ]
  },
  {
   "cell_type": "code",
   "execution_count": 17,
   "metadata": {},
   "outputs": [
    {
     "name": "stdout",
     "output_type": "stream",
     "text": [
      "Niedriegste Zahl: 1\n",
      "Höchste Zahl: 56\n"
     ]
    }
   ],
   "source": [
    "highest_value, lowest_value = get_low_and_highest_value(4,6,8,7,1,5,3,2,3,56)\n",
    "print(f\"Niedriegste Zahl: {lowest_value}\")\n",
    "print(f\"Höchste Zahl: {highest_value}\")"
   ]
  },
  {
   "cell_type": "code",
   "execution_count": 20,
   "metadata": {},
   "outputs": [
    {
     "name": "stdout",
     "output_type": "stream",
     "text": [
      "Niedriegste Zahl: 1\n",
      "Höchste Zahl: 56\n"
     ]
    }
   ],
   "source": [
    "function_tuple = get_low_and_highest_value(4,6,8,7,1,5,3,2,3,56)\n",
    "print(f\"Niedriegste Zahl: {function_tuple[1]}\")\n",
    "print(f\"Höchste Zahl: {function_tuple[0]}\")"
   ]
  }
 ],
 "metadata": {
  "interpreter": {
   "hash": "8edcae8aee8b9f77d273e745edc9899fcb323bc44a6c60d119c52fd1eee6c242"
  },
  "kernelspec": {
   "display_name": "Python 3.10.0 64-bit ('venv': venv)",
   "language": "python",
   "name": "python3"
  },
  "language_info": {
   "codemirror_mode": {
    "name": "ipython",
    "version": 3
   },
   "file_extension": ".py",
   "mimetype": "text/x-python",
   "name": "python",
   "nbconvert_exporter": "python",
   "pygments_lexer": "ipython3",
   "version": "3.10.0"
  },
  "orig_nbformat": 4
 },
 "nbformat": 4,
 "nbformat_minor": 2
}
