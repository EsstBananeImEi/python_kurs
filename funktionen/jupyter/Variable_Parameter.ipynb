{
 "cells": [
  {
   "cell_type": "markdown",
   "metadata": {},
   "source": [
    "# Variable Funktions Parameter\n",
    "### Diese Art der Parameter wird verwendet, wenn die Anzahl der Parameter Variiert die Funktion aber nicht immer neu geschrieben werden soll.\n",
    "### *Args\n",
    "<h4>\n",
    "\n",
    "- Wenn die Parameterwerte für eine Funktion in Objektform vorliegen (einer Liste oder einem Tupel) können sie eben in dieser Form an die Funktion übergeben werden.\n",
    "\n",
    "- Die Anzahl der Übergabeparameter an die Funktion soll variabel bleiben.\n",
    "</h4>\n",
    "\n",
    "### **KWARGS \n",
    "\n",
    "- Übergabe der Parameter als Dictionary. Über die Keys werden die Werte den Parametern der Funktion zugeordnet.\n",
    "- kwargs sind verglichen mit *args eine konservative Variante an die Funktion ein Objekt zu übergeben. Da das Objekt ein Dictionary ist, verhindert man eine Falschzuordnung von Parameter zu Wert wie es durch die Order-Of-Appearence-Regel bei der Verwendung *args passieren kann."
   ]
  },
  {
   "cell_type": "code",
   "execution_count": 1,
   "metadata": {},
   "outputs": [],
   "source": [
    "def summiere(a,b) -> float:\n",
    "    pass\n",
    "def summiere(a,b,c) -> float:\n",
    "    pass\n",
    "def summiere(a,b,c,d) -> float:\n",
    "    pass"
   ]
  },
  {
   "cell_type": "markdown",
   "metadata": {},
   "source": [
    "### *Args"
   ]
  },
  {
   "cell_type": "code",
   "execution_count": 2,
   "metadata": {},
   "outputs": [
    {
     "name": "stdout",
     "output_type": "stream",
     "text": [
      "105\n"
     ]
    }
   ],
   "source": [
    "def summiere(*args) -> float:\n",
    "    return sum(args)\n",
    "\n",
    "liste = [1, 2, 3, 4, 5, 6, 7, 8, 9, 10, 11, 12, 13, 14]\n",
    "print(summiere(*liste))"
   ]
  },
  {
   "cell_type": "code",
   "execution_count": 3,
   "metadata": {},
   "outputs": [
    {
     "name": "stdout",
     "output_type": "stream",
     "text": [
      "(815, 1222, 102)\n"
     ]
    }
   ],
   "source": [
    "def summiere(aktenzeichen, rechnungsnummer, *args) -> float:\n",
    "    return aktenzeichen, rechnungsnummer, sum(args)\n",
    "\n",
    "liste = [815, 1222, 3, 4, 5, 6, 7, 8, 9, 10, 11, 12, 13, 14]\n",
    "print(summiere(*liste))"
   ]
  },
  {
   "cell_type": "code",
   "execution_count": 12,
   "metadata": {},
   "outputs": [
    {
     "name": "stdout",
     "output_type": "stream",
     "text": [
      "9\n"
     ]
    }
   ],
   "source": [
    "def max(*values):\n",
    "    result = values[0]\n",
    "    for zahl in values:\n",
    "        if zahl > result:\n",
    "            result = zahl\n",
    "    return result\n",
    "\n",
    "zahlen = [1, 6, 4, 5, 8, 9, 2, 4]\n",
    "print(max(*zahlen))"
   ]
  },
  {
   "cell_type": "markdown",
   "metadata": {},
   "source": [
    "### **Kwags"
   ]
  },
  {
   "cell_type": "code",
   "execution_count": 13,
   "metadata": {},
   "outputs": [
    {
     "name": "stdout",
     "output_type": "stream",
     "text": [
      "('Stefan', 'Draeger', '40')\n"
     ]
    }
   ],
   "source": [
    "def kwargs_funktion(**kwargs):\n",
    "    return kwargs[\"vorname\"], kwargs[\"nachname\"], kwargs[\"alter\"]\n",
    "\n",
    "print(kwargs_funktion(vorname=\"Stefan\", nachname=\"Draeger\", alter=\"40\"))"
   ]
  },
  {
   "cell_type": "markdown",
   "metadata": {},
   "source": [
    "### Required Argumtens, *Args and **Kwargs"
   ]
  },
  {
   "cell_type": "code",
   "execution_count": 22,
   "metadata": {},
   "outputs": [],
   "source": [
    "def do_special_work(required_arg, *args, **kwargs):\n",
    "    print(f\"Required Argument: {required_arg} -> Hauptaufgabe\")\n",
    "\n",
    "    if args:\n",
    "        print(f\"Args: {args} -> Extra Aufgabe mit allen variablen Argumenten\")\n",
    "\n",
    "    if kwargs:\n",
    "        print(f\"Kwargs: {kwargs} -> Extra Aufgabe für alle weiteren Key-Value Pairs\")"
   ]
  },
  {
   "cell_type": "code",
   "execution_count": 23,
   "metadata": {},
   "outputs": [
    {
     "name": "stdout",
     "output_type": "stream",
     "text": [
      "Required Argument: Normal Parameter -> Hauptaufgabe\n"
     ]
    }
   ],
   "source": [
    "do_special_work(\"Normal Parameter\")"
   ]
  },
  {
   "cell_type": "code",
   "execution_count": 24,
   "metadata": {},
   "outputs": [
    {
     "name": "stdout",
     "output_type": "stream",
     "text": [
      "Required Argument: Normal Parameter und Args -> Hauptaufgabe\n",
      "Args: (1, 2, '3', 4, 5) -> Extra Aufgabe mit allen variablen Argumenten\n"
     ]
    }
   ],
   "source": [
    "do_special_work(\"Normal Parameter und Args\", 1, 2, '3', 4, 5)"
   ]
  },
  {
   "cell_type": "code",
   "execution_count": 21,
   "metadata": {},
   "outputs": [
    {
     "name": "stdout",
     "output_type": "stream",
     "text": [
      "Required Argument: Normal Parameter, Args und Kwargs -> Hauptaufgabe\n",
      "Args: (1, 2, '3', 4, 5) -> Extra Aufgabe mit allen variablen Argumenten\n",
      "Kwargs: {'keyword0': [1, 3, 4], 'keyword1': 4, 'keyword2': 'foo'} -> Extra Aufgabe für alle weiteren Key-Value Pairs\n"
     ]
    }
   ],
   "source": [
    "do_special_work(\"Normal Parameter, Args und Kwargs\", 1, 2, '3', 4, 5, keyword0=[1, 3, 4], keyword1=4, keyword2=\"foo\")"
   ]
  },
  {
   "cell_type": "code",
   "execution_count": 1,
   "metadata": {},
   "outputs": [],
   "source": [
    "def wrong_usage(*numbers, name) -> None:\n",
    "    for number in numbers:\n",
    "        print(number) "
   ]
  },
  {
   "cell_type": "code",
   "execution_count": 7,
   "metadata": {},
   "outputs": [
    {
     "ename": "TypeError",
     "evalue": "wrong_usage() missing 1 required keyword-only argument: 'name'",
     "output_type": "error",
     "traceback": [
      "\u001b[1;31m---------------------------------------------------------------------------\u001b[0m",
      "\u001b[1;31mTypeError\u001b[0m                                 Traceback (most recent call last)",
      "\u001b[1;32mC:\\Users\\MEINES~1\\AppData\\Local\\Temp/ipykernel_11540/3902454885.py\u001b[0m in \u001b[0;36m<module>\u001b[1;34m\u001b[0m\n\u001b[1;32m----> 1\u001b[1;33m \u001b[0mwrong_usage\u001b[0m\u001b[1;33m(\u001b[0m\u001b[1;36m1\u001b[0m\u001b[1;33m,\u001b[0m\u001b[1;36m2\u001b[0m\u001b[1;33m,\u001b[0m\u001b[1;36m3\u001b[0m\u001b[1;33m,\u001b[0m\u001b[1;36m4\u001b[0m\u001b[1;33m,\u001b[0m\u001b[1;36m5\u001b[0m\u001b[1;33m,\u001b[0m\u001b[1;36m6\u001b[0m\u001b[1;33m,\u001b[0m\u001b[1;36m7\u001b[0m\u001b[1;33m,\u001b[0m \u001b[1;34m\"test\"\u001b[0m\u001b[1;33m)\u001b[0m\u001b[1;33m\u001b[0m\u001b[1;33m\u001b[0m\u001b[0m\n\u001b[0m",
      "\u001b[1;31mTypeError\u001b[0m: wrong_usage() missing 1 required keyword-only argument: 'name'"
     ]
    }
   ],
   "source": [
    "wrong_usage(1,2,3,4,5,6,7, \"test\")"
   ]
  }
 ],
 "metadata": {
  "interpreter": {
   "hash": "8edcae8aee8b9f77d273e745edc9899fcb323bc44a6c60d119c52fd1eee6c242"
  },
  "kernelspec": {
   "display_name": "Python 3.10.0 64-bit ('venv': venv)",
   "language": "python",
   "name": "python3"
  },
  "language_info": {
   "codemirror_mode": {
    "name": "ipython",
    "version": 3
   },
   "file_extension": ".py",
   "mimetype": "text/x-python",
   "name": "python",
   "nbconvert_exporter": "python",
   "pygments_lexer": "ipython3",
   "version": "3.10.0"
  },
  "orig_nbformat": 4
 },
 "nbformat": 4,
 "nbformat_minor": 2
}
