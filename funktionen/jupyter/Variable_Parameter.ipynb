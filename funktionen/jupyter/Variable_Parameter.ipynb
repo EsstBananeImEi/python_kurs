{
 "cells": [
  {
   "cell_type": "markdown",
   "metadata": {},
   "source": [
    "# Variable Funktions Parameter\n",
    "### Diese Art der Parameter wird verwendet, wenn die Anzahl der Parameter Variiert die Funktion aber nicht immer neu geschrieben werden soll.\n",
    "### *Args\n",
    "<h4>\n",
    "\n",
    "- Verwendet man *args, sagt man der Funktion das eine Variable menge an Parametern übergeben werden kann.\n",
    "- Die Parameter werden als in den args als Tupel gespeichert.\n",
    "\n",
    "</h4>\n",
    "\n",
    "```Python\n",
    "def pizza_order(*args) -> None:\n",
    "    print(f\"Die Pizza besteht aus:\")\n",
    "    for zutat in args:\n",
    "        print(f\"- {zutat}\")\n",
    "        \n",
    "pizza_order(\"Teig\", \"Tomatensoße\", \"Käse\", \"Salami\")\n",
    "```\n",
    "\n",
    "### **KWARGS \n",
    "\n",
    "- für die übergabe an die Funktion werden Key Word Arguments verwendet.\n",
    "- die Parameter werden als Dictionary in kwargs gespeichert.\n",
    "\n",
    "\n",
    "```Python\n",
    "\n",
    "def pizza_order(**kwargs) -> None:\n",
    "    print(f\"Die Pizza besteht aus:\")\n",
    "    for key, value in kwargs.items():\n",
    "        print(f\"- {key}: {value}\")\n",
    "\n",
    "pizza_order(Teig=\"Vollkorn\", Tomatensoße=\"Scharf\", Käse=\"Mozzarella\", Salami=\"Scharf\")\n",
    "```\n"
   ]
  },
  {
   "cell_type": "markdown",
   "metadata": {},
   "source": [
    "### *Args"
   ]
  },
  {
   "cell_type": "code",
   "execution_count": 7,
   "metadata": {},
   "outputs": [
    {
     "name": "stdout",
     "output_type": "stream",
     "text": [
      "Die Pizza besteht aus:\n",
      "- Teig\n",
      "- Tomatensoße\n",
      "- Käse\n",
      "- Salami\n"
     ]
    }
   ],
   "source": [
    "def pizza_order(*args) -> None:\n",
    "    print(f\"Die Pizza besteht aus:\")\n",
    "    for zutat in args:\n",
    "        print(f\"- {zutat}\")\n",
    "        \n",
    "pizza_order(\"Teig\", \"Tomatensoße\", \"Käse\", \"Salami\")"
   ]
  },
  {
   "cell_type": "markdown",
   "metadata": {},
   "source": [
    "### *Args und normaler Parameter\n"
   ]
  },
  {
   "cell_type": "code",
   "execution_count": 13,
   "metadata": {},
   "outputs": [
    {
     "name": "stdout",
     "output_type": "stream",
     "text": [
      "Auf die Pizza Salami soll:\n",
      "- Teig\n",
      "- Tomatensoße\n",
      "- Käse\n",
      "- Salami\n",
      "Auf die Pizza Tonno Chippolo soll:\n",
      "- Teig\n",
      "- Tomatensoße\n",
      "- Käse\n",
      "- Thunfisch\n",
      "- Zwiebeln\n"
     ]
    }
   ],
   "source": [
    "class Pizza:\n",
    "    name: str\n",
    "\n",
    "def pizza_order(pizza: Pizza, *args) -> None:\n",
    "    print(f\"Auf die Pizza {pizza.name} soll:\")\n",
    "    for zutat in args:\n",
    "        print(f\"- {zutat}\")\n",
    "\n",
    "salami_pizza: Pizza = Pizza()\n",
    "salami_pizza.name = \"Salami\"\n",
    "\n",
    "pizza_order(salami_pizza, \"Teig\", \"Tomatensoße\", \"Käse\", \"Salami\")\n",
    "\n",
    "tonno_chippolo: Pizza = Pizza()\n",
    "tonno_chippolo.name = \"Tonno Chippolo\"\n",
    "\n",
    "pizza_order(tonno_chippolo, \"Teig\", \"Tomatensoße\", \"Käse\", \"Thunfisch\", \"Zwiebeln\")"
   ]
  },
  {
   "cell_type": "markdown",
   "metadata": {},
   "source": [
    "### **Kwags"
   ]
  },
  {
   "cell_type": "code",
   "execution_count": 9,
   "metadata": {},
   "outputs": [
    {
     "name": "stdout",
     "output_type": "stream",
     "text": [
      "Die Pizza besteht aus:\n",
      "- viel käse\n",
      "- wenig salami\n",
      "- normal teig\n",
      "- normal tomatensoße\n"
     ]
    }
   ],
   "source": [
    "def pizza_order(**kwargs) -> None:\n",
    "    print(f\"Die Pizza besteht aus:\")\n",
    "    for zutat, menge in kwargs.items():\n",
    "        print(f\"- {menge} {zutat}\")\n",
    "\n",
    "pizza_order(käse=\"viel\", salami=\"wenig\", teig=\"normal\", tomatensoße=\"normal\")"
   ]
  },
  {
   "cell_type": "markdown",
   "metadata": {},
   "source": [
    "### *Args und **Kwargs\n"
   ]
  },
  {
   "cell_type": "code",
   "execution_count": 11,
   "metadata": {},
   "outputs": [
    {
     "name": "stdout",
     "output_type": "stream",
     "text": [
      "Auf die Pizza kommt:\n",
      "- Käse\n",
      "- Salami\n",
      "- Peperoni\n",
      "- Pilze\n",
      "Zusatzwünsche:\n",
      "- viel käse\n",
      "- Keine tomatensoße\n",
      "- extra viel peperoni\n"
     ]
    }
   ],
   "source": [
    "def pizza_order(*args, **kwargs) -> None:\n",
    "    print(f\"Auf die Pizza kommt:\")\n",
    "    for zutat in args:\n",
    "        print(f\"- {zutat}\")\n",
    "    print(f\"Zusatzwünsche:\")\n",
    "    for zutat, menge in kwargs.items():\n",
    "        print(f\"- {menge} {zutat}\")\n",
    "\n",
    "pizza_order(\"Käse\", \"Salami\", \"Peperoni\", \"Pilze\", käse=\"viel\", tomatensoße=\"Keine\", peperoni=\"extra viel\")"
   ]
  },
  {
   "cell_type": "markdown",
   "metadata": {},
   "source": [
    "### Required Arguments, *Args and **Kwargs"
   ]
  },
  {
   "cell_type": "code",
   "execution_count": 22,
   "metadata": {},
   "outputs": [],
   "source": [
    "def do_special_work(required_arg, *args, **kwargs):\n",
    "    print(f\"Required Argument: {required_arg} -> Hauptaufgabe\")\n",
    "\n",
    "    if args:\n",
    "        print(f\"Args: {args} -> Extra Aufgabe mit allen variablen Argumenten\")\n",
    "\n",
    "    if kwargs:\n",
    "        print(f\"Kwargs: {kwargs} -> Extra Aufgabe für alle weiteren Key-Value Pairs\")"
   ]
  },
  {
   "cell_type": "code",
   "execution_count": 23,
   "metadata": {},
   "outputs": [
    {
     "name": "stdout",
     "output_type": "stream",
     "text": [
      "Required Argument: Normal Parameter -> Hauptaufgabe\n"
     ]
    }
   ],
   "source": [
    "do_special_work(\"Normal Parameter\")"
   ]
  },
  {
   "cell_type": "code",
   "execution_count": 24,
   "metadata": {},
   "outputs": [
    {
     "name": "stdout",
     "output_type": "stream",
     "text": [
      "Required Argument: Normal Parameter und Args -> Hauptaufgabe\n",
      "Args: (1, 2, '3', 4, 5) -> Extra Aufgabe mit allen variablen Argumenten\n"
     ]
    }
   ],
   "source": [
    "do_special_work(\"Normal Parameter und Args\", 1, 2, '3', 4, 5)"
   ]
  },
  {
   "cell_type": "code",
   "execution_count": 21,
   "metadata": {},
   "outputs": [
    {
     "name": "stdout",
     "output_type": "stream",
     "text": [
      "Required Argument: Normal Parameter, Args und Kwargs -> Hauptaufgabe\n",
      "Args: (1, 2, '3', 4, 5) -> Extra Aufgabe mit allen variablen Argumenten\n",
      "Kwargs: {'keyword0': [1, 3, 4], 'keyword1': 4, 'keyword2': 'foo'} -> Extra Aufgabe für alle weiteren Key-Value Pairs\n"
     ]
    }
   ],
   "source": [
    "do_special_work(\"Normal Parameter, Args und Kwargs\", 1, 2, '3', 4, 5, keyword0=[1, 3, 4], keyword1=4, keyword2=\"foo\")"
   ]
  },
  {
   "cell_type": "code",
   "execution_count": 1,
   "metadata": {},
   "outputs": [],
   "source": [
    "def wrong_usage(*numbers, name) -> None:\n",
    "    for number in numbers:\n",
    "        print(number) "
   ]
  },
  {
   "cell_type": "code",
   "execution_count": 7,
   "metadata": {},
   "outputs": [
    {
     "ename": "TypeError",
     "evalue": "wrong_usage() missing 1 required keyword-only argument: 'name'",
     "output_type": "error",
     "traceback": [
      "\u001b[1;31m---------------------------------------------------------------------------\u001b[0m",
      "\u001b[1;31mTypeError\u001b[0m                                 Traceback (most recent call last)",
      "\u001b[1;32mC:\\Users\\MEINES~1\\AppData\\Local\\Temp/ipykernel_11540/3902454885.py\u001b[0m in \u001b[0;36m<module>\u001b[1;34m\u001b[0m\n\u001b[1;32m----> 1\u001b[1;33m \u001b[0mwrong_usage\u001b[0m\u001b[1;33m(\u001b[0m\u001b[1;36m1\u001b[0m\u001b[1;33m,\u001b[0m\u001b[1;36m2\u001b[0m\u001b[1;33m,\u001b[0m\u001b[1;36m3\u001b[0m\u001b[1;33m,\u001b[0m\u001b[1;36m4\u001b[0m\u001b[1;33m,\u001b[0m\u001b[1;36m5\u001b[0m\u001b[1;33m,\u001b[0m\u001b[1;36m6\u001b[0m\u001b[1;33m,\u001b[0m\u001b[1;36m7\u001b[0m\u001b[1;33m,\u001b[0m \u001b[1;34m\"test\"\u001b[0m\u001b[1;33m)\u001b[0m\u001b[1;33m\u001b[0m\u001b[1;33m\u001b[0m\u001b[0m\n\u001b[0m",
      "\u001b[1;31mTypeError\u001b[0m: wrong_usage() missing 1 required keyword-only argument: 'name'"
     ]
    }
   ],
   "source": [
    "wrong_usage(1,2,3,4,5,6,7, \"test\")"
   ]
  }
 ],
 "metadata": {
  "interpreter": {
   "hash": "8edcae8aee8b9f77d273e745edc9899fcb323bc44a6c60d119c52fd1eee6c242"
  },
  "kernelspec": {
   "display_name": "Python 3.10.0 64-bit ('venv': venv)",
   "language": "python",
   "name": "python3"
  },
  "language_info": {
   "codemirror_mode": {
    "name": "ipython",
    "version": 3
   },
   "file_extension": ".py",
   "mimetype": "text/x-python",
   "name": "python",
   "nbconvert_exporter": "python",
   "pygments_lexer": "ipython3",
   "version": "3.10.5"
  },
  "orig_nbformat": 4
 },
 "nbformat": 4,
 "nbformat_minor": 2
}
