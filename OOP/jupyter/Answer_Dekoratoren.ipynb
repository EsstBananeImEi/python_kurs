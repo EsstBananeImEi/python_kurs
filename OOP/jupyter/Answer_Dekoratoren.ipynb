{
 "cells": [
  {
   "cell_type": "markdown",
   "metadata": {},
   "source": [
    "# Aufgabe Dekoratoren\n",
    "\n",
    "### Aufgabe 1\n",
    "\n",
    "Es wird eine möglichkeit gesucht mit der wir die Methode calc() die zwei zahlen entgegen nimmt, so erweitern, das die übergebenen zahlen miteinander multipliziert und mit dem Text \"Das Ergebnis ist: x\" ausgegeben werden. Die calc()-Methode soll erst den Text \"Kalkuliere...\" ausgeben, dann soll der Ergebnis Text erscheinen.\n",
    "\n",
    "Tip:\n",
    "1. Schreibe einen Dekorator, der die zahlen Multipliziert. Denke an den Aufbau des Dekorators und die übergabe der zwei Zahlen.\n",
    "2. Schreibe die calc() Methode\n",
    "\n",
    "### Aufgabe 2\n",
    "Schreibe eine Funktion in der die Datei \"meal.txt\" ausgelesen werden soll, die aber nicht existiert, dies wird zu einer\n",
    "Exception führen, schreibe dafür einen Dekorator, der prüft ob die Datei vorhanden ist. Sollte die Datei\n",
    "nicht vorhanden sein, soll keine Exception geworfen werden, sondern es soll eine nachricht über das fehlen der datei\n",
    "angezeigt werden.\n",
    "<br>\n",
    "<br>\n",
    "Es gibt zwar funktionen für genau diesen fall, aber in manchen usecases braucht man etwas eigenes, hier bieten sich dekoratoren sehr gut an.\n",
    "<br>\n",
    "<br>\n",
    "zum überprüfen deiner implementation kannst du die Datei ../../Materialien/meal.txt benutzen\n",
    "\n",
    "Tip: Um zu prüfen ob eine Datei existiert kannst du z.b folgendes machen:\n",
    "1. import os\n",
    "2. mit os.path.isfile() könntest du prüfen es sich um eine Datei handelt, die funktion impliziert die Methode exists() aber nur für dateien, nicht für Ornder\n",
    "3. mit os.path.exists() könntest du prüfen ob die/der Datei/Ornder existiert"
   ]
  },
  {
   "cell_type": "markdown",
   "metadata": {},
   "source": [
    "### Answer 1"
   ]
  },
  {
   "cell_type": "code",
   "execution_count": 1,
   "metadata": {},
   "outputs": [],
   "source": [
    "def multipliziere(func) -> lambda: function:\n",
    "    def wrapper(zahl_1: int, zahl_2: int) -> None:\n",
    "        func(zahl_1, zahl_2)\n",
    "        print(f\"Das Ergebnis ist: {zahl_1 * zahl_2}\")\n",
    "\n",
    "    return wrapper"
   ]
  },
  {
   "cell_type": "code",
   "execution_count": 2,
   "metadata": {},
   "outputs": [],
   "source": [
    "@multipliziere\n",
    "def calc(zahl_1: int, zahl_2:int) -> None:\n",
    "    print(\"Kalkuliere...\")"
   ]
  },
  {
   "cell_type": "code",
   "execution_count": 3,
   "metadata": {},
   "outputs": [
    {
     "name": "stdout",
     "output_type": "stream",
     "text": [
      "Kalkuliere...\n",
      "Das Ergebnis ist: 4\n"
     ]
    }
   ],
   "source": [
    "calc(2,2)"
   ]
  },
  {
   "cell_type": "markdown",
   "metadata": {},
   "source": [
    "### Answer 2"
   ]
  },
  {
   "cell_type": "code",
   "execution_count": 7,
   "metadata": {},
   "outputs": [],
   "source": [
    "import os\n",
    "\n",
    "def is_file(func) -> lambda: function:\n",
    "    def check_file(file) ->  lambda: function or None:\n",
    "        if os.path.isfile(file):\n",
    "            return func(file)\n",
    "        else:\n",
    "            print(f\"Die Datei {file} existiert nicht!!\")\n",
    "\n",
    "    return check_file"
   ]
  },
  {
   "cell_type": "code",
   "execution_count": 8,
   "metadata": {},
   "outputs": [],
   "source": [
    "@is_file\n",
    "def read_file(file) -> None:\n",
    "    with open(file, \"r\", encoding=\"utf8\") as file:\n",
    "        print(file.read())"
   ]
  },
  {
   "cell_type": "code",
   "execution_count": 9,
   "metadata": {},
   "outputs": [
    {
     "name": "stdout",
     "output_type": "stream",
     "text": [
      "Ham and Eggs Upside Down\n",
      "Zutaten für 1 Portionen:\n",
      "4 Scheibe/n\tBacon\n",
      "1\tEi(er), Größe L\n",
      "etwas\tKräutersalz\n",
      "n. B.\tSchnittlauchröllchen\n",
      "\n",
      "\n",
      "Eine kleine beschichtete Pfanne erhitzen und die Baconscheiben auf einer Seite anbraten. Bacon wenden und jetzt das Spiegelei langsam auf die Speckscheiben gleiten lassen. Temperatur herunterschalten und so lange braten, bis das Eiweiß fest ist.\n",
      "\n",
      "Nun mit einem Pfannenwender das komplette Ham and Egg umdrehen und kurz weiterbraten. Danach wieder zurückdrehen und mit etwas Kräutersalz würzen und sofort servieren.\n",
      "\n",
      "Arbeitszeit\tca. 5 Minuten\n",
      "Koch-/Backzeit\tca. 10 Minuten\n",
      "Gesamtzeit\tca. 15 Minuten\n",
      "Schwierigkeitsgrad\tsimpel\n",
      "\n"
     ]
    }
   ],
   "source": [
    "read_file(\"../../Materialien/meal.txt\")"
   ]
  }
 ],
 "metadata": {
  "interpreter": {
   "hash": "8edcae8aee8b9f77d273e745edc9899fcb323bc44a6c60d119c52fd1eee6c242"
  },
  "kernelspec": {
   "display_name": "Python 3.10.0 64-bit ('venv': venv)",
   "language": "python",
   "name": "python3"
  },
  "language_info": {
   "codemirror_mode": {
    "name": "ipython",
    "version": 3
   },
   "file_extension": ".py",
   "mimetype": "text/x-python",
   "name": "python",
   "nbconvert_exporter": "python",
   "pygments_lexer": "ipython3",
   "version": "3.10.0"
  },
  "orig_nbformat": 4
 },
 "nbformat": 4,
 "nbformat_minor": 2
}
