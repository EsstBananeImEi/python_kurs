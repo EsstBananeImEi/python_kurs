{
 "cells": [
  {
   "cell_type": "markdown",
   "metadata": {},
   "source": [
    "# Klassen\n",
    "\n",
    "<h3>\n",
    "Mit Klassen wird unser Quellcode übersichtlicher und Strukturierter.\n",
    "Klassen sollten im Clean Code wie Funktionen auch möglichst klein sein, eine Aufgabe erledigen, Variablen sollten Private sein. \n",
    "<br>\n",
    "In der Objektorientierten Programmierung, hat man sich geeinigt, das jede Klasse eine eigene Datei erhält, es sollten nach möglichkeit nicht mehrere Klassen in einer Datei stehen."
   ]
  },
  {
   "cell_type": "code",
   "execution_count": 1,
   "metadata": {},
   "outputs": [],
   "source": [
    "class Bear():\n",
    "    name = \"balu\"\n",
    "    alter = 20\n",
    "    gewicht = 450\n",
    "    groesse = 250"
   ]
  },
  {
   "cell_type": "code",
   "execution_count": 4,
   "metadata": {},
   "outputs": [
    {
     "name": "stdout",
     "output_type": "stream",
     "text": [
      "20\n",
      "balu\n"
     ]
    }
   ],
   "source": [
    "balu_der_bear = Bear()\n",
    "print(balu_der_bear.alter)\n",
    "print(balu_der_bear.name)"
   ]
  },
  {
   "cell_type": "code",
   "execution_count": 6,
   "metadata": {},
   "outputs": [
    {
     "name": "stdout",
     "output_type": "stream",
     "text": [
      "Balu der Bär\n"
     ]
    }
   ],
   "source": [
    "balu_der_bear.name = \"Balu der Bär\"\n",
    "print(balu_der_bear.name)"
   ]
  },
  {
   "cell_type": "code",
   "execution_count": 7,
   "metadata": {},
   "outputs": [
    {
     "name": "stdout",
     "output_type": "stream",
     "text": [
      "Fisch\n"
     ]
    }
   ],
   "source": [
    "balu_der_bear.nahrung = \"Fisch\"\n",
    "print(balu_der_bear.nahrung)"
   ]
  }
 ],
 "metadata": {
  "interpreter": {
   "hash": "8edcae8aee8b9f77d273e745edc9899fcb323bc44a6c60d119c52fd1eee6c242"
  },
  "kernelspec": {
   "display_name": "Python 3.10.0 64-bit ('venv': venv)",
   "language": "python",
   "name": "python3"
  },
  "language_info": {
   "codemirror_mode": {
    "name": "ipython",
    "version": 3
   },
   "file_extension": ".py",
   "mimetype": "text/x-python",
   "name": "python",
   "nbconvert_exporter": "python",
   "pygments_lexer": "ipython3",
   "version": "3.10.0"
  },
  "orig_nbformat": 4
 },
 "nbformat": 4,
 "nbformat_minor": 2
}
