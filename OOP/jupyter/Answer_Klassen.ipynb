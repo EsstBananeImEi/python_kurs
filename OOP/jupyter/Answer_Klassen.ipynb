{
 "cells": [
  {
   "cell_type": "markdown",
   "metadata": {},
   "source": [
    "# Answer Klassen\n",
    "\n",
    "### Aufgabe 1\n",
    "\n",
    "Es wird eine Klasse benötigt, mit der man Personen mit folgenden eigenschaften erstellen kann, die eigenschaften sollen nicht über den Konstruktor gesetzt werden:\n",
    "\n",
    "- Name\n",
    "- Alter\n",
    "- Geschlecht\n",
    "\n",
    "Es wird für jede Eigenschaft eine Funktion benötigt um den wert zu setzen (Setter), zudem soll es eine Funktion \"birthday\" geben, die das alter um 1 erhöht wenn sie aufgerufen wird und eine Funktion talk mit der sich die person vorstellen kann (Mein name ist ... ich bin ... jahre alt).\n",
    "\n",
    "Nach der Implementierung teste deine Klasse:\n",
    "1. Erzeuge ein Objekt der Klasse Person. Speichere dabei das Objekt in einer Variablen person.\n",
    "2. Setze den Namen des Objekts auf Alice.\n",
    "3. Setze das Alter des Objekts auf 22.\n",
    "4. Lasse die Person sprechen.\n",
    "5. Lasse die Person ihren Geburtstag feiern. \n",
    "6. Überprüfe mit der Methode talk(), ob das Alter\n",
    "um eins erhöht wurde\n",
    "\n",
    "### Aufgabe 2\n",
    "Es wird eine Neue Klasse namens Mensch gewünscht die ihre eigenschaften und methoden an eine Person vererbt. Zudem wird eine Neue Eigenschaft \"augenfarbe\" gewünscht, sowie eine methode um die Augenfarbe zu setzen. Wenn die Person sich vorstellt soll die Augenfarbe ebenfalls vorkommen wenn sie gesetzt ist.\n",
    "<br>\n",
    "\n",
    "Teste wieder deine Implementierung:\n",
    "1. Erzeige ein Objekt der Klasse Person. Speichere das Objekt in der Variable \"Petra\"\n",
    "2. Setze den Namen des Objekts auf Petra.\n",
    "3. Setze das Alter des Objekts auf 44.\n",
    "5. Lasse die Person sprechen.\n",
    "7. Überprüfe mit der Methode talk(), ob das Alter\n",
    "um eins erhöht wurde (ohne Augenfarbe)\n",
    "7. Setze die Augenfarbe auf \"Blau\"\n",
    "8. Überprüfe wieder über die Methode talk(), ob nun auch die Augenfarbe ausgegeben wird. \n",
    "\n",
    "### Aufgabe 3\n",
    "Es wird ein Programm benötigt in dem wir einer Person (nennen wir die Person mal \"Programmierer\") ein Arbeitsgerät Laptop oder DesktopPc zugewiesen werden kann.<br>\n",
    "<br>\n",
    "Die Arbeitsgeräte benötigen die Eigenschaften und Methoden für:\n",
    "\n",
    "- Eigenschaften:\n",
    "    - die Architekture (64 oder 32 bit)\n",
    "    - das Betriebssystem (Windows / Linx...)\n",
    "- Methoden:\n",
    "    - das Starten eines Prozesses, dieser Prozess soll z.b folgendes ausgeben:\n",
    "        - Starte Laptop Prozess für \\<Windows> <64 bit>\n",
    "\n",
    "Für den Programmierer werden die Eigenschaften und Methoden:\n",
    "\n",
    "- Eigenschaften:\n",
    "    - für den Name\n",
    "    - für das Team in dem er eingesetzt ist\n",
    "- Methoden:\n",
    "    - für das aufnehmen seiner Arbeit, diese Funktion soll folgende aufgaben haben:\n",
    "        - Das ausgeben einer Nachricht, das er seine Arbeit beginnt\n",
    "        - Das ausführen der Funktion um den Prozess von Laptop oder DesktopPc zu starten\n",
    "    - um die Aktiven Programmierer anzuzeigen\n",
    "\n",
    "Wenn er Programmierer seine Arbeit aufnimmt soll er einer Liste hinzugefügt werden um diese über eine Seperate Funktion abzufragen, die Funktion soll auch über die Klasse aufrufbar sein (Programmierer.deine_methode()).\n",
    "Wenn ein Programmierer \"Zerstört\" wird, soll er aus der Liste entfernt werden.\n",
    "    <br>\n",
    "    <br>\n",
    "\n",
    "- Tips:\n",
    "    1. Lasse Laptop und DesktopPc von einer Mutterklasse Erben, falls du nicht weißt was gemeint ist, überlege dir \"Was ist ein Laptop und was ist ein DesktopPc im Allgemeinen\"\n",
    "    2. Aktive Programmierer Anzeigen, denke daran das es verschiedene Arten von Methoden gibt staticmethod... mit einer dieser methoden kannst du dies umsetzen.\n",
    "    3. Zum Entfernen des Programmierers aus der liste, brauchst du den gegenpart zum Konstruktor.\n",
    "    "
   ]
  },
  {
   "cell_type": "markdown",
   "metadata": {},
   "source": [
    "### Answer 1"
   ]
  },
  {
   "cell_type": "code",
   "execution_count": 1,
   "metadata": {},
   "outputs": [],
   "source": [
    "class Person:\n",
    "    def __init__(self) -> None:\n",
    "        self.name = None\n",
    "        self.alter = None\n",
    "        self.geschlecht = None\n",
    "\n",
    "    def set_name(self, name: str) -> None:\n",
    "        self.name = name\n",
    "\n",
    "    def set_alter(self, alter: int) -> None:\n",
    "        self.alter = alter\n",
    "\n",
    "    def set_geschlecht(self, geschlecht: str) -> None:\n",
    "        self.geschlecht = geschlecht\n",
    "\n",
    "    def birthday(self) -> None:\n",
    "        self.alter += 1\n",
    "\n",
    "    def talk(self) -> None:\n",
    "        print(f\"Mein Name ist {self.name} ich bin {self.alter} Jahre alt.\")"
   ]
  },
  {
   "cell_type": "code",
   "execution_count": 2,
   "metadata": {},
   "outputs": [
    {
     "name": "stdout",
     "output_type": "stream",
     "text": [
      "Mein Name ist Alice ich bin 22 Jahre alt.\n"
     ]
    }
   ],
   "source": [
    "alice = Person()\n",
    "alice.set_name(\"Alice\")\n",
    "alice.set_alter(22)\n",
    "alice.talk()"
   ]
  },
  {
   "cell_type": "code",
   "execution_count": 3,
   "metadata": {},
   "outputs": [
    {
     "name": "stdout",
     "output_type": "stream",
     "text": [
      "Mein Name ist Alice ich bin 23 Jahre alt.\n"
     ]
    }
   ],
   "source": [
    "alice.birthday()\n",
    "alice.talk()"
   ]
  },
  {
   "cell_type": "markdown",
   "metadata": {},
   "source": [
    "### Answer 2"
   ]
  },
  {
   "cell_type": "code",
   "execution_count": 4,
   "metadata": {},
   "outputs": [],
   "source": [
    "class Mensch:\n",
    "    def __init__(self) -> None:\n",
    "        self.name = None\n",
    "        self.alter = None\n",
    "        self.geschlecht = None\n",
    "        self.augenfarbe = None\n",
    "\n",
    "    def set_name(self, name: str) -> None:\n",
    "        self.name = name\n",
    "\n",
    "    def set_alter(self, alter: int) -> None:\n",
    "        self.alter = alter\n",
    "\n",
    "    def set_geschlecht(self, geschlecht: str) -> None:\n",
    "        self.geschlecht = geschlecht\n",
    "\n",
    "    def set_augenfarbe(self, augenfarbe: str) -> None:\n",
    "        self.augenfarbe = augenfarbe\n",
    "\n",
    "    def birthday(self) -> None:\n",
    "        self.alter += 1\n",
    "\n",
    "    def talk(self) -> None:\n",
    "        if self.augenfarbe is not None:\n",
    "            print(f\"Mein Name ist {self.name} ich bin {self.alter} Jahre alt und meine Augenfarbe ist {self.augenfarbe}\")\n",
    "        else:\n",
    "            print(f\"Mein Name ist {self.name} ich bin {self.alter} Jahre alt.\")\n",
    "\n",
    "class Person(Mensch):\n",
    "    pass"
   ]
  },
  {
   "cell_type": "code",
   "execution_count": 5,
   "metadata": {},
   "outputs": [
    {
     "name": "stdout",
     "output_type": "stream",
     "text": [
      "Mein Name ist Petra ich bin 44 Jahre alt.\n"
     ]
    }
   ],
   "source": [
    "petra = Person()\n",
    "petra.set_name(\"Petra\")\n",
    "petra.set_alter(44)\n",
    "petra.talk()"
   ]
  },
  {
   "cell_type": "code",
   "execution_count": 6,
   "metadata": {},
   "outputs": [
    {
     "name": "stdout",
     "output_type": "stream",
     "text": [
      "Mein Name ist Petra ich bin 44 Jahre alt und meine Augenfarbe ist blau\n"
     ]
    }
   ],
   "source": [
    "petra.set_augenfarbe(\"blau\")\n",
    "petra.talk()"
   ]
  },
  {
   "cell_type": "markdown",
   "metadata": {},
   "source": [
    "### Answer 3"
   ]
  },
  {
   "cell_type": "code",
   "execution_count": 77,
   "metadata": {},
   "outputs": [],
   "source": [
    "from abc import ABC, abstractmethod\n",
    "class Computer(ABC):\n",
    "\n",
    "    def __init__(self, architecture: str, os_system: str) -> None:\n",
    "        self.architecture = architecture\n",
    "        self.os_system = os_system\n",
    "\n",
    "    @abstractmethod\n",
    "    def start_process(self) -> None:\n",
    "        pass\n",
    "\n",
    "class Laptop(Computer):\n",
    "    def start_process(self) -> None:\n",
    "        print(f\"Starte Laptop Prozess für {self.os_system} {self.architecture}\")\n",
    "\n",
    "class Desktop(Computer):\n",
    "    def start_process(self) -> None:\n",
    "        print(f\"Starte Desktop Prozess für {self.os_system} {self.architecture}\")"
   ]
  },
  {
   "cell_type": "code",
   "execution_count": 99,
   "metadata": {},
   "outputs": [],
   "source": [
    "class Programmer:\n",
    "    programmers = []\n",
    "    def __init__(self, name: str, team: str) -> None:\n",
    "        self.name = name\n",
    "        self.team = team\n",
    "\n",
    "    def __del__(self) -> None:\n",
    "        self.programmers.remove(self.name)\n",
    "\n",
    "    @classmethod\n",
    "    def get_aktive_programmers(cls) -> str:\n",
    "        if len(cls.programmers) == 0: return \"Kein Aktiver Programmierer\"\n",
    "        return f\"Aktive Programmierer: {', '.join(cls.programmers)}\"\n",
    "        \n",
    "    def beginn_work(self, computer: Computer) -> None:\n",
    "        print(f\"{self.name} beginnt seine Arbeit\")\n",
    "        if not self.name in self.programmers:\n",
    "            self.programmers.append(self.name)\n",
    "        computer.start_process()\n"
   ]
  },
  {
   "cell_type": "code",
   "execution_count": 79,
   "metadata": {},
   "outputs": [],
   "source": [
    "# Inizialisieren der Arbeitsgeräte\n",
    "laptop = Laptop(\"32 bit\", \"Linux\")\n",
    "desktop = Desktop(\"64 bit\", \"Windows\")\n"
   ]
  },
  {
   "cell_type": "code",
   "execution_count": 110,
   "metadata": {},
   "outputs": [],
   "source": [
    "# Inizialisieren der Programmierer\n",
    "heike = Programmer(\"Heike\", \"Python\")\n",
    "peter = Programmer(\"Peter\", \"C#\")\n",
    "martin = Programmer(\"Martin\", \"Java\")"
   ]
  },
  {
   "cell_type": "code",
   "execution_count": 111,
   "metadata": {},
   "outputs": [
    {
     "name": "stdout",
     "output_type": "stream",
     "text": [
      "Heike beginnt seine Arbeit\n",
      "Starte Laptop Prozess für Linux 32 bit\n",
      "Peter beginnt seine Arbeit\n",
      "Starte Desktop Prozess für Windows 64 bit\n",
      "Martin beginnt seine Arbeit\n",
      "Starte Desktop Prozess für Windows 64 bit\n"
     ]
    },
    {
     "data": {
      "text/plain": [
       "'Aktive Programmierer: Heike, Peter, Martin'"
      ]
     },
     "execution_count": 111,
     "metadata": {},
     "output_type": "execute_result"
    }
   ],
   "source": [
    "# Beginn der Arbeitsaufnahme\n",
    "heike.beginn_work(laptop)\n",
    "peter.beginn_work(desktop)\n",
    "martin.beginn_work(desktop)\n",
    "\n",
    "Programmer.get_aktive_programmers()"
   ]
  },
  {
   "cell_type": "code",
   "execution_count": 108,
   "metadata": {},
   "outputs": [
    {
     "data": {
      "text/plain": [
       "'Aktive Programmierer: Heike, Martin'"
      ]
     },
     "execution_count": 108,
     "metadata": {},
     "output_type": "execute_result"
    }
   ],
   "source": [
    "peter = None\n",
    "Programmer.get_aktive_programmers()"
   ]
  }
 ],
 "metadata": {
  "interpreter": {
   "hash": "8edcae8aee8b9f77d273e745edc9899fcb323bc44a6c60d119c52fd1eee6c242"
  },
  "kernelspec": {
   "display_name": "Python 3.10.0 64-bit ('venv': venv)",
   "language": "python",
   "name": "python3"
  },
  "language_info": {
   "codemirror_mode": {
    "name": "ipython",
    "version": 3
   },
   "file_extension": ".py",
   "mimetype": "text/x-python",
   "name": "python",
   "nbconvert_exporter": "python",
   "pygments_lexer": "ipython3",
   "version": "3.10.0"
  },
  "orig_nbformat": 4
 },
 "nbformat": 4,
 "nbformat_minor": 2
}
