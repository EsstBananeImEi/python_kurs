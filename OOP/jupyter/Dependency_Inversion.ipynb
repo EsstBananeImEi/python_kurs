{
 "cells": [
  {
   "cell_type": "markdown",
   "metadata": {},
   "source": [
    "# Python Dependency Inversion\n",
    "\n",
    "Dependency Inversion ist ein Schlüsselprinzip, das dabei hilft Code auf einfache weise wieder zu verwenden.\n",
    "Es ist Teil der SOLID Prinzipien\n",
    "\n",
    "- S - Single-responsiblity Principle\n",
    "- O - Open-closed Principle\n",
    "- L - Liskov Substitution Principle\n",
    "- I - Interface Segregation Principle\n",
    "- <b>D - Dependency Inversion Principle</b>\n",
    "\n",
    "Das Prinzip der Dependency Inversion besagt, dass:\n",
    "\n",
    "- High-Level-Module sollten nicht von den Low-Level-Modulen abhängen. Beide sollten von Abstraktionen abhängen.\n",
    "- Abstraktionen sollten nicht von Details abhängen. Details sollten von Abstraktionen abhängen.\n",
    "\n",
    "Das Prinzip der Dependency Inversion zielt darauf ab, die Kopplung zwischen Klassen zu reduzieren, indem eine Abstraktionsschicht zwischen ihnen geschaffen wird."
   ]
  },
  {
   "cell_type": "markdown",
   "metadata": {},
   "source": [
    "#### Beispiel ohne Dependency Inversion"
   ]
  },
  {
   "cell_type": "code",
   "execution_count": 17,
   "metadata": {},
   "outputs": [
    {
     "name": "stdout",
     "output_type": "stream",
     "text": [
      "Lightbulb: turned on...\n",
      "Lightbulb: turned off...\n"
     ]
    }
   ],
   "source": [
    "class LightBulb:\n",
    "    def turn_on(self):\n",
    "        print(\"Lightbulb: turned on...\")\n",
    "        \n",
    "    def turn_off(self):\n",
    "        print(\"Lightbulb: turned off...\")\n",
    "\n",
    "\n",
    "class ElectricPowerSwitch:\n",
    "    def __init__(self, light_bulb: LightBulb) -> None:\n",
    "        self.light_bulb = light_bulb\n",
    "        self.isOn = False\n",
    "        \n",
    "    def press(self):\n",
    "        if self.isOn:\n",
    "            self.light_bulb.turn_off()\n",
    "            self.isOn = False\n",
    "        else:\n",
    "            self.light_bulb.turn_on()\n",
    "            self.isOn = True\n",
    "            \n",
    "light_bulb = LightBulb()\n",
    "switch = ElectricPowerSwitch(light_bulb)\n",
    "switch.press()\n",
    "switch.press()"
   ]
  },
  {
   "cell_type": "markdown",
   "metadata": {},
   "source": [
    "#### With Dependency Inversion"
   ]
  },
  {
   "cell_type": "code",
   "execution_count": 2,
   "metadata": {},
   "outputs": [
    {
     "name": "stdout",
     "output_type": "stream",
     "text": [
      "Fan: turned on...\n",
      "Lightbulb: turned on...\n",
      "Fan: turned off...\n",
      "Lightbulb: turned off...\n"
     ]
    }
   ],
   "source": [
    "from abc import ABC, abstractmethod\n",
    "\n",
    "class Switchable(ABC):\n",
    "    @abstractmethod\n",
    "    def turn_on(self):\n",
    "        pass\n",
    "    @abstractmethod\n",
    "    def turn_off(self):\n",
    "        pass\n",
    "    \n",
    "    \n",
    "class LightBulb(Switchable):\n",
    "    def turn_on(self):\n",
    "        print(\"Lightbulb: turned on...\")\n",
    "        \n",
    "    def turn_off(self):\n",
    "        print(\"Lightbulb: turned off...\")\n",
    "\n",
    "class Fan(Switchable):\n",
    "    def turn_on(self):\n",
    "        print(\"Fan: turned on...\")\n",
    "        \n",
    "    def turn_off(self):\n",
    "        print(\"Fan: turned off...\")\n",
    "\n",
    "class ElectricPowerSwitch:\n",
    "    def __init__(self, client: Switchable) -> None:\n",
    "        self.client = client\n",
    "        self.isOn = False\n",
    "        \n",
    "    def press(self):\n",
    "        if self.isOn:\n",
    "            self.client.turn_off()\n",
    "            self.isOn = False\n",
    "        else:\n",
    "            self.client.turn_on()\n",
    "            self.isOn = True\n",
    "            \n",
    "fan = Fan()\n",
    "light_bulb = LightBulb()\n",
    "light_switch = ElectricPowerSwitch(light_bulb)\n",
    "fan_switch = ElectricPowerSwitch(fan)\n",
    "fan_switch.press()\n",
    "light_switch.press()\n",
    "fan_switch.press()\n",
    "light_switch.press()"
   ]
  },
  {
   "cell_type": "code",
   "execution_count": 4,
   "metadata": {},
   "outputs": [
    {
     "name": "stdout",
     "output_type": "stream",
     "text": [
      "Fan: turned on...\n",
      "Computer: turned on...\n"
     ]
    }
   ],
   "source": [
    "class Computer(Switchable):\n",
    "    def turn_on(self):\n",
    "        print(\"Computer: turned on...\")\n",
    "        \n",
    "    def turn_off(self):\n",
    "        print(\"Computer: turned off...\")\n",
    "\n",
    "computer = Computer()\n",
    "computer_switch = ElectricPowerSwitch(computer)\n",
    "fan_switch.press()\n",
    "computer_switch.press()\n"
   ]
  },
  {
   "cell_type": "code",
   "execution_count": 11,
   "metadata": {},
   "outputs": [
    {
     "name": "stdout",
     "output_type": "stream",
     "text": [
      "Lightbulb: turned on...\n",
      "Lightbulb: turned off...\n",
      "Fan: turned on...\n",
      "Fan: turned off...\n",
      "Computer: turned on...\n",
      "Computer: turned off...\n"
     ]
    }
   ],
   "source": [
    "# Dependency Inversion Demo\n",
    "# Path: Dependency_Inversion.ipynb\n",
    "\n",
    "from abc import ABC, abstractmethod\n",
    "\n",
    "class Switchable(ABC):\n",
    "    @abstractmethod\n",
    "    def turn_on(self):\n",
    "        pass\n",
    "    @abstractmethod\n",
    "    def turn_off(self):\n",
    "        pass\n",
    "\n",
    "class Device(ABC):\n",
    "    @abstractmethod\n",
    "    def is_enabled(self):\n",
    "        pass\n",
    "    \n",
    "    @abstractmethod\n",
    "    def enable(self):\n",
    "        pass\n",
    "    \n",
    "    @abstractmethod\n",
    "    def disable(self):\n",
    "        pass\n",
    "\n",
    "class ElectricPowerSwitch(Device):\n",
    "    def __init__(self, client: Switchable) -> None:\n",
    "        self.client = client\n",
    "        self.on = False\n",
    "        \n",
    "    def is_enabled(self):\n",
    "        return self.on\n",
    "    \n",
    "    def enable(self):\n",
    "        if not self.is_enabled():\n",
    "            self.client.turn_on()\n",
    "            self.on = True\n",
    "            \n",
    "    def disable(self):\n",
    "        if self.is_enabled():\n",
    "            self.client.turn_off()\n",
    "            self.on = False\n",
    "\n",
    "class LightBulb(Switchable):\n",
    "    def turn_on(self):\n",
    "        print(\"Lightbulb: turned on...\")\n",
    "        \n",
    "    def turn_off(self):\n",
    "        print(\"Lightbulb: turned off...\")\n",
    "\n",
    "class Fan(Switchable):\n",
    "    def turn_on(self):\n",
    "        print(\"Fan: turned on...\")\n",
    "        \n",
    "    def turn_off(self):\n",
    "        print(\"Fan: turned off...\")\n",
    "\n",
    "class Computer(Switchable):\n",
    "    def turn_on(self):\n",
    "        print(\"Computer: turned on...\")\n",
    "        \n",
    "    def turn_off(self):\n",
    "        print(\"Computer: turned off...\")\n",
    "\n",
    "\n",
    "def use_device(*device: Device):\n",
    "    for dev in device:\n",
    "        dev.enable()\n",
    "        dev.disable()\n",
    "\n",
    "light_bulb = LightBulb()\n",
    "fan = Fan()\n",
    "computer = Computer()\n",
    "light_bulb_switch = ElectricPowerSwitch(light_bulb)\n",
    "fan_switch = ElectricPowerSwitch(fan)\n",
    "computer_switch = ElectricPowerSwitch(computer)\n",
    "\n",
    "use_device(light_bulb_switch, fan_switch, computer_switch)"
   ]
  },
  {
   "cell_type": "code",
   "execution_count": 14,
   "metadata": {},
   "outputs": [
    {
     "name": "stdout",
     "output_type": "stream",
     "text": [
      "Lightbulb: turned on...\n",
      "Lightbulb: turned off...\n",
      "Fan: turned on...\n",
      "Fan: turned off...\n",
      "Computer: turned on...\n",
      "Computer: turned off...\n",
      "Clack!\n",
      "CrankShaft: turned on...\n",
      "Clack!\n",
      "CrankShaft: turned off...\n"
     ]
    }
   ],
   "source": [
    "class MechanicalSwitchSound():\n",
    "    def play_sound(self):\n",
    "        print(\"Clack!\")\n",
    "\n",
    "class MechanicalPowerSwitch(Device):\n",
    "    def __init__(self, client: Switchable, switch_sound: MechanicalSwitchSound) -> None:\n",
    "        self.client = client\n",
    "        self.on = False\n",
    "        self.switch_sound = switch_sound\n",
    "        \n",
    "    def is_enabled(self):\n",
    "        return self.on\n",
    "    \n",
    "    def enable(self):\n",
    "        if not self.is_enabled():\n",
    "            self.switch_sound.play_sound()\n",
    "            self.client.turn_on()\n",
    "            self.on = True\n",
    "            \n",
    "    def disable(self):\n",
    "        if self.is_enabled():\n",
    "            self.switch_sound.play_sound()\n",
    "            self.client.turn_off()\n",
    "            self.on = False\n",
    "\n",
    "class CrankShaft(Switchable):\n",
    "    def turn_on(self):\n",
    "        print(\"CrankShaft: turned on...\")\n",
    "        \n",
    "    def turn_off(self):\n",
    "        print(\"CrankShaft: turned off...\")\n",
    "\n",
    "\n",
    "crank = CrankShaft()\n",
    "crank_switch = MechanicalPowerSwitch(crank, MechanicalSwitchSound())\n",
    "\n",
    "use_device(light_bulb_switch, fan_switch, computer_switch, crank_switch)"
   ]
  },
  {
   "cell_type": "code",
   "execution_count": 16,
   "metadata": {},
   "outputs": [
    {
     "name": "stdout",
     "output_type": "stream",
     "text": [
      "Klick!\n",
      "Lightbulb: turned on...\n",
      "Klick!\n",
      "Lightbulb: turned off...\n",
      "Klick!\n",
      "Fan: turned on...\n",
      "Klick!\n",
      "Fan: turned off...\n",
      "Klick!\n",
      "Computer: turned on...\n",
      "Klick!\n",
      "Computer: turned off...\n",
      "Clack!\n",
      "CrankShaft: turned on...\n",
      "Clack!\n",
      "CrankShaft: turned off...\n"
     ]
    }
   ],
   "source": [
    "class Sound(ABC):\n",
    "    @abstractmethod\n",
    "    def play_sound(self):\n",
    "        pass\n",
    "\n",
    "class ElectricSwitchSound(Sound):\n",
    "    def play_sound(self):\n",
    "        print(\"Klick!\")\n",
    "\n",
    "class MechanicalSwitchSound(Sound):\n",
    "    def play_sound(self):\n",
    "        print(\"Clack!\")\n",
    "\n",
    "class PowerSwitch(Device):\n",
    "    def __init__(self, client: Switchable, switch_sound: Sound) -> None:\n",
    "        self.client = client\n",
    "        self.on = False\n",
    "        self.switch_sound = switch_sound\n",
    "        \n",
    "    def is_enabled(self):\n",
    "        return self.on\n",
    "    \n",
    "    def enable(self):\n",
    "        if not self.is_enabled():\n",
    "            self.switch_sound.play_sound()\n",
    "            self.client.turn_on()\n",
    "            self.on = True\n",
    "            \n",
    "    def disable(self):\n",
    "        if self.is_enabled():\n",
    "            self.switch_sound.play_sound()\n",
    "            self.client.turn_off()\n",
    "            self.on = False\n",
    "\n",
    "fan_switch = PowerSwitch(fan, ElectricSwitchSound())\n",
    "crank_switch = PowerSwitch(crank, MechanicalSwitchSound())\n",
    "light_bulb_switch = PowerSwitch(light_bulb, ElectricSwitchSound())\n",
    "computer_switch = PowerSwitch(computer, ElectricSwitchSound())\n",
    "\n",
    "use_device(light_bulb_switch, fan_switch, computer_switch, crank_switch)"
   ]
  }
 ],
 "metadata": {
  "interpreter": {
   "hash": "8edcae8aee8b9f77d273e745edc9899fcb323bc44a6c60d119c52fd1eee6c242"
  },
  "kernelspec": {
   "display_name": "Python 3.10.0 64-bit ('venv': venv)",
   "language": "python",
   "name": "python3"
  },
  "language_info": {
   "codemirror_mode": {
    "name": "ipython",
    "version": 3
   },
   "file_extension": ".py",
   "mimetype": "text/x-python",
   "name": "python",
   "nbconvert_exporter": "python",
   "pygments_lexer": "ipython3",
   "version": "3.10.5"
  },
  "orig_nbformat": 4
 },
 "nbformat": 4,
 "nbformat_minor": 2
}
