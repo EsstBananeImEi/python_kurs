{
 "cells": [
  {
   "cell_type": "markdown",
   "metadata": {},
   "source": [
    "# Python Dependency Inversion\n",
    "\n",
    "Dependency Inversion ist ein Schlüsselprinzip, das dabei hilft Code auf einfache weise wieder zu verwenden.\n",
    "Es ist Teil der SOLID Prinzipien\n",
    "\n",
    "- S - Single-responsiblity Principle\n",
    "- O - Open-closed Principle\n",
    "- L - Liskov Substitution Principle\n",
    "- I - Interface Segregation Principle\n",
    "- <b>D - Dependency Inversion Principle</b>\n",
    "\n",
    "Das Prinzip der Dependency Inversion besagt, dass:\n",
    "\n",
    "- High-Level-Module sollten nicht von den Low-Level-Modulen abhängen. Beide sollten von Abstraktionen abhängen.\n",
    "- Abstraktionen sollten nicht von Details abhängen. Details sollten von Abstraktionen abhängen.\n",
    "\n",
    "Das Prinzip der Dependency Inversion zielt darauf ab, die Kopplung zwischen Klassen zu reduzieren, indem eine Abstraktionsschicht zwischen ihnen geschaffen wird."
   ]
  },
  {
   "cell_type": "markdown",
   "metadata": {},
   "source": [
    "#### Beispiel ohne Dependency Inversion"
   ]
  },
  {
   "cell_type": "code",
   "execution_count": 17,
   "metadata": {},
   "outputs": [
    {
     "name": "stdout",
     "output_type": "stream",
     "text": [
      "Lightbulb: turned on...\n",
      "Lightbulb: turned off...\n"
     ]
    }
   ],
   "source": [
    "class LightBulb:\n",
    "    def turn_on(self):\n",
    "        print(\"Lightbulb: turned on...\")\n",
    "        \n",
    "    def turn_off(self):\n",
    "        print(\"Lightbulb: turned off...\")\n",
    "\n",
    "\n",
    "class ElectricPowerSwitch:\n",
    "    def __init__(self, light_bulb: LightBulb) -> None:\n",
    "        self.light_bulb = light_bulb\n",
    "        self.isOn = False\n",
    "        \n",
    "    def press(self):\n",
    "        if self.isOn:\n",
    "            self.light_bulb.turn_off()\n",
    "            self.isOn = False\n",
    "        else:\n",
    "            self.light_bulb.turn_on()\n",
    "            self.isOn = True\n",
    "            \n",
    "light_bulb = LightBulb()\n",
    "switch = ElectricPowerSwitch(light_bulb)\n",
    "switch.press()\n",
    "switch.press()"
   ]
  },
  {
   "cell_type": "markdown",
   "metadata": {},
   "source": [
    "#### With Dependency Inversion"
   ]
  },
  {
   "cell_type": "code",
   "execution_count": 22,
   "metadata": {},
   "outputs": [
    {
     "name": "stdout",
     "output_type": "stream",
     "text": [
      "Fan: turned on...\n",
      "Fan: turned off...\n"
     ]
    }
   ],
   "source": [
    "from abc import ABC, abstractmethod\n",
    "\n",
    "class Switchable(ABC):\n",
    "    @abstractmethod\n",
    "    def turn_on(self):\n",
    "        pass\n",
    "    @abstractmethod\n",
    "    def turn_off(self):\n",
    "        pass\n",
    "    \n",
    "    \n",
    "class LightBulb(Switchable):\n",
    "    def turn_on(self):\n",
    "        print(\"Lightbulb: turned on...\")\n",
    "        \n",
    "    def turn_off(self):\n",
    "        print(\"Lightbulb: turned off...\")\n",
    "\n",
    "class Fan(Switchable):\n",
    "    def turn_on(self):\n",
    "        print(\"Fan: turned on...\")\n",
    "        \n",
    "    def turn_off(self):\n",
    "        print(\"Fan: turned off...\")\n",
    "\n",
    "class ElectricPowerSwitch:\n",
    "    def __init__(self, client: Switchable) -> None:\n",
    "        self.client = client\n",
    "        self.isOn = False\n",
    "        \n",
    "    def press(self):\n",
    "        if self.isOn:\n",
    "            self.client.turn_off()\n",
    "            self.isOn = False\n",
    "        else:\n",
    "            self.client.turn_on()\n",
    "            self.isOn = True\n",
    "            \n",
    "client = Fan()\n",
    "switch = ElectricPowerSwitch(client)\n",
    "switch.press()\n",
    "switch.press()"
   ]
  }
 ],
 "metadata": {
  "interpreter": {
   "hash": "8edcae8aee8b9f77d273e745edc9899fcb323bc44a6c60d119c52fd1eee6c242"
  },
  "kernelspec": {
   "display_name": "Python 3.10.0 64-bit ('venv': venv)",
   "language": "python",
   "name": "python3"
  },
  "language_info": {
   "codemirror_mode": {
    "name": "ipython",
    "version": 3
   },
   "file_extension": ".py",
   "mimetype": "text/x-python",
   "name": "python",
   "nbconvert_exporter": "python",
   "pygments_lexer": "ipython3",
   "version": "3.10.0"
  },
  "orig_nbformat": 4
 },
 "nbformat": 4,
 "nbformat_minor": 2
}
