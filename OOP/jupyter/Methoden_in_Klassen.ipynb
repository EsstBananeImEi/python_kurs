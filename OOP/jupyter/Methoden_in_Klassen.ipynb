{
 "cells": [
  {
   "cell_type": "markdown",
   "metadata": {},
   "source": [
    "# Methoden / Funktionen in Klassen\n",
    "\n",
    "<h3>\n",
    "Eine \"Normale\" Methode innerhalb einer Klasse ist die instancemethod, dies sind normale Funktionen innerhalb einer Klasse, die Zugriff auf Eigenschaften von der Instanz besitzen aus der sie aufgerufen werden.<br>\n",
    "Wir können in Klassen Methoden definieren und/oder Methoden Überschreiben.\n",
    "Wir können die verfügbarkeit von Methoden oder Variablen steuern in dem wir sie für zugriffe von außen sperren, das erreichen wir mit \"_\" vor dem Methoden oder Variablen.<br>\n",
    "<h4>\n",
    "\n",
    "| Zeichen | Berechtigung | Beispiel |\n",
    "|:-----|:-----|:------|\n",
    "| | zugriff von außen erlaubt| def my_func()|\n",
    "|_| zugriff von außen nicht erlaubt, aber möglich | def _my_func()|\n",
    "|__| zugriff von außen nicht möglich | def __my_func()|\n",
    "\n",
    "<h3>\n",
    "In einem Späteren Kapitel werden wir uns die Privaten Methoden und Variablen etwas genauer ansehen. Zu diesem Zeitpunkt reicht es, das wir davon gehört haben.\n"
   ]
  },
  {
   "cell_type": "code",
   "execution_count": 1,
   "metadata": {},
   "outputs": [],
   "source": [
    "class Bear(object):\n",
    "    \n",
    "    def __init__(self, name, alter, gewicht, groesse):\n",
    "        self.name = name\n",
    "        self.alter = alter\n",
    "        self.gewicht = gewicht\n",
    "        self.groesse = groesse\n",
    "\n",
    "    # ToString\n",
    "    def __str__(self):\n",
    "        return f\"{self.name} ist {self.alter} Jahre alt, ist {self.groesse}cm groß und wiegt {self.gewicht}kg\"\n",
    "\n",
    "    # Equal\n",
    "    def __eq__(self, other):\n",
    "        return other.alter == self.alter\n",
    "\n",
    "    def schlafen(self, dauer):\n",
    "        print(f\"{self.name} schläft jetzt {dauer} minuten\")\n",
    "\n",
    "    def fressen(self):\n",
    "        print(f\"{self.name} frisst\")\n"
   ]
  },
  {
   "cell_type": "code",
   "execution_count": 10,
   "metadata": {},
   "outputs": [],
   "source": [
    "balu = Bear(\"balu\", 12, 450, 260)\n",
    "bruno = Bear(\"bruno\", 12, 400, 230)\n"
   ]
  },
  {
   "cell_type": "code",
   "execution_count": 13,
   "metadata": {},
   "outputs": [
    {
     "name": "stdout",
     "output_type": "stream",
     "text": [
      "balu ist 12 Jahre alt, ist 260cm groß und wiegt 450kg\n",
      "bruno ist 12 Jahre alt, ist 230cm groß und wiegt 400kg\n"
     ]
    }
   ],
   "source": [
    "print(balu)\n",
    "print(bruno)"
   ]
  },
  {
   "cell_type": "code",
   "execution_count": 14,
   "metadata": {},
   "outputs": [
    {
     "name": "stdout",
     "output_type": "stream",
     "text": [
      "balu schläft jetzt 10 minuten\n",
      "bruno schläft jetzt 5 minuten\n"
     ]
    }
   ],
   "source": [
    "\n",
    "balu.schlafen(10)\n",
    "bruno.schlafen(5)"
   ]
  },
  {
   "cell_type": "code",
   "execution_count": 15,
   "metadata": {},
   "outputs": [
    {
     "data": {
      "text/plain": [
       "True"
      ]
     },
     "execution_count": 15,
     "metadata": {},
     "output_type": "execute_result"
    }
   ],
   "source": [
    "bruno == balu"
   ]
  }
 ],
 "metadata": {
  "interpreter": {
   "hash": "8edcae8aee8b9f77d273e745edc9899fcb323bc44a6c60d119c52fd1eee6c242"
  },
  "kernelspec": {
   "display_name": "Python 3.10.0 64-bit ('venv': venv)",
   "language": "python",
   "name": "python3"
  },
  "language_info": {
   "codemirror_mode": {
    "name": "ipython",
    "version": 3
   },
   "file_extension": ".py",
   "mimetype": "text/x-python",
   "name": "python",
   "nbconvert_exporter": "python",
   "pygments_lexer": "ipython3",
   "version": "3.10.0"
  },
  "orig_nbformat": 4
 },
 "nbformat": 4,
 "nbformat_minor": 2
}
