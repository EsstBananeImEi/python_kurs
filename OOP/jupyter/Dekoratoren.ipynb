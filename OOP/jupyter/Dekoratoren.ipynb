{
 "cells": [
  {
   "attachments": {},
   "cell_type": "markdown",
   "metadata": {},
   "source": [
    "# Dekoratoren\n",
    "<h4>\n",
    "Dekoratoren werden verwendet um Methoden mit weiterer Funktionalität zu erweitern.\n",
    "<br>\n",
    "\n",
    "- Definition:<br>\n",
    "    Ein Dekorator ist ein aufrufbares Python Objekt, das ein Argument annimmt - die zu dekorierende Funktion.\n",
    "    In Python wird zwischen Signatur bewahrenden und Signatur verändernden Dekoratoren unterschieden.\n",
    "    Die klasssischen Beispiele für Signatur veränderten Dekoratoren sind die built-in staticmethod und classmethod.\n",
    "    Durch sie wird die Bindung der Methode an die Klasseninstanz aufgehoben.\n",
    "<br>\n",
    "<br>\n",
    "\n",
    "- Vorteile:<br>\n",
    "    Dekoratoren erlauben es, deklarativ zu programmieren, indem der Funktion ein Dekorator vorangestellt wird.\n",
    "    Dadurch wird die Kernfunktionalität um einen neuen Aspekt erweitert.\n",
    "    Insbesondere das Kapseln von Aspekten (Logging, Tracing) in Dekoratoren ermöglicht es,\n",
    "    die reine Funktionalität von der erweiterten Funktionalität zu trennen und diese wiederverwendbar zu halten.\n",
    "    Aspekte der Programmfunktionalität wie Logging müssen nicht mehr mit der Kerfunktionalität verwoben werden."
   ]
  },
  {
   "cell_type": "code",
   "execution_count": 1,
   "metadata": {},
   "outputs": [],
   "source": [
    "def outer_function(function) -> None:\n",
    "    print(\"Ich bin eine äußere Funktion\")\n",
    "    function()\n",
    "\n",
    "def inner_function() -> None:\n",
    "    print(\"Ich bin eine innere Funktion\")"
   ]
  },
  {
   "cell_type": "code",
   "execution_count": 2,
   "metadata": {},
   "outputs": [
    {
     "name": "stdout",
     "output_type": "stream",
     "text": [
      "Ich bin eine äußere Funktion\n",
      "Ich bin eine innere Funktion\n"
     ]
    }
   ],
   "source": [
    "outer_function(inner_function)"
   ]
  },
  {
   "cell_type": "code",
   "execution_count": 3,
   "metadata": {},
   "outputs": [],
   "source": [
    "def outer():\n",
    "    def inner():\n",
    "        print(\"Ich bin eine innere Funktion\")\n",
    "\n",
    "    return inner"
   ]
  },
  {
   "cell_type": "code",
   "execution_count": 4,
   "metadata": {},
   "outputs": [],
   "source": [
    "outer_function = outer()"
   ]
  },
  {
   "cell_type": "code",
   "execution_count": 5,
   "metadata": {},
   "outputs": [
    {
     "name": "stdout",
     "output_type": "stream",
     "text": [
      "Ich bin eine innere Funktion\n"
     ]
    }
   ],
   "source": [
    "outer_function()"
   ]
  },
  {
   "cell_type": "code",
   "execution_count": 6,
   "metadata": {},
   "outputs": [
    {
     "name": "stdout",
     "output_type": "stream",
     "text": [
      "Ich bin eine innere Funktion\n"
     ]
    }
   ],
   "source": [
    "outer()()"
   ]
  },
  {
   "cell_type": "code",
   "execution_count": 7,
   "metadata": {},
   "outputs": [],
   "source": [
    "def my_decorator(func):\n",
    "    def inner():\n",
    "        print(\"Ich bin eine innere Funktion\")\n",
    "        func()\n",
    "\n",
    "    return inner\n",
    "\n",
    "@my_decorator\n",
    "def outer() -> None:\n",
    "    print(\"Ich bin eine äußere Funktion\")"
   ]
  },
  {
   "cell_type": "code",
   "execution_count": 8,
   "metadata": {},
   "outputs": [
    {
     "name": "stdout",
     "output_type": "stream",
     "text": [
      "Ich bin eine innere Funktion\n",
      "Ich bin eine äußere Funktion\n"
     ]
    }
   ],
   "source": [
    "outer()"
   ]
  },
  {
   "cell_type": "markdown",
   "metadata": {},
   "source": [
    "<h3>\n",
    "Aktuell ist in unserer „dekorierten“ Funktion outer() nur ein Aufruf der print()-Funktion implementiert. \n",
    "Es kann allerdings vorkommen, dass wir auch in dieser Funktion einen Rückgabewert definieren wollen. \n"
   ]
  },
  {
   "cell_type": "code",
   "execution_count": 9,
   "metadata": {},
   "outputs": [],
   "source": [
    "def my_decorator(func):\n",
    "    def inner():\n",
    "        print(\"Ich bin eine innere Funktion\")\n",
    "        \"\"\"\n",
    "            Statt die Funktion func() einfach aufzurufen, \n",
    "            speichern wir den Rückgabewert der Funktion jetzt in der „rueckgabe“-Variable. \n",
    "            Diese können wir dann der print()-Funktion übergeben.\n",
    "        \"\"\"\n",
    "        outer_return = func()\n",
    "        print(outer_return)\n",
    "\n",
    "    return inner\n",
    "\n",
    "\n",
    "@my_decorator\n",
    "def outer() -> str:\n",
    "    return \"Ich bin eine äußere Funktion\""
   ]
  },
  {
   "cell_type": "code",
   "execution_count": 10,
   "metadata": {},
   "outputs": [
    {
     "name": "stdout",
     "output_type": "stream",
     "text": [
      "Ich bin eine innere Funktion\n",
      "Ich bin eine äußere Funktion\n"
     ]
    }
   ],
   "source": [
    "outer()"
   ]
  },
  {
   "cell_type": "markdown",
   "metadata": {},
   "source": [
    "<h3>\n",
    "Methoden benötigen oft auch Parameter, diese werden im Decorator ebenfalls angegeben"
   ]
  },
  {
   "cell_type": "code",
   "execution_count": 11,
   "metadata": {},
   "outputs": [],
   "source": [
    "def my_decorator(func):\n",
    "    def inner(my_message: str):\n",
    "        print(\"Ich bin eine innere Funktion\")\n",
    "        func(f\"{my_message} Decorators\")\n",
    "\n",
    "    return inner\n",
    "\n",
    "@my_decorator\n",
    "def outer(my_message: str) -> None:\n",
    "    print(my_message)"
   ]
  },
  {
   "cell_type": "code",
   "execution_count": 12,
   "metadata": {},
   "outputs": [
    {
     "name": "stdout",
     "output_type": "stream",
     "text": [
      "Ich bin eine innere Funktion\n",
      "Python Decorators\n"
     ]
    }
   ],
   "source": [
    "outer(\"Python\")"
   ]
  },
  {
   "cell_type": "markdown",
   "metadata": {},
   "source": [
    "<h3>\n",
    "manchmal benötigt man mehrere Dekoratoren, dies gestalltet sich sehr einfach, in dem man die Methode mit mehreren Dekoratoren dekoriert"
   ]
  },
  {
   "cell_type": "code",
   "execution_count": 13,
   "metadata": {},
   "outputs": [],
   "source": [
    "import os\n",
    "\n",
    "def check_is_file(func):\n",
    "    def inner(file_path):\n",
    "        if os.path.isfile(file_path):\n",
    "            print(f\"{file_path} ist eine gültige Datei\")\n",
    "        else:\n",
    "            raise Exception(f\"Datei {file_path} nicht gefunden\")\n",
    "        func(file_path)\n",
    "\n",
    "    return inner\n",
    "\n",
    "\n",
    "def copy_file(func):\n",
    "    def inner(file_path):\n",
    "        print(f\"Kopiere Datei {file_path}\")\n",
    "        func(file_path)\n",
    "\n",
    "    return inner\n",
    "\n",
    "@check_is_file\n",
    "@copy_file\n",
    "def outer(file_path) -> None:\n",
    "    with open(file_path, \"r\", encoding=\"utf8\") as file:\n",
    "        print(file.read())"
   ]
  },
  {
   "cell_type": "code",
   "execution_count": 14,
   "metadata": {},
   "outputs": [
    {
     "name": "stdout",
     "output_type": "stream",
     "text": [
      "../../Materialien/meal.txt ist eine gültige Datei\n",
      "Kopiere Datei ../../Materialien/meal.txt\n",
      "Ham and Eggs Upside Down\n",
      "Zutaten für 1 Portionen:\n",
      "4 Scheibe/n\tBacon\n",
      "1\tEi(er), Größe L\n",
      "etwas\tKräutersalz\n",
      "n. B.\tSchnittlauchröllchen\n",
      "\n",
      "\n",
      "Eine kleine beschichtete Pfanne erhitzen und die Baconscheiben auf einer Seite anbraten. Bacon wenden und jetzt das Spiegelei langsam auf die Speckscheiben gleiten lassen. Temperatur herunterschalten und so lange braten, bis das Eiweiß fest ist.\n",
      "\n",
      "Nun mit einem Pfannenwender das komplette Ham and Egg umdrehen und kurz weiterbraten. Danach wieder zurückdrehen und mit etwas Kräutersalz würzen und sofort servieren.\n",
      "\n",
      "Arbeitszeit\tca. 5 Minuten\n",
      "Koch-/Backzeit\tca. 10 Minuten\n",
      "Gesamtzeit\tca. 15 Minuten\n",
      "Schwierigkeitsgrad\tsimpel\n",
      "\n"
     ]
    }
   ],
   "source": [
    "outer(\"../../Materialien/meal.txt\")"
   ]
  },
  {
   "cell_type": "markdown",
   "metadata": {},
   "source": [
    "<h3>\n",
    "Dekoratoren können Methoden mehrfach ausführen lassen und man kann sie mit den Parametern *args und **kwargs initialisieren, falls der aufruf mit und ohne Parameter möglich sein soll "
   ]
  },
  {
   "cell_type": "code",
   "execution_count": 15,
   "metadata": {},
   "outputs": [],
   "source": [
    "def do_twice(func):\n",
    "    def func_do_twice(*args, **kwargs):\n",
    "        func(*args, **kwargs)\n",
    "        func(*args, **kwargs)\n",
    "\n",
    "    return func_do_twice"
   ]
  },
  {
   "cell_type": "code",
   "execution_count": 16,
   "metadata": {},
   "outputs": [],
   "source": [
    "@do_twice\n",
    "def say_hello() -> None:\n",
    "    print(\"Hallo Welt\")"
   ]
  },
  {
   "cell_type": "code",
   "execution_count": 17,
   "metadata": {},
   "outputs": [
    {
     "name": "stdout",
     "output_type": "stream",
     "text": [
      "Hallo Welt\n",
      "Hallo Welt\n"
     ]
    }
   ],
   "source": [
    "say_hello()"
   ]
  },
  {
   "cell_type": "code",
   "execution_count": 18,
   "metadata": {},
   "outputs": [],
   "source": [
    "@do_twice\n",
    "def greetings_to(name: str) -> None:\n",
    "    print(f\"Auf Wiedersehen {name}\")"
   ]
  },
  {
   "cell_type": "code",
   "execution_count": 19,
   "metadata": {},
   "outputs": [
    {
     "name": "stdout",
     "output_type": "stream",
     "text": [
      "Auf Wiedersehen Peter\n",
      "Auf Wiedersehen Peter\n"
     ]
    }
   ],
   "source": [
    "greetings_to(\"Peter\")"
   ]
  },
  {
   "cell_type": "markdown",
   "metadata": {},
   "source": [
    "<h3>\n",
    "Praxis Beispiel"
   ]
  },
  {
   "cell_type": "code",
   "execution_count": 20,
   "metadata": {},
   "outputs": [],
   "source": [
    "class User():\n",
    "    def __init__(self, name, bool) -> None:\n",
    "        self.name = name\n",
    "        self.logged_in = bool"
   ]
  },
  {
   "cell_type": "code",
   "execution_count": 21,
   "metadata": {},
   "outputs": [],
   "source": [
    "def login_required(func):\n",
    "    \"\"\"Make sure user is logged in before proceeding\"\"\"\n",
    "\n",
    "    def wrapper_login_required(user: User):\n",
    "        if user.logged_in is False:\n",
    "            return \"Leite user zum Login um\"\n",
    "        return func(user)\n",
    "\n",
    "    return wrapper_login_required"
   ]
  },
  {
   "cell_type": "code",
   "execution_count": 22,
   "metadata": {},
   "outputs": [],
   "source": [
    "@login_required\n",
    "def show_secret(user):\n",
    "    print(f\"Ich bin {user.name}'s Profil\")"
   ]
  },
  {
   "cell_type": "code",
   "execution_count": 23,
   "metadata": {},
   "outputs": [
    {
     "name": "stdout",
     "output_type": "stream",
     "text": [
      "Ich bin Peter's Profil\n"
     ]
    }
   ],
   "source": [
    "user = User(\"Peter\", True)\n",
    "show_secret(user)"
   ]
  },
  {
   "attachments": {},
   "cell_type": "markdown",
   "metadata": {},
   "source": [
    "<p>\n",
    "Nächste Schritte\n",
    "<ol>\n",
    "<li><a href=\"Dekoratoren_vertiefen_1.ipynb\">Dekoratoren Vertiefen 1/2</a></li>\n",
    "<li><a href=\"Dekoratoren_vertiefen_2.ipynb\">Dekoratoren Vertiefen 2/2</a></li>\n",
    "</ol>"
   ]
  }
 ],
 "metadata": {
  "kernelspec": {
   "display_name": ".venv",
   "language": "python",
   "name": "python3"
  },
  "language_info": {
   "codemirror_mode": {
    "name": "ipython",
    "version": 3
   },
   "file_extension": ".py",
   "mimetype": "text/x-python",
   "name": "python",
   "nbconvert_exporter": "python",
   "pygments_lexer": "ipython3",
   "version": "3.10.5"
  },
  "orig_nbformat": 4,
  "vscode": {
   "interpreter": {
    "hash": "e14e8479963d30db350f91d92f9add431e0df07013125a1b59aab1353cc25703"
   }
  }
 },
 "nbformat": 4,
 "nbformat_minor": 2
}
