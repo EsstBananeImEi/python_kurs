{
 "cells": [
  {
   "cell_type": "markdown",
   "metadata": {},
   "source": [
    "# Vererbung\n",
    "\n",
    "<h4>\n",
    "Wieso sollte eine Klasse etwas vererben? Man könnte sich jetzt fragen ob es ein digitales Sterben gibt. Ja und Nein. Aber was ohne vererbung leidet ist die übersicht, denn wenn Klassen immer größer werden dann verliert man schnell die übersicht. <br>\n",
    "Daher ist es wichtig sich eine Erbfolge zu aufzubauen, bevor die übersichtlichkeit stirbt.\n",
    "\n",
    "### Was passiert bei der Vererbung\n",
    "<h4>\n",
    "Die Vererbende Klasse stellt ihre Methoden und Eigenschaften der Erbenden zur verfügung."
   ]
  },
  {
   "cell_type": "code",
   "execution_count": 1,
   "metadata": {},
   "outputs": [],
   "source": [
    "class Animal:\n",
    "    \n",
    "    def __init__(self, name, gattung) -> None:\n",
    "        self.name = name\n",
    "        self.gattung = gattung\n",
    "        self.art = self.__class__.__name__\n",
    "\n",
    "    def introduce(self) -> None:\n",
    "        print(f\"Ich heiße {self.name}, ich gehöre zur gattung der {self.gattung} und bin ein {self.art} !!\")\n",
    "\n",
    "    def schlafen(self, dauer) -> None:\n",
    "        raise NotImplemented\n",
    "\n",
    "    def fressen(self) -> None:\n",
    "        print(f\"{self.name} frisst\")"
   ]
  },
  {
   "cell_type": "code",
   "execution_count": 2,
   "metadata": {},
   "outputs": [],
   "source": [
    "class Bear(Animal):\n",
    "    \n",
    "    def __init__(self, name, gattung, alter, gewicht, groesse) -> None:\n",
    "        super(Bear, self).__init__(name, gattung)\n",
    "        self.alter = alter\n",
    "        self.gewicht = gewicht\n",
    "        self.groesse = groesse"
   ]
  },
  {
   "cell_type": "code",
   "execution_count": 3,
   "metadata": {},
   "outputs": [],
   "source": [
    "class Grizzly(Bear):\n",
    "    \n",
    "    def __init__(self, name, gattung, alter, gewicht, groesse) -> None:\n",
    "        super(Grizzly, self).__init__(name, gattung, alter, gewicht, groesse)\n"
   ]
  },
  {
   "cell_type": "code",
   "execution_count": 4,
   "metadata": {},
   "outputs": [],
   "source": [
    "class BrownBear(Bear):\n",
    "    \n",
    "    def __init__(self, name, gattung, alter, gewicht, groesse) -> None:\n",
    "        super(BrownBear, self).__init__(name, gattung, alter, gewicht, groesse)\n"
   ]
  },
  {
   "cell_type": "code",
   "execution_count": 5,
   "metadata": {},
   "outputs": [],
   "source": [
    "class Fish(Animal):\n",
    "    \n",
    "    def __init__(self, name, gattung, alter, gewicht, groesse) -> None:\n",
    "        super(Fish, self).__init__(name, gattung)\n",
    "        self.alter = alter\n",
    "        self.gewicht = gewicht\n",
    "        self.groesse = groesse"
   ]
  },
  {
   "cell_type": "code",
   "execution_count": 6,
   "metadata": {},
   "outputs": [],
   "source": [
    "class Goldfisch(Fish):\n",
    "    def __init__(self, name, gattung, alter, gewicht, groesse) -> None:\n",
    "        super(Goldfisch, self).__init__(name, gattung, alter, gewicht, groesse)\n"
   ]
  },
  {
   "cell_type": "code",
   "execution_count": 7,
   "metadata": {},
   "outputs": [],
   "source": [
    "bruno = Grizzly(\"Bruno\", \"Säugetiere\", 20, 500, 300)\n",
    "franzi = BrownBear(\"franzi\", \"Säugetiere\", 19, 400, 250)\n",
    "goldi = Goldfisch(\"Goldi\", \"Wirbeltiere\", 2, 0.1, 10)"
   ]
  },
  {
   "cell_type": "code",
   "execution_count": 9,
   "metadata": {},
   "outputs": [
    {
     "name": "stdout",
     "output_type": "stream",
     "text": [
      "Bruno frisst\n",
      "franzi frisst\n",
      "Goldi frisst\n"
     ]
    }
   ],
   "source": [
    "bruno.fressen()\n",
    "franzi.fressen()\n",
    "goldi.fressen()"
   ]
  },
  {
   "cell_type": "code",
   "execution_count": 10,
   "metadata": {},
   "outputs": [
    {
     "name": "stdout",
     "output_type": "stream",
     "text": [
      "Ich heiße Bruno, ich gehöre zur gattung der Säugetiere und bin ein Grizzly !!\n",
      "Ich heiße franzi, ich gehöre zur gattung der Säugetiere und bin ein BrownBear !!\n",
      "Ich heiße Goldi, ich gehöre zur gattung der Wirbeltiere und bin ein Goldfisch !!\n"
     ]
    }
   ],
   "source": [
    "bruno.introduce()\n",
    "franzi.introduce()\n",
    "goldi.introduce()"
   ]
  }
 ],
 "metadata": {
  "interpreter": {
   "hash": "8edcae8aee8b9f77d273e745edc9899fcb323bc44a6c60d119c52fd1eee6c242"
  },
  "kernelspec": {
   "display_name": "Python 3.10.0 64-bit ('venv': venv)",
   "language": "python",
   "name": "python3"
  },
  "language_info": {
   "codemirror_mode": {
    "name": "ipython",
    "version": 3
   },
   "file_extension": ".py",
   "mimetype": "text/x-python",
   "name": "python",
   "nbconvert_exporter": "python",
   "pygments_lexer": "ipython3",
   "version": "3.10.0"
  },
  "orig_nbformat": 4
 },
 "nbformat": 4,
 "nbformat_minor": 2
}
