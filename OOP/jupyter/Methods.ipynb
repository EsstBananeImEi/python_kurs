{
 "cells": [
  {
   "cell_type": "markdown",
   "metadata": {},
   "source": [
    "# Instanzmethoden, Klassenmethoden und Statischemethoden\n",
    "<h3>\n",
    "Was diese drei Methoden voneinander unterscheidet, werden wir nun Lernen. <br>\n",
    "Es handelt sich bei der Klassen- bzw der Statischen-Methode um einen sogennanten Decorator (Decoratoren haben später noch einmal ein eigenes Kapitel), für den anfang reicht es uns, das wir mit den Decoratoren @classmethod und @staticmethod unseren Code logisch strukturieren können."
   ]
  },
  {
   "cell_type": "code",
   "execution_count": 29,
   "metadata": {},
   "outputs": [],
   "source": [
    "class Human():\n",
    "\n",
    "    def __init__(self, name: str, age: int, sex: str):\n",
    "        self.name = name\n",
    "        self.age = age\n",
    "        self.sex = sex\n",
    "\n",
    "    def introduce(self):\n",
    "        print(f\"Hi! My name is {self.name}\")\n",
    "\n",
    "    @classmethod\n",
    "    def definition(cls):\n",
    "        print('Der Mensch, auch Homo sapiens, ist ein höheres Säugetier.')\n",
    "\n",
    "    @staticmethod\n",
    "    def add(number1: int, number2: int) -> int:\n",
    "        return number1 + number2"
   ]
  },
  {
   "cell_type": "code",
   "execution_count": 30,
   "metadata": {},
   "outputs": [],
   "source": [
    "sebastian = Human(name='Sebastian', age=36, sex='M')"
   ]
  },
  {
   "cell_type": "code",
   "execution_count": 31,
   "metadata": {},
   "outputs": [
    {
     "name": "stdout",
     "output_type": "stream",
     "text": [
      "Hi! My name is Sebastian\n"
     ]
    }
   ],
   "source": [
    "sebastian.introduce()"
   ]
  },
  {
   "cell_type": "markdown",
   "metadata": {},
   "source": [
    "### Klassen-Methode"
   ]
  },
  {
   "cell_type": "code",
   "execution_count": 32,
   "metadata": {},
   "outputs": [
    {
     "name": "stdout",
     "output_type": "stream",
     "text": [
      "Der Mensch, auch Homo sapiens, ist ein höheres Säugetier.\n"
     ]
    }
   ],
   "source": [
    "sebastian.definition()"
   ]
  },
  {
   "cell_type": "code",
   "execution_count": 33,
   "metadata": {},
   "outputs": [
    {
     "name": "stdout",
     "output_type": "stream",
     "text": [
      "Der Mensch, auch Homo sapiens, ist ein höheres Säugetier.\n"
     ]
    }
   ],
   "source": [
    "Human.definition()"
   ]
  },
  {
   "cell_type": "code",
   "execution_count": 34,
   "metadata": {},
   "outputs": [
    {
     "name": "stdout",
     "output_type": "stream",
     "text": [
      "<bound method Human.introduce of <__main__.Human object at 0x00000228DA162AA0>>\n",
      "<bound method Human.definition of <class '__main__.Human'>>\n",
      "<function Human.introduce at 0x00000228DAE285E0>\n",
      "<bound method Human.definition of <class '__main__.Human'>>\n"
     ]
    }
   ],
   "source": [
    "print(sebastian.introduce)\n",
    "print(sebastian.definition)\n",
    "print(Human.introduce)\n",
    "print(Human.definition)"
   ]
  },
  {
   "cell_type": "markdown",
   "metadata": {},
   "source": [
    "### Statische-Methode"
   ]
  },
  {
   "cell_type": "code",
   "execution_count": 1,
   "metadata": {},
   "outputs": [
    {
     "ename": "NameError",
     "evalue": "name 'sebastian' is not defined",
     "output_type": "error",
     "traceback": [
      "\u001b[1;31m---------------------------------------------------------------------------\u001b[0m",
      "\u001b[1;31mNameError\u001b[0m                                 Traceback (most recent call last)",
      "\u001b[1;32mC:\\Users\\MEINES~1\\AppData\\Local\\Temp/ipykernel_20592/2380713759.py\u001b[0m in \u001b[0;36m<module>\u001b[1;34m\u001b[0m\n\u001b[1;32m----> 1\u001b[1;33m \u001b[0mprint\u001b[0m\u001b[1;33m(\u001b[0m\u001b[0msebastian\u001b[0m\u001b[1;33m.\u001b[0m\u001b[0madd\u001b[0m\u001b[1;33m(\u001b[0m\u001b[1;36m2\u001b[0m\u001b[1;33m,\u001b[0m \u001b[1;36m4\u001b[0m\u001b[1;33m)\u001b[0m\u001b[1;33m)\u001b[0m\u001b[1;33m\u001b[0m\u001b[1;33m\u001b[0m\u001b[0m\n\u001b[0m\u001b[0;32m      2\u001b[0m \u001b[0mprint\u001b[0m\u001b[1;33m(\u001b[0m\u001b[0mHuman\u001b[0m\u001b[1;33m.\u001b[0m\u001b[0madd\u001b[0m\u001b[1;33m(\u001b[0m\u001b[1;36m2\u001b[0m\u001b[1;33m,\u001b[0m \u001b[1;36m4\u001b[0m\u001b[1;33m)\u001b[0m\u001b[1;33m)\u001b[0m\u001b[1;33m\u001b[0m\u001b[1;33m\u001b[0m\u001b[0m\n",
      "\u001b[1;31mNameError\u001b[0m: name 'sebastian' is not defined"
     ]
    }
   ],
   "source": [
    "print(sebastian.add(2, 4))\n",
    "print(Human.add(2, 4))"
   ]
  },
  {
   "cell_type": "code",
   "execution_count": 36,
   "metadata": {},
   "outputs": [],
   "source": [
    "class Example():\n",
    "\n",
    "    @staticmethod\n",
    "    def static_method(*args):\n",
    "        return args\n",
    "\n",
    "    @classmethod\n",
    "    def class_method(*args):\n",
    "        return args"
   ]
  },
  {
   "cell_type": "code",
   "execution_count": 37,
   "metadata": {},
   "outputs": [],
   "source": [
    "example = Example()"
   ]
  },
  {
   "cell_type": "code",
   "execution_count": 38,
   "metadata": {},
   "outputs": [
    {
     "data": {
      "text/plain": [
       "()"
      ]
     },
     "execution_count": 38,
     "metadata": {},
     "output_type": "execute_result"
    }
   ],
   "source": [
    "example.static_method()"
   ]
  },
  {
   "cell_type": "code",
   "execution_count": 39,
   "metadata": {},
   "outputs": [
    {
     "data": {
      "text/plain": [
       "(__main__.Example,)"
      ]
     },
     "execution_count": 39,
     "metadata": {},
     "output_type": "execute_result"
    }
   ],
   "source": [
    "example.class_method()"
   ]
  },
  {
   "cell_type": "markdown",
   "metadata": {},
   "source": [
    "### Die Klassen-Methode in der Praktischen anwendung!\n",
    "<h4>\n",
    "Ein häufig anzutreffendes Beispiel für die Anwendung der @classmethod ist die Auszählung der Instanzen einer Klasse. In dem Fall der Klasse Human können wir dementsprechend mit einer @classmethod eine Information darüber erhalten, wie viele Personen (Instanzen) erzeugt wurden."
   ]
  },
  {
   "cell_type": "code",
   "execution_count": 47,
   "metadata": {},
   "outputs": [],
   "source": [
    "class Human:\n",
    "\n",
    "    human_amount = 0\n",
    "\n",
    "    def __init__(self, name: str, age: int, sex: str):\n",
    "        self.name = name\n",
    "        self.age = age\n",
    "        self.sex = sex\n",
    "\n",
    "        Human.human_amount += 1\n",
    "\n",
    "    @classmethod\n",
    "    def counter(cls):\n",
    "        return cls.human_amount"
   ]
  },
  {
   "cell_type": "code",
   "execution_count": 49,
   "metadata": {},
   "outputs": [],
   "source": [
    "manuel = Human(\"Manuel\", 36, \"M\")\n",
    "sabrina = Human(\"Sabrina\", 22, \"W\")"
   ]
  },
  {
   "cell_type": "code",
   "execution_count": 55,
   "metadata": {},
   "outputs": [
    {
     "data": {
      "text/plain": [
       "2"
      ]
     },
     "execution_count": 55,
     "metadata": {},
     "output_type": "execute_result"
    }
   ],
   "source": [
    "Human.counter()"
   ]
  },
  {
   "cell_type": "code",
   "execution_count": 54,
   "metadata": {},
   "outputs": [
    {
     "data": {
      "text/plain": [
       "2"
      ]
     },
     "execution_count": 54,
     "metadata": {},
     "output_type": "execute_result"
    }
   ],
   "source": [
    "sabrina.counter()"
   ]
  }
 ],
 "metadata": {
  "interpreter": {
   "hash": "8edcae8aee8b9f77d273e745edc9899fcb323bc44a6c60d119c52fd1eee6c242"
  },
  "kernelspec": {
   "display_name": "Python 3.10.0 64-bit ('venv': venv)",
   "language": "python",
   "name": "python3"
  },
  "language_info": {
   "codemirror_mode": {
    "name": "ipython",
    "version": 3
   },
   "file_extension": ".py",
   "mimetype": "text/x-python",
   "name": "python",
   "nbconvert_exporter": "python",
   "pygments_lexer": "ipython3",
   "version": "3.10.0"
  },
  "orig_nbformat": 4
 },
 "nbformat": 4,
 "nbformat_minor": 2
}
