{
 "cells": [
  {
   "cell_type": "markdown",
   "metadata": {},
   "source": [
    "# Aufgabe Dekoratoren\n",
    "\n",
    "### Aufgabe 1\n",
    "\n",
    "Es wird eine möglichkeit gesucht mit der wir die Methode calc() die zwei zahlen entgegen nimmt, so erweitern, das die übergebenen zahlen miteinander multipliziert und mit dem Text \"Das Ergebnis ist: x\" ausgegeben werden. Die calc()-Methode soll erst den Text \"Kalkuliere...\" ausgeben, dann soll der Ergebnis Text erscheinen.\n",
    "\n",
    "Tip:\n",
    "1. Schreibe einen Dekorator, der die zahlen Multipliziert. Denke an den Aufbau des Dekorators und die übergabe der zwei Zahlen.\n",
    "2. Schreibe die calc() Methode\n",
    "\n",
    "### Aufgabe 2\n",
    "Schreibe eine Funktion in der die Datei \"meal.txt\" ausgelesen werden soll, die aber nicht existiert, dies wird zu einer\n",
    "Exception führen, schreibe dafür einen Dekorator, der prüft ob die Datei vorhanden ist. Sollte die Datei\n",
    "nicht vorhanden sein, soll keine Exception geworfen werden, sondern es soll eine nachricht über das fehlen der datei\n",
    "angezeigt werden.\n",
    "<br>\n",
    "<br>\n",
    "Es gibt zwar funktionen für genau diesen fall, aber in manchen usecases braucht man etwas eigenes, hier bieten sich dekoratoren sehr gut an.\n",
    "<br>\n",
    "<br>\n",
    "zum überprüfen deiner implementation kannst du die Datei ../../Materialien/meal.txt benutzen\n",
    "\n",
    "Tip: Um zu prüfen ob eine Datei existiert kannst du z.b folgendes machen:\n",
    "1. import os\n",
    "2. mit os.path.isfile() könntest du prüfen es sich um eine Datei handelt, die funktion impliziert die Methode exists() aber nur für dateien, nicht für Ornder\n",
    "3. mit os.path.exists() könntest du prüfen ob die/der Datei/Ornder existiert"
   ]
  },
  {
   "cell_type": "code",
   "execution_count": null,
   "metadata": {},
   "outputs": [],
   "source": []
  }
 ],
 "metadata": {
  "interpreter": {
   "hash": "8edcae8aee8b9f77d273e745edc9899fcb323bc44a6c60d119c52fd1eee6c242"
  },
  "kernelspec": {
   "display_name": "Python 3.10.0 64-bit ('venv': venv)",
   "language": "python",
   "name": "python3"
  },
  "language_info": {
   "codemirror_mode": {
    "name": "ipython",
    "version": 3
   },
   "file_extension": ".py",
   "mimetype": "text/x-python",
   "name": "python",
   "nbconvert_exporter": "python",
   "pygments_lexer": "ipython3",
   "version": "3.10.0"
  },
  "orig_nbformat": 4
 },
 "nbformat": 4,
 "nbformat_minor": 2
}
