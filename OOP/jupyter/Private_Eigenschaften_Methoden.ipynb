{
 "cells": [
  {
   "cell_type": "markdown",
   "metadata": {},
   "source": [
    "# Private Eigenschaften und Methoden\n",
    "<h4>\n",
    "Es ist nicht immer gewünscht, das Methoden oder Eigenschaften außerhalb einer Klasse erreichbar sind, da sie nur für den internen gebrauch innerhalb der jeweiligen Klasse bestimmt sind.\n",
    "<h4>\n",
    "Im gegensatz zu anderen Programmiersprachen, werden in Python, Methoden oder Eigenschaften nicht mit den Schlüsselworten Private oder Protected definiert sondern mit einem oder zwei unterstrichen, in der Tabelle ist dies erleutert.\n",
    "<br>\n",
    "<br>\n",
    "\n",
    "| Zeichen   | Status | Berechtigung | Beispiel |\n",
    "|:-----     |:----- |:-----|:------|\n",
    "|           | Public | zugriff von außen erlaubt| my_var|\n",
    "|_          | Protected | zugriff von außen nicht erlaubt, aber möglich | _my_var|\n",
    "|__         | Private | zugriff von außen nicht möglich | __my_var|\n",
    "\n",
    "Die Eigenschaft Private wird nur für Variablen oder Methoden genutzt, die von außen nicht genutzt oder verändert werden dürfen.\n",
    "<br>\n",
    "Die Eigenschaft Protected erlaubt es Variablen oder Methoden weiterhin zu nutzen, sie gibt den Entwicklern aber innerhalb der IDE einen hinweis darüber das dies nicht erlaubt ist.\n",
    "<br>\n",
    "<br>\n",
    "Aber selbst Private bietet keinen 100%igen schutz vor manipulation, denn Python vergibt Variablen oder Methoden die auf Private gesetzt werden neue namen, kennt man kennt man den Aufbau der Namen, kann man dennoch auf diese zugreifen und sie verändern."
   ]
  },
  {
   "cell_type": "code",
   "execution_count": 1,
   "metadata": {},
   "outputs": [],
   "source": [
    "class Roboter(object):\n",
    "    def __init__(self):\n",
    "        self.__x_achse = 0\n",
    "        self.__y_achse = 0\n",
    "        self.__compass_direction = 'S'\n",
    "        self._z_achse = 0\n",
    "\n",
    "    def move(self):\n",
    "        if self.__compass_direction == 'O':\n",
    "            self.__x_achse = self.__x_achse + 1\n",
    "        elif self.__compass_direction == 'S':\n",
    "            self.__y_achse = self.__y_achse + 1\n",
    "        elif self.__compass_direction == 'W':\n",
    "            self.__x_achse = self.__x_achse - 1\n",
    "        elif self.__compass_direction == 'N':\n",
    "            self.__y_achse = self.__y_achse - 1\n",
    "\n",
    "    def get_x_achse(self):\n",
    "        return self.__x_achse\n",
    "\n",
    "    def get_y_achse(self):\n",
    "        return self.__y_achse\n",
    "\n",
    "    def get_compass_direction(self):\n",
    "        return self.__compass_direction\n",
    "\n",
    "    def _protected_method(self):\n",
    "        print(\"Protected Method\")\n",
    "\n",
    "    def __private_method(self):\n",
    "        print(\"Private Method\")\n",
    "\n",
    "    def set_zustand(self, x_achse, y_achse, compass_direction):\n",
    "        self.__x_achse = x_achse\n",
    "        self.__y_achse = y_achse\n",
    "        self.__compass_direction = compass_direction"
   ]
  },
  {
   "cell_type": "code",
   "execution_count": 2,
   "metadata": {},
   "outputs": [],
   "source": [
    "roboter = Roboter()"
   ]
  },
  {
   "cell_type": "code",
   "execution_count": 3,
   "metadata": {},
   "outputs": [],
   "source": [
    "roboter.set_zustand(3, 2, \"N\")"
   ]
  },
  {
   "cell_type": "code",
   "execution_count": 4,
   "metadata": {},
   "outputs": [
    {
     "data": {
      "text/plain": [
       "'N'"
      ]
     },
     "execution_count": 4,
     "metadata": {},
     "output_type": "execute_result"
    }
   ],
   "source": [
    "roboter.get_compass_direction()"
   ]
  },
  {
   "cell_type": "code",
   "execution_count": 5,
   "metadata": {},
   "outputs": [
    {
     "data": {
      "text/plain": [
       "2"
      ]
     },
     "execution_count": 5,
     "metadata": {},
     "output_type": "execute_result"
    }
   ],
   "source": [
    "roboter.get_y_achse()"
   ]
  },
  {
   "cell_type": "code",
   "execution_count": 6,
   "metadata": {},
   "outputs": [],
   "source": [
    "roboter.move()\n",
    "roboter.move()"
   ]
  },
  {
   "cell_type": "code",
   "execution_count": 7,
   "metadata": {},
   "outputs": [
    {
     "name": "stdout",
     "output_type": "stream",
     "text": [
      "3\n",
      "0\n"
     ]
    }
   ],
   "source": [
    "print(roboter.get_x_achse())\n",
    "print(roboter.get_y_achse())"
   ]
  },
  {
   "cell_type": "code",
   "execution_count": 8,
   "metadata": {},
   "outputs": [
    {
     "name": "stdout",
     "output_type": "stream",
     "text": [
      "0\n"
     ]
    }
   ],
   "source": [
    "roboter.__y_achse = 20\n",
    "print(roboter.get_y_achse())"
   ]
  },
  {
   "cell_type": "code",
   "execution_count": 9,
   "metadata": {},
   "outputs": [
    {
     "name": "stdout",
     "output_type": "stream",
     "text": [
      "Protected Method\n"
     ]
    }
   ],
   "source": [
    "roboter._protected_method()"
   ]
  },
  {
   "cell_type": "code",
   "execution_count": 10,
   "metadata": {},
   "outputs": [
    {
     "ename": "AttributeError",
     "evalue": "'Roboter' object has no attribute '__private_method'",
     "output_type": "error",
     "traceback": [
      "\u001b[0;31m---------------------------------------------------------------------------\u001b[0m",
      "\u001b[0;31mAttributeError\u001b[0m                            Traceback (most recent call last)",
      "\u001b[1;32m/home/smeine/python_kurs/OOP/jupyter/Private_Eigenschaften_Methoden.ipynb Cell 11\u001b[0m line \u001b[0;36m<module>\u001b[0;34m\u001b[0m\n\u001b[0;32m----> <a href='vscode-notebook-cell://wsl%2Bubuntu/home/smeine/python_kurs/OOP/jupyter/Private_Eigenschaften_Methoden.ipynb#X13sdnNjb2RlLXJlbW90ZQ%3D%3D?line=0'>1</a>\u001b[0m roboter\u001b[39m.\u001b[39;49m__private_method()\n",
      "\u001b[0;31mAttributeError\u001b[0m: 'Roboter' object has no attribute '__private_method'"
     ]
    }
   ],
   "source": [
    "roboter.__private_method()"
   ]
  },
  {
   "cell_type": "code",
   "execution_count": null,
   "metadata": {},
   "outputs": [
    {
     "ename": "AttributeError",
     "evalue": "'Roboter' object has no attribute '__y_achse'",
     "output_type": "error",
     "traceback": [
      "\u001b[1;31m---------------------------------------------------------------------------\u001b[0m",
      "\u001b[1;31mAttributeError\u001b[0m                            Traceback (most recent call last)",
      "\u001b[1;32mC:\\Users\\MEINES~1\\AppData\\Local\\Temp/ipykernel_18576/1742953706.py\u001b[0m in \u001b[0;36m<module>\u001b[1;34m\u001b[0m\n\u001b[1;32m----> 1\u001b[1;33m \u001b[0mprint\u001b[0m\u001b[1;33m(\u001b[0m\u001b[0mroboter\u001b[0m\u001b[1;33m.\u001b[0m\u001b[0m__y_achse\u001b[0m\u001b[1;33m)\u001b[0m\u001b[1;33m\u001b[0m\u001b[1;33m\u001b[0m\u001b[0m\n\u001b[0m",
      "\u001b[1;31mAttributeError\u001b[0m: 'Roboter' object has no attribute '__y_achse'"
     ]
    }
   ],
   "source": [
    "print(roboter.__y_achse)"
   ]
  },
  {
   "cell_type": "code",
   "execution_count": null,
   "metadata": {},
   "outputs": [
    {
     "data": {
      "text/plain": [
       "{'_Roboter__x_achse': 3,\n",
       " '_Roboter__y_achse': 0,\n",
       " '_Roboter__compass_direction': 'N',\n",
       " '_z_achse': 0,\n",
       " '__y_achse': 20}"
      ]
     },
     "execution_count": 93,
     "metadata": {},
     "output_type": "execute_result"
    }
   ],
   "source": [
    "roboter.__dict__"
   ]
  },
  {
   "cell_type": "code",
   "execution_count": null,
   "metadata": {},
   "outputs": [
    {
     "data": {
      "text/plain": [
       "20"
      ]
     },
     "execution_count": 81,
     "metadata": {},
     "output_type": "execute_result"
    }
   ],
   "source": [
    "roboter._Roboter__y_achse = 20\n",
    "roboter.get_y_achse()"
   ]
  },
  {
   "cell_type": "code",
   "execution_count": null,
   "metadata": {},
   "outputs": [
    {
     "name": "stdout",
     "output_type": "stream",
     "text": [
      "Private Method\n"
     ]
    }
   ],
   "source": [
    "roboter._Roboter__private_method()"
   ]
  }
 ],
 "metadata": {
  "interpreter": {
   "hash": "8edcae8aee8b9f77d273e745edc9899fcb323bc44a6c60d119c52fd1eee6c242"
  },
  "kernelspec": {
   "display_name": "Python 3.10.0 64-bit ('venv': venv)",
   "language": "python",
   "name": "python3"
  },
  "language_info": {
   "codemirror_mode": {
    "name": "ipython",
    "version": 3
   },
   "file_extension": ".py",
   "mimetype": "text/x-python",
   "name": "python",
   "nbconvert_exporter": "python",
   "pygments_lexer": "ipython3",
   "version": "3.10.5"
  },
  "orig_nbformat": 4
 },
 "nbformat": 4,
 "nbformat_minor": 2
}
