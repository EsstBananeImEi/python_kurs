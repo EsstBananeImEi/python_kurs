{
 "cells": [
  {
   "cell_type": "markdown",
   "metadata": {},
   "source": [
    "# Konstruktoren\n",
    "\n",
    "<h3>\n",
    "Um Objekte nach ihrer erzeugung nicht bearbeiten zu müssen, erstellt man diese mit einem Konstruktor .<br>\n",
    "Ein Konstruktor ist eine besondere Methode in Python, diese wird immer aufgerufen sobald wir eine Klasse instanzieren.<br>\n",
    "<h3>\n",
    "Der Konstruktor __init__ wird immer beim erstellen der Klasse aufgerufen.<br>\n",
    "Exkurs Methoden in Klassen: Damit Methoden innerhalb einer Klasse auf Objekte oder Instanzen der Klasse zugreifen können benötigen sie als ersten Parameter den Parameter \"self\" "
   ]
  },
  {
   "cell_type": "code",
   "execution_count": 1,
   "metadata": {},
   "outputs": [],
   "source": [
    "class Bear(object):\n",
    "    \n",
    "    def __init__(self, name, alter, gewicht, groesse):\n",
    "        self.name = name\n",
    "        self.alter = alter\n",
    "        self.gewicht = gewicht\n",
    "        self.groesse = groesse"
   ]
  },
  {
   "cell_type": "code",
   "execution_count": 2,
   "metadata": {},
   "outputs": [
    {
     "name": "stdout",
     "output_type": "stream",
     "text": [
      "balu ist 10 Jahre alt, ist 250cm groß und wiegt 450kg\n"
     ]
    }
   ],
   "source": [
    "balu = Bear(\"balu\", 10, 450, 250)\n",
    "print(f\"{balu.name} ist {balu.alter} Jahre alt, ist {balu.groesse}cm groß und wiegt {balu.gewicht}kg\")"
   ]
  },
  {
   "cell_type": "code",
   "execution_count": 3,
   "metadata": {},
   "outputs": [
    {
     "name": "stdout",
     "output_type": "stream",
     "text": [
      "hugo ist 15 Jahre alt, ist 300cm groß und wiegt 470kg\n"
     ]
    }
   ],
   "source": [
    "hugo = Bear(\"hugo\", 15, 470, 300)\n",
    "print(f\"{hugo.name} ist {hugo.alter} Jahre alt, ist {hugo.groesse}cm groß und wiegt {hugo.gewicht}kg\")"
   ]
  },
  {
   "cell_type": "markdown",
   "metadata": {},
   "source": [
    "# Der Deconstuctor\n",
    "<h3>\n",
    "Für eine Klasse kann man eine Methode __del__ definieren. Wenn man eine Instanz einer Klasse mit del löscht, wird die Methode __del__ aufgerufen. Allerdings nur, falls es keine weitere Referenz auf diese Instanz gibt in c++ zum beispiel benötigt man Destruktoren um den Speicher zu bereinigen, in Python brauchen wir uns um die Speicherbereinigung aber nicht kümmern daher ist der Dekonstruktor eher selten vertreten\n"
   ]
  },
  {
   "cell_type": "markdown",
   "metadata": {},
   "source": []
  },
  {
   "cell_type": "code",
   "execution_count": 20,
   "metadata": {},
   "outputs": [
    {
     "name": "stdout",
     "output_type": "stream",
     "text": [
      "Katze Mizie wurde erstellt\n",
      "Mizie\n",
      "Katze Mizie wurde gelöscht\n"
     ]
    }
   ],
   "source": [
    "class Cat:\n",
    "    \n",
    "    def __init__(self, name):\n",
    "        self.name = name\n",
    "        print(f\"Katze {name} wurde erstellt\")\n",
    "\n",
    "    def __del__(self):\n",
    "        print(f\"Katze {self.name} wurde gelöscht\")\n",
    "\n",
    "\n",
    "cat = Cat(\"Mizie\")\n",
    "print(cat.name)\n",
    "cat = None"
   ]
  }
 ],
 "metadata": {
  "interpreter": {
   "hash": "8edcae8aee8b9f77d273e745edc9899fcb323bc44a6c60d119c52fd1eee6c242"
  },
  "kernelspec": {
   "display_name": "Python 3.10.0 64-bit ('venv': venv)",
   "language": "python",
   "name": "python3"
  },
  "language_info": {
   "codemirror_mode": {
    "name": "ipython",
    "version": 3
   },
   "file_extension": ".py",
   "mimetype": "text/x-python",
   "name": "python",
   "nbconvert_exporter": "python",
   "pygments_lexer": "ipython3",
   "version": "3.10.0"
  },
  "orig_nbformat": 4
 },
 "nbformat": 4,
 "nbformat_minor": 2
}
