{
 "cells": [
  {
   "attachments": {},
   "cell_type": "markdown",
   "metadata": {},
   "source": [
    "# Decoratoren vertiefen (Funktions Dekoratoren)\n",
    "<h5>\n",
    "Jetzt wollen wir uns mit den Funktions Dekoratoren beschäftigen.\n",
    "Sie sind flexibler als die Klassen Dekoratoren, da wir die Funktionen direkt dekorieren können.\n",
    "</h5>\n",
    "<p>Als beispiel wollen wir wieder Primzahlen ermitteln und die werte zusammen addieren wie im vorherigen Kapitel nur das wir dieses mal Funktionen und keine Klassen verwenden werden</p>\n",
    "\n",
    "<p>Wir definieren nun die Funktionen, die wir später benötigen wollen</p>\n",
    "\n",
    "```python\n",
    "def is_prime(number: int) -> bool:\n",
    "    if number < 2:\n",
    "        return False\n",
    "    for element in range(2, int(sqrt(number)) + 1):\n",
    "        if number % element == 0:\n",
    "            return False\n",
    "    return True\n",
    "\n",
    "def count_prime_numbers(upper_bound: int) -> int:  # This is the function to be decorated\n",
    "    result = 0\n",
    "    for number in range(upper_bound):\n",
    "        if is_prime(number):\n",
    "            result += number\n",
    "    return result\n",
    "```"
   ]
  },
  {
   "attachments": {},
   "cell_type": "markdown",
   "metadata": {},
   "source": [
    "Wie wir aus dem Kapitel <a>[Dekoratoren](Dekoratoren.ipynb)</a> wissen, ist ein Funktions Dekorator eine Funktion, die eine andere Funktion als Argument nimmt und eine wiederum eine Funktion zurück gibt. Die Funktion, die als Argument übergeben wird, wird in der Regel in der inneren Funktion (Wrapper) aufgerufen. Die inneren Funktion kann auch Argumente an die übergebene Funktion übergeben.\n",
    " \n",
    "Erstellen wir nun die Dekoratoren Benchmark und logging aus dem vorherigen Kapitel als Funktionen."
   ]
  },
  {
   "cell_type": "code",
   "execution_count": 10,
   "metadata": {},
   "outputs": [],
   "source": [
    "import logging\n",
    "import sys\n",
    "from time import perf_counter\n",
    "from typing import Any, Callable\n",
    "\n",
    "# Initialize logging\n",
    "logging.basicConfig(stream=sys.stdout, level=logging.INFO)\n",
    "logger = logging.getLogger('LOGGER_NAME')\n",
    "\n",
    "def benchmark(func: Callable[..., Any]) -> Callable[..., Any]:  # Diese ist der eigentliche Dekorator\n",
    "    def wrapper(*args: Any, **kwargs: Any) -> Any:  # Das ist die Innere-Funktion oder auch der Wrapper genannt\n",
    "        start = perf_counter()\n",
    "        value = func(*args, **kwargs) # Hier wird die eigentliche Funktion aufgerufen\n",
    "        end = perf_counter()\n",
    "        logging.info(f\"Der Aufruf von {func.__name__} dauerte {end - start:.2f} Sekunden\")\n",
    "        return value # Rückgabe des Ergebnisses der eigentlichen Funktion\n",
    "\n",
    "    return wrapper # Rückgabe der Innere-Funktion\n",
    "\n",
    "def with_logging(logger: logging.Logger) -> Callable[..., Any]: # Diese ist die Dekorator-Fabrik\n",
    "    def decorator(func: Callable[..., Any]) -> Callable[..., Any]: # Diese ist der eigentliche Dekorator\n",
    "        def wrapper(*args: Any, **kwargs: Any) -> Any: # Das ist die Innere-Funktion oder auch der Wrapper genannt\n",
    "            logger.info(f\"Rufe {func.__name__} auf\")\n",
    "            value = func(*args, **kwargs) # Hier wird die eigentliche Funktion aufgerufen\n",
    "            logger.info(f\"Aufruf von {func.__name__} beendet\")\n",
    "            return value # Rückgabe des Ergebnisses der eigentlichen Funktion\n",
    "\n",
    "        return wrapper # Rückgabe der Innere-Funktion\n",
    "    return decorator # Rückgabe des Dekorators"
   ]
  },
  {
   "attachments": {},
   "cell_type": "markdown",
   "metadata": {},
   "source": [
    "Nun können wir die Funktionen dekorieren und die Dekoratoren ausführen."
   ]
  },
  {
   "cell_type": "code",
   "execution_count": 11,
   "metadata": {},
   "outputs": [
    {
     "name": "stdout",
     "output_type": "stream",
     "text": [
      "INFO:LOGGER_NAME:Rufe wrapper auf\n"
     ]
    },
    {
     "name": "stdout",
     "output_type": "stream",
     "text": [
      "INFO:root:Der Aufruf von count_prime_numbers dauerte 2.74 Sekunden\n",
      "INFO:LOGGER_NAME:Aufruf von wrapper beendet\n",
      "INFO:LOGGER_NAME:Result: 37550402023\n"
     ]
    }
   ],
   "source": [
    "from math import sqrt\n",
    "\n",
    "\n",
    "def is_prime(number: int) -> bool:\n",
    "    if number < 2:\n",
    "        return False\n",
    "    for element in range(2, int(sqrt(number)) + 1):\n",
    "        if number % element == 0:\n",
    "            return False\n",
    "    return True\n",
    "\n",
    "@with_logging(logger) \n",
    "@benchmark\n",
    "def count_prime_numbers(upper_bound: int) -> int:  # Die zu dekorierende Funktion\n",
    "    result = 0\n",
    "    for number in range(upper_bound):\n",
    "        if is_prime(number):\n",
    "            result += number\n",
    "    return result\n",
    "\n",
    "logger.info(f\"Result: {count_prime_numbers(1000000)}\")"
   ]
  },
  {
   "attachments": {},
   "cell_type": "markdown",
   "metadata": {},
   "source": [
    "Wir sehen in der Ausgabe, dass die Dekoratoren in der richtigen Reihenfolge ausgeführt werden. Wir sehen aber auch in der Ausgabe das wir als funktionsname \"wrapper\" ausgegeben bekommen. Das ist nicht sehr aussagekräftig. Wir können das aber ändern indem wir den Dekorator aus den in Python integrierten \"functools\" verwenden. Dieser Dekorator kopiert die Eigenschaften der dekorierten Funktion auf die Wrapper Funktion. Wir können also den Namen der dekorierten Funktion auf die Wrapper Funktion kopieren.\n",
    "\n",
    "Zudem schauen wir uns noch die Dekorator Fabrik an. Diese Funktion nimmt eine Funktion als Argument und gibt eine Funktion zurück. Diese Funktion kann dann als Dekorator verwendet werden. Wir können also die Dekoratoren als Funktionen definieren und dann später als Dekoratoren verwenden.\n"
   ]
  },
  {
   "cell_type": "code",
   "execution_count": 12,
   "metadata": {},
   "outputs": [],
   "source": [
    "import functools\n",
    "import logging\n",
    "import sys\n",
    "from time import perf_counter\n",
    "from typing import Any, Callable\n",
    "\n",
    "# Initialize logging\n",
    "logging.basicConfig(stream=sys.stdout, level=logging.INFO)\n",
    "logger = logging.getLogger('LOGGER_NAME')\n",
    "\n",
    "def benchmark(func: Callable[..., Any]) -> Callable[..., Any]:  \n",
    "    @functools.wraps(func)  # Wird benötigt um den Namen der ursprünglichen Funktion zu erhalten\n",
    "    def wrapper(*args: Any, **kwargs: Any) -> Any:  \n",
    "        start = perf_counter()\n",
    "        value = func(*args, **kwargs) \n",
    "        end = perf_counter()\n",
    "        logging.info(f\"Dauer des Aufrufs von {func.__name__} war {end - start:.2f} Sekunden\")\n",
    "        return value \n",
    "\n",
    "    return wrapper \n",
    "\n",
    "def with_logging(logger: logging.Logger) -> Callable[..., Any]: # Diese ist die Dekorator-Fabrik\n",
    "    def decorator(func: Callable[..., Any]) -> Callable[..., Any]: # Diese ist der eigentliche Dekorator\n",
    "        @functools.wraps(func) # Wird benötigt um den Namen der ursprünglichen Funktion zu erhalten\n",
    "        def wrapper(*args: Any, **kwargs: Any) -> Any:\n",
    "            logger.info(f\"Calling {func.__name__}\")\n",
    "            value = func(*args, **kwargs)\n",
    "            logger.info(f\"Finished calling {func.__name__}\")\n",
    "            return value\n",
    "\n",
    "        return wrapper # Rückgabe der Innere-Funktion\n",
    "\n",
    "    return decorator # Rückgabe des Dekorators\n",
    "\n"
   ]
  },
  {
   "cell_type": "code",
   "execution_count": 13,
   "metadata": {},
   "outputs": [
    {
     "name": "stdout",
     "output_type": "stream",
     "text": [
      "INFO:LOGGER_NAME:Calling count_prime_numbers\n",
      "INFO:root:Dauer des Aufrufs von count_prime_numbers war 2.63 Sekunden\n",
      "INFO:LOGGER_NAME:Finished calling count_prime_numbers\n",
      "INFO:LOGGER_NAME:Result: 37550402023\n"
     ]
    }
   ],
   "source": [
    "@with_logging(logger) \n",
    "@benchmark\n",
    "def count_prime_numbers(upper_bound: int) -> int:  # Die zu dekorierende Funktion\n",
    "    result = 0\n",
    "    for number in range(upper_bound):\n",
    "        if is_prime(number):\n",
    "            result += number\n",
    "    return result\n",
    "\n",
    "logger.info(f\"Result: {count_prime_numbers(1000000)}\")"
   ]
  },
  {
   "attachments": {},
   "cell_type": "markdown",
   "metadata": {},
   "source": [
    "Wir übergeben dem Dekorator \"with_logging\" den logger als Argument. Dies wollen wir aber unter umständen nicht immer machen. Mithilfe von \"functools.partial\" können wir die Argumente des Dekorators vorab festlegen. Wir können also einen Teil der Argumente festlegen und den Rest erst später übergeben."
   ]
  },
  {
   "cell_type": "code",
   "execution_count": 14,
   "metadata": {},
   "outputs": [],
   "source": [
    "import functools\n",
    "import logging\n",
    "import sys\n",
    "from time import perf_counter\n",
    "from typing import Any, Callable\n",
    "\n",
    "# Initialize logging\n",
    "logging.basicConfig(stream=sys.stdout, level=logging.INFO)\n",
    "logger = logging.getLogger('LOGGER_NAME')\n",
    "\n",
    "def benchmark(func: Callable[..., Any]) -> Callable[..., Any]:  \n",
    "    @functools.wraps(func)  # Wird benötigt um den Namen der ursprünglichen Funktion zu erhalten\n",
    "    def wrapper(*args: Any, **kwargs: Any) -> Any:  \n",
    "        start = perf_counter()\n",
    "        value = func(*args, **kwargs) \n",
    "        end = perf_counter()\n",
    "        logging.info(f\"Dauer des Aufrufs von {func.__name__} war {end - start:.2f} Sekunden\")\n",
    "        return value \n",
    "\n",
    "    return wrapper \n",
    "\n",
    "def with_logging(func: Callable[..., Any], logger: logging.Logger) -> Callable[..., Any]: # Diese ist der eigentliche Dekorator\n",
    "    @functools.wraps(func) # Wird benötigt um den Namen der ursprünglichen Funktion zu erhalten\n",
    "    def wrapper(*args: Any, **kwargs: Any) -> Any:\n",
    "        logger.info(f\"Calling {func.__name__}\")\n",
    "        value = func(*args, **kwargs)\n",
    "        logger.info(f\"Finished calling {func.__name__}\")\n",
    "        return value\n",
    "\n",
    "    return wrapper # Rückgabe der Innere-Funktion\n",
    "\n",
    "with_default_logging = functools.partial(with_logging, logger=logger) # Dekorator-Fabrik mit default-Argumenten\n"
   ]
  },
  {
   "attachments": {},
   "cell_type": "markdown",
   "metadata": {},
   "source": [
    "Nun nutzen wir \"with_default_logging\" als Dekorator. Dieser Dekorator legt den logger fest und wir müssen diesen nicht mehr übergeben. Wir müssen aber beachten, das es für die übersichtlichkeit besser ist, wenn wir dem Dekorator den logger als Argument übergeben, denn wir sehen dann schnell was dieser Dekorator macht.\n",
    "\n",
    "Denn je Komplexer die Dekoratoren werden, desto unübersichtlicher wird es, wenn wir die Argumente nicht übergeben."
   ]
  },
  {
   "cell_type": "code",
   "execution_count": 15,
   "metadata": {},
   "outputs": [
    {
     "name": "stdout",
     "output_type": "stream",
     "text": [
      "INFO:LOGGER_NAME:Calling count_prime_numbers\n",
      "INFO:root:Dauer des Aufrufs von count_prime_numbers war 2.54 Sekunden\n",
      "INFO:LOGGER_NAME:Finished calling count_prime_numbers\n",
      "INFO:LOGGER_NAME:Result: 37550402023\n"
     ]
    }
   ],
   "source": [
    "@with_default_logging \n",
    "@benchmark\n",
    "def count_prime_numbers(upper_bound: int) -> int:  # Die zu dekorierende Funktion\n",
    "    result = 0\n",
    "    for number in range(upper_bound):\n",
    "        if is_prime(number):\n",
    "            result += number\n",
    "    return result\n",
    "\n",
    "logger.info(f\"Result: {count_prime_numbers(1000000)}\")"
   ]
  }
 ],
 "metadata": {
  "kernelspec": {
   "display_name": ".venv",
   "language": "python",
   "name": "python3"
  },
  "language_info": {
   "codemirror_mode": {
    "name": "ipython",
    "version": 3
   },
   "file_extension": ".py",
   "mimetype": "text/x-python",
   "name": "python",
   "nbconvert_exporter": "python",
   "pygments_lexer": "ipython3",
   "version": "3.10.5"
  },
  "orig_nbformat": 4,
  "vscode": {
   "interpreter": {
    "hash": "e14e8479963d30db350f91d92f9add431e0df07013125a1b59aab1353cc25703"
   }
  }
 },
 "nbformat": 4,
 "nbformat_minor": 2
}
