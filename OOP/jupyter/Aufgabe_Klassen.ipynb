{
 "cells": [
  {
   "cell_type": "markdown",
   "metadata": {},
   "source": [
    "# Aufgabe Klassen\n",
    "\n",
    "### Aufgabe 1\n",
    "\n",
    "<h4>\n",
    "Es wird eine Klasse benötigt, mit der man Personen mit folgenden eigenschaften erstellen kann, die eigenschaften sollen nicht über den Konstruktor gesetzt werden:\n",
    "\n",
    "- Name\n",
    "- Alter\n",
    "- Geschlecht\n",
    "\n",
    "Es wird für jede Eigenschaft eine Funktion benötigt um den wert zu setzen (Setter), zudem soll es eine Funktion \"birthday\" geben, die das alter um 1 erhöht wenn sie aufgerufen wird und eine Funktion talk mit der sich die person vorstellen kann (Mein name ist ... ich bin ... jahre alt).\n",
    "\n",
    "Nach der Implementierung teste deine Klasse:\n",
    "1. Erzeuge ein Objekt der Klasse Person. Speichere dabei das Objekt in einer Variablen person.\n",
    "2. Setze den Namen des Objekts auf Alice.\n",
    "3. Setze das Alter des Objekts auf 22.\n",
    "4. Lasse die Person sprechen.\n",
    "5. Lasse die Person ihren Geburtstag feiern. \n",
    "6. Überprüfe mit der Methode talk(), ob das Alter\n",
    "um eins erhöht wurde\n",
    "\n",
    "### Aufgabe 2\n",
    "<h4>\n",
    "Es wird eine Neue Klasse namens Mensch gewünscht die ihre eigenschaften und methoden an eine Person vererbt. Zudem wird eine Neue Eigenschaft \"augenfarbe\" gewünscht, sowie eine methode um die Augenfarbe zu setzen. Wenn die Person sich vorstellt soll die Augenfarbe ebenfalls vorkommen wenn sie gesetzt ist.\n",
    "<br>\n",
    "\n",
    "Teste wieder deine Implementierung:\n",
    "1. Erzeige ein Objekt der Klasse Person. Speichere das Objekt in der Variable \"Petra\"\n",
    "2. Setze den Namen des Objekts auf Petra.\n",
    "3. Setze das Alter des Objekts auf 44.\n",
    "5. Lasse die Person sprechen.\n",
    "6. Lasse die Person ihren Geburtstag feiern. \n",
    "7. Überprüfe mit der Methode talk(), ob das Alter\n",
    "um eins erhöht wurde (ohne Augenfarbe)\n",
    "7. Setze die Augenfarbe auf \"Blau\"\n",
    "8. Überprüfe wieder über die Methode talk(), ob nun auch die Augenfarbe ausgegeben wird. \n",
    "\n",
    "### Aufgabe 3\n",
    "<h4>\n",
    "\n"
   ]
  },
  {
   "cell_type": "markdown",
   "metadata": {},
   "source": []
  },
  {
   "cell_type": "code",
   "execution_count": null,
   "metadata": {},
   "outputs": [],
   "source": []
  }
 ],
 "metadata": {
  "language_info": {
   "name": "python"
  },
  "orig_nbformat": 4
 },
 "nbformat": 4,
 "nbformat_minor": 2
}
