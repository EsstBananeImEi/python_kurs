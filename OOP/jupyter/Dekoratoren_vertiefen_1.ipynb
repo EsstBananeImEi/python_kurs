{
 "cells": [
  {
   "attachments": {},
   "cell_type": "markdown",
   "metadata": {},
   "source": [
    "# Decoratoren vertiefen (Klassen Dekoratoren)\n",
    "<h5>\n",
    "Nun wollen wir uns mit Klassen Dekoratoren beschäftigen.\n",
    "\n",
    "Dazu erstellen wir eine Klasse, die als Dekorator dient.\n",
    "</h5>\n"
   ]
  },
  {
   "cell_type": "code",
   "execution_count": 1,
   "metadata": {},
   "outputs": [],
   "source": [
    "class MyDecorator: \n",
    "     def __init__ (self, func) : \n",
    "        self.func  =  func \n",
    "     def __call__ (self,*args , **kwargs) : \n",
    "        print(f\"Vor dem aufrufen der Funktion {self.func.__name__}\") \n",
    "        self.func (*args , **kwargs) \n",
    "        print(f\"Nach dem aufrufen der Funktion {self.func.__name__}\")\n",
    "\n",
    "@MyDecorator \n",
    "def do_somthing() : \n",
    "    print(\"Mache etwas\")"
   ]
  },
  {
   "cell_type": "code",
   "execution_count": 2,
   "metadata": {},
   "outputs": [
    {
     "name": "stdout",
     "output_type": "stream",
     "text": [
      "Vor dem aufrufen der Funktion do_somthing\n",
      "Mache etwas\n",
      "Nach dem aufrufen der Funktion do_somthing\n"
     ]
    }
   ],
   "source": [
    "do_somthing()"
   ]
  },
  {
   "attachments": {},
   "cell_type": "markdown",
   "metadata": {},
   "source": [
    "Nun schauen wir uns den nachfolgenden Code an und schauen uns an, wie wir den Dekorator verwenden können."
   ]
  },
  {
   "cell_type": "code",
   "execution_count": 8,
   "metadata": {},
   "outputs": [
    {
     "name": "stdout",
     "output_type": "stream",
     "text": [
      "INFO:LOGGER_NAME:37550402023 Primzahlen gefunden\n"
     ]
    }
   ],
   "source": [
    "from abc import ABC, abstractmethod\n",
    "import logging\n",
    "from math import sqrt\n",
    "import sys\n",
    "\n",
    "# Initialize logging\n",
    "logging.basicConfig(stream=sys.stdout, level=logging.INFO)\n",
    "logger = logging.getLogger('LOGGER_NAME')\n",
    "\n",
    "# Prüft, ob eine Zahl eine Primzahl ist\n",
    "def is_prime(number: int) -> bool:\n",
    "    if number < 2:\n",
    "        return False\n",
    "    for element in range(2, int(sqrt(number)) + 1):\n",
    "        if number % element == 0:\n",
    "            return False\n",
    "    return True\n",
    "\n",
    "class AbstractComponent(ABC):\n",
    "    @abstractmethod\n",
    "    def execute(self, rounds: int) -> int:\n",
    "        ...\n",
    "\n",
    "class ConcreteComponent(AbstractComponent):\n",
    "    # Berechnet die Summe aller Primzahlen\n",
    "    def execute(self, rounds: int) -> int:\n",
    "        result = 0\n",
    "        for number in range(rounds):\n",
    "            if is_prime(number):\n",
    "                result += number\n",
    "        return result\n",
    "\n",
    "value = ConcreteComponent().execute(1000000)\n",
    "logger.info(f\"Result: {value}\")\n"
   ]
  },
  {
   "attachments": {},
   "cell_type": "markdown",
   "metadata": {},
   "source": [
    "Nutzen wir den Dekorator, so wird die Funktion, die wir dekorieren wollen, als Argument an den Dekorator übergeben.\n",
    "Der Dekorator kann nun die Funktion verändern und zurückgeben.\n",
    "\n",
    "Dieses Vorgehen ist sehr ähnlich zu dem, was wir mit Funktionen gemacht haben."
   ]
  },
  {
   "cell_type": "code",
   "execution_count": 10,
   "metadata": {},
   "outputs": [
    {
     "name": "stdout",
     "output_type": "stream",
     "text": [
      "INFO:root:Dauer des Aufrufs von ConcreteComponent: 2.53 Sekunden\n",
      "INFO:root:Result: 37550402023\n"
     ]
    }
   ],
   "source": [
    "from abc import abstractmethod, ABC\n",
    "import logging\n",
    "from math import sqrt\n",
    "from time import perf_counter\n",
    "from typing import Any\n",
    "\n",
    "# Initialize logging\n",
    "logging.basicConfig(stream=sys.stdout, level=logging.INFO)\n",
    "logger = logging.getLogger('LOGGER_NAME')\n",
    "\n",
    "def is_prime(number: int) -> bool:\n",
    "    if number < 2:\n",
    "        return False\n",
    "    for element in range(2, int(sqrt(number)) + 1):\n",
    "        if number % element == 0:\n",
    "            return False\n",
    "    return True\n",
    "\n",
    "\n",
    "class AbstractComponent(ABC):\n",
    "    @abstractmethod\n",
    "    def execute(self, rounds: int) -> int:\n",
    "        ...\n",
    "\n",
    "class ConcreteComponent(AbstractComponent):\n",
    "    def execute(self, rounds: int) -> int:\n",
    "        result = 0\n",
    "        for number in range(rounds):\n",
    "            if is_prime(number):\n",
    "                result += number\n",
    "        return result\n",
    "\n",
    "\n",
    "class AbstractDecorator(AbstractComponent):\n",
    "    def __init__(self, decorated) -> None:\n",
    "        self._decorated = decorated\n",
    "\n",
    "\n",
    "class BenchmarkDecorator(AbstractDecorator):\n",
    "    def execute(self, upper_bound: Any) -> Any:\n",
    "        start = perf_counter()\n",
    "        result = self._decorated.execute(upper_bound)\n",
    "        end = perf_counter()\n",
    "        logging.info(\n",
    "            f\"Dauer des Aufrufs von {self._decorated.__class__.__name__}: {end - start:.2f} Sekunden\"\n",
    "        )\n",
    "        return result\n",
    "\n",
    "\n",
    "component = ConcreteComponent()\n",
    "benchmark_decorator = BenchmarkDecorator(component)\n",
    "value = benchmark_decorator.execute(1000000)\n",
    "logging.info(f\"Result: {value}\")\n"
   ]
  },
  {
   "attachments": {},
   "cell_type": "markdown",
   "metadata": {},
   "source": [
    "Wir sehen, dass wir den Dekorator wie eine Funktion verwenden können. Nun wollen wir noch das Logging in die Klasse integrieren."
   ]
  },
  {
   "cell_type": "code",
   "execution_count": 14,
   "metadata": {},
   "outputs": [
    {
     "name": "stdout",
     "output_type": "stream",
     "text": [
      "INFO:root:Rufe BenchmarkDecorator auf\n",
      "INFO:root:Dauer des Aufrufs von ConcreteComponent: 2.86 Sekunden\n",
      "INFO:root:Beende Aufruf von BenchmarkDecorator\n",
      "INFO:root:Result: 37550402023\n"
     ]
    }
   ],
   "source": [
    "class LoggingDecorator(AbstractDecorator):\n",
    "    def execute(self, upper_bound: Any) -> Any:\n",
    "        logging.info(f\"Rufe {self._decorated.__class__.__name__} auf\")\n",
    "        value = self._decorated.execute(upper_bound)\n",
    "        logging.info(f\"Beende Aufruf von {self._decorated.__class__.__name__}\")\n",
    "        return value\n",
    "    \n",
    "component = ConcreteComponent()\n",
    "benchmark_decorator = BenchmarkDecorator(component)\n",
    "logging_decorator = LoggingDecorator(benchmark_decorator)\n",
    "value = logging_decorator.execute(1000000)\n",
    "logging.info(f\"Result: {value}\")"
   ]
  },
  {
   "attachments": {},
   "cell_type": "markdown",
   "metadata": {},
   "source": [
    "<p>\n",
    "Wie wir sehen, können wir die Dekoratoren auch untereinander verwenden. Das ist sehr praktisch, wenn wir mehrere Dekoratoren benötigen.\n",
    "\n",
    "Nächstes Kapitel: [Dekoratoren vertiefen 2](Dekoratoren_vertiefen_2.ipynb)"
   ]
  }
 ],
 "metadata": {
  "kernelspec": {
   "display_name": ".venv",
   "language": "python",
   "name": "python3"
  },
  "language_info": {
   "codemirror_mode": {
    "name": "ipython",
    "version": 3
   },
   "file_extension": ".py",
   "mimetype": "text/x-python",
   "name": "python",
   "nbconvert_exporter": "python",
   "pygments_lexer": "ipython3",
   "version": "3.10.5"
  },
  "orig_nbformat": 4,
  "vscode": {
   "interpreter": {
    "hash": "e14e8479963d30db350f91d92f9add431e0df07013125a1b59aab1353cc25703"
   }
  }
 },
 "nbformat": 4,
 "nbformat_minor": 2
}
