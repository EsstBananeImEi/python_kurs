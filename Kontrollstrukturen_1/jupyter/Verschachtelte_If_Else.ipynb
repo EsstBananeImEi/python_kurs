{
 "cells": [
  {
   "cell_type": "markdown",
   "metadata": {},
   "source": [
    "# Verschachtelte If / Else"
   ]
  },
  {
   "cell_type": "markdown",
   "metadata": {},
   "source": [
    "### If -/ Else-Anweisungen können verschatelt werden. Im bezug auf Clean Code sollte dieses verhalten aber vermieden werden da es die Leserlichkeit und Wartbarkeit verschlechtert.\n",
    "\n",
    "### Schauen wir uns dennoch einmal an wie man Anweisungen verschachtet"
   ]
  },
  {
   "cell_type": "markdown",
   "metadata": {},
   "source": [
    "#### Situation:\n",
    "#### Wir befinden uns in einem Restaurant, wir sollen ein kleines Tool schreiben das es uns ermöglicht einen Gast an einen Großen oder Kleinen Tisch zu setzen je nach anzahl der Personen. Dann wollen wir je nach art des Treffens ermitteln ob der Tisch mit Blumen, Kerzen etc. gedeckt werden soll oder ob diese schon vorhanden sind und entfernt werden sollen."
   ]
  },
  {
   "cell_type": "code",
   "execution_count": 7,
   "metadata": {},
   "outputs": [],
   "source": [
    "### Kellner Empfängt Gäste und frage nach der Art des treffens und der anzahl der Personen\n",
    "type_of_meeting = \"Date\"\n",
    "number_of_people = 2\n",
    "flowers_present = True\n",
    "flowers_desired = False\n",
    "candle_present = False\n",
    "candle_desired = True"
   ]
  },
  {
   "cell_type": "code",
   "execution_count": 8,
   "metadata": {},
   "outputs": [
    {
     "name": "stdout",
     "output_type": "stream",
     "text": [
      "Tisch für 2 anbieten!\n",
      "Nimm Blumen vom Tisch\n",
      "Stelle Kerze auf Tisch\n"
     ]
    }
   ],
   "source": [
    "if type_of_meeting == \"Date\":\n",
    "    if number_of_people > 2:\n",
    "        print(\"Großen Tisch anbieten!\")\n",
    "    else:\n",
    "        print(\"Tisch für 2 anbieten!\")\n",
    "\n",
    "    if flowers_desired:\n",
    "        if flowers_present:\n",
    "            print(\"Lasse Blumen auf Tisch\")\n",
    "        else:\n",
    "            print(\"Stelle Blumen auf Tisch\")\n",
    "    else:\n",
    "        if flowers_present:\n",
    "            print(\"Nimm Blumen vom Tisch\")\n",
    "\n",
    "    if candle_desired:\n",
    "        if candle_present:\n",
    "            print(\"Lasse Kerze auf Tisch\")\n",
    "        else:\n",
    "            print(\"Stelle Kerze auf Tisch\")\n",
    "    else:\n",
    "        if candle_present:\n",
    "            print(\"Nimm Kerze vom Tisch\")\n",
    "\n",
    "else:\n",
    "    print(\"abweisungen für andere treffen\")\n"
   ]
  }
 ],
 "metadata": {
  "interpreter": {
   "hash": "8edcae8aee8b9f77d273e745edc9899fcb323bc44a6c60d119c52fd1eee6c242"
  },
  "kernelspec": {
   "display_name": "Python 3.10.0 64-bit ('venv': venv)",
   "language": "python",
   "name": "python3"
  },
  "language_info": {
   "codemirror_mode": {
    "name": "ipython",
    "version": 3
   },
   "file_extension": ".py",
   "mimetype": "text/x-python",
   "name": "python",
   "nbconvert_exporter": "python",
   "pygments_lexer": "ipython3",
   "version": "3.10.0"
  },
  "orig_nbformat": 4
 },
 "nbformat": 4,
 "nbformat_minor": 2
}
