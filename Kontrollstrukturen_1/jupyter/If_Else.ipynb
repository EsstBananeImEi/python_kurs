{
 "cells": [
  {
   "cell_type": "markdown",
   "metadata": {},
   "source": [
    "# If / Else"
   ]
  },
  {
   "cell_type": "markdown",
   "metadata": {},
   "source": [
    "### Mithilfe einer If-Anweisung können wir Werte auf ihren Wahrheitsgehalt Prüfen und den Ablauf eines Programmes steuern, dazu nehmen wir uns wieder die Vergleichsoperatoren zur hilfe.\n",
    "\n",
    "| Operator  | Name    | Example     |\n",
    "|:-------------|:-----------|:------|\n",
    "| ==   | Equal\t                | x == y  |\n",
    "|!=\t | Not equal\t            | x != y    |\n",
    "|>\t | Greater than\t            | x > y  |\n",
    "|<\t | Less than\t            | x < y    |\n",
    "|>=\t | Greater than or equal to\t| x >= y   |\n",
    "|<=\t | Less than or equal to\t| x <= y  |"
   ]
  },
  {
   "cell_type": "code",
   "execution_count": 11,
   "metadata": {},
   "outputs": [],
   "source": [
    "user_move_direction = \"left\""
   ]
  },
  {
   "cell_type": "code",
   "execution_count": 14,
   "metadata": {},
   "outputs": [
    {
     "name": "stdout",
     "output_type": "stream",
     "text": [
      "Programm Running....\n"
     ]
    }
   ],
   "source": [
    "if user_move_direction == \"right\":\n",
    "    print(\"User Moves Right\")\n",
    "print(\"Programm Running....\")"
   ]
  },
  {
   "cell_type": "code",
   "execution_count": 15,
   "metadata": {},
   "outputs": [
    {
     "data": {
      "text/plain": [
       "False"
      ]
     },
     "execution_count": 15,
     "metadata": {},
     "output_type": "execute_result"
    }
   ],
   "source": [
    "user_move_direction == \"right\""
   ]
  },
  {
   "cell_type": "code",
   "execution_count": 13,
   "metadata": {},
   "outputs": [
    {
     "name": "stdout",
     "output_type": "stream",
     "text": [
      "User moves to the left\n",
      "Programm Running....\n"
     ]
    }
   ],
   "source": [
    "if user_move_direction == \"right\":\n",
    "    print(\"User Moves Right\")\n",
    "else:\n",
    "    print(f\"User moves to the {user_move_direction}\")\n",
    "print(\"Programm Running....\")"
   ]
  },
  {
   "cell_type": "code",
   "execution_count": 18,
   "metadata": {},
   "outputs": [
    {
     "name": "stdout",
     "output_type": "stream",
     "text": [
      "9 is less than 10\n"
     ]
    }
   ],
   "source": [
    "my_number = 9\n",
    "is_bigger_ten = my_number > 10\n",
    "if is_bigger_ten:\n",
    "    print(f\"{my_number} is bigger than 10\")\n",
    "else:\n",
    "    print(f\"{my_number} is less than 10\")"
   ]
  }
 ],
 "metadata": {
  "interpreter": {
   "hash": "8edcae8aee8b9f77d273e745edc9899fcb323bc44a6c60d119c52fd1eee6c242"
  },
  "kernelspec": {
   "display_name": "Python 3.10.0 64-bit ('venv': venv)",
   "language": "python",
   "name": "python3"
  },
  "language_info": {
   "codemirror_mode": {
    "name": "ipython",
    "version": 3
   },
   "file_extension": ".py",
   "mimetype": "text/x-python",
   "name": "python",
   "nbconvert_exporter": "python",
   "pygments_lexer": "ipython3",
   "version": "3.10.0"
  },
  "orig_nbformat": 4
 },
 "nbformat": 4,
 "nbformat_minor": 2
}
