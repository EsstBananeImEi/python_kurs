{
 "cells": [
  {
   "cell_type": "markdown",
   "metadata": {},
   "source": [
    "# Elif"
   ]
  },
  {
   "cell_type": "markdown",
   "metadata": {},
   "source": [
    "### Die Elif ist eine erweiterung der If -/ Else-Anweisung, mit ihrer hilfe können wir weitere Wahrheitswerte in der jeweiligen If-Anweisung abfragen sollte das erste If False sein."
   ]
  },
  {
   "cell_type": "code",
   "execution_count": 1,
   "metadata": {},
   "outputs": [],
   "source": [
    "minimal_wert = 0\n",
    "maximal_wert = 100"
   ]
  },
  {
   "cell_type": "code",
   "execution_count": 18,
   "metadata": {},
   "outputs": [
    {
     "name": "stdout",
     "output_type": "stream",
     "text": [
      "Motor ist aus\n"
     ]
    }
   ],
   "source": [
    "is_engine_on = False\n",
    "aktueller_wert = 200\n",
    "if is_engine_on:\n",
    "    print(\"Motor wurde eingeschaltet\")\n",
    "    if aktueller_wert >= minimal_wert and aktueller_wert <= maximal_wert:\n",
    "        print(\"Temperatur ist Ok\")\n",
    "    elif aktueller_wert < minimal_wert:\n",
    "            print(\"Temperatur ist zu Gering\")\n",
    "    elif aktueller_wert > maximal_wert:\n",
    "            print(\"Temperatur ist zu Hoch\")\n",
    "else:\n",
    "    print(\"Motor ist aus\")\n",
    "    "
   ]
  }
 ],
 "metadata": {
  "interpreter": {
   "hash": "8edcae8aee8b9f77d273e745edc9899fcb323bc44a6c60d119c52fd1eee6c242"
  },
  "kernelspec": {
   "display_name": "Python 3.10.0 64-bit ('venv': venv)",
   "language": "python",
   "name": "python3"
  },
  "language_info": {
   "codemirror_mode": {
    "name": "ipython",
    "version": 3
   },
   "file_extension": ".py",
   "mimetype": "text/x-python",
   "name": "python",
   "nbconvert_exporter": "python",
   "pygments_lexer": "ipython3",
   "version": "3.10.0"
  },
  "orig_nbformat": 4
 },
 "nbformat": 4,
 "nbformat_minor": 2
}
