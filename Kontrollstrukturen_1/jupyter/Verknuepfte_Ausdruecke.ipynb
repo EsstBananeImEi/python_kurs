{
 "cells": [
  {
   "cell_type": "markdown",
   "metadata": {},
   "source": [
    "# Verknüpfte Ausdrücke"
   ]
  },
  {
   "cell_type": "markdown",
   "metadata": {},
   "source": [
    "### In einer If-Anweisung können auch mehrere Werte geprüft / verglichen werden, dazu werden ausdrücke mithilfe von Boolischen Operatoren verknüpft\n",
    "\n",
    "| Operator  | Description    | \n",
    "|:-------------|:-----------|\n",
    "| and   | Ist wahr, wenn die Ausdrücke links und rechts des Operators wahr sind. Es handelt sich um eine \"und\" Verknüpfung.\t             |\n",
    "| or | Ist wahr, wenn der Ausdruck links oder der Ausdruck rechts des Operators wahr ist. Es ist auch wahr, wenn beide wahr sind. Es handelt sich um eine \"oder\" Verknüpfung. |\n",
    "| not |Kehrt den Wahrheitswert eines Ausdrucks um. Der Operator macht dasselbe wie das deutsche Wort nicht. |"
   ]
  },
  {
   "cell_type": "markdown",
   "metadata": {},
   "source": [
    "### And"
   ]
  },
  {
   "cell_type": "code",
   "execution_count": 26,
   "metadata": {},
   "outputs": [
    {
     "name": "stdout",
     "output_type": "stream",
     "text": [
      "True\n",
      "False\n",
      "False\n",
      "False\n"
     ]
    }
   ],
   "source": [
    "print(True and True)\n",
    "print(True and False)\n",
    "print(False and False)\n",
    "print(False and True)"
   ]
  },
  {
   "cell_type": "markdown",
   "metadata": {},
   "source": [
    "### Or"
   ]
  },
  {
   "cell_type": "code",
   "execution_count": 27,
   "metadata": {},
   "outputs": [
    {
     "name": "stdout",
     "output_type": "stream",
     "text": [
      "True\n",
      "True\n",
      "False\n",
      "True\n"
     ]
    }
   ],
   "source": [
    "print(True or True)\n",
    "print(True or False)\n",
    "print(False or False)\n",
    "print(False or True)"
   ]
  },
  {
   "cell_type": "markdown",
   "metadata": {},
   "source": [
    "### Not"
   ]
  },
  {
   "cell_type": "code",
   "execution_count": 43,
   "metadata": {},
   "outputs": [
    {
     "name": "stdout",
     "output_type": "stream",
     "text": [
      "True\n",
      "False\n",
      "False\n"
     ]
    }
   ],
   "source": [
    "print(True)\n",
    "print(not True)\n",
    "\n",
    "print(not 5+5==10)"
   ]
  },
  {
   "cell_type": "code",
   "execution_count": 20,
   "metadata": {},
   "outputs": [],
   "source": [
    "minimal_wert = 0\n",
    "maximal_wert = 100\n",
    "aktueller_wert = 2"
   ]
  },
  {
   "cell_type": "code",
   "execution_count": 22,
   "metadata": {},
   "outputs": [
    {
     "name": "stdout",
     "output_type": "stream",
     "text": [
      "Der Wert ist im angegebenen bereich!\n"
     ]
    }
   ],
   "source": [
    "if aktueller_wert >= minimal_wert and aktueller_wert <= maximal_wert: \n",
    "    print(\"Der Wert ist im angegebenen bereich!\")"
   ]
  },
  {
   "cell_type": "code",
   "execution_count": 24,
   "metadata": {},
   "outputs": [
    {
     "name": "stdout",
     "output_type": "stream",
     "text": [
      "Der Aktuelle Wert ist außerhalb des gültigen bereichs\n"
     ]
    }
   ],
   "source": [
    "aktueller_wert = -1\n",
    "if aktueller_wert < minimal_wert or aktueller_wert > maximal_wert:\n",
    "    print(\"Der Aktuelle Wert ist außerhalb des gültigen bereichs\")"
   ]
  },
  {
   "cell_type": "code",
   "execution_count": 39,
   "metadata": {},
   "outputs": [
    {
     "name": "stdout",
     "output_type": "stream",
     "text": [
      "Er darf Alkohol trinken\n"
     ]
    }
   ],
   "source": [
    "land = \"DE\"\n",
    "alter = 20\n",
    "if (land == \"US\" and alter >= 21) or (land != \"US\" and alter >= 18):\n",
    "    print(\"Er darf Alkohol trinken\")\n",
    "else:\n",
    "    print(\"Er darf kein Alkohol trinken!\")"
   ]
  },
  {
   "cell_type": "code",
   "execution_count": 35,
   "metadata": {},
   "outputs": [
    {
     "name": "stdout",
     "output_type": "stream",
     "text": [
      "Motor Temperatur ist nicht Ok\n"
     ]
    }
   ],
   "source": [
    "is_engine_on = False\n",
    "aktueller_wert = 20\n",
    "if is_engine_on and aktueller_wert >= minimal_wert and aktueller_wert <= maximal_wert:\n",
    "    print(\"Motor Temperatur ist Ok\")\n",
    "else:\n",
    "    print(\"Motor Temperatur ist nicht Ok\")"
   ]
  },
  {
   "cell_type": "markdown",
   "metadata": {},
   "source": [
    "### Das letzte Beispiel werden wir gleich im Thema \"Elif\" wieder aufgreifen und wir sehen uns an wie solche Situationen besser gelöst werden können."
   ]
  },
  {
   "cell_type": "markdown",
   "metadata": {},
   "source": []
  }
 ],
 "metadata": {
  "interpreter": {
   "hash": "8edcae8aee8b9f77d273e745edc9899fcb323bc44a6c60d119c52fd1eee6c242"
  },
  "kernelspec": {
   "display_name": "Python 3.10.0 64-bit ('venv': venv)",
   "language": "python",
   "name": "python3"
  },
  "language_info": {
   "codemirror_mode": {
    "name": "ipython",
    "version": 3
   },
   "file_extension": ".py",
   "mimetype": "text/x-python",
   "name": "python",
   "nbconvert_exporter": "python",
   "pygments_lexer": "ipython3",
   "version": "3.10.0"
  },
  "orig_nbformat": 4
 },
 "nbformat": 4,
 "nbformat_minor": 2
}
