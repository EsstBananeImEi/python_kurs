{
 "cells": [
  {
   "cell_type": "markdown",
   "metadata": {},
   "source": [
    "# Timedelta\n",
    "\n",
    "Das timedelta Klasse wird zur Differenzbildung zwischen zwei Zeit- oder Datums-Objekten verwendet.\n",
    "Mit ihr ist es möglich Tage einem datum hinzuzufügen, abzuziehen, differenzen zu ermitteln\n"
   ]
  },
  {
   "cell_type": "code",
   "execution_count": 27,
   "metadata": {},
   "outputs": [
    {
     "name": "stdout",
     "output_type": "stream",
     "text": [
      "2022-01-18 12:36:48.530499\n",
      "2022-01-23 12:36:48.530499\n"
     ]
    }
   ],
   "source": [
    "from datetime import datetime, timedelta\n",
    "\n",
    "date_now = datetime.now()\n",
    "new_date = date_now + timedelta(days=5)\n",
    "\n",
    "print(date_now)\n",
    "print(new_date)"
   ]
  },
  {
   "cell_type": "code",
   "execution_count": 28,
   "metadata": {},
   "outputs": [
    {
     "name": "stdout",
     "output_type": "stream",
     "text": [
      "Heute ist der 18.1.2022 ein Dienstag\n",
      "In einem Jahr ist der 18.1.2023 ein Mittwoch\n"
     ]
    }
   ],
   "source": [
    "wochentage = [\"Montag\", \"Dienstag\", \"Mittwoch\", \"Donnerstag\", \"Freitag\", \"Samstag\", \"Sonntag\"]\n",
    "\n",
    "print(f\"Heute ist der {date_now.day}.{date_now.month}.{date_now.year} ein {wochentage[date_now.weekday()]}\")\n",
    "next_year = date_now + timedelta(days=365)\n",
    "print(f\"In einem Jahr ist der {next_year.day}.{next_year.month}.{next_year.year} ein {wochentage[next_year.weekday()]}\")"
   ]
  },
  {
   "cell_type": "code",
   "execution_count": 62,
   "metadata": {},
   "outputs": [
    {
     "data": {
      "text/plain": [
       "'Es sind noch 347 days, 11:06:04 bis 1.1.2023'"
      ]
     },
     "execution_count": 62,
     "metadata": {},
     "output_type": "execute_result"
    }
   ],
   "source": [
    "date_now = datetime(datetime.now().year,datetime.now().month,datetime.now().day,datetime.now().hour,datetime.now().minute,datetime.now().second)\n",
    "new_year = datetime((date_now + timedelta(days=365)).year, 1, 1,0,0,0)\n",
    "days_left = new_year - date_now\n",
    "f\"Es sind noch {days_left} bis {new_year.day}.{new_year.month}.{new_year.year}\""
   ]
  }
 ],
 "metadata": {
  "interpreter": {
   "hash": "8edcae8aee8b9f77d273e745edc9899fcb323bc44a6c60d119c52fd1eee6c242"
  },
  "kernelspec": {
   "display_name": "Python 3.10.0 64-bit ('venv': venv)",
   "language": "python",
   "name": "python3"
  },
  "language_info": {
   "codemirror_mode": {
    "name": "ipython",
    "version": 3
   },
   "file_extension": ".py",
   "mimetype": "text/x-python",
   "name": "python",
   "nbconvert_exporter": "python",
   "pygments_lexer": "ipython3",
   "version": "3.10.0"
  },
  "orig_nbformat": 4
 },
 "nbformat": 4,
 "nbformat_minor": 2
}
