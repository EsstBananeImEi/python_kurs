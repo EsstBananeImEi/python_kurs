{
 "cells": [
  {
   "cell_type": "markdown",
   "metadata": {},
   "source": [
    "# Datetimes strftime()-Methode\n",
    "\n",
    "Zeitangaben werden in verschiedenen bereichen auch verschieden eingesetzt, z.b sind zeitangaben in Internationalen Unternehmen wahrscheinlich anders Formatiert als in dem Kleinen Kaffee um die Ecke.\n",
    "\n",
    "So wird die Zeit in den USA eher \"mm/dd/yyyy\" nach dieser art Formatiert, wohingegen die Engländer bevorzugt\n",
    "\"dd/mm/yyyy\" als formatierung bevorzugen. Auch geläufig ist \"yyyy/mm/dd\"\n",
    "\n",
    "Python besitzt strftime()- und strptime()-Method um eine Formatierung von Datumswerten zu ermöglichen.\n",
    "\n",
    "\n",
    "<div class=\"alert alert-block alert-info\">\n",
    "<b>Tip:</b> \n",
    "\n",
    "Die strftime()-Methode benötigt einen Format Code und macht aus einem datetime objekt einen String.\n",
    "\n",
    "Formatierungs Codes: https://docs.python.org/3/library/datetime.html\n",
    "</div>\n",
    "\n"
   ]
  },
  {
   "cell_type": "code",
   "execution_count": 1,
   "metadata": {},
   "outputs": [],
   "source": [
    "from datetime import datetime"
   ]
  },
  {
   "cell_type": "code",
   "execution_count": 3,
   "metadata": {},
   "outputs": [
    {
     "data": {
      "text/plain": [
       "datetime.datetime(2022, 1, 17, 17, 34, 3, 933146)"
      ]
     },
     "execution_count": 3,
     "metadata": {},
     "output_type": "execute_result"
    }
   ],
   "source": [
    "date_now = datetime.now()\n",
    "date_now"
   ]
  },
  {
   "cell_type": "code",
   "execution_count": 6,
   "metadata": {},
   "outputs": [
    {
     "data": {
      "text/plain": [
       "'17.01.2022'"
      ]
     },
     "execution_count": 6,
     "metadata": {},
     "output_type": "execute_result"
    }
   ],
   "source": [
    "english_format = date_now.strftime(\"%d/%m/%Y\")\n",
    "english_format"
   ]
  },
  {
   "cell_type": "code",
   "execution_count": 9,
   "metadata": {},
   "outputs": [
    {
     "data": {
      "text/plain": [
       "'01/17/2022'"
      ]
     },
     "execution_count": 9,
     "metadata": {},
     "output_type": "execute_result"
    }
   ],
   "source": [
    "us_format = date_now.strftime(\"%m/%d/%Y\")\n",
    "us_format"
   ]
  },
  {
   "cell_type": "code",
   "execution_count": null,
   "metadata": {},
   "outputs": [],
   "source": []
  }
 ],
 "metadata": {
  "interpreter": {
   "hash": "8edcae8aee8b9f77d273e745edc9899fcb323bc44a6c60d119c52fd1eee6c242"
  },
  "kernelspec": {
   "display_name": "Python 3 (ipykernel)",
   "language": "python",
   "name": "python3"
  },
  "language_info": {
   "codemirror_mode": {
    "name": "ipython",
    "version": 3
   },
   "file_extension": ".py",
   "mimetype": "text/x-python",
   "name": "python",
   "nbconvert_exporter": "python",
   "pygments_lexer": "ipython3",
   "version": "3.10.0"
  }
 },
 "nbformat": 4,
 "nbformat_minor": 2
}
