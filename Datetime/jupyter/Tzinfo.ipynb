{
 "cells": [
  {
   "cell_type": "markdown",
   "metadata": {},
   "source": [
    "# Python – datetime.tzinfo()\n",
    "\n",
    "Die DateTime-Klasse bietet verschiedene Funktionen zur Manipulation von Datums- und Zeitintervallen. Das DateTime-Objekt, das Sie in datetime.now() verwenden, ist eigentlich ein Objekt der DateTime-Klasse. Diese Objekte helfen uns bei der Verwendung der Funktionen für Datum und Uhrzeit.\n",
    "\n",
    "Hinweis: Weitere Informationen finden Sie im <a href=\"https://www.geeksforgeeks.org/python-datetime-module/\" title=\"GeeksForGeeks\">Python datetime-Modul mit Beispielen</a>\n",
    "\n",
    "# DateTime.tzinfo()\n",
    "\n",
    "Die Funktion datetime.now() enthält keine Informationen über die Zeitzonen. Sie verwendet einfach die aktuelle Systemzeit. In manchen Situationen können die Zeitzonendetails erforderlich sein. In solchen Fällen wird die abstrakte Klasse tzinfo verwendet. tzinfo ist eine abstrakte Basisklasse. Sie kann nicht direkt instanziiert werden. Eine konkrete Unterklasse muss sie ableiten und die von dieser abstrakten Klasse bereitgestellten Methoden implementieren.\n",
    "\n",
    "Die Instanz der tzinfo-Klasse kann an die Konstruktoren der datetime- und time-Objekte übergeben werden. Sie findet ihre Anwendung z. B. bei der Umrechnung der Ortszeit in UTC oder bei der Berücksichtigung der Sommerzeit.\n",
    "\n",
    "## Naive and Aware datetime objects\n",
    "Ein Datum / Uhrzeit-Objekt, das keine Informationen zur Zeitzone enthält, wird als naives Datum / Uhrzeit-Objekt bezeichnet . Für ein naives Datetime – Objekt, datetime_object.tzinfo wird sein None. Ein Aware datetime-Objekt enthält die darin eingebetteten Zeitzoneninformationen.\n",
    "\n",
    "Die Methoden, die in der Basisklasse tzinfo implementiert werden können, sind:\n",
    "\n",
    "- utcoffset(self, dt)\n",
    "- dst(self, dt)\n",
    "- tzname(self, dt)\n",
    "- fromutc(self, dt)"
   ]
  },
  {
   "cell_type": "markdown",
   "metadata": {},
   "source": [
    "## utcoffset()\n",
    "\n",
    "Es gibt den Offset der als Argument übergebenen datetime-Instanz zurück.\n",
    "\n",
    "### Worauf bezieht sich dieser Offset?\n",
    "\n",
    "Es bezieht sich auf den Zeitzonenversatz, der angibt, wie viele Stunden die Zeitzone vor der koordinierten Weltzeit oder der Weltzeitkoordinate (UTC) liegt. Der Offset wird als +00: 00 geschrieben. Beispiel: Für Asien / Taipeh wird es als UTC +08: 00 geschrieben.\n",
    "\n",
    "Es nimmt die Zeit eines datetime-Objekts ein und gibt die Differenz zwischen der Zeit im datetime-Objekt und der Zeit desselben Zeitpunkts in UTC zurück. Der Offset wird in Minuten östlich von UTC zurückgegeben . Wenn die Ortszeit westlich von UTC liegt, wäre sie negativ. Das allgemeine Implementierungsformular ist unten angegeben:\n",
    "\n",
    "Für festen Versatz:\n",
    "\n",
    "```python\n",
    "def utcoff (self, datetime_object):\n",
    "    Rückgabekonstante\n",
    "```\n",
    "<br>\n",
    "Für zeitbewusste Objekte:\n",
    "\n",
    "```python\n",
    "def utcoffset (self, datetime_object):\n",
    "    return self.stdoffset + self.dst(datetime_object)\n",
    "```"
   ]
  },
  {
   "cell_type": "code",
   "execution_count": 26,
   "metadata": {},
   "outputs": [
    {
     "data": {
      "text/plain": [
       "datetime.timedelta(seconds=3600)"
      ]
     },
     "execution_count": 26,
     "metadata": {},
     "output_type": "execute_result"
    }
   ],
   "source": [
    "from datetime import datetime, timezone\n",
    "from dateutil import tz as timezone_module\n",
    " \n",
    "time_zone_info = timezone_module.gettz('Europe/Berlin') \n",
    "datetime_one = datetime.now() \n",
    "\n",
    "time_zone_info.utcoffset(datetime_one)"
   ]
  },
  {
   "cell_type": "markdown",
   "metadata": {},
   "source": [
    "## dst()\n",
    "\n",
    "Es wird als D ay-light S aving T ime abgekürzt . Dies bedeutet, dass die Uhr im Sommer um 1 Stunde vorgerückt wird, sodass die Dunkelheit später entsprechend der Uhr eintritt. Es ist ein- oder ausgeschaltet. Es wird anhand eines Tupels mit 9 Elementen wie folgt überprüft:\n",
    "\n",
    "<blockquote>\n",
    "(dt.Jahr, dt.Monat, dt.Tag, dt.Stunde, dt.Minute, dt.Sekunde, dt.Wochentag(), 0, 0)\n",
    "</blockquote>\n",
    "\n",
    "Eine private Funktion wird geschrieben, um abhängig von diesen 9 Elementen entweder 0, 1 oder -1 zurückzugeben. Darauf basierend wird der Wert von dst(self, dt)entschieden.\n",
    "\n",
    "```python\n",
    "def _isdst(self, datetime_object): \n",
    "  \n",
    "    timetuple = (datetime_object.year, datetime_object.month, \n",
    "                datetime_object.day, datetime_object.hour, \n",
    "                datetime_object.minute, datetime_object.second, \n",
    "                datetime_object.weekday(), 0, 0) \n",
    "\n",
    "    timestamp = _time.mktime(timetuple) \n",
    "    timetuple = _time.localtime(timestamp) \n",
    "\n",
    "    return timetuple.tm_isdst > 0\n",
    "```\n",
    "\n",
    " mktime() nimmt dieses Tupel und wandelt es in Sekunden um, die seit der Epoche in der Ortszeit vergangen sind. Dann tm_isdst() wird zusammen mit mktime verwendet. Die Werte werden wie folgt zurückgegeben:\n",
    "\n",
    " <blockquote>\n",
    "‚1‘ – Sommerzeit EIN <br>\n",
    "‚0‘ – Sommerzeit AUS <br>\n",
    "‚-1‘ – Informationen zur Sommerzeit unbekannt\n",
    " </blockquote>\n",
    "\n",
    "Nach dem Hinzufügen dieses Codes zur Klasse kann der Code dst() basierend auf den Bedingungen wie unten angegeben definiert werden.\n",
    "\n",
    "For fixed offset class :\n",
    "\n",
    "```python\n",
    "def dst(self, dt):\n",
    "    return ZERO\n",
    "```\n",
    "<br>\n",
    "For time aware objects :\n",
    "\n",
    "```python\n",
    "def utcoffset(self, dt):\n",
    "    if self._isdst(dt):\n",
    "        return DSTOFFSET\n",
    "    else:\n",
    "        return STDOFFSET\n",
    "```"
   ]
  },
  {
   "cell_type": "code",
   "execution_count": 73,
   "metadata": {},
   "outputs": [
    {
     "name": "stdout",
     "output_type": "stream",
     "text": [
      "2022-03-27 02:00:00+01:00 ist in der Sommerzeit: True\n",
      "2022-10-30 02:00:00+01:00 ist in der Sommerzeit: False\n"
     ]
    }
   ],
   "source": [
    "from datetime import datetime, timezone\n",
    "import pytz\n",
    "import time\n",
    " \n",
    "def is_dst(datetime_object): \n",
    "  \n",
    "    timetuple = (datetime_object.year, datetime_object.month, \n",
    "                datetime_object.day, datetime_object.hour, \n",
    "                datetime_object.minute, datetime_object.second, \n",
    "                datetime_object.weekday(), 0, 0) \n",
    "\n",
    "    timestamp = time.mktime(timetuple) \n",
    "    timetuple = time.localtime(timestamp) \n",
    "\n",
    "    return timetuple.tm_isdst > 0\n",
    "\n",
    "timezone_europe = 'Europe/Berlin'\n",
    "europe_summer_time = pytz.timezone(timezone_europe).localize(datetime(year=2022, month=3, day=27, hour=2, minute=0, second=0))\n",
    "europe_winter_time = pytz.timezone(timezone_europe).localize(datetime(year=2022, month=10, day=30, hour=2, minute=0, second=0))\n",
    "\n",
    "print(f\"{europe_summer_time} ist in der Sommerzeit: {is_dst(europe_summer_time)}\")\n",
    "print(f\"{europe_winter_time} ist in der Sommerzeit: {is_dst(europe_winter_time)}\")"
   ]
  },
  {
   "cell_type": "markdown",
   "metadata": {},
   "source": [
    "# tzname()\n",
    "\n",
    "Mit dieser Funktion wird der Name der Zeitzone des übergebenen datetime-Objekts ermittelt. Sie gibt ein Python-String-Objekt zurück."
   ]
  },
  {
   "cell_type": "code",
   "execution_count": 11,
   "metadata": {},
   "outputs": [
    {
     "name": "stdout",
     "output_type": "stream",
     "text": [
      "datetime.now() : 1:00:00\n",
      "Naive Object : None\n",
      "Aware Object : GMT\n"
     ]
    }
   ],
   "source": [
    "from datetime import datetime, timezone\n",
    "from dateutil import tz as timezone_module\n",
    "  \n",
    "  \n",
    "time_zone_string = datetime.now(timezone.utc).astimezone().tzname()\n",
    "  \n",
    "print(\"datetime.now() :\", time_zone_string)\n",
    "\n",
    "NYC = timezone_module.gettz('Europe/London')  \n",
    "datetime_one = datetime(2015, 5, 21, 12, 0) \n",
    "datetime_two = datetime(2015, 12, 21, 12, 0, tzinfo = NYC) \n",
    "  \n",
    "print(\"Naive Object :\", datetime_one.tzname())\n",
    "print(\"Aware Object :\", datetime_two.tzname())"
   ]
  },
  {
   "cell_type": "markdown",
   "metadata": {},
   "source": [
    "# fromutc()\n",
    "\n",
    "Diese Funktion nimmt das Datum und die Uhrzeit des Objekts in UTC auf und gibt die entsprechende Ortszeit zurück. Es wird hauptsächlich zum Einstellen von Datum und Uhrzeit verwendet. Es wird von der Standardimplementierung aufgerufen datetime.astimezone(). Die dt.tzinfo wird als self übergeben, die Datums- und Zeitdaten von dt werden als äquivalente Ortszeit zurückgegeben.\n",
    "\n",
    "<div class=\"alert alert-block alert-warning\">\n",
    "<b>Hinweis:</b> Es wird ValueError ausgelöst , wenn dt.tzinfo nicht self oder / und dst() None ist.\n",
    "</div>\n",
    "\n",
    "Im allgemeinen wird es folgendermaßen implementiert:\n",
    "\n",
    "```python\n",
    "def fromutc(self, dt):\n",
    "    dt_offset = dt.utcoffset()\n",
    "    dt_dst = dt.dst()\n",
    "    delta = dt_offset - dt_dst  \n",
    "               \n",
    "    if delta:\n",
    "          dt += delta   \n",
    "          dtdst = dt.dst()\n",
    "          \n",
    "    if dtdst:\n",
    "          return dt + dtdst\n",
    "    else:\n",
    "          return dt\n",
    "```"
   ]
  },
  {
   "cell_type": "markdown",
   "metadata": {},
   "source": [
    "###### Quelle <a href=\"https://www.geeksforgeeks.org\" title=\"GeeksForGeeks\">Geeks for Geeks</a>"
   ]
  }
 ],
 "metadata": {
  "kernelspec": {
   "display_name": "Python 3 (ipykernel)",
   "language": "python",
   "name": "python3"
  },
  "language_info": {
   "codemirror_mode": {
    "name": "ipython",
    "version": 3
   },
   "file_extension": ".py",
   "mimetype": "text/x-python",
   "name": "python",
   "nbconvert_exporter": "python",
   "pygments_lexer": "ipython3",
   "version": "3.10.0"
  }
 },
 "nbformat": 4,
 "nbformat_minor": 2
}
