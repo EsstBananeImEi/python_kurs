{
 "cells": [
  {
   "cell_type": "markdown",
   "metadata": {},
   "source": [
    "# Thread\n",
    "\n",
    "In der Informatik ist ein Prozess eine Instanz eines Computerprogramms, die gerade ausgeführt wird. Jeder Prozess hat 3 grundlegende Komponenten:\n",
    "\n",
    "- Ein ausführbares Programm.\n",
    "- Die zugehörigen Daten, die das Programm benötigt (Variablen, Arbeitsspeicher, Puffer, etc.)\n",
    "- Der Ausführungskontext des Programms (Zustand des Prozesses)\n",
    "\n",
    "Ein Thread ist eine Einheit innerhalb eines Prozesses, die für die Ausführung geplant werden kann. Außerdem ist er die kleinste Verarbeitungseinheit, die in einem Betriebssystem (OS) ausgeführt werden kann.\n",
    "\n",
    "Einfach ausgedrückt, ist ein Thread eine Folge von Anweisungen innerhalb eines Programms, die unabhängig von anderem Code ausgeführt werden kann. Der Einfachheit halber kannst du davon ausgehen, dass ein Thread einfach eine Untermenge eines Prozesses ist!\n",
    "\n",
    "Ein Thread enthält all diese Informationen in einem Thread Control Block (TCB):\n",
    "\n",
    "- Thread-Identifikator (Thread Identifier): Jedem neuen Thread wird eine eindeutige ID (TID) zugewiesen\n",
    "- Stapelzeiger (Stack Pointer): Zeigt auf den Stack des Threads im Prozess. Der Stack enthält die lokalen Variablen, die in den Bereich des Threads fallen.\n",
    "- Programmzähler (Programm Counter): Ein Register, das die Adresse der Anweisung speichert, die gerade vom Thread ausgeführt wird.\n",
    "- Thread-Zustand (Thread State): kann ausgeführt, bereit, wartend, gestartet oder erledigt sein.\n",
    "- Registersatz des Threads (Thread’s register set): Register, die dem Thread für Berechnungen zugewiesen sind.\n",
    "- Übergeordneter Prozess Zeiger (Oarebt Process Pointer): Ein Zeiger auf den Prozesssteuerungsblock (PCB) des Prozesses, in dem der Thread lebt.\n",
    "\n",
    "In einem Prozess können mehrere Threads existieren:\n",
    "- Jeder Thread enthält seinen eigenen Registersatz und lokale Variablen (die im Stack gespeichert werden).\n",
    "- Alle Threads eines Prozesses teilen sich globale Variablen (im Heap gespeichert) und den Programmcode.\n",
    "\n",
    "Multithreading ist definiert als die Fähigkeit eines Prozessors, mehrere Threads gleichzeitig auszuführen.\n",
    "\n",
    "Bei einer einfachen Single-Core-CPU wird dies durch häufiges Umschalten zwischen den Threads erreicht. Dies wird als Kontextwechsel bezeichnet. Bei der Kontextumschaltung wird der Status eines Threads gespeichert und der Status eines anderen Threads geladen, sobald eine Unterbrechung (durch E/A oder manuell gesetzt) auftritt.\n",
    "\n",
    "<div class=\"alert alert-block alert-info\">\n",
    "<b>Wichtig!</b><br>\n",
    "Die Kontextumschaltung erfolgt so häufig, dass alle Threads parallel zu laufen scheinen (dies wird als Multitasking bezeichnet).\n",
    "</div>"
   ]
  },
  {
   "cell_type": "code",
   "execution_count": null,
   "metadata": {},
   "outputs": [],
   "source": []
  }
 ],
 "metadata": {
  "kernelspec": {
   "display_name": "Python 3 (ipykernel)",
   "language": "python",
   "name": "python3"
  },
  "language_info": {
   "codemirror_mode": {
    "name": "ipython",
    "version": 3
   },
   "file_extension": ".py",
   "mimetype": "text/x-python",
   "name": "python",
   "nbconvert_exporter": "python",
   "pygments_lexer": "ipython3",
   "version": "3.10.0"
  }
 },
 "nbformat": 4,
 "nbformat_minor": 2
}
