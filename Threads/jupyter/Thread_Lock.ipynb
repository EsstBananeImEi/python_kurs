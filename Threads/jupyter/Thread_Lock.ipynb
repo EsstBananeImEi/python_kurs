{
 "cells": [
  {
   "cell_type": "markdown",
   "metadata": {},
   "source": [
    "# Thread lock()\n",
    "\n",
    "Eine primitive Sperre befindet sich in einem von zwei Zuständen: \"gesperrt\" oder \"entsperrt\". Sie wird im nicht gesperrten Zustand erstellt. Sie hat zwei grundlegende Methoden, acquire() und release(). Wenn der Zustand \"unlocked\" ist, ändert acquire() den Zustand in \"locked\" und kehrt sofort zurück. Im gesperrten Zustand blockiert acquire() so lange, bis ein Aufruf von release() in einem anderen Thread den Zustand in den ungesperrten Zustand ändert; dann setzt der acquire()-Aufruf den Zustand auf locked zurück und kehrt zurück. Die release()-Methode sollte nur im gesperrten Zustand aufgerufen werden; sie ändert den Zustand in \"unlocked\" und kehrt sofort zurück. Wenn versucht wird, eine nicht gesperrte Sperre freizugeben, wird ein RuntimeError ausgelöst.\n",
    "\n"
   ]
  },
  {
   "cell_type": "code",
   "execution_count": 199,
   "metadata": {},
   "outputs": [
    {
     "name": "stdout",
     "output_type": "stream",
     "text": [
      "Einzahlung=10\n",
      "Einzahlung=20\n",
      "Dein Endgültiger Saldo ist 20\n"
     ]
    }
   ],
   "source": [
    "from threading import Thread\n",
    "import time\n",
    "\n",
    "saldo = 0\n",
    "\n",
    "def deposit(amount: int):\n",
    "    global saldo\n",
    "    \n",
    "    local_balance = saldo\n",
    "    local_balance += amount\n",
    "    \n",
    "    time.sleep(0.2)\n",
    "    \n",
    "    saldo = local_balance\n",
    "    print(f'Einzahlung={amount}')\n",
    "\n",
    "\n",
    "t1 = Thread(target=deposit, args=(10,))\n",
    "t2 = Thread(target=deposit, args=(20,))\n",
    "\n",
    "t1.start()\n",
    "t2.start()\n",
    "\n",
    "\n",
    "t1.join()\n",
    "t2.join()\n",
    "\n",
    "print(f'Dein Endgültiger Saldo ist {saldo}')"
   ]
  },
  {
   "cell_type": "code",
   "execution_count": 201,
   "metadata": {},
   "outputs": [
    {
     "name": "stdout",
     "output_type": "stream",
     "text": [
      "Einzahlung=10\n",
      "Einzahlung=20\n",
      "Dein Endgültiger Saldo ist 30\n"
     ]
    }
   ],
   "source": [
    "from threading import Lock\n",
    "\n",
    "saldo = 0\n",
    "lock = Lock()\n",
    "\n",
    "def deposit(amount: int):\n",
    "    global saldo\n",
    "    \n",
    "    lock.acquire()\n",
    "    local_balance = saldo\n",
    "    local_balance += amount\n",
    "    \n",
    "    time.sleep(0.2)\n",
    "    \n",
    "    saldo = local_balance\n",
    "    print(f'Einzahlung={amount}')\n",
    "    lock.release()\n",
    "\n",
    "\n",
    "t1 = Thread(target=deposit, args=(10,))\n",
    "t2 = Thread(target=deposit, args=(20,))\n",
    "\n",
    "t1.start()\n",
    "t2.start()\n",
    "\n",
    "\n",
    "t1.join()\n",
    "t2.join()\n",
    "\n",
    "\n",
    "print(f'Dein Endgültiger Saldo ist {saldo}')\n"
   ]
  },
  {
   "cell_type": "markdown",
   "metadata": {},
   "source": [
    "Der Code zwischen den Methoden acquire() und release() wird atomar ausgeführt, so dass es keine Chance gibt, dass ein Thread eine nicht aktualisierte Version liest, nachdem ein anderer Thread bereits eine Änderung vorgenommen hat."
   ]
  }
 ],
 "metadata": {
  "interpreter": {
   "hash": "8edcae8aee8b9f77d273e745edc9899fcb323bc44a6c60d119c52fd1eee6c242"
  },
  "kernelspec": {
   "display_name": "Python 3.10.0 ('venv': venv)",
   "language": "python",
   "name": "python3"
  },
  "language_info": {
   "codemirror_mode": {
    "name": "ipython",
    "version": 3
   },
   "file_extension": ".py",
   "mimetype": "text/x-python",
   "name": "python",
   "nbconvert_exporter": "python",
   "pygments_lexer": "ipython3",
   "version": "3.10.0"
  },
  "orig_nbformat": 4
 },
 "nbformat": 4,
 "nbformat_minor": 2
}
