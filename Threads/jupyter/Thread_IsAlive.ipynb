{
 "cells": [
  {
   "cell_type": "markdown",
   "metadata": {},
   "source": [
    "# Thread is_alive()\n",
    "\n",
    "Die Methode is_alive() prüft, ob ein Thread aktiv ist und gibt einen booleschen Wert zurück. \n",
    "Die Methode is_alive() wird häufig bei der Thread-Synchronisierung verwendet,\n",
    "um zu prüfen, ob ein Thread am Leben ist, bevor Signale an ihn gesendet werden. Es muss jedoch darauf geachtet werden\n",
    "dass der letzte Aufruf von is_alive() den aktuellen Status des Threads enthält."
   ]
  },
  {
   "cell_type": "code",
   "execution_count": 2,
   "metadata": {},
   "outputs": [
    {
     "name": "stdout",
     "output_type": "stream",
     "text": [
      "Thread ist Aktiv: True\n",
      "Thread ist Aktiv: True\n",
      "Thread ist Aktiv: True\n",
      "Thread ist Aktiv: True\n",
      "Thread ist Aktiv: False\n"
     ]
    }
   ],
   "source": [
    "import threading\n",
    "import time\n",
    "\n",
    "\n",
    "def calculate(number_a: int, number_b: int) -> float:\n",
    "    \"\"\"Ein Dummy der eine Komplexe Berechnung Simuliert\"\"\"\n",
    "\n",
    "    time.sleep(4)\n",
    "    return number_a + number_b\n",
    "\n",
    "my_thread = threading.Thread(target=calculate, args=(10,5))\n",
    "my_thread.start()\n",
    "\n",
    "if my_thread.is_alive():\n",
    "    print(f\"Thread ist Aktiv: {my_thread.is_alive()}\")\n",
    "\n",
    "my_thread.join()    \n",
    "print(f\"Thread ist Aktiv: {my_thread.is_alive()}\")\n",
    "\n"
   ]
  },
  {
   "cell_type": "code",
   "execution_count": 11,
   "metadata": {},
   "outputs": [
    {
     "name": "stdout",
     "output_type": "stream",
     "text": [
      "Thread ist Aktiv: True\n",
      "Thread ist Aktiv: True\n",
      "Thread ist Aktiv: True\n",
      "Thread ist Aktiv: True\n",
      "thread Thread-15 (calculate) ist beendet: True\n"
     ]
    }
   ],
   "source": [
    "my_thread = threading.Thread(target=calculate, args=(10,5))\n",
    "my_thread.start()\n",
    "\n",
    "while my_thread.is_alive():\n",
    "    print(f\"Thread ist Aktiv: {my_thread.is_alive()}\")\n",
    "    time.sleep(1)\n",
    "\n",
    "print(f\"thread {my_thread.name} ist beendet: {not my_thread.is_alive()}\")"
   ]
  },
  {
   "cell_type": "markdown",
   "metadata": {},
   "source": [
    "Wir können der join()-Methode einen Wert geben, mit diesem können wir Steuern, wielange der Main-Thread blockiert werden soll. "
   ]
  },
  {
   "cell_type": "code",
   "execution_count": 3,
   "metadata": {},
   "outputs": [
    {
     "name": "stdout",
     "output_type": "stream",
     "text": [
      "Thread ist Aktiv: True\n"
     ]
    }
   ],
   "source": [
    "import threading\n",
    "import time\n",
    "\n",
    "\n",
    "def calculate(number_a: int, number_b: int) -> None:\n",
    "    \"\"\"Ein Dummy der eine Komplexe Berechnung Simuliert\"\"\"\n",
    "    time.sleep(4)\n",
    "    return\n",
    "\n",
    "my_thread = threading.Thread(target=calculate, args=(10,5))\n",
    "my_thread.start()\n",
    "\n",
    "if my_thread.is_alive():\n",
    "    print(f\"Thread ist Aktiv: {my_thread.is_alive()}\")\n",
    "\n",
    "my_thread.join(2)    \n",
    "print(f\"Thread ist Aktiv: {my_thread.is_alive()}\")\n",
    "\n"
   ]
  },
  {
   "cell_type": "markdown",
   "metadata": {},
   "source": [
    "# Thread Timer()\n",
    "\n",
    "Mit hilfe von einem Timer, können wir festlegen ob ein Thread direkt oder erst nach x Sekunden gestartet wird."
   ]
  },
  {
   "cell_type": "code",
   "execution_count": 19,
   "metadata": {},
   "outputs": [
    {
     "name": "stdout",
     "output_type": "stream",
     "text": [
      "Main-Thread wartet auf Threads...\n",
      "[]\n",
      "Main-Thread wartet auf Threads...\n",
      "[7]\n",
      "Main-Thread wartet auf Threads...\n",
      "[7]\n",
      "Main-Thread wartet auf Threads...\n",
      "[7]\n",
      "Main-Thread wartet auf Threads...\n",
      "[7, 22]\n",
      "Main-Thread macht weiter...\n"
     ]
    }
   ],
   "source": [
    "from threading import Timer\n",
    "\n",
    "integer_list: list[int] = []\n",
    "\n",
    "def add_integer_sum(number_a: int, number_b: int) -> None:\n",
    "    integer_list.append(number_a+number_b)\n",
    "\n",
    "my_thread = Timer(5, add_integer_sum, args=(12,10))\n",
    "my_lambda_thread = Timer(2, (lambda number_a, number_b:integer_list.append(number_a+number_b) ), args=(5,2))\n",
    "my_thread.start() \n",
    "my_lambda_thread.start()\n",
    "\n",
    "while my_thread.is_alive() or my_lambda_thread.is_alive():\n",
    "    print(\"Main-Thread wartet auf Threads...\")\n",
    "    time.sleep(1)\n",
    "    print(integer_list)\n",
    "\n",
    "print(\"Main-Thread macht weiter...\")"
   ]
  },
  {
   "cell_type": "code",
   "execution_count": 18,
   "metadata": {},
   "outputs": [
    {
     "name": "stdout",
     "output_type": "stream",
     "text": [
      "Main-Thread wartet auf Threads...\n",
      "Main-Thread wartet auf Threads...\n",
      "Main-Thread wartet auf Threads...\n",
      "Main-Thread wartet auf Threads...\n",
      "0\n",
      "1\n",
      "4\n",
      "9\n",
      "16\n"
     ]
    }
   ],
   "source": [
    "# threading beispiel mit liste von threads\n",
    "\n",
    "import threading\n",
    "import time\n",
    "\n",
    "def calculate(number_a: int, number_b: int) -> None:\n",
    "    \"\"\"Ein Dummy der eine Komplexe Berechnung Simuliert\"\"\"\n",
    "    time.sleep(4)\n",
    "    return\n",
    "\n",
    "thread_list: list[threading.Thread] = []\n",
    "\n",
    "for i in range(5):\n",
    "    thread_list.append(threading.Thread(target=calculate, args=(i,i)))\n",
    "\n",
    "for thread in thread_list:\n",
    "    thread.start()\n",
    "\n",
    "while any([thread.is_alive() for thread in thread_list]):\n",
    "    print(\"Main-Thread wartet auf Threads...\")\n",
    "    time.sleep(1)\n",
    "\n"
   ]
  }
 ],
 "metadata": {
  "interpreter": {
   "hash": "8edcae8aee8b9f77d273e745edc9899fcb323bc44a6c60d119c52fd1eee6c242"
  },
  "kernelspec": {
   "display_name": "Python 3.10.0 ('venv': venv)",
   "language": "python",
   "name": "python3"
  },
  "language_info": {
   "codemirror_mode": {
    "name": "ipython",
    "version": 3
   },
   "file_extension": ".py",
   "mimetype": "text/x-python",
   "name": "python",
   "nbconvert_exporter": "python",
   "pygments_lexer": "ipython3",
   "version": "3.10.5"
  },
  "orig_nbformat": 4
 },
 "nbformat": 4,
 "nbformat_minor": 2
}
