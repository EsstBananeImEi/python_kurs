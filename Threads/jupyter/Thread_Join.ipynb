{
 "cells": [
  {
   "cell_type": "markdown",
   "metadata": {},
   "source": [
    "# Thread join()\n",
    "\n",
    "Wenn die Join-Methode aufgerufen wird, wird der aufrufende Thread blockiert, bis das Thread-Objekt, auf dem sie aufgerufen wurde\n",
    "beendet wird. \n",
    "\n",
    "Wenn join() zum Beispiel von einem Haupt-Thread aufgerufen wird, wartet der Haupt-Thread \n",
    "solange, bis der Child-Thread, in dem join aufgerufen wurde, beendet wird. \n",
    "Die Bedeutung der join()-Methode liegt darin, dass der Haupt-Thread vor dem Child-Thread beendet werden kann, wenn join() nicht aufgerufen wird. \n",
    "kann der Haupt-Thread vor dem Child-Thread beendet werden, was zu unbestimmtem Verhalten von Programmen führt."
   ]
  },
  {
   "cell_type": "code",
   "execution_count": 7,
   "metadata": {},
   "outputs": [
    {
     "name": "stdout",
     "output_type": "stream",
     "text": [
      "Ich bin der Child-Thread und beginne meine Arbeit\n",
      "Verbinde zu 127.0.0.1:8000\n",
      "Ich bin der Main-Thread und warte hier...\n",
      "Verbinde zu 127.0.0.1:8000\n",
      "Verbinde zu 127.0.0.1:8000\n",
      "Verbinde zu 127.0.0.1:8000\n",
      "Verbinde zu 127.0.0.1:8000\n",
      "Verbinde zu 127.0.0.1:8000\n",
      "Verbinde zu 127.0.0.1:8000\n",
      "Verbinde zu 127.0.0.1:8000\n",
      "Verbinde zu 127.0.0.1:8000\n",
      "Verbinde zu 127.0.0.1:8000\n",
      "Ich bin der Child-Thread und meine Arbeit ist zuende\n",
      "Ich bin der Main-Thread und mache jetzt weiter ...\n",
      "Verbindung Erfolgreich\n"
     ]
    }
   ],
   "source": [
    "import threading\n",
    "from dataclasses import dataclass\n",
    "import time\n",
    "\n",
    "\n",
    "@dataclass\n",
    "class ConnectionThread(threading.Thread):    \n",
    "    def __init__(self, address: str):\n",
    "        self.address = address\n",
    "        self.established = False\n",
    "    \n",
    "    def run(self):\n",
    "        print(\"Ich bin der Child-Thread und beginne meine Arbeit\")\n",
    "        for _ in range(10):\n",
    "            print(f\"Verbinde zu {self.address}\")\n",
    "            time.sleep(1)\n",
    "        self.established = True\n",
    "        print(\"Ich bin der Child-Thread und meine Arbeit ist zuende\")\n",
    "        \n",
    "if __name__=='__main__':\n",
    "    connection = ConnectionThread(\"127.0.0.1:8000\")\n",
    "    my_thread = threading.Thread(target=connection.run)\n",
    "    my_thread.start()\n",
    "    \n",
    "    print(\"Ich bin der Main-Thread und warte hier...\")\n",
    "    \n",
    "    my_thread.join()\n",
    "    \n",
    "    print(\"Ich bin der Main-Thread und mache jetzt weiter ...\")\n",
    "    \n",
    "    if connection.established:\n",
    "        print(\"Verbindung Erfolgreich\")\n",
    "    else: print(\"Verbindung Fehlgeschlagen\")\n",
    "    "
   ]
  }
 ],
 "metadata": {
  "interpreter": {
   "hash": "8edcae8aee8b9f77d273e745edc9899fcb323bc44a6c60d119c52fd1eee6c242"
  },
  "kernelspec": {
   "display_name": "Python 3.10.0 ('venv': venv)",
   "language": "python",
   "name": "python3"
  },
  "language_info": {
   "codemirror_mode": {
    "name": "ipython",
    "version": 3
   },
   "file_extension": ".py",
   "mimetype": "text/x-python",
   "name": "python",
   "nbconvert_exporter": "python",
   "pygments_lexer": "ipython3",
   "version": "3.10.0"
  },
  "orig_nbformat": 4
 },
 "nbformat": 4,
 "nbformat_minor": 2
}
