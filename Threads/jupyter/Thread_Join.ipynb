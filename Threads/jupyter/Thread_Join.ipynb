{
 "cells": [
  {
   "cell_type": "markdown",
   "metadata": {},
   "source": [
    "# Thread join()\n",
    "\n",
    "Wenn die Join-Methode aufgerufen wird, wird der aufrufende Thread blockiert, bis das Thread-Objekt, auf dem sie aufgerufen wurde\n",
    "beendet wird. \n",
    "\n",
    "Wenn join() zum Beispiel von einem Haupt-Thread aufgerufen wird, wartet der Haupt-Thread \n",
    "solange, bis der Child-Thread, in dem join aufgerufen wurde, beendet wird. \n",
    "Die Bedeutung der join()-Methode liegt darin, dass der Haupt-Thread vor dem Child-Thread beendet werden kann, wenn join() nicht aufgerufen wird. \n",
    "kann der Haupt-Thread vor dem Child-Thread beendet werden, was zu unbestimmtem Verhalten von Programmen führt."
   ]
  },
  {
   "cell_type": "code",
   "execution_count": 7,
   "metadata": {},
   "outputs": [
    {
     "name": "stdout",
     "output_type": "stream",
     "text": [
      "Ich bin der Child-Thread und beginne meine Arbeit\n",
      "Verbinde zu 127.0.0.1:8000\n",
      "Ich bin der Main-Thread und warte hier...\n",
      "Verbinde zu 127.0.0.1:8000\n",
      "Verbinde zu 127.0.0.1:8000\n",
      "Verbinde zu 127.0.0.1:8000\n",
      "Verbinde zu 127.0.0.1:8000\n",
      "Verbinde zu 127.0.0.1:8000\n",
      "Verbinde zu 127.0.0.1:8000\n",
      "Verbinde zu 127.0.0.1:8000\n",
      "Verbinde zu 127.0.0.1:8000\n",
      "Verbinde zu 127.0.0.1:8000\n",
      "Ich bin der Child-Thread und meine Arbeit ist zuende\n",
      "Ich bin der Main-Thread und mache jetzt weiter ...\n",
      "Verbindung Erfolgreich\n"
     ]
    }
   ],
   "source": [
    "import threading\n",
    "from dataclasses import dataclass\n",
    "import time\n",
    "\n",
    "\n",
    "@dataclass\n",
    "class ConnectionThread(threading.Thread):    \n",
    "    def __init__(self, address: str):\n",
    "        self.address = address\n",
    "        self.established = False\n",
    "    \n",
    "    def run(self):\n",
    "        print(\"Ich bin der Child-Thread und beginne meine Arbeit\")\n",
    "        for _ in range(10):\n",
    "            print(f\"Verbinde zu {self.address}\")\n",
    "            time.sleep(1)\n",
    "        self.established = True\n",
    "        print(\"Ich bin der Child-Thread und meine Arbeit ist zuende\")\n",
    "        \n",
    "if __name__=='__main__':\n",
    "    connection = ConnectionThread(\"127.0.0.1:8000\")\n",
    "    my_thread = threading.Thread(target=connection.run)\n",
    "    my_thread.start()\n",
    "    \n",
    "    print(\"Ich bin der Main-Thread und warte hier...\")\n",
    "    \n",
    "    my_thread.join()\n",
    "    \n",
    "    print(\"Ich bin der Main-Thread und mache jetzt weiter ...\")\n",
    "    \n",
    "    if connection.established:\n",
    "        print(\"Verbindung Erfolgreich\")\n",
    "    else: print(\"Verbindung Fehlgeschlagen\")\n",
    "    "
   ]
  },
  {
   "cell_type": "code",
   "execution_count": 22,
   "metadata": {},
   "outputs": [
    {
     "name": "stdout",
     "output_type": "stream",
     "text": [
      "Ich bin der Main-Thread und warte hier...\n",
      "Verbindung zu 127.0.0.3:8000 fehlgeschlagen\n",
      "Verbindung zu 127.0.0.2:8000 erfolgreich\n",
      "Verbindung zu 127.0.0.1:8000 fehlgeschlagen\n",
      "Verbindung zu 127.0.0.4:8000 fehlgeschlagen\n",
      "Verbindung zu 127.0.0.6:8000 fehlgeschlagen\n",
      "Verbindung zu 127.0.0.8:8000 fehlgeschlagen\n",
      "Verbindung zu 127.0.0.9:8000 erfolgreich\n",
      "Verbindung zu 127.0.0.5:8000 fehlgeschlagen\n",
      "Verbindung zu 127.0.0.0:8000 fehlgeschlagen\n",
      "Ich bin der Main-Thread und mache jetzt weiter ...\n"
     ]
    }
   ],
   "source": [
    "import random\n",
    "from threading import Thread\n",
    "import time\n",
    "\n",
    "def create_connection(address: str) -> str:\n",
    "    connection_established = random.choice([True, False])\n",
    "    for _ in range(random.randint(1, 10)):\n",
    "        time.sleep(1)\n",
    "    if connection_established:\n",
    "        return f\"Verbindung zu {address} erfolgreich\"\n",
    "    else:\n",
    "        return f\"Verbindung zu {address} fehlgeschlagen\"\n",
    "\n",
    "class ConnectionThread(Thread):    \n",
    "    def __init__(self, group=None, target=None, name=None,\n",
    "                 args=(), kwargs={}):\n",
    "        Thread.__init__(self, group, target, name, args, kwargs)\n",
    "    def run(self):\n",
    "        if self._target != None:\n",
    "            self._return = self._target(*self._args, **self._kwargs)\n",
    "    def join(self, *args):\n",
    "        Thread.join(self, *args)\n",
    "        return self._return\n",
    "        \n",
    "if __name__=='__main__':\n",
    "    thread_list: list[ConnectionThread] = []\n",
    "    for i in range(10):\n",
    "        thread_list.append(ConnectionThread(target=create_connection, args=(f\"127.0.0.{i}:8000\",)))\n",
    "    \n",
    "    for thread in thread_list:\n",
    "        thread.start()\n",
    "\n",
    "    print(\"Ich bin der Main-Thread und warte hier...\")\n",
    "    while any([thread.is_alive() for thread in thread_list]):\n",
    "        time.sleep(1)\n",
    "        # join all threads that are finished\n",
    "        for thread in thread_list:\n",
    "            if not thread.is_alive():\n",
    "                print(thread.join())\n",
    "                thread_list.remove(thread)\n",
    "\n",
    "    print(\"Ich bin der Main-Thread und mache jetzt weiter ...\")"
   ]
  }
 ],
 "metadata": {
  "interpreter": {
   "hash": "8edcae8aee8b9f77d273e745edc9899fcb323bc44a6c60d119c52fd1eee6c242"
  },
  "kernelspec": {
   "display_name": "Python 3.10.0 ('venv': venv)",
   "language": "python",
   "name": "python3"
  },
  "language_info": {
   "codemirror_mode": {
    "name": "ipython",
    "version": 3
   },
   "file_extension": ".py",
   "mimetype": "text/x-python",
   "name": "python",
   "nbconvert_exporter": "python",
   "pygments_lexer": "ipython3",
   "version": "3.10.5"
  },
  "orig_nbformat": 4
 },
 "nbformat": 4,
 "nbformat_minor": 2
}
