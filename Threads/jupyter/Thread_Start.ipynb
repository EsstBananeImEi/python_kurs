{
 "cells": [
  {
   "cell_type": "markdown",
   "metadata": {},
   "source": [
    "# Thread start()\n",
    "\n",
    "Mit der funktion start() des threading modules können wir Threads starten."
   ]
  },
  {
   "cell_type": "code",
   "execution_count": 14,
   "metadata": {},
   "outputs": [
    {
     "name": "stdout",
     "output_type": "stream",
     "text": [
      "Hello World\n",
      "Hello World\n",
      "Hello World\n",
      "Hello World\n",
      "Hello World\n",
      "Hello World\n",
      "Hello World\n",
      "Hello World\n",
      "Hello World\n",
      "Hello World\n"
     ]
    }
   ],
   "source": [
    "import threading\n",
    "\n",
    "def hello_world() -> None:\n",
    "    for _ in range(10):\n",
    "        print(\"Hello World\")\n",
    "        \n",
    "def say_goodbye() -> None:\n",
    "    for _ in range(10):\n",
    "        print(\"Goodbye\")\n",
    "    \n",
    "hello_thread = threading.Thread(target=hello_world)\n",
    "hello_thread.start()"
   ]
  },
  {
   "cell_type": "code",
   "execution_count": 32,
   "metadata": {},
   "outputs": [
    {
     "name": "stdout",
     "output_type": "stream",
     "text": [
      "MyThread: 0 ...\n",
      "Ich bin der Main Thread\n",
      "Ich bin der Main ThreadMyThread: 1 ...\n",
      "\n",
      "MyThread: 2 ...Ich bin der Main Thread\n",
      "\n",
      "MyThread: 3 ...\n",
      "Ich bin der Main Thread\n",
      "Ich bin der Main Thread\n",
      "MyThread: 4 ...\n",
      "Ich bin der Main Thread\n",
      "MyThread: 5 ...\n",
      "Ich bin der Main Thread\n",
      "MyThread: 6 ...\n",
      "Ich bin der Main Thread\n",
      "MyThread: 7 ...\n",
      "Ich bin der Main Thread\n",
      "MyThread: 8 ...\n",
      "Ich bin der Main Thread\n",
      "MyThread: 9 ...\n"
     ]
    }
   ],
   "source": [
    "import time\n",
    "\n",
    "class MyDummy():\n",
    "    \n",
    "    def __init__(self, number: int):\n",
    "        self.number = number\n",
    "\n",
    "    def run(self) -> None:\n",
    "        for number in range(self.number):\n",
    "            print(f\"MyThread: {number} ...\")\n",
    "            time.sleep(1)\n",
    "              \n",
    "\n",
    "def main():\n",
    "    my_dummy = MyDummy(10)\n",
    "    \n",
    "    my_thread = threading.Thread(target=my_dummy.run)\n",
    "    my_thread.start()\n",
    "\n",
    "    for number in range(10):\n",
    "        print(\"Ich bin der Main Thread\")\n",
    "        time.sleep(1)\n",
    "\n",
    "if __name__ == '__main__':\n",
    "    main()\n",
    "    \n",
    "    "
   ]
  },
  {
   "cell_type": "markdown",
   "metadata": {},
   "source": [
    "Im obigen Beispielen laufen sowohl der Haupt-Thread als auch unser neuer Thread parallel und geben parallel Nachrichten auf der Konsole aus. Die Reihenfolge der Ausgaben kann daher von den obigen Ausgaben abweichen, da die Konsole eine gemeinsame Ressource ist, die von 2 Threads parallel genutzt wird. In zukünftigen Kapiteln werden wir besprechen, wie man eine einzelne Ressource zwischen Threads synchronisiert."
   ]
  }
 ],
 "metadata": {
  "interpreter": {
   "hash": "8edcae8aee8b9f77d273e745edc9899fcb323bc44a6c60d119c52fd1eee6c242"
  },
  "kernelspec": {
   "display_name": "Python 3.10.0 ('venv': venv)",
   "language": "python",
   "name": "python3"
  },
  "language_info": {
   "codemirror_mode": {
    "name": "ipython",
    "version": 3
   },
   "file_extension": ".py",
   "mimetype": "text/x-python",
   "name": "python",
   "nbconvert_exporter": "python",
   "pygments_lexer": "ipython3",
   "version": "3.10.0"
  },
  "orig_nbformat": 4
 },
 "nbformat": 4,
 "nbformat_minor": 2
}
