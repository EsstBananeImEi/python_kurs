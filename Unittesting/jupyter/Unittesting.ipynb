{
 "cells": [
  {
   "cell_type": "markdown",
   "metadata": {},
   "source": [
    "# Unittesting\n",
    "\n",
    "Kein guter Entwickler setzt seinen Code ohne gründliche Tests ein. Beim Unit-Testing werden die einzelnen Module eines Programms getestet.\n",
    "\n",
    "Beim Testen gibt es das manuelle Testen und das automatische Testen. Beim manuellen Testen führen Menschen den Test nach Abschluss der Entwicklung manuell durch.  Bei der automatisierten Prüfung führen Programme die Prüfung automatisch durch und liefern uns die Ergebnisse.\n",
    "\n",
    "Du hast sicher verstanden, dass manuelle Tests zeitaufwändig und schwierig durchzuführen sind. Deshalb schreiben die Entwickler/innen Code für die Durchführung von Tests (automatische Tests). Bei automatisierten Tests gibt es verschiedene Arten von Tests. Einige von ihnen sind Unit-Tests, Integrationstests, End-to-End-Tests, Stresstests usw.\n",
    "\n",
    "#### Was ist Unit Testing?\n",
    "Unit Testing ist eine Technik, um einen kleinen Block unabhängigen Codes zu testen. In den meisten Fällen handelt es sich bei dem kleinen Codeblock um eine Funktion. Das Wort unabhängig bedeutet, dass er nicht von anderen Teilen des Codes im Projekt abhängt.\n",
    "\n",
    "Im Allgemeinen kann der Code der unabhängigen Codeblöcke projektübergreifend verwendet werden. Deshalb muss er gut geschrieben und getestet werden. Unit-Tests sind die Tests, mit denen solche unabhängigen Codeblöcke getestet werden. Was passiert, wenn wir keine Unit-Tests für unser Projekt verwenden?\n",
    "\n",
    "Nehmen wir an, wir haben kleine Codeblöcke, die im gesamten Projekt verwendet werden, nicht getestet. Alle anderen Tests wie Integrationstests, End-to-End-Tests usw., die die anderen kleinen Codeblöcke verwenden, könnten fehlschlagen. Das macht die Anwendung kaputt. Deshalb müssen die Grundbausteine des Codes gut getestet werden.\n",
    "\n",
    "Jetzt wissen wir, wie wichtig Unit-Tests sind und haben Unit-Tests für alle unabhängigen Codeblöcke geschrieben. Da wir Unit-Tests durchgeführt haben, werden andere Tests wie Integrationstests, End-to-End-Tests usw. nicht an den unabhängigen Codeblöcken scheitern."
   ]
  },
  {
   "cell_type": "code",
   "execution_count": 23,
   "metadata": {},
   "outputs": [],
   "source": [
    "from math import sqrt\n",
    " \n",
    "def is_prime(number: int):\n",
    "    if (number <= 1):\n",
    "        return False\n",
    " \n",
    "    for i in range(2, int(sqrt(number))+1):\n",
    "        if (number % i == 0):\n",
    "            return False\n",
    " \n",
    "    return True"
   ]
  },
  {
   "cell_type": "code",
   "execution_count": 28,
   "metadata": {},
   "outputs": [
    {
     "name": "stderr",
     "output_type": "stream",
     "text": [
      "test_is_not_prime (__main__.TestUtils) ... ok\n",
      "test_is_prime (__main__.TestUtils) ... ok\n",
      "\n",
      "----------------------------------------------------------------------\n",
      "Ran 2 tests in 0.053s\n",
      "\n",
      "OK\n"
     ]
    }
   ],
   "source": [
    "import unittest\n",
    "\n",
    "class TestUtils(unittest.TestCase):\n",
    "    def test_is_prime(self):\n",
    "        self.assertTrue(is_prime(2))\n",
    "        self.assertTrue(is_prime(11))\n",
    "    \n",
    "    def test_is_not_prime(self):\n",
    "        self.assertFalse(is_prime(4))\n",
    "        self.assertFalse(is_prime(9))\n",
    "\n",
    "if __name__ == '__main__':\n",
    "    unittest.main(argv=[''], verbosity=2, exit=False)"
   ]
  }
 ],
 "metadata": {
  "interpreter": {
   "hash": "8edcae8aee8b9f77d273e745edc9899fcb323bc44a6c60d119c52fd1eee6c242"
  },
  "kernelspec": {
   "display_name": "Python 3.10.0 ('venv': venv)",
   "language": "python",
   "name": "python3"
  },
  "language_info": {
   "codemirror_mode": {
    "name": "ipython",
    "version": 3
   },
   "file_extension": ".py",
   "mimetype": "text/x-python",
   "name": "python",
   "nbconvert_exporter": "python",
   "pygments_lexer": "ipython3",
   "version": "3.10.0"
  },
  "orig_nbformat": 4
 },
 "nbformat": 4,
 "nbformat_minor": 2
}
