{
 "cells": [
  {
   "cell_type": "markdown",
   "metadata": {},
   "source": [
    "# Dependency Injection\n",
    "\n",
    "Wenn wir in der Objektorientierten Programmierung von Dependency sprechen, dann reden wir über eine direkte Beziehung zwischen objekten, es handelt sich hier also um eine Kopplung.\n",
    "\n",
    "Dependency Injection ist ein Entwurfsmuster, das die Erstellung von Objekten von ihrer Verwendung trennt. Wir verschieben die erstellung eines Objekts in eine andere Klasse und geben dieses Objekt von außen in eine andere. Dependency Injection hilft uns vorallem um bessere und einfachere Tests zu schreiben.\n"
   ]
  },
  {
   "cell_type": "code",
   "execution_count": 1,
   "metadata": {},
   "outputs": [
    {
     "ename": "Exception",
     "evalue": "Verification Failed",
     "output_type": "error",
     "traceback": [
      "\u001b[1;31m---------------------------------------------------------------------------\u001b[0m",
      "\u001b[1;31mException\u001b[0m                                 Traceback (most recent call last)",
      "Input \u001b[1;32mIn [1]\u001b[0m, in \u001b[0;36m<module>\u001b[1;34m\u001b[0m\n\u001b[0;32m     50\u001b[0m user \u001b[38;5;241m=\u001b[39m User(\u001b[38;5;124m\"\u001b[39m\u001b[38;5;124mMelanie\u001b[39m\u001b[38;5;124m\"\u001b[39m)\n\u001b[0;32m     51\u001b[0m processor \u001b[38;5;241m=\u001b[39m LoginProcessor()\n\u001b[1;32m---> 52\u001b[0m \u001b[43mprocessor\u001b[49m\u001b[38;5;241;43m.\u001b[39;49m\u001b[43mlogin\u001b[49m\u001b[43m(\u001b[49m\u001b[43muser\u001b[49m\u001b[43m)\u001b[49m\n",
      "Input \u001b[1;32mIn [1]\u001b[0m, in \u001b[0;36mLoginProcessor.login\u001b[1;34m(self, user)\u001b[0m\n\u001b[0;32m     40\u001b[0m verificator\u001b[38;5;241m.\u001b[39mverify()\n\u001b[0;32m     41\u001b[0m \u001b[38;5;28;01mif\u001b[39;00m \u001b[38;5;129;01mnot\u001b[39;00m verificator\u001b[38;5;241m.\u001b[39mis_verified():\n\u001b[1;32m---> 42\u001b[0m     \u001b[38;5;28;01mraise\u001b[39;00m \u001b[38;5;167;01mException\u001b[39;00m(\u001b[38;5;124m\"\u001b[39m\u001b[38;5;124mVerification Failed\u001b[39m\u001b[38;5;124m\"\u001b[39m)\n\u001b[0;32m     43\u001b[0m \u001b[38;5;28mprint\u001b[39m(\u001b[38;5;124mf\u001b[39m\u001b[38;5;124m\"\u001b[39m\u001b[38;5;124mUser: \u001b[39m\u001b[38;5;132;01m{\u001b[39;00muser\u001b[38;5;241m.\u001b[39mname\u001b[38;5;132;01m}\u001b[39;00m\u001b[38;5;124m \u001b[39m\u001b[38;5;130;01m\\n\u001b[39;00m\u001b[38;5;124m\"\u001b[39m\n\u001b[0;32m     44\u001b[0m       \u001b[38;5;124m\"\u001b[39m\u001b[38;5;124mID: \u001b[39m\u001b[38;5;132;01m{user.id}\u001b[39;00m\u001b[38;5;124m \u001b[39m\u001b[38;5;130;01m\\n\u001b[39;00m\u001b[38;5;124m\"\u001b[39m\n\u001b[0;32m     45\u001b[0m       \u001b[38;5;124m\"\u001b[39m\u001b[38;5;124mLoggin ID: \u001b[39m\u001b[38;5;132;01m{user.id}\u001b[39;00m\u001b[38;5;124m\"\u001b[39m)\n\u001b[0;32m     46\u001b[0m user\u001b[38;5;241m.\u001b[39mset_status(\u001b[38;5;124m\"\u001b[39m\u001b[38;5;124mlogged in\u001b[39m\u001b[38;5;124m\"\u001b[39m)\n",
      "\u001b[1;31mException\u001b[0m: Verification Failed"
     ]
    }
   ],
   "source": [
    "import random\n",
    "import string\n",
    "\n",
    "class User:\n",
    "    \n",
    "    def __init__(self, name) -> None:\n",
    "        self.name = name\n",
    "        self.id = ''.join(random.choices(string.ascii_lowercase, k=10))\n",
    "        self._status = 'logged out'\n",
    "        \n",
    "    def set_status(self, status) -> None:\n",
    "        self._status = status\n",
    "        \n",
    "    def get_status(self) -> str:\n",
    "        return self._status \n",
    "\n",
    "\n",
    "class Verificator_Email:\n",
    "    \n",
    "    def __init__(self) -> None:\n",
    "        self._verified = False\n",
    "        self._verification_code = None\n",
    "        \n",
    "    def _generate_verification_code(self):\n",
    "        self._verification_code = ''.join(random.choices(string.ascii_letters + string.digits + \"!@#$%^&*()\", k=10))\n",
    "\n",
    "    def verify(self):\n",
    "        verification_code = input(\"Enter Verification Code from Email: \")\n",
    "        self._verified = verification_code == self._verification_code\n",
    "        \n",
    "    def is_verified(self) -> bool:\n",
    "        return self._verified\n",
    "\n",
    "\n",
    "class LoginProcessor:\n",
    "    \n",
    "    def login(self, user) -> None:\n",
    "        verificator = Verificator_Email()\n",
    "        verificator._generate_verification_code()\n",
    "        verificator.verify()\n",
    "        if not verificator.is_verified():\n",
    "            raise Exception(\"Verification Failed\")\n",
    "        print(f\"User: {user.name} \\n\"\n",
    "              \"ID: {user.id} \\n\"\n",
    "              \"Loggin ID: {user.id}\")\n",
    "        user.set_status(\"logged in\")\n",
    "\n",
    "\n",
    "if __name__ == \"__main__\":\n",
    "    user = User(\"Melanie\")\n",
    "    processor = LoginProcessor()\n",
    "    processor.login(user)\n"
   ]
  }
 ],
 "metadata": {
  "interpreter": {
   "hash": "8edcae8aee8b9f77d273e745edc9899fcb323bc44a6c60d119c52fd1eee6c242"
  },
  "kernelspec": {
   "display_name": "Python 3.10.0 64-bit ('venv': venv)",
   "language": "python",
   "name": "python3"
  },
  "language_info": {
   "codemirror_mode": {
    "name": "ipython",
    "version": 3
   },
   "file_extension": ".py",
   "mimetype": "text/x-python",
   "name": "python",
   "nbconvert_exporter": "python",
   "pygments_lexer": "ipython3",
   "version": "3.10.0"
  },
  "orig_nbformat": 4
 },
 "nbformat": 4,
 "nbformat_minor": 2
}
