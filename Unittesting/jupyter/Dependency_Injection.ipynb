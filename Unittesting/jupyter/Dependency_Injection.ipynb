{
 "cells": [
  {
   "cell_type": "markdown",
   "metadata": {},
   "source": [
    "# Dependency Injection\n",
    "\n",
    "Wenn wir in der Objektorientierten Programmierung von Dependency sprechen, dann reden wir über eine direkte Beziehung zwischen objekten, es handelt sich hier also um eine Kopplung.\n",
    "\n",
    "Dependency Injection ist ein Entwurfsmuster, das die Erstellung von Objekten von ihrer Verwendung trennt. Wir verschieben die erstellung eines Objekts in eine andere Klasse und geben dieses Objekt von außen in eine andere. Dependency Injection hilft uns vorallem um bessere und einfachere Tests zu schreiben.\n"
   ]
  },
  {
   "cell_type": "code",
   "execution_count": 2,
   "metadata": {},
   "outputs": [
    {
     "name": "stdout",
     "output_type": "stream",
     "text": [
      "EMu0TEJr2M\n"
     ]
    },
    {
     "ename": "Exception",
     "evalue": "Verification Failed",
     "output_type": "error",
     "traceback": [
      "\u001b[1;31m---------------------------------------------------------------------------\u001b[0m",
      "\u001b[1;31mException\u001b[0m                                 Traceback (most recent call last)",
      "\u001b[1;32md:\\Projects\\python_kurs\\Unittesting\\jupyter\\Dependency_Injection.ipynb Cell 2\u001b[0m in \u001b[0;36m<module>\u001b[1;34m\u001b[0m\n\u001b[0;32m     <a href='vscode-notebook-cell:/d%3A/Projects/python_kurs/Unittesting/jupyter/Dependency_Injection.ipynb#W1sZmlsZQ%3D%3D?line=50'>51</a>\u001b[0m user \u001b[39m=\u001b[39m User(\u001b[39m\"\u001b[39m\u001b[39mMelanie\u001b[39m\u001b[39m\"\u001b[39m)\n\u001b[0;32m     <a href='vscode-notebook-cell:/d%3A/Projects/python_kurs/Unittesting/jupyter/Dependency_Injection.ipynb#W1sZmlsZQ%3D%3D?line=51'>52</a>\u001b[0m processor \u001b[39m=\u001b[39m LoginProcessor()\n\u001b[1;32m---> <a href='vscode-notebook-cell:/d%3A/Projects/python_kurs/Unittesting/jupyter/Dependency_Injection.ipynb#W1sZmlsZQ%3D%3D?line=52'>53</a>\u001b[0m processor\u001b[39m.\u001b[39;49mlogin(user)\n",
      "\u001b[1;32md:\\Projects\\python_kurs\\Unittesting\\jupyter\\Dependency_Injection.ipynb Cell 2\u001b[0m in \u001b[0;36mLoginProcessor.login\u001b[1;34m(self, user)\u001b[0m\n\u001b[0;32m     <a href='vscode-notebook-cell:/d%3A/Projects/python_kurs/Unittesting/jupyter/Dependency_Injection.ipynb#W1sZmlsZQ%3D%3D?line=40'>41</a>\u001b[0m \u001b[39mprint\u001b[39m(verificator\u001b[39m.\u001b[39m_verification_code)\n\u001b[0;32m     <a href='vscode-notebook-cell:/d%3A/Projects/python_kurs/Unittesting/jupyter/Dependency_Injection.ipynb#W1sZmlsZQ%3D%3D?line=41'>42</a>\u001b[0m \u001b[39mif\u001b[39;00m \u001b[39mnot\u001b[39;00m verificator\u001b[39m.\u001b[39mis_verified():\n\u001b[1;32m---> <a href='vscode-notebook-cell:/d%3A/Projects/python_kurs/Unittesting/jupyter/Dependency_Injection.ipynb#W1sZmlsZQ%3D%3D?line=42'>43</a>\u001b[0m     \u001b[39mraise\u001b[39;00m \u001b[39mException\u001b[39;00m(\u001b[39m\"\u001b[39m\u001b[39mVerification Failed\u001b[39m\u001b[39m\"\u001b[39m)\n\u001b[0;32m     <a href='vscode-notebook-cell:/d%3A/Projects/python_kurs/Unittesting/jupyter/Dependency_Injection.ipynb#W1sZmlsZQ%3D%3D?line=43'>44</a>\u001b[0m \u001b[39mprint\u001b[39m(\u001b[39mf\u001b[39m\u001b[39m\"\u001b[39m\u001b[39mUser: \u001b[39m\u001b[39m{\u001b[39;00muser\u001b[39m.\u001b[39mname\u001b[39m}\u001b[39;00m\u001b[39m \u001b[39m\u001b[39m\\n\u001b[39;00m\u001b[39m\"\u001b[39m\n\u001b[0;32m     <a href='vscode-notebook-cell:/d%3A/Projects/python_kurs/Unittesting/jupyter/Dependency_Injection.ipynb#W1sZmlsZQ%3D%3D?line=44'>45</a>\u001b[0m       \u001b[39m\"\u001b[39m\u001b[39mID: \u001b[39m\u001b[39m{user.id}\u001b[39;00m\u001b[39m \u001b[39m\u001b[39m\\n\u001b[39;00m\u001b[39m\"\u001b[39m\n\u001b[0;32m     <a href='vscode-notebook-cell:/d%3A/Projects/python_kurs/Unittesting/jupyter/Dependency_Injection.ipynb#W1sZmlsZQ%3D%3D?line=45'>46</a>\u001b[0m       \u001b[39m\"\u001b[39m\u001b[39mLoggin ID: \u001b[39m\u001b[39m{user.id}\u001b[39;00m\u001b[39m\"\u001b[39m)\n\u001b[0;32m     <a href='vscode-notebook-cell:/d%3A/Projects/python_kurs/Unittesting/jupyter/Dependency_Injection.ipynb#W1sZmlsZQ%3D%3D?line=46'>47</a>\u001b[0m user\u001b[39m.\u001b[39mset_status(\u001b[39m\"\u001b[39m\u001b[39mlogged in\u001b[39m\u001b[39m\"\u001b[39m)\n",
      "\u001b[1;31mException\u001b[0m: Verification Failed"
     ]
    }
   ],
   "source": [
    "import random\n",
    "import string\n",
    "\n",
    "class User:\n",
    "    \n",
    "    def __init__(self, name) -> None:\n",
    "        self.name = name\n",
    "        self.id = ''.join(random.choices(string.ascii_lowercase, k=10))\n",
    "        self._status = 'logged out'\n",
    "        \n",
    "    def set_status(self, status) -> None:\n",
    "        self._status = status\n",
    "        \n",
    "    def get_status(self) -> str:\n",
    "        return self._status \n",
    "\n",
    "\n",
    "class Verificator_Email:\n",
    "    \n",
    "    def __init__(self) -> None:\n",
    "        self._verified = False\n",
    "        self._verification_code = None\n",
    "        \n",
    "    def _generate_verification_code(self):\n",
    "        self._verification_code = ''.join(random.choices(string.ascii_letters + string.digits + \"!@#$%^&*()\", k=10))\n",
    "\n",
    "    def verify(self):\n",
    "        verification_code = input(\"Enter Verification Code from Email: \")\n",
    "        self._verified = verification_code == self._verification_code\n",
    "        \n",
    "    def is_verified(self) -> bool:\n",
    "        return self._verified\n",
    "\n",
    "\n",
    "class LoginProcessor:\n",
    "    \n",
    "    def login(self, user) -> None:\n",
    "        verificator = Verificator_Email()\n",
    "        verificator._generate_verification_code()\n",
    "        verificator.verify()\n",
    "        \n",
    "        if not verificator.is_verified():\n",
    "            raise Exception(\"Verification Failed\")\n",
    "        print(f\"User: {user.name} \\n\"\n",
    "              \"ID: {user.id} \\n\"\n",
    "              \"Loggin ID: {user.id}\")\n",
    "        user.set_status(\"logged in\")\n",
    "\n",
    "\n",
    "if __name__ == \"__main__\":\n",
    "    user = User(\"Melanie\")\n",
    "    processor = LoginProcessor()\n",
    "    processor.login(user)\n"
   ]
  }
 ],
 "metadata": {
  "kernelspec": {
   "display_name": ".env",
   "language": "python",
   "name": "python3"
  },
  "language_info": {
   "codemirror_mode": {
    "name": "ipython",
    "version": 3
   },
   "file_extension": ".py",
   "mimetype": "text/x-python",
   "name": "python",
   "nbconvert_exporter": "python",
   "pygments_lexer": "ipython3",
   "version": "3.10.2"
  },
  "orig_nbformat": 4,
  "vscode": {
   "interpreter": {
    "hash": "58868027079ba2786402a681307f02d9b3cf9ca395fc79a77246bfdd37b85b6b"
   }
  }
 },
 "nbformat": 4,
 "nbformat_minor": 2
}
