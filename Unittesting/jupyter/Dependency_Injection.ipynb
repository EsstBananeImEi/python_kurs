{
 "cells": [
  {
   "cell_type": "markdown",
   "metadata": {},
   "source": [
    "# Dependency Injection\n",
    "\n",
    "Wenn wir in der Objektorientierten Programmierung von Dependency sprechen, dann reden wir über eine direkte Beziehung zwischen objekten, es handelt sich hier also um eine Kopplung.\n",
    "\n",
    "Dependency Injection ist ein Entwurfsmuster, das die Erstellung von Objekten von ihrer Verwendung trennt. Wir verschieben die erstellung eines Objekts in eine andere Klasse und geben dieses Objekt von außen in eine andere. Dependency Injection hilft uns vorallem um bessere und einfachere Tests zu schreiben.\n"
   ]
  },
  {
   "cell_type": "code",
   "execution_count": 20,
   "metadata": {},
   "outputs": [
    {
     "name": "stdout",
     "output_type": "stream",
     "text": [
      "User: Melanie \n",
      "ID: eshdzgzjdq \n",
      "Loggin ID: zK#mYMjahsqx5dK5GeGdFzgAPBESCp\n"
     ]
    }
   ],
   "source": [
    "import random\n",
    "import string\n",
    "\n",
    "class Verificator_Email:\n",
    "    \n",
    "    def __init__(self) -> None:\n",
    "        self._verified = False\n",
    "        self._verification_code = None\n",
    "        \n",
    "    def _generate_verification_code(self):\n",
    "        self._verification_code = ''.join(random.choices(string.ascii_letters + string.digits + \"!@#$%^&*()\", k=10))\n",
    "\n",
    "    def verify(self):\n",
    "        verification_code = input(f\"Enter Verification Code from Email: ({self._verification_code})\")\n",
    "        self._verified = verification_code == self._verification_code\n",
    "        \n",
    "    def is_verified(self) -> bool:\n",
    "        return self._verified\n",
    "\n",
    "class User:\n",
    "    \n",
    "    def __init__(self, name) -> None:\n",
    "        self.name = name\n",
    "        self.id = ''.join(random.choices(string.ascii_lowercase, k=10))\n",
    "        self._status = 'logged out'\n",
    "        self.loggin_id = None\n",
    "        \n",
    "    def set_status(self, status) -> None:\n",
    "        self._status = status\n",
    "        \n",
    "    def get_status(self) -> str:\n",
    "        return self._status \n",
    "    \n",
    "    def set_loggin_id(self, verificator_id: str) -> None:\n",
    "        salt = ''.join(random.choices(string.ascii_letters + string.digits + \"!@#$%^&*()\", k=200))\n",
    "        merged_id = f\"{self.id}{verificator_id}{salt}\"\n",
    "        self.loggin_id = ''.join(random.sample(merged_id, len(merged_id)))\n",
    "\n",
    "\n",
    "class LoginProcessor:\n",
    "    \n",
    "    def login(self, user) -> None:\n",
    "        verificator = Verificator_Email()\n",
    "        verificator._generate_verification_code()\n",
    "        verificator.verify()\n",
    "\n",
    "        if not verificator.is_verified() or verificator._verification_code is None:\n",
    "            raise Exception(\"Verification Failed\")\n",
    "        \n",
    "        user.set_loggin_id(verificator._verification_code)\n",
    "\n",
    "        print(f\"User: {user.name} \\n\"\n",
    "              f\"ID: {user.id} \\n\"\n",
    "              f\"Loggin ID: {user.loggin_id}\")\n",
    "        user.set_status(\"logged in\")\n",
    "\n",
    "\n",
    "if __name__ == \"__main__\":\n",
    "    user = User(\"Melanie\")\n",
    "    processor = LoginProcessor()\n",
    "    processor.login(user)\n"
   ]
  }
 ],
 "metadata": {
  "interpreter": {
   "hash": "8edcae8aee8b9f77d273e745edc9899fcb323bc44a6c60d119c52fd1eee6c242"
  },
  "kernelspec": {
   "display_name": "Python 3.10.0 64-bit ('venv': venv)",
   "language": "python",
   "name": "python3"
  },
  "language_info": {
   "codemirror_mode": {
    "name": "ipython",
    "version": 3
   },
   "file_extension": ".py",
   "mimetype": "text/x-python",
   "name": "python",
   "nbconvert_exporter": "python",
   "pygments_lexer": "ipython3",
   "version": "3.10.5"
  },
  "orig_nbformat": 4
 },
 "nbformat": 4,
 "nbformat_minor": 2
}
