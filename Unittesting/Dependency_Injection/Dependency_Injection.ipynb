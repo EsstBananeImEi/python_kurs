{
 "cells": [
  {
   "cell_type": "markdown",
   "metadata": {},
   "source": [
    "# Dependency Injection\n",
    "\n",
    "Wenn wir in der Objektorientierten Programmierung von Dependency sprechen, dann reden wir über eine direkte Beziehung zwischen objekten, es handelt sich hier also um eine Kopplung.\n",
    "\n",
    "Dependency Injection ist ein Entwurfsmuster, das die Erstellung von Objekten von ihrer Verwendung trennt. Wir verschieben die erstellung eines Objekts in eine andere Klasse und geben dieses Objekt von außen in eine andere. Dependency Injection hilft uns vorallem um bessere und einfachere Tests zu schreiben.\n"
   ]
  },
  {
   "cell_type": "code",
   "execution_count": 37,
   "metadata": {},
   "outputs": [
    {
     "name": "stdout",
     "output_type": "stream",
     "text": [
      "kREDJ5&F*M\n"
     ]
    },
    {
     "ename": "Exception",
     "evalue": "Verification Failed",
     "output_type": "error",
     "traceback": [
      "\u001b[1;31m---------------------------------------------------------------------------\u001b[0m",
      "\u001b[1;31mException\u001b[0m                                 Traceback (most recent call last)",
      "\u001b[1;32mC:\\Users\\MEINES~1\\AppData\\Local\\Temp/ipykernel_15460/1173004933.py\u001b[0m in \u001b[0;36m<module>\u001b[1;34m\u001b[0m\n\u001b[0;32m     50\u001b[0m     \u001b[0muser\u001b[0m \u001b[1;33m=\u001b[0m \u001b[0mUser\u001b[0m\u001b[1;33m(\u001b[0m\u001b[1;34m\"Melanie\"\u001b[0m\u001b[1;33m)\u001b[0m\u001b[1;33m\u001b[0m\u001b[1;33m\u001b[0m\u001b[0m\n\u001b[0;32m     51\u001b[0m     \u001b[0mprocessor\u001b[0m \u001b[1;33m=\u001b[0m \u001b[0mLoginProcessor\u001b[0m\u001b[1;33m(\u001b[0m\u001b[1;33m)\u001b[0m\u001b[1;33m\u001b[0m\u001b[1;33m\u001b[0m\u001b[0m\n\u001b[1;32m---> 52\u001b[1;33m     \u001b[0mprocessor\u001b[0m\u001b[1;33m.\u001b[0m\u001b[0mlogin\u001b[0m\u001b[1;33m(\u001b[0m\u001b[0muser\u001b[0m\u001b[1;33m)\u001b[0m\u001b[1;33m\u001b[0m\u001b[1;33m\u001b[0m\u001b[0m\n\u001b[0m",
      "\u001b[1;32mC:\\Users\\MEINES~1\\AppData\\Local\\Temp/ipykernel_15460/1173004933.py\u001b[0m in \u001b[0;36mlogin\u001b[1;34m(self, user)\u001b[0m\n\u001b[0;32m     39\u001b[0m         \u001b[0mprint\u001b[0m\u001b[1;33m(\u001b[0m\u001b[0mverificator\u001b[0m\u001b[1;33m.\u001b[0m\u001b[0m_verification_code\u001b[0m\u001b[1;33m)\u001b[0m\u001b[1;33m\u001b[0m\u001b[1;33m\u001b[0m\u001b[0m\n\u001b[0;32m     40\u001b[0m         \u001b[1;32mif\u001b[0m \u001b[1;32mnot\u001b[0m \u001b[0mverificator\u001b[0m\u001b[1;33m.\u001b[0m\u001b[0mis_verified\u001b[0m\u001b[1;33m(\u001b[0m\u001b[1;33m)\u001b[0m\u001b[1;33m:\u001b[0m\u001b[1;33m\u001b[0m\u001b[1;33m\u001b[0m\u001b[0m\n\u001b[1;32m---> 41\u001b[1;33m             \u001b[1;32mraise\u001b[0m \u001b[0mException\u001b[0m\u001b[1;33m(\u001b[0m\u001b[1;34m\"Verification Failed\"\u001b[0m\u001b[1;33m)\u001b[0m\u001b[1;33m\u001b[0m\u001b[1;33m\u001b[0m\u001b[0m\n\u001b[0m\u001b[0;32m     42\u001b[0m         print(f\"User: {user.name} \\n\"\n\u001b[0;32m     43\u001b[0m               \u001b[1;34m\"ID: {user.id} \\n\"\u001b[0m\u001b[1;33m\u001b[0m\u001b[1;33m\u001b[0m\u001b[0m\n",
      "\u001b[1;31mException\u001b[0m: Verification Failed"
     ]
    }
   ],
   "source": [
    "import random\n",
    "import string\n",
    "\n",
    "class User:\n",
    "    \n",
    "    def __init__(self, name) -> None:\n",
    "        self.name = name\n",
    "        self.id = ''.join(random.choices(string.ascii_lowercase, k=10))\n",
    "        self._status = 'logged out'\n",
    "        \n",
    "    def set_status(self, status) -> None:\n",
    "        self._status = status\n",
    "        \n",
    "    def get_status(self) -> str:\n",
    "        return self._status \n",
    "\n",
    "\n",
    "class Verificator_Email:\n",
    "    \n",
    "    def __init__(self) -> None:\n",
    "        self._verified = False\n",
    "        self._verification_code = None\n",
    "        \n",
    "    def _generate_verification_code(self):\n",
    "        self._verification_code = ''.join(random.choices(string.ascii_letters + string.digits + \"!@#$%^&*()\", k=10))\n",
    "\n",
    "    def verify(self):\n",
    "        verification_code = input(\"Enter Verification Code from Email: \")\n",
    "        self._verified = verification_code == self._verification_code\n",
    "        \n",
    "    def is_verified(self) -> bool:\n",
    "        return self._verified\n",
    "\n",
    "\n",
    "class LoginProcessor:\n",
    "    \n",
    "    def login(self, user) -> None:\n",
    "        verificator = Verificator_Email()\n",
    "        verificator._generate_verification_code()\n",
    "        verificator.verify()\n",
    "        if not verificator.is_verified():\n",
    "            raise Exception(\"Verification Failed\")\n",
    "        print(f\"User: {user.name} \\n\"\n",
    "              \"ID: {user.id} \\n\"\n",
    "              \"Loggin ID: {user.id}\")\n",
    "        user.set_status(\"logged in\")\n",
    "\n",
    "\n",
    "if __name__ == \"__main__\":\n",
    "    user = User(\"Melanie\")\n",
    "    processor = LoginProcessor()\n",
    "    processor.login(user)\n"
   ]
  }
 ],
 "metadata": {
  "interpreter": {
   "hash": "8edcae8aee8b9f77d273e745edc9899fcb323bc44a6c60d119c52fd1eee6c242"
  },
  "kernelspec": {
   "display_name": "Python 3.10.0 64-bit ('venv': venv)",
   "language": "python",
   "name": "python3"
  },
  "language_info": {
   "codemirror_mode": {
    "name": "ipython",
    "version": 3
   },
   "file_extension": ".py",
   "mimetype": "text/x-python",
   "name": "python",
   "nbconvert_exporter": "python",
   "pygments_lexer": "ipython3",
   "version": "3.10.0"
  },
  "orig_nbformat": 4
 },
 "nbformat": 4,
 "nbformat_minor": 2
}
