{
 "cells": [
  {
   "cell_type": "markdown",
   "metadata": {},
   "source": [
    "# Python Composition\n",
    "\n",
    "In bestimmten Fällen ist es möglich aufrufe von Funktionen in einer Komposition von Funktionen zusammenzufassen.\n",
    "Dies kann bei der Lesbarkeit sehr hilfreich sein.\n",
    "\n",
    "sehen wir uns ein Beispiel an:\n",
    "\n",
    "```python\n",
    "\n",
    "    def add_two(a: float) -> float:\n",
    "        return a + 2\n",
    "\n",
    "    def add_three(a: float) -> float:\n",
    "        return a + 3\n",
    "\n",
    "    def multiply_by_two(a: float) -> float:\n",
    "        return a * 2\n",
    "\n",
    "    def main():\n",
    "        x = 10\n",
    "        x = add_two(x)\n",
    "        x = add_two(x)\n",
    "        x = add_three(x)\n",
    "        x = multiply_by_two(x)\n",
    "        print(x)\n",
    "```\n",
    "\n",
    "Wir sehen das wir die Variable x mehrfach verändern und die Funktionen add_two, add_three und multiply_by_two aufrufen.\n",
    "Das führt zu einer erschwerten lesbarkeit, da wir immer wieder die Variable x verändern.\n",
    "\n",
    "Mit Komposition können wir diese Funktionen in einer einzigen Funktion zusammenfassen.\n",
    "\n",
    "```python\n",
    "\n",
    "    import functools\n",
    "    from typing import Callable\n",
    "\n",
    "    ComposableFunction = Callable[[float], float]\n",
    "\n",
    "    # Unsere Hilfsfunktion, die unsere Funktionen zusammenfasst\n",
    "    def compose(*functions: ComposableFunction) -> ComposableFunction:\n",
    "        return functools.reduce(lambda f, g: lambda x: g(f(x)), functions)\n",
    "\n",
    "    def add_two(a: float) -> float:\n",
    "        return a + 2\n",
    "\n",
    "    def add_three(a: float) -> float:\n",
    "        return a + 3\n",
    "\n",
    "    def multiply_by_two(a: float) -> float:\n",
    "        return a * 2\n",
    "    \n",
    "    def main():\n",
    "        x = 10\n",
    "        my_func = compose(add_two, add_two, add_three, multiply_by_two)(x)\n",
    "        print(my_func)\n",
    "```\n",
    "hier sehen wir sehr gut das die Variable x nicht weiter verändert wird und das wir die Funktionen add_two, add_three und multiply_by_two in einer Komposition zusammenfassen.\n"
   ]
  },
  {
   "cell_type": "code",
   "execution_count": 27,
   "metadata": {},
   "outputs": [
    {
     "name": "stdout",
     "output_type": "stream",
     "text": [
      "Result: 68\n"
     ]
    }
   ],
   "source": [
    "def add_two(a: float) -> float:\n",
    "    return a + 2\n",
    "\n",
    "def add_three(a: float) -> float:\n",
    "    return a + 3\n",
    "\n",
    "def multiply_by_two(a: float) -> float:\n",
    "    return a * 2\n",
    "\n",
    "def main():\n",
    "    x = 10\n",
    "    x = add_two(x)\n",
    "    x = add_two(x)\n",
    "    x = add_three(x)\n",
    "    x = multiply_by_two(x)\n",
    "    x = multiply_by_two(x)\n",
    "    print(f\"Result: {x}\")\n",
    "\n",
    "if __name__ == \"__main__\":\n",
    "    main()\n"
   ]
  },
  {
   "cell_type": "code",
   "execution_count": 6,
   "metadata": {},
   "outputs": [
    {
     "name": "stdout",
     "output_type": "stream",
     "text": [
      "Result: 68\n",
      "Result: 21.656050955414013\n"
     ]
    }
   ],
   "source": [
    "import functools\n",
    "from typing import Callable\n",
    "\n",
    "ComposableFunction = Callable[[float], float]\n",
    "\n",
    "\n",
    "def compose(*functions: ComposableFunction) -> ComposableFunction:\n",
    "    return functools.reduce(lambda f, g: lambda x: g(f(x)), functions)\n",
    "\n",
    "def add_two(a: float) -> float:\n",
    "    return a + 2\n",
    "\n",
    "def add_three(a: float) -> float:\n",
    "    return a + 3\n",
    "\n",
    "def multiply_by_two(a: float) -> float:\n",
    "    return a * 2\n",
    "\n",
    "def devide_by_pi(a: float) -> float:\n",
    "    return a / 3.14\n",
    "\n",
    "x = 10\n",
    "my_func = compose(add_two, add_two, add_three, multiply_by_two, multiply_by_two)(x)\n",
    "print(f\"Result: {my_func}\")\n",
    "\n",
    "my_func2 = compose(add_two, add_two, add_three, multiply_by_two, multiply_by_two, devide_by_pi)(x)\n",
    "print(f\"Result: {my_func2}\")"
   ]
  }
 ],
 "metadata": {
  "kernelspec": {
   "display_name": "Python 3.10.5 ('.venv': venv)",
   "language": "python",
   "name": "python3"
  },
  "language_info": {
   "codemirror_mode": {
    "name": "ipython",
    "version": 3
   },
   "file_extension": ".py",
   "mimetype": "text/x-python",
   "name": "python",
   "nbconvert_exporter": "python",
   "pygments_lexer": "ipython3",
   "version": "3.10.5"
  },
  "orig_nbformat": 4,
  "vscode": {
   "interpreter": {
    "hash": "9bfd5ec56785b4ed960169513602bd6731913df830d7d5b0be2205d91d90fae9"
   }
  }
 },
 "nbformat": 4,
 "nbformat_minor": 2
}
