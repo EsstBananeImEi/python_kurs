{
 "cells": [
  {
   "cell_type": "markdown",
   "metadata": {},
   "source": [
    "# Python filter() function\n",
    "\n",
    "Die filter()-Methode filtert die gegebene Sequenz mit Hilfe einer Funktion, die jedes Element in der Sequenz daraufhin prüft, ob es wahr ist oder nicht\n",
    "\n",
    "<b>Syntax:</b>\n",
    "<blockquote>\n",
    "filter(function, iterable) --> filter object\n",
    "</blockquote>\n",
    "\n",
    "<br>\n",
    "\n",
    "<b>Parameter:</b>\n",
    "<blockquote>\n",
    "<b>function:</b> Die Funktion, die für jedes Element der angegebenen Iterable aufgerufen wird.<br>\n",
    "<b>iterable:</b> Eine oder mehrere durch ein Komma getrennte Iterables (z. B. string, list, tuple, dictionary)<br>\n",
    "</blockquote>\n",
    " \n",
    "<b>Rückgaben:</b>\n",
    "<blockquote>\n",
    "Gibt ein Iterator-Objekt der Filterklasse zurück.\n",
    "</blockquote>\n",
    "\n",
    "die Funktion Filter() erhält ebenfalls zwei Argumente, eine Funktion und eine Sequenz (eine Liste, Tuple...). Jedes Element in der Liste wird von der Funktion verarbeitet, die True oder False zurückgibt. Nur die Elemente, die True zurückgeben, werden in einem Filterobjekt gespeichert. Dieses kann dann bequem in eine Sequenz umgewandelt werden.\n"
   ]
  },
  {
   "cell_type": "code",
   "execution_count": 2,
   "metadata": {},
   "outputs": [
    {
     "data": {
      "text/plain": [
       "[2, 4, 6, 8, 10]"
      ]
     },
     "execution_count": 2,
     "metadata": {},
     "output_type": "execute_result"
    }
   ],
   "source": [
    "def ist_gerade(zahl: int):\n",
    "    if zahl % 2 == 0:\n",
    "        return True\n",
    "    return False\n",
    "\n",
    "zahlen = [1, 2, 3, 4, 5, 6, 7, 8, 9, 10]\n",
    "\n",
    "list(filter(ist_gerade, zahlen))"
   ]
  },
  {
   "cell_type": "code",
   "execution_count": 12,
   "metadata": {},
   "outputs": [
    {
     "name": "stdout",
     "output_type": "stream",
     "text": [
      "2\n",
      "4\n",
      "6\n",
      "8\n"
     ]
    }
   ],
   "source": [
    "result = filter(ist_gerade, zahlen)\n",
    "print(next(result))\n",
    "print(next(result))\n",
    "print(next(result))\n",
    "print(next(result))"
   ]
  },
  {
   "cell_type": "code",
   "execution_count": 32,
   "metadata": {},
   "outputs": [
    {
     "name": "stdout",
     "output_type": "stream",
     "text": [
      "Gerade Zahlen: [2, 4, 6, 8, 10]\n",
      "Ungerade Zahlen: [1, 3, 5, 7, 9]\n",
      "Ungerade Zahlen: [1, 3, 5, 7, 9]\n"
     ]
    }
   ],
   "source": [
    "from itertools import filterfalse\n",
    "\n",
    "print(f\"Gerade Zahlen: {list(filter(lambda zahl: zahl % 2 == 0, zahlen))}\")\n",
    "print(f\"Ungerade Zahlen: {list(filter(lambda zahl: zahl % 2 != 0, zahlen))}\")\n",
    "print(f\"Ungerade Zahlen: {list(filterfalse(lambda zahl: zahl % 2 == 0, zahlen))}\") # Kehrt das ergebnis um"
   ]
  },
  {
   "cell_type": "code",
   "execution_count": 3,
   "metadata": {},
   "outputs": [
    {
     "data": {
      "text/plain": [
       "[1, 'a', True, '0', list]"
      ]
     },
     "execution_count": 3,
     "metadata": {},
     "output_type": "execute_result"
    }
   ],
   "source": [
    "from typing import Any\n",
    "\n",
    "my_garbage_list: list[Any] = [1, 'a', 0, False, True, '0', None, {}, list]\n",
    "\n",
    "list(filter(None, my_garbage_list))"
   ]
  },
  {
   "cell_type": "markdown",
   "metadata": {},
   "source": [
    "<div class=\"alert alert-block alert-info\">\n",
    "<b>Tip:</b> <br>\n",
    "Sie können filter() auch mit Iterablen verwenden, die nichtnumerische Daten enthalten. Nehmen wir an, Sie müssen eine Liste von Strings verarbeiten und diejenigen herausfiltern, die gültige Python-Bezeichner sind. Nach einigen Nachforschungen finden Sie heraus, dass Python's str eine Methode namens .isidentifier() bietet, die Ihnen bei dieser Überprüfung helfen kann.</div>\n",
    "\n"
   ]
  },
  {
   "cell_type": "code",
   "execution_count": 25,
   "metadata": {},
   "outputs": [
    {
     "data": {
      "text/plain": [
       "['file', 'variable', '_non_public', 'header']"
      ]
     },
     "execution_count": 25,
     "metadata": {},
     "output_type": "execute_result"
    }
   ],
   "source": [
    "words = [\"file\", \"1Class\", \"variable\", \"_non_public\", \"classmethod#\", \"header\"]\n",
    "\n",
    "list(filter(str.isidentifier, words))"
   ]
  },
  {
   "cell_type": "code",
   "execution_count": 28,
   "metadata": {},
   "outputs": [
    {
     "data": {
      "text/plain": [
       "[4, 16, 36, 64, 100]"
      ]
     },
     "execution_count": 28,
     "metadata": {},
     "output_type": "execute_result"
    }
   ],
   "source": [
    "list(map(lambda zahl: zahl ** 2, filter(ist_gerade, zahlen)))"
   ]
  },
  {
   "cell_type": "code",
   "execution_count": 30,
   "metadata": {},
   "outputs": [
    {
     "data": {
      "text/plain": [
       "30"
      ]
     },
     "execution_count": 30,
     "metadata": {},
     "output_type": "execute_result"
    }
   ],
   "source": [
    "from functools import reduce\n",
    "\n",
    "reduce(lambda zahl1, zahl2: zahl1 + zahl2, filter(ist_gerade, zahlen))"
   ]
  }
 ],
 "metadata": {
  "interpreter": {
   "hash": "8edcae8aee8b9f77d273e745edc9899fcb323bc44a6c60d119c52fd1eee6c242"
  },
  "kernelspec": {
   "display_name": "Python 3.10.0 64-bit ('venv': venv)",
   "language": "python",
   "name": "python3"
  },
  "language_info": {
   "codemirror_mode": {
    "name": "ipython",
    "version": 3
   },
   "file_extension": ".py",
   "mimetype": "text/x-python",
   "name": "python",
   "nbconvert_exporter": "python",
   "pygments_lexer": "ipython3",
   "version": "3.10.4"
  },
  "orig_nbformat": 4
 },
 "nbformat": 4,
 "nbformat_minor": 2
}
