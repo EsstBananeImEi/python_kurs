{
 "cells": [
  {
   "cell_type": "markdown",
   "metadata": {},
   "source": [
    "# Python filter() function\n",
    "\n",
    "Die filter()-Methode filtert die gegebene Sequenz mit Hilfe einer Funktion, die jedes Element in der Sequenz daraufhin prüft, ob es wahr ist oder nicht\n",
    "\n",
    "<b>Syntax:</b>\n",
    "<blockquote>\n",
    "filter(function, iterable) --> filter object\n",
    "</blockquote>\n",
    "\n",
    "<br>\n",
    "\n",
    "<b>Parameter:</b>\n",
    "<blockquote>\n",
    "<b>function:</b> Die Funktion, die für jedes Element der angegebenen Iterable aufgerufen wird.<br>\n",
    "<b>iterable:</b> Eine oder mehrere durch ein Komma getrennte Iterables (z. B. string, list, tuple, dictionary)<br>\n",
    "</blockquote>\n",
    " \n",
    "<b>Rückgaben:</b>\n",
    "<blockquote>\n",
    "Gibt ein Iterator-Objekt der Filterklasse zurück.\n",
    "</blockquote>\n",
    "\n",
    "die Funktion Filter() erhält ebenfalls zwei Argumente, eine Funktion und eine Sequenz (eine Liste, Tuple...). Jedes Element in der Liste wird von der Funktion verarbeitet, die True oder False zurückgibt. Nur die Elemente, die True zurückgeben, werden in einem Filterobjekt gespeichert. Dieses kann dann bequem in eine Sequenz umgewandelt werden.\n"
   ]
  },
  {
   "cell_type": "code",
   "execution_count": 6,
   "metadata": {},
   "outputs": [
    {
     "data": {
      "text/plain": [
       "[2, 4, 6, 8, 10]"
      ]
     },
     "execution_count": 6,
     "metadata": {},
     "output_type": "execute_result"
    }
   ],
   "source": [
    "def ist_gerade(zahl: int):\n",
    "    if zahl % 2 == 0:\n",
    "        return True\n",
    "    return False\n",
    "\n",
    "zahlen = [1, 2, 3, 4, 5, 6, 7, 8, 9, 10]\n",
    "\n",
    "list(filter(ist_gerade, zahlen))"
   ]
  },
  {
   "cell_type": "code",
   "execution_count": 7,
   "metadata": {},
   "outputs": [
    {
     "name": "stdout",
     "output_type": "stream",
     "text": [
      "2\n",
      "4\n",
      "6\n",
      "8\n"
     ]
    }
   ],
   "source": [
    "result = filter(ist_gerade, zahlen)\n",
    "print(next(result))\n",
    "print(next(result))\n",
    "print(next(result))\n",
    "print(next(result))"
   ]
  },
  {
   "cell_type": "code",
   "execution_count": 14,
   "metadata": {},
   "outputs": [
    {
     "name": "stdout",
     "output_type": "stream",
     "text": [
      "Gerade Zahlen: [2, 4, 6, 8, 10]\n",
      "Ungerade Zahlen: [1, 3, 5, 7, 9]\n",
      "Ungerade Zahlen: [1, 3, 5, 7, 9]\n"
     ]
    }
   ],
   "source": [
    "from itertools import filterfalse\n",
    "\n",
    "print(f\"Gerade Zahlen: {list(filter(lambda zahl: zahl % 2 == 0, zahlen))}\")\n",
    "print(f\"Ungerade Zahlen: {list(filter(lambda zahl: zahl % 2 != 0, zahlen))}\")\n",
    "print(f\"Ungerade Zahlen: {list(filterfalse(lambda zahl: zahl % 2 == 0, zahlen))}\") # Kehrt das ergebnis um"
   ]
  },
  {
   "cell_type": "code",
   "execution_count": 9,
   "metadata": {},
   "outputs": [
    {
     "data": {
      "text/plain": [
       "[1, 'a', True, '0', list]"
      ]
     },
     "execution_count": 9,
     "metadata": {},
     "output_type": "execute_result"
    }
   ],
   "source": [
    "from typing import Any\n",
    "\n",
    "my_garbage_list: list[Any] = [1, 'a', 0, False, True, '0', None, {}, list]\n",
    "\n",
    "list(filter(None, my_garbage_list))"
   ]
  },
  {
   "cell_type": "markdown",
   "metadata": {},
   "source": [
    "<div class=\"alert alert-block alert-info\">\n",
    "<b>Tip:</b> <br>\n",
    "Sie können filter() auch mit Iterablen verwenden, die nichtnumerische Daten enthalten. Nehmen wir an, Sie müssen eine Liste von Strings verarbeiten und diejenigen herausfiltern, die gültige Python-Bezeichner sind. Python's str bietet eine Methode namens .isidentifier(), die uns bei dieser Überprüfung helfen kann.</div>\n",
    "\n"
   ]
  },
  {
   "cell_type": "code",
   "execution_count": 10,
   "metadata": {},
   "outputs": [
    {
     "name": "stdout",
     "output_type": "stream",
     "text": [
      "Gültige Bezeichner: ['file', 'variable', '_non_public', 'header']\n",
      "Ungültige Bezeichner: ['1Class', 'classmethod#']\n"
     ]
    }
   ],
   "source": [
    "from itertools import filterfalse\n",
    "words = [\"file\", \"1Class\", \"variable\", \"_non_public\", \"classmethod#\", \"header\"]\n",
    "\n",
    "print(f\"Gültige Bezeichner: {list(filter(str.isidentifier, words))}\")\n",
    "\n",
    "# is not str.isidentifier\n",
    "print(f\"Ungültige Bezeichner: {list(filterfalse(str.isidentifier, words))}\")"
   ]
  },
  {
   "cell_type": "code",
   "execution_count": 11,
   "metadata": {},
   "outputs": [
    {
     "data": {
      "text/plain": [
       "[4, 16, 36, 64, 100]"
      ]
     },
     "execution_count": 11,
     "metadata": {},
     "output_type": "execute_result"
    }
   ],
   "source": [
    "list(map(lambda zahl: zahl ** 2, filter(ist_gerade, zahlen)))"
   ]
  },
  {
   "cell_type": "code",
   "execution_count": 12,
   "metadata": {},
   "outputs": [
    {
     "data": {
      "text/plain": [
       "30"
      ]
     },
     "execution_count": 12,
     "metadata": {},
     "output_type": "execute_result"
    }
   ],
   "source": [
    "from functools import reduce\n",
    "\n",
    "reduce(lambda zahl1, zahl2: zahl1 + zahl2, filter(ist_gerade, zahlen))"
   ]
  },
  {
   "cell_type": "code",
   "execution_count": 13,
   "metadata": {},
   "outputs": [
    {
     "name": "stdout",
     "output_type": "stream",
     "text": [
      "1, 2, 3, 5, 7, 11, 13, 17, 19, 23\n",
      "29, 31, 37, 41, 43, 47, 53, 59, 61, 67\n",
      "71, 73, 79, 83, 89, 97, 101, 103, 107, 109\n",
      "113, 127, 131, 137, 139, 149, 151, 157, 163, 167\n",
      "173, 179, 181, 191, 193, 197, 199, 211, 223, 227\n",
      "229, 233, 239, 241, 251, 257, 263, 269, 271, 277\n",
      "281, 283, 293, 307, 311, 313, 317, 331, 337, 347\n",
      "349, 353, 359, 367, 373, 379, 383, 389, 397, 401\n",
      "409, 419, 421, 431, 433, 439, 443, 449, 457, 461\n",
      "463, 467, 479, 487, 491, 499, 503, 509, 521, 523\n",
      "541, 547, 557, 563, 569, 571, 577, 587, 593, 599\n",
      "601, 607, 613, 617, 619, 631, 641, 643, 647, 653\n",
      "659, 661, 673, 677, 683, 691, 701, 709, 719, 727\n",
      "733, 739, 743, 751, 757, 761, 769, 773, 787, 797\n",
      "809, 811, 821, 823, 827, 829, 839, 853, 857, 859\n",
      "863, 877, 881, 883, 887, 907, 911, 919, 929, 937\n",
      "941, 947, 953, 967, 971, 977, 983, 991, 997, "
     ]
    }
   ],
   "source": [
    "numbers = range(1, 1000)\n",
    "\n",
    "def is_prime(number: int):\n",
    "    for x in range(2, number):\n",
    "        if number % x == 0:\n",
    "            return False\n",
    "    return True\n",
    "\n",
    "prime_numbers = list(filter(is_prime, numbers))\n",
    "\n",
    "for i, prime in enumerate(prime_numbers, 1):\n",
    "    print(prime, end=\", \" if i % 10 != 0 else \"\\n\")"
   ]
  },
  {
   "cell_type": "code",
   "execution_count": null,
   "metadata": {},
   "outputs": [],
   "source": []
  }
 ],
 "metadata": {
  "interpreter": {
   "hash": "8edcae8aee8b9f77d273e745edc9899fcb323bc44a6c60d119c52fd1eee6c242"
  },
  "kernelspec": {
   "display_name": "Python 3.10.0 64-bit ('venv': venv)",
   "language": "python",
   "name": "python3"
  },
  "language_info": {
   "codemirror_mode": {
    "name": "ipython",
    "version": 3
   },
   "file_extension": ".py",
   "mimetype": "text/x-python",
   "name": "python",
   "nbconvert_exporter": "python",
   "pygments_lexer": "ipython3",
   "version": "3.10.5"
  },
  "orig_nbformat": 4
 },
 "nbformat": 4,
 "nbformat_minor": 2
}
