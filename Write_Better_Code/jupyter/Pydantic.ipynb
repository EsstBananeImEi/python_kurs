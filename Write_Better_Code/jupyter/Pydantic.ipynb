{
 "cells": [
  {
   "cell_type": "markdown",
   "metadata": {},
   "source": [
    "# Python Pydantic\n",
    "\n",
    "Pydantic ist eine erweiterung der Normalen Dataclasses.\n",
    "Es ermöglicht Datenvalidierung und Einstellungsmanagement mit Python-Typ-Annotationen.\n",
    "pydantic erzwingt Typisierung zur Laufzeit und liefert benutzerfreundliche Fehlermeldungen, wenn Daten ungültig sind.\n",
    "\n"
   ]
  },
  {
   "cell_type": "code",
   "execution_count": 2,
   "metadata": {},
   "outputs": [
    {
     "name": "stdout",
     "output_type": "stream",
     "text": [
      "{'title': 'Zero to One', 'subtitle': 'Notes on Startups, or How to Build the Future', 'author': 'Peter Thiel', 'publisher': 'Ballantine Books', 'isbn_10': '0753555190', 'isbn_13': '978-0753555194', 'price': 14.29, 'author2': {'name': 'Peter Thiel', 'verified': True}}\n"
     ]
    }
   ],
   "source": [
    "import json\n",
    "\n",
    "\n",
    "def main() -> None:\n",
    "    with open('../../Materialien/books.json') as book_file:\n",
    "        data = json.load(book_file)\n",
    "\n",
    "        print(data[0])\n",
    "\n",
    "\n",
    "if __name__ == '__main__':\n",
    "    main()\n"
   ]
  },
  {
   "cell_type": "code",
   "execution_count": 4,
   "metadata": {},
   "outputs": [
    {
     "name": "stdout",
     "output_type": "stream",
     "text": [
      "title='Zero to One' author='Peter Thiel' publisher='Ballantine Books' price=14.29\n",
      "Peter Thiel\n"
     ]
    }
   ],
   "source": [
    "from pydantic import BaseModel\n",
    "\n",
    "class Book(BaseModel):\n",
    "    title: str\n",
    "    author: str\n",
    "    publisher: str\n",
    "    price: float\n",
    "\n",
    "def main() -> None:\n",
    "    with open('../../Materialien/books.json') as book_file:\n",
    "        data = json.load(book_file)\n",
    "        books: list[Book] = [Book(**book) for book in data]\n",
    "        print(books[0])\n",
    "        print(books[0].author)\n",
    "\n",
    "\n",
    "if __name__ == '__main__':\n",
    "    main()\n"
   ]
  },
  {
   "cell_type": "code",
   "execution_count": 43,
   "metadata": {},
   "outputs": [
    {
     "name": "stdout",
     "output_type": "stream",
     "text": [
      "title='Zero to One' author='Peter Thiel' publisher='Ballantine Books' price=14.29 isbn_10=None isbn_13=None subtitle='Notes on Startups, or How to Build the Future'\n",
      "Peter Thiel\n"
     ]
    }
   ],
   "source": [
    "from pydantic import BaseModel, validator\n",
    "from typing import Optional\n",
    "\n",
    "class ISBN10FormatError(Exception):\n",
    "    def __init__(self, isbn: str, message:str):\n",
    "        self.isbn = isbn\n",
    "        self.message = message\n",
    "        super().__init__(message)\n",
    "\n",
    "class Book(BaseModel):\n",
    "    title: str\n",
    "    author: str\n",
    "    publisher: str\n",
    "    price: float\n",
    "    isbn_10: Optional[str]\n",
    "    isbn_13: Optional[str]\n",
    "    subtitle: Optional[str]\n",
    "    \n",
    "    @validator('isbn_10')\n",
    "    @classmethod\n",
    "    def validate_isbn10(cls, isbn: str):\n",
    "        chars = [char for char in isbn if char in \"0123456789xX\"]\n",
    "        if len(chars) != 10:\n",
    "            raise ISBN10FormatError(isbn, \"ISBN10 muss 10 zahlen haben.\")\n",
    "\n",
    "        def char_to_int(char: str) -> int:\n",
    "            if char in \"xX\":\n",
    "                return 10\n",
    "            return int(char)\n",
    "        \n",
    "        isbn_sum = sum((10 - index) * char_to_int(char) for index, char in enumerate(chars))\n",
    "        \n",
    "        if isbn_sum % 11 != 0:\n",
    "            raise ISBN10FormatError(isbn, \"Die Summe der ISBN10 zahlen muss durch 11 teilbar sein.\")\n",
    "\n",
    "def main() -> None:\n",
    "    with open('../../Materialien/books.json') as book_file:\n",
    "        data = json.load(book_file)\n",
    "        books: list[Book] = [Book(**book) for book in data]\n",
    "        print(books[0])\n",
    "        print(books[0].author)\n",
    "\n",
    "\n",
    "if __name__ == '__main__':\n",
    "    main()\n"
   ]
  },
  {
   "cell_type": "code",
   "execution_count": 45,
   "metadata": {},
   "outputs": [
    {
     "name": "stdout",
     "output_type": "stream",
     "text": [
      "peter thiel\n"
     ]
    }
   ],
   "source": [
    "import pydantic\n",
    "from typing import Optional\n",
    "\n",
    "\n",
    "class ISBN10FormatError(Exception):\n",
    "    def __init__(self, isbn: str, message: str) -> None:\n",
    "        self.message = message\n",
    "        self.isbn = isbn\n",
    "        super().__init__(message)\n",
    "\n",
    "\n",
    "class ISBNMissingError(Exception):\n",
    "    def __init__(self, title: str, message: str) -> None:\n",
    "        self.message = message\n",
    "        self.title = title\n",
    "        super().__init__(message)\n",
    "\n",
    "\n",
    "class Book(pydantic.BaseModel):\n",
    "    title: str\n",
    "    author: str\n",
    "    publisher: str\n",
    "    price: float\n",
    "    isbn_10: Optional[str]\n",
    "    isbn_13: Optional[str]\n",
    "    subtitle: Optional[str]\n",
    "\n",
    "    @pydantic.root_validator(pre=True)\n",
    "    @classmethod\n",
    "    def check_isbn10_or_isbn13(cls, values: dict[str, str]):\n",
    "        if \"isbn_10\" not in values and \"isbn_13\" not in values:\n",
    "            raise ISBNMissingError(\n",
    "                title=values['title'], message=\"Das Buch sollte entweder eine ISBN10 oder ISBN13 haben.\")\n",
    "        return values\n",
    "\n",
    "    @pydantic.validator(\"isbn_10\")\n",
    "    @classmethod\n",
    "    def isbn_10_valid(cls, isbn: str):\n",
    "        chars = [char for char in isbn if char in \"0123456789xX\"]\n",
    "        if len(chars) != 10:\n",
    "            raise ISBN10FormatError(\n",
    "                isbn=isbn, message=\"ISBN10 muss 10 zahlen haben.\")\n",
    "\n",
    "        def char_to_int(char: str) -> int:\n",
    "            if char in \"xX\":\n",
    "                return 10\n",
    "            return int(char)\n",
    "\n",
    "        isbn_sum = sum((10 - index) * char_to_int(char)\n",
    "                       for index, char in enumerate(chars))\n",
    "        if isbn_sum % 11 != 0:\n",
    "            raise ISBN10FormatError(\n",
    "                isbn=isbn, message=\"Die Summe der ISBN10 zahlen muss durch 11 teilbar sein.\")\n",
    "\n",
    "\n",
    "def main() -> None:\n",
    "    with open('../../Materialien/books.json') as book_file:\n",
    "        data = json.load(book_file)\n",
    "        books: list[Book] = [Book(**item) for item in data]\n",
    "        print(books[0].author)\n",
    "\n",
    "\n",
    "if __name__ == '__main__':\n",
    "    main()\n"
   ]
  },
  {
   "cell_type": "code",
   "execution_count": 47,
   "metadata": {},
   "outputs": [
    {
     "name": "stdout",
     "output_type": "stream",
     "text": [
      "title='zero to one' author='peter thiel' publisher='ballantine books' price=14.29 isbn_10=None isbn_13='978-0753555194' subtitle='notes on startups, or how to build the future'\n"
     ]
    },
    {
     "ename": "TypeError",
     "evalue": "\"Book\" is immutable and does not support item assignment",
     "output_type": "error",
     "traceback": [
      "\u001b[1;31m---------------------------------------------------------------------------\u001b[0m",
      "\u001b[1;31mTypeError\u001b[0m                                 Traceback (most recent call last)",
      "\u001b[1;32mc:\\own_projects\\python_kurs\\Write_Better_Code\\jupyter\\Pydantic.ipynb Cell 6'\u001b[0m in \u001b[0;36m<module>\u001b[1;34m\u001b[0m\n\u001b[0;32m     <a href='vscode-notebook-cell:/c%3A/own_projects/python_kurs/Write_Better_Code/jupyter/Pydantic.ipynb#ch0000006?line=63'>64</a>\u001b[0m         books[\u001b[39m0\u001b[39m]\u001b[39m.\u001b[39mprice \u001b[39m=\u001b[39m \u001b[39m10.0\u001b[39m\n\u001b[0;32m     <a href='vscode-notebook-cell:/c%3A/own_projects/python_kurs/Write_Better_Code/jupyter/Pydantic.ipynb#ch0000006?line=66'>67</a>\u001b[0m \u001b[39mif\u001b[39;00m \u001b[39m__name__\u001b[39m \u001b[39m==\u001b[39m \u001b[39m'\u001b[39m\u001b[39m__main__\u001b[39m\u001b[39m'\u001b[39m:\n\u001b[1;32m---> <a href='vscode-notebook-cell:/c%3A/own_projects/python_kurs/Write_Better_Code/jupyter/Pydantic.ipynb#ch0000006?line=67'>68</a>\u001b[0m     main()\n",
      "\u001b[1;32mc:\\own_projects\\python_kurs\\Write_Better_Code\\jupyter\\Pydantic.ipynb Cell 6'\u001b[0m in \u001b[0;36mmain\u001b[1;34m()\u001b[0m\n\u001b[0;32m     <a href='vscode-notebook-cell:/c%3A/own_projects/python_kurs/Write_Better_Code/jupyter/Pydantic.ipynb#ch0000006?line=61'>62</a>\u001b[0m books: \u001b[39mlist\u001b[39m[Book] \u001b[39m=\u001b[39m [Book(\u001b[39m*\u001b[39m\u001b[39m*\u001b[39mitem) \u001b[39mfor\u001b[39;00m item \u001b[39min\u001b[39;00m data]\n\u001b[0;32m     <a href='vscode-notebook-cell:/c%3A/own_projects/python_kurs/Write_Better_Code/jupyter/Pydantic.ipynb#ch0000006?line=62'>63</a>\u001b[0m \u001b[39mprint\u001b[39m(books[\u001b[39m0\u001b[39m])\n\u001b[1;32m---> <a href='vscode-notebook-cell:/c%3A/own_projects/python_kurs/Write_Better_Code/jupyter/Pydantic.ipynb#ch0000006?line=63'>64</a>\u001b[0m books[\u001b[39m0\u001b[39m]\u001b[39m.\u001b[39mprice \u001b[39m=\u001b[39m \u001b[39m10.0\u001b[39m\n",
      "File \u001b[1;32mc:\\own_projects\\python_kurs\\venv\\lib\\site-packages\\pydantic\\main.py:349\u001b[0m, in \u001b[0;36mpydantic.main.BaseModel.__setattr__\u001b[1;34m()\u001b[0m\n",
      "\u001b[1;31mTypeError\u001b[0m: \"Book\" is immutable and does not support item assignment"
     ]
    }
   ],
   "source": [
    "import pydantic\n",
    "from typing import Optional\n",
    "\n",
    "\n",
    "class ISBN10FormatError(Exception):\n",
    "    def __init__(self, isbn: str, message: str) -> None:\n",
    "        self.message = message\n",
    "        self.isbn = isbn\n",
    "        super().__init__(message)\n",
    "\n",
    "\n",
    "class ISBNMissingError(Exception):\n",
    "    def __init__(self, title: str, message: str) -> None:\n",
    "        self.message = message\n",
    "        self.title = title\n",
    "        super().__init__(message)\n",
    "\n",
    "\n",
    "class Book(pydantic.BaseModel):\n",
    "    title: str\n",
    "    author: str\n",
    "    publisher: str\n",
    "    price: float\n",
    "    isbn_10: Optional[str]\n",
    "    isbn_13: Optional[str]\n",
    "    subtitle: Optional[str]\n",
    "\n",
    "    @pydantic.root_validator(pre=True)\n",
    "    @classmethod\n",
    "    def check_isbn10_or_isbn13(cls, values: dict[str, str]):\n",
    "        if \"isbn_10\" not in values and \"isbn_13\" not in values:\n",
    "            raise ISBNMissingError(\n",
    "                title=values['title'], message=\"Das Buch sollte entweder eine ISBN10 oder ISBN13 haben.\")\n",
    "        return values\n",
    "\n",
    "    @pydantic.validator(\"isbn_10\")\n",
    "    @classmethod\n",
    "    def isbn_10_valid(cls, isbn: str):\n",
    "        chars = [char for char in isbn if char in \"0123456789xX\"]\n",
    "        if len(chars) != 10:\n",
    "            raise ISBN10FormatError(\n",
    "                isbn=isbn, message=\"ISBN10 muss 10 zahlen haben.\")\n",
    "\n",
    "        def char_to_int(char: str) -> int:\n",
    "            if char in \"xX\":\n",
    "                return 10\n",
    "            return int(char)\n",
    "\n",
    "        isbn_sum = sum((10 - index) * char_to_int(char)\n",
    "                       for index, char in enumerate(chars))\n",
    "        if isbn_sum % 11 != 0:\n",
    "            raise ISBN10FormatError(\n",
    "                isbn=isbn, message=\"Die Summe der ISBN10 zahlen muss durch 11 teilbar sein.\")\n",
    "\n",
    "    class Config:\n",
    "        allow_mutation = False  # make book imutable\n",
    "        anystr_lower = True  # make all strings lowercase\n",
    "\n",
    "def main() -> None:\n",
    "    with open('../../Materialien/books.json') as book_file:\n",
    "        data = json.load(book_file)\n",
    "        books: list[Book] = [Book(**item) for item in data]\n",
    "        print(books[0])\n",
    "        books[0].price = 10.0\n",
    "\n",
    "\n",
    "if __name__ == '__main__':\n",
    "    main()\n"
   ]
  }
 ],
 "metadata": {
  "kernelspec": {
   "display_name": "Python 3.10.5 ('.venv': venv)",
   "language": "python",
   "name": "python3"
  },
  "language_info": {
   "codemirror_mode": {
    "name": "ipython",
    "version": 3
   },
   "file_extension": ".py",
   "mimetype": "text/x-python",
   "name": "python",
   "nbconvert_exporter": "python",
   "pygments_lexer": "ipython3",
   "version": "3.10.5"
  },
  "orig_nbformat": 4,
  "vscode": {
   "interpreter": {
    "hash": "e14e8479963d30db350f91d92f9add431e0df07013125a1b59aab1353cc25703"
   }
  }
 },
 "nbformat": 4,
 "nbformat_minor": 2
}
