{
 "cells": [
  {
   "cell_type": "markdown",
   "metadata": {},
   "source": [
    "# Python reduce() function\n",
    "\n",
    "Die Funktion reduce() wird verwendet, um eine bestimmte Funktion, die in ihrem Argument übergeben wird, auf alle Listenelemente anzuwenden, die in der übergebenen Sequenz genannt werden, und ist im Modul \"functools\" definiert.\n",
    "\n",
    "<b>Syntax:</b>\n",
    "<blockquote>\n",
    "reduce(function, iterable[, initializer]) -> single value\n",
    "</blockquote>\n",
    "\n",
    "<br>\n",
    "\n",
    "<b>Parameter:</b>\n",
    "<blockquote>\n",
    "<b>function:</b> Es handelt sich um eine Funktion, an die reduce die ersten beiden Elemente der gegebenen iterable übergibt, danach wird der Funktion das ergebnis und das nächste element übergeben<br>\n",
    "<b>iterable:</b> Es ist ein iterierbares Objekt, das gemappt werden soll.<br>\n",
    "<b>initializer:</b> Der Initializer ist Optional und wird, wenn er gesetzt ist, der funktion als erstes übergeben, erst danach wird das iterable übergeben.\n",
    "</blockquote>\n",
    "\n",
    "<b>Note:</b> Der Funktion reduce() kann eine oder mehrere iterable übergeben.\n",
    " \n",
    "<b>Rückgaben:</b>\n",
    "<blockquote>\n",
    "Die Funktion reduce() gibt nur einen einzigen Wert zurück.\n",
    "</blockquote>\n",
    "\n",
    "Arbeitsweise:  \n",
    "\n",
    "1. Die ersten beiden Elemente der Sequenz auswählen und das Ergebnis ermitteln.\n",
    "2. Dieselbe Funktion auf das zuvor erhaltene Ergebnis und die auf das zweite Element folgende Zahl anzuwenden, und das Ergebnis erneut speichern.\n",
    "3. Punkt 2. wird so lange fortgesetzt, bis sich keine Elemente mehr im Container befinden.\n",
    "4. Das endgültige Ergebnis wird zurückgegeben.\n",
    "0. OPTIONAL: Wenn der Initializer gesetzt ist, wird der Initializer noch vor Punkt 1 der funktion übergeben. \n",
    "\n",
    "Wissenswertes:<br>\n",
    "- <a href=\"https://de.wikipedia.org/wiki/Fakult%C3%A4t_(Mathematik)\">Fakultät</a>\n",
    "- <a href=\"https://docs.python.org/3/library/operator.html\">Operator Function</a>\n"
   ]
  },
  {
   "cell_type": "code",
   "execution_count": 2,
   "metadata": {},
   "outputs": [
    {
     "name": "stdout",
     "output_type": "stream",
     "text": [
      "1 * 2 = 2\n",
      "2 * 3 = 6\n",
      "6 * 4 = 24\n",
      "24 * 5 = 120\n"
     ]
    },
    {
     "data": {
      "text/plain": [
       "'Fakultät von 5 ist 120'"
      ]
     },
     "execution_count": 2,
     "metadata": {},
     "output_type": "execute_result"
    }
   ],
   "source": [
    "from functools import reduce\n",
    "from typing import Sequence\n",
    "\n",
    "def multiply(x:int, y:int) -> int:\n",
    "    print(f\"{x} * {y} = {x * y}\")\n",
    "    return x * y\n",
    "\n",
    "zahlen: Sequence[int] = range(1,6)\n",
    "\n",
    "result = reduce(multiply, zahlen)\n",
    "f'Fakultät von {zahlen[-1]} ist {result}'"
   ]
  },
  {
   "cell_type": "code",
   "execution_count": 7,
   "metadata": {},
   "outputs": [
    {
     "data": {
      "text/plain": [
       "'Python Lernen ist einfach'"
      ]
     },
     "execution_count": 7,
     "metadata": {},
     "output_type": "execute_result"
    }
   ],
   "source": [
    "strings: list[str] = [\"Lernen\", \"ist\", \"einfach\"]\n",
    "\n",
    "reduce(lambda str1, str2: f\"{str1} {str2}\", strings, \"Python\")"
   ]
  },
  {
   "cell_type": "code",
   "execution_count": 5,
   "metadata": {},
   "outputs": [
    {
     "name": "stdout",
     "output_type": "stream",
     "text": [
      "Die Summe der Liste ist: 16\n",
      "Die Höchste zahl ist die: 6\n"
     ]
    }
   ],
   "source": [
    "zahlen: list[int] = [1, 2, 6, 4, 3, 0]\n",
    "\n",
    "summe = reduce(lambda zahl1, zahl2: zahl1 + zahl2, zahlen)\n",
    "max_int = reduce(lambda zahl1, zahl2: zahl1 if zahl1 > zahl2 else zahl2, zahlen)\n",
    "\n",
    "print(f\"Die Summe der Liste ist: {summe}\")\n",
    "print(f\"Die Höchste zahl ist die: {max_int}\")"
   ]
  },
  {
   "cell_type": "code",
   "execution_count": 6,
   "metadata": {},
   "outputs": [
    {
     "name": "stdout",
     "output_type": "stream",
     "text": [
      "Die Summe der Liste ist: 16\n",
      "Die Höchste zahl ist die: 6\n"
     ]
    }
   ],
   "source": [
    "import operator\n",
    "\n",
    "summe = reduce(operator.add, zahlen)\n",
    "max_int = reduce(lambda zahl1, zahl2: zahl1 if operator.gt(zahl1, zahl2) else zahl2, zahlen)\n",
    "\n",
    "print(f\"Die Summe der Liste ist: {summe}\")\n",
    "print(f\"Die Höchste zahl ist die: {max_int}\")"
   ]
  }
 ],
 "metadata": {
  "interpreter": {
   "hash": "8edcae8aee8b9f77d273e745edc9899fcb323bc44a6c60d119c52fd1eee6c242"
  },
  "kernelspec": {
   "display_name": "Python 3 (ipykernel)",
   "language": "python",
   "name": "python3"
  },
  "language_info": {
   "codemirror_mode": {
    "name": "ipython",
    "version": 3
   },
   "file_extension": ".py",
   "mimetype": "text/x-python",
   "name": "python",
   "nbconvert_exporter": "python",
   "pygments_lexer": "ipython3",
   "version": "3.10.5"
  }
 },
 "nbformat": 4,
 "nbformat_minor": 2
}
