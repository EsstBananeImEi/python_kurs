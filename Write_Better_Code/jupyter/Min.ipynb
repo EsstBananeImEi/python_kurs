{
 "cells": [
  {
   "cell_type": "markdown",
   "metadata": {},
   "source": [
    "# Python Min() function\n",
    "\n",
    "Die Funktion Min() ist eine eingebaute Funktion in Python, die verwendet wird, um das Minimum von zwei oder mehr Elementen zu finden.\n",
    "Sie wird genau wie die Max() Funktion verwendet, aber anstatt das Maximum zu finden, findet sie das Minimum.\n",
    "\n",
    "Siehe: [Max()](http:localhost:8888/notebooks/Write_Better_Code/jupyter/Max.ipynb)\n",
    "\n",
    "\n"
   ]
  },
  {
   "cell_type": "code",
   "execution_count": 1,
   "metadata": {},
   "outputs": [
    {
     "name": "stdout",
     "output_type": "stream",
     "text": [
      "1\n"
     ]
    }
   ],
   "source": [
    "numbers: list[int] = [1, 2, 3, 4, 5, 6, 7, 8, 9]\n",
    "smallest: int = min(numbers)\n",
    "print(smallest)\n"
   ]
  },
  {
   "cell_type": "code",
   "execution_count": 2,
   "metadata": {},
   "outputs": [
    {
     "name": "stdout",
     "output_type": "stream",
     "text": [
      "Kiwi\n"
     ]
    }
   ],
   "source": [
    "def get_length(item):\n",
    "    return len(item)\n",
    "\n",
    "fruits = [\"Apfel\", \"Banane\", \"Kiwi\"]\n",
    "smalles_fruit = min(fruits, key=get_length)\n",
    "print(smalles_fruit)"
   ]
  },
  {
   "cell_type": "code",
   "execution_count": 10,
   "metadata": {},
   "outputs": [
    {
     "name": "stdout",
     "output_type": "stream",
     "text": [
      "22\n"
     ]
    }
   ],
   "source": [
    "numbers: list[int] = [9, 10, 3, 22, 0, 3, 6, 10, 9, 7, 4, 1, 2, 1, 55, 1]\n",
    "\n",
    "wenigste_vorkommen = min(numbers, key=numbers.count)\n",
    "print(wenigste_vorkommen)"
   ]
  },
  {
   "cell_type": "markdown",
   "metadata": {},
   "source": [
    "### Notes\n",
    "\n",
    "- Das am wenigsten häufige Element in der Liste ist die 22, obwohl die 0,6,7,4 und 55 ebenfalls nur 1 Mal vorkommen. Das liegt daran, dass die 22 vor allen anderen in der Liste steht. Die 22 wird somit bei dem Vergleich mit den anderen Elementen immer als das kleinste Element angesehen.\n",
    "\n",
    "Das gleiche gilt für die Max() Funktion."
   ]
  }
 ],
 "metadata": {
  "kernelspec": {
   "display_name": ".venv",
   "language": "python",
   "name": "python3"
  },
  "language_info": {
   "codemirror_mode": {
    "name": "ipython",
    "version": 3
   },
   "file_extension": ".py",
   "mimetype": "text/x-python",
   "name": "python",
   "nbconvert_exporter": "python",
   "pygments_lexer": "ipython3",
   "version": "3.10.5"
  },
  "orig_nbformat": 4
 },
 "nbformat": 4,
 "nbformat_minor": 2
}
