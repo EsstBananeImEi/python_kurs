{
 "cells": [
  {
   "cell_type": "markdown",
   "metadata": {},
   "source": [
    "# Python map() function\n",
    "\n",
    "Die Funktion map() gibt ein map-Objekt (einen Iterator) mit den Ergebnissen zurück, nachdem die angegebene Funktion auf jedes Element einer gegebenen Iterablen (Liste, Tupel usw.) angewendet wurde.\n",
    "\n",
    "<b>Syntax:</b>\n",
    "<blockquote>\n",
    "map(funktion, iterable) -> map_object\n",
    "</blockquote>\n",
    "\n",
    "<br>\n",
    "\n",
    "<b>Parameter:</b>\n",
    "<blockquote>\n",
    "<b>funktion:</b> Es handelt sich um eine Funktion, an die map jedes Element der gegebenen iterable übergibt<br>\n",
    "<b>iterable:</b> Es ist ein iterierbares Objekt, das gemappt werden soll.\n",
    "</blockquote>\n",
    "\n",
    "<b>Note:</b> Der Funktion map() kann eine oder mehrere iterable übergeben.\n",
    " \n",
    "<b>Rückgaben:</b>\n",
    "<blockquote>\n",
    "Die Funktion map() gibt ein Objekt der Klasse map zurück. Der zurückgegebene Wert kann an Funktionen übergeben werden wie \n",
    "\n",
    "- list()\n",
    "- set()\n",
    "</blockquote>\n",
    "\n",
    "Die map() Funktion wird meist mir lambda Funktionen genutzt, wir werden hier aber die Lambda Funktionen durch normale Funktionen ersetzen damit die funktionsweise von map() klarer erkennbar ist."
   ]
  },
  {
   "cell_type": "code",
   "execution_count": 2,
   "metadata": {},
   "outputs": [
    {
     "name": "stdout",
     "output_type": "stream",
     "text": [
      "<map object at 0x0000015B5358ACB0>\n",
      "[2, 3, 4, 5]\n"
     ]
    }
   ],
   "source": [
    "from typing import Iterator\n",
    "\n",
    "def addition(zahl: int) -> int:\n",
    "    return zahl + 1\n",
    "\n",
    "map_return: Iterator[int] = map(addition, [1, 2, 3, 4])\n",
    "\n",
    "print(map_return)\n",
    "print(list(map_return))"
   ]
  },
  {
   "cell_type": "code",
   "execution_count": 50,
   "metadata": {},
   "outputs": [
    {
     "data": {
      "text/plain": [
       "{5, 7, 9}"
      ]
     },
     "execution_count": 50,
     "metadata": {},
     "output_type": "execute_result"
    }
   ],
   "source": [
    "def merge_list_numbers(zahl_liste1: int, zahl_liste2: int) -> int:\n",
    "    return zahl_liste1 + zahl_liste2\n",
    "\n",
    "liste1: list[int] = [1,2,3]\n",
    "liste2: list[int] = [4,5,6]\n",
    "\n",
    "set(map(merge_list_numbers, liste1, liste2))"
   ]
  },
  {
   "cell_type": "code",
   "execution_count": 9,
   "metadata": {},
   "outputs": [
    {
     "data": {
      "text/plain": [
       "[['P', 'e', 't', 'e', 'r'], ['L', 'i', 's', 'a'], ['M', 'a', 'r', 'i', 'e']]"
      ]
     },
     "execution_count": 9,
     "metadata": {},
     "output_type": "execute_result"
    }
   ],
   "source": [
    "names: list[str] = [\"Peter\", \"Lisa\", \"Marie\"]\n",
    "\n",
    "list(map(list.__call__, names))"
   ]
  },
  {
   "cell_type": "code",
   "execution_count": 1,
   "metadata": {},
   "outputs": [
    {
     "name": "stdout",
     "output_type": "stream",
     "text": [
      "[['Peter', 'Meurer', 'Peter@t-online.de'], ['Lisa', 'Franz', 'Lisa@gmx.net'], ['Marie', 'Braun', 'Marie@yahoo.de']]\n",
      "['Peter Meurer', 'Lisa Franz', 'Marie Braun']\n",
      "<filter object at 0x7f2a74122410>\n"
     ]
    }
   ],
   "source": [
    "csv_lines = [\"Peter;Meurer;Peter@t-online.de\", \n",
    "            \"Lisa;Franz;Lisa@gmx.net\",\n",
    "            \"Marie;Braun;Marie@yahoo.de\"]\n",
    "\n",
    "print(list(map(lambda line: line.split(';'), csv_lines)))\n",
    "print(list(map(lambda line: \" \".join(line.split(';')[:2]), csv_lines)))\n",
    "\n",
    "\n"
   ]
  }
 ],
 "metadata": {
  "kernelspec": {
   "display_name": "Python 3 (ipykernel)",
   "language": "python",
   "name": "python3"
  },
  "language_info": {
   "codemirror_mode": {
    "name": "ipython",
    "version": 3
   },
   "file_extension": ".py",
   "mimetype": "text/x-python",
   "name": "python",
   "nbconvert_exporter": "python",
   "pygments_lexer": "ipython3",
   "version": "3.10.5"
  }
 },
 "nbformat": 4,
 "nbformat_minor": 2
}
