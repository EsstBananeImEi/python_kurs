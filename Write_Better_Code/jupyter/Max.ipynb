{
 "cells": [
  {
   "cell_type": "markdown",
   "metadata": {},
   "source": [
    "# Python Max() function\n",
    "\n",
    "Die Funktion max() in Python ist eine eingebaute Funktion, die verwendet wird, um das größte Element in einer Sequenz oder zwischen mehreren Argumenten zu ermitteln. Die Sequenz kann eine Liste, ein Tuple oder ein String sein.\n",
    "\n",
    "Syntax:\n",
    "```python\n",
    "max(arg1, arg2, *args[, key=func]) -> value\n",
    "```\n",
    "\n",
    "Parameter:\n",
    "\n",
    "arg1, arg2, *args: Die Argumente, die verglichen werden sollen, um das größte Element zu ermitteln. Es können beliebig viele Argumente übergeben werden.\n",
    "key (optional): Eine optionale Funktion, die auf jedes Element angewendet wird, bevor der Vergleich durchgeführt wird. Sie ermöglicht es, ein benutzerdefiniertes Kriterium für den Vergleich festzulegen.\n",
    "\n",
    "Rückgabewert:\n",
    "\n",
    "Die Funktion gibt das größte Element aus der Sequenz oder den Argumenten zurück.\n",
    "Beispiel:\n",
    "\n",
    "```python\n",
    "numbers = [5, 10, 3, 8, 2]\n",
    "maximum = max(numbers)\n",
    "print(maximum) # ausgabe: 10\n",
    "```\n",
    "\n",
    "Die max() Funktion ist nützlich, wenn Sie das größte Element in einer Sequenz finden oder Vergleiche basierend auf benutzerdefinierten Kriterien durchführen möchten. Beachten Sie jedoch, dass die Elemente in der Sequenz oder den Argumenten vergleichbar sein sollten, da sie sonst einen TypeError auslösen kann.\n"
   ]
  },
  {
   "cell_type": "code",
   "execution_count": 14,
   "metadata": {},
   "outputs": [
    {
     "name": "stdout",
     "output_type": "stream",
     "text": [
      "10\n"
     ]
    }
   ],
   "source": [
    "numbers = [9, 10, 3, 0, 3, 6, 10, 9, 7, 4]\n",
    "\n",
    "max_value = max(numbers)\n",
    "print(max_value)"
   ]
  },
  {
   "cell_type": "markdown",
   "metadata": {},
   "source": [
    "### max() mit benutzerdefiniertem Kriterium\n",
    "\n",
    "Die max() Funktion kann auch mit einem benutzerdefinierten Kriterium verwendet werden. Dazu können Sie die key-Funktion verwenden, die auf jedes Element angewendet wird, bevor der Vergleich durchgeführt wird.\n",
    "\n",
    "Beispiel:\n",
    "\n",
    "```python\n",
    "def get_length(item):\n",
    "    return len(item)\n",
    "\n",
    "fruits = [\"Apfel\", \"Banane\", \"Kiwi\"]\n",
    "longest_fruit = max(fruits, key=get_length)\n",
    "print(longest_fruit) # ausgabe: Banana\n",
    "```\n",
    "\n",
    "In diesem Beispiel wird die max() Funktion verwendet, um das längste Element in der Liste fruits zu finden. Da die Elemente in der Liste Strings sind, wird die Länge jedes Elements mit der Funktion get_length() ermittelt, bevor der Vergleich durchgeführt wird. Die Funktion get_length() gibt die Länge des Elements zurück, die dann mit den anderen Elementen verglichen wird. Das Element mit der größten Länge wird zurückgegeben."
   ]
  },
  {
   "cell_type": "code",
   "execution_count": 23,
   "metadata": {},
   "outputs": [
    {
     "name": "stdout",
     "output_type": "stream",
     "text": [
      "Banane\n"
     ]
    }
   ],
   "source": [
    "def get_length(item):\n",
    "    return len(item)\n",
    "\n",
    "fruits = [\"Apfel\", \"Banane\", \"Kiwi\"]\n",
    "longest_fruit = max(fruits, key=get_length)\n",
    "print(longest_fruit) # ausgabe: Banana"
   ]
  },
  {
   "cell_type": "code",
   "execution_count": 29,
   "metadata": {},
   "outputs": [
    {
     "name": "stdout",
     "output_type": "stream",
     "text": [
      "1\n"
     ]
    }
   ],
   "source": [
    "numbers: list[int] = [9, 8, 2, 1, 1]\n",
    "\n",
    "meiste_vorkommen = max(numbers, key=numbers.count)\n",
    "print(meiste_vorkommen)"
   ]
  },
  {
   "cell_type": "code",
   "execution_count": 30,
   "metadata": {},
   "outputs": [
    {
     "name": "stdout",
     "output_type": "stream",
     "text": [
      "9\n"
     ]
    }
   ],
   "source": [
    "numbers: list[int] = [9, 8, 2, 2, 1, 1, 4, 9]\n",
    "\n",
    "meiste_vorkommen = max(numbers, key=numbers.count)\n",
    "print(meiste_vorkommen)"
   ]
  },
  {
   "cell_type": "markdown",
   "metadata": {},
   "source": [
    "### Notes:\n",
    "\n",
    "Das am häufigstem vorkommende Element in der Liste ist die 9, obwohl die 2 und die 1 ebenfalls 2 Mal vorkommen. Das liegt daran, dass die 9 vor allen anderen in der Liste steht. Die 9 wird somit bei dem Vergleich mit den anderen Elementen immer als das am häufigsten vorkommende Element zurückgegeben."
   ]
  }
 ],
 "metadata": {
  "kernelspec": {
   "display_name": "Python 3 (ipykernel)",
   "language": "python",
   "name": "python3"
  },
  "language_info": {
   "codemirror_mode": {
    "name": "ipython",
    "version": 3
   },
   "file_extension": ".py",
   "mimetype": "text/x-python",
   "name": "python",
   "nbconvert_exporter": "python",
   "pygments_lexer": "ipython3",
   "version": "3.10.5"
  }
 },
 "nbformat": 4,
 "nbformat_minor": 2
}
