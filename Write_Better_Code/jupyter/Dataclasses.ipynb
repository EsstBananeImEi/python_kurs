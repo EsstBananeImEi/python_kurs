{
 "cells": [
  {
   "cell_type": "markdown",
   "metadata": {},
   "source": [
    "# Dataclasses\n",
    "\n",
    "Klassen sind eine kombination aus zwei dingen: \n",
    "1. Verhalten in form von methoden \n",
    "2. Daten in form von klassenattributen\n",
    "\n",
    "Sie bilden die grundlage für objektorientierte programmierung und werden von entwicklern auf millionenfache art und weise eingesetzt. \n",
    "Einige klassen sind hauptsächlich verhaltenscontainer, z. b. eine klasse, die es dir ermöglicht, alle möglichen formen auf dem bildschirm zu zeichnen, oder eine klasse, die passwort-hashing-funktionen bereitstellt. \n",
    "Andere klassen fungieren eher als datencontainer, z. b. eine klasse, die ein fahrzeug in einem fahrzeugregistrierungssystem darstellt, oder eine klasse, die ein polygonales netz in einem grafiksystem darstellt. \n",
    "Wenn du mit einer verhaltenscontainerklasse arbeitest, kannst du dinge wie vererbung verwenden, um das verhalten zu ändern. \n",
    "Verhalten zu ändern oder Design Patterns zu verwenden, wie zum Beispiel das Strategie-Pattern, wirst du wahrscheinlich auch nicht so viele verschiedene Instanzen dieser Klasse in deiner Anwendung haben. \n",
    "Eine Klasse, die sich eher wie ein Datencontainer verhält, wird oft anders verwendet, Du musst vielleicht viele Instanzen erstellen, Du möchtest sie anordnen, Du möchtest sie vergleichen oder Du möchtest die Daten, die sich in ihnen befinden, einfach überprüfen. Normale Bare-Bone-Klassen bieten nicht wirklich viele nützliche Funktionen für solche datenorientierten Klassen Deshalb bieten einige Programmiersprachen eine datenorientiertere Variante einer Klasse\n",
    "\n",
    "Python hat seit der Version 3.7 das dataclass module integriert mit dem wir datenorientierte Klassen erstellen können.\n",
    "\n",
    "Wie unterscheiden sich Datenklassen von regulären Klassen? \n",
    "Die Datenklasse verfügt über eine eingebaute Initialisierung, mit der du ein Objekt schnell mit Daten füllen kannst. \n",
    "Es gibt einfache Möglichkeiten, Daten zu printen, zu vergleichen und zu ordnen und Du kannst Daten erstellen, die nur gelesen werden können (read-only)"
   ]
  },
  {
   "cell_type": "code",
   "execution_count": 3,
   "metadata": {},
   "outputs": [
    {
     "name": "stdout",
     "output_type": "stream",
     "text": [
      "2509991462320\n",
      "2509991475232\n",
      "<__main__.Person object at 0x0000024867265E40>\n",
      "False\n"
     ]
    }
   ],
   "source": [
    "class Person:\n",
    "        \n",
    "    def __init__(self, name:str, age:int, job:str):\n",
    "        self.name = name\n",
    "        self.age = age\n",
    "        self.job = job\n",
    "        \n",
    "person1 = Person(\"Peter\", 20, \"Verkäufer\")\n",
    "person2 = Person(\"Vanessa\", 25, \"Managerin\")\n",
    "person3 = Person(\"Vanessa\", 25, \"Managerin\")\n",
    "\n",
    "print(id(person2))\n",
    "print(id(person3))\n",
    "print(person1)\n",
    "print(person2 == person3)"
   ]
  },
  {
   "cell_type": "code",
   "execution_count": 4,
   "metadata": {},
   "outputs": [
    {
     "name": "stdout",
     "output_type": "stream",
     "text": [
      "2509976481040\n",
      "2509991468608\n",
      "Person(name='Peter', age=20, job='Verkäufer')\n",
      "True\n"
     ]
    }
   ],
   "source": [
    "from dataclasses import dataclass\n",
    "\n",
    "@dataclass\n",
    "class Person:\n",
    "    name: str\n",
    "    age: int\n",
    "    job: str\n",
    "        \n",
    "person1 = Person(\"Peter\", 20, \"Verkäufer\")\n",
    "person2 = Person(\"Vanessa\", 25, \"Managerin\")\n",
    "person3 = Person(\"Vanessa\", 25, \"Managerin\")\n",
    "\n",
    "print(id(person2))\n",
    "print(id(person3))\n",
    "print(person1)\n",
    "print(person2 == person3)"
   ]
  },
  {
   "cell_type": "code",
   "execution_count": 22,
   "metadata": {},
   "outputs": [
    {
     "name": "stdout",
     "output_type": "stream",
     "text": [
      "2509988184896\n",
      "2509982695184\n",
      "Person(sort_index=30, name='Peter', age=30, job='Verkäufer')\n",
      "True\n"
     ]
    }
   ],
   "source": [
    "from dataclasses import dataclass, field\n",
    "\n",
    "@dataclass(order=True)\n",
    "class Person:\n",
    "    sort_index: int = field(init=False)\n",
    "    name: str\n",
    "    age: int\n",
    "    job: str\n",
    "    \n",
    "    def __post_init__(self):\n",
    "        self.sort_index = self.age\n",
    "        \n",
    "person1 = Person(\"Peter\", 30, \"Verkäufer\")\n",
    "person2 = Person(\"Vanessa\", 25, \"Managerin\")\n",
    "person3 = Person(\"Vanessa\", 25, \"Managerin\")\n",
    "\n",
    "print(id(person2))\n",
    "print(id(person3))\n",
    "print(person1)\n",
    "print(person1 > person2)"
   ]
  },
  {
   "cell_type": "code",
   "execution_count": 21,
   "metadata": {},
   "outputs": [
    {
     "name": "stdout",
     "output_type": "stream",
     "text": [
      "2509988288240\n",
      "2509988283728\n",
      "Person(name='Peter', age=30, job='Verkäufer')\n",
      "True\n"
     ]
    }
   ],
   "source": [
    "from dataclasses import dataclass, field\n",
    "\n",
    "@dataclass(order=True)\n",
    "class Person:\n",
    "    sort_index: int = field(init=False, repr=False)\n",
    "    name: str\n",
    "    age: int\n",
    "    job: str\n",
    "    \n",
    "    def __post_init__(self):\n",
    "        self.sort_index = self.age\n",
    "        \n",
    "person1 = Person(\"Peter\", 30, \"Verkäufer\")\n",
    "person2 = Person(\"Vanessa\", 25, \"Managerin\")\n",
    "person3 = Person(\"Vanessa\", 25, \"Managerin\")\n",
    "\n",
    "print(id(person2))\n",
    "print(id(person3))\n",
    "print(person1)\n",
    "print(person1 > person2)"
   ]
  },
  {
   "cell_type": "code",
   "execution_count": 24,
   "metadata": {},
   "outputs": [
    {
     "name": "stdout",
     "output_type": "stream",
     "text": [
      "2509988149904\n",
      "2509988142800\n",
      "Person(name='Peter', age=12, job='Verkäufer', strength=50)\n",
      "False\n"
     ]
    }
   ],
   "source": [
    "from dataclasses import dataclass, field\n",
    "\n",
    "@dataclass(order=True)\n",
    "class Person:\n",
    "    sort_index: int = field(init=False, repr=False)\n",
    "    name: str\n",
    "    age: int\n",
    "    job: str\n",
    "    strength: int = 100\n",
    "    \n",
    "    def __post_init__(self):\n",
    "        self.sort_index = self.strength\n",
    "        \n",
    "person1 = Person(\"Peter\", 30, \"Verkäufer\", 50)\n",
    "person2 = Person(\"Vanessa\", 25, \"Managerin\")\n",
    "person3 = Person(\"Vanessa\", 25, \"Managerin\")\n",
    "person1.age = 12\n",
    "\n",
    "print(id(person2))\n",
    "print(id(person3))\n",
    "print(person1)\n",
    "print(person1 > person2)"
   ]
  },
  {
   "cell_type": "code",
   "execution_count": 19,
   "metadata": {},
   "outputs": [
    {
     "ename": "FrozenInstanceError",
     "evalue": "cannot assign to field 'age'",
     "output_type": "error",
     "traceback": [
      "\u001b[1;31m---------------------------------------------------------------------------\u001b[0m",
      "\u001b[1;31mFrozenInstanceError\u001b[0m                       Traceback (most recent call last)",
      "\u001b[1;32mc:\\own_projects\\python_kurs\\Write_Better_Code\\jupyter\\Dataclasses.ipynb Cell 4'\u001b[0m in \u001b[0;36m<module>\u001b[1;34m\u001b[0m\n\u001b[0;32m     <a href='vscode-notebook-cell:/c%3A/own_projects/python_kurs/Write_Better_Code/jupyter/Dataclasses.ipynb#ch0000005?line=14'>15</a>\u001b[0m person2 \u001b[39m=\u001b[39m Person(\u001b[39m\"\u001b[39m\u001b[39mVanessa\u001b[39m\u001b[39m\"\u001b[39m, \u001b[39m25\u001b[39m, \u001b[39m\"\u001b[39m\u001b[39mManagerin\u001b[39m\u001b[39m\"\u001b[39m)\n\u001b[0;32m     <a href='vscode-notebook-cell:/c%3A/own_projects/python_kurs/Write_Better_Code/jupyter/Dataclasses.ipynb#ch0000005?line=15'>16</a>\u001b[0m person3 \u001b[39m=\u001b[39m Person(\u001b[39m\"\u001b[39m\u001b[39mVanessa\u001b[39m\u001b[39m\"\u001b[39m, \u001b[39m25\u001b[39m, \u001b[39m\"\u001b[39m\u001b[39mManagerin\u001b[39m\u001b[39m\"\u001b[39m)\n\u001b[1;32m---> <a href='vscode-notebook-cell:/c%3A/own_projects/python_kurs/Write_Better_Code/jupyter/Dataclasses.ipynb#ch0000005?line=16'>17</a>\u001b[0m person1\u001b[39m.\u001b[39mage \u001b[39m=\u001b[39m \u001b[39m12\u001b[39m\n\u001b[0;32m     <a href='vscode-notebook-cell:/c%3A/own_projects/python_kurs/Write_Better_Code/jupyter/Dataclasses.ipynb#ch0000005?line=18'>19</a>\u001b[0m \u001b[39mprint\u001b[39m(\u001b[39mid\u001b[39m(person2))\n\u001b[0;32m     <a href='vscode-notebook-cell:/c%3A/own_projects/python_kurs/Write_Better_Code/jupyter/Dataclasses.ipynb#ch0000005?line=19'>20</a>\u001b[0m \u001b[39mprint\u001b[39m(\u001b[39mid\u001b[39m(person3))\n",
      "File \u001b[1;32m<string>:4\u001b[0m, in \u001b[0;36m__setattr__\u001b[1;34m(self, name, value)\u001b[0m\n",
      "\u001b[1;31mFrozenInstanceError\u001b[0m: cannot assign to field 'age'"
     ]
    }
   ],
   "source": [
    "from dataclasses import dataclass, field\n",
    "\n",
    "@dataclass(order=True, frozen=True)\n",
    "class Person:\n",
    "    sort_index: int = field(init=False, repr=False)\n",
    "    name: str\n",
    "    age: int\n",
    "    job: str\n",
    "    strength: int = 100\n",
    "    \n",
    "    def __post_init__(self):\n",
    "        object.__setattr__(self, 'sort_index', self.strength)\n",
    "        \n",
    "person1 = Person(\"Peter\", 30, \"Verkäufer\", 50)\n",
    "person2 = Person(\"Vanessa\", 25, \"Managerin\")\n",
    "person3 = Person(\"Vanessa\", 25, \"Managerin\")\n",
    "person1.age = 12\n",
    "\n",
    "print(id(person2))\n",
    "print(id(person3))\n",
    "print(person1)\n",
    "print(person1 > person2)"
   ]
  },
  {
   "cell_type": "code",
   "execution_count": 18,
   "metadata": {},
   "outputs": [
    {
     "name": "stdout",
     "output_type": "stream",
     "text": [
      "2509982320624\n",
      "2509988149712\n",
      "Peter, 30, Verkäufer\n",
      "False\n"
     ]
    }
   ],
   "source": [
    "from dataclasses import dataclass, field\n",
    "\n",
    "@dataclass(order=True, frozen=True)\n",
    "class Person:\n",
    "    sort_index: int = field(init=False, repr=False)\n",
    "    name: str\n",
    "    age: int\n",
    "    job: str\n",
    "    strength: int = 100\n",
    "    \n",
    "    def __post_init__(self):\n",
    "        object.__setattr__(self, 'sort_index', self.strength)\n",
    "        \n",
    "person1 = Person(\"Peter\", 30, \"Verkäufer\", 50)\n",
    "person2 = Person(\"Vanessa\", 25, \"Managerin\")\n",
    "person3 = Person(\"Vanessa\", 25, \"Managerin\")\n",
    "\n",
    "print(id(person2))\n",
    "print(id(person3))\n",
    "print(person1)\n",
    "print(person1 > person2)"
   ]
  },
  {
   "cell_type": "code",
   "execution_count": null,
   "metadata": {},
   "outputs": [],
   "source": [
    "from dataclasses import dataclass, field\n",
    "\n",
    "@dataclass(order=True, frozen=True)\n",
    "class Person:\n",
    "    sort_index: int = field(init=False, repr=False)\n",
    "    name: str\n",
    "    age: int\n",
    "    job: str\n",
    "    strength: int = 100\n",
    "    \n",
    "    def __post_init__(self):\n",
    "        object.__setattr__(self, 'sort_index', self.strength)\n",
    "        \n",
    "    def __str__(self):\n",
    "        return f\"{self.name}, {self.age}, {self.job}\"\n",
    "        \n",
    "person1 = Person(\"Peter\", 30, \"Verkäufer\", 50)\n",
    "person2 = Person(\"Vanessa\", 25, \"Managerin\")\n",
    "person3 = Person(\"Vanessa\", 25, \"Managerin\")\n",
    "\n",
    "print(id(person2))\n",
    "print(id(person3))\n",
    "print(person1)\n",
    "print(person1 > person2)"
   ]
  }
 ],
 "metadata": {
  "interpreter": {
   "hash": "dda34051ab392956e875351174bc2cdee3b52d2b51fe39c01a3521ac067e8f0e"
  },
  "kernelspec": {
   "display_name": "Python 3.10.0 ('venv': venv)",
   "language": "python",
   "name": "python3"
  },
  "language_info": {
   "codemirror_mode": {
    "name": "ipython",
    "version": 3
   },
   "file_extension": ".py",
   "mimetype": "text/x-python",
   "name": "python",
   "nbconvert_exporter": "python",
   "pygments_lexer": "ipython3",
   "version": "3.10.0"
  },
  "orig_nbformat": 4
 },
 "nbformat": 4,
 "nbformat_minor": 2
}
