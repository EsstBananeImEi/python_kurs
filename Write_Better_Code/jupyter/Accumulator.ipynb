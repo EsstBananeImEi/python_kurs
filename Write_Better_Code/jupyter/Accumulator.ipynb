{
 "cells": [
  {
   "cell_type": "markdown",
   "metadata": {},
   "source": [
    "# Python acculumate() function\n",
    "\n",
    "Das Python-Modul itertools ist eine Sammlung von Werkzeugen für den Umgang mit Iteratoren.\n",
    "\n",
    "<b>In der offiziellen Dokumentation heißt es dazu:</b>\n",
    "<blockquote>\n",
    "\"Modul das eine Reihe von Iterator-Bausteinen implementiert, die von Konstrukten aus APL, Haskell und SML inspiriert sind... Zusammen bilden sie eine 'Iterator-Algebra', die es ermöglicht, spezialisierte Werkzeuge prägnant und effizient in reinem Python zu konstruieren.\" Das bedeutet, dass die Funktionen in itertools auf Iteratoren \"operieren\", um komplexere Iteratoren zu erzeugen.\n",
    "</blockquote>\n",
    "\n",
    "Einfach ausgedrückt, sind Iteratoren Datentypen, die in einer for-Schleife verwendet werden können. Der häufigste Iterator in Python ist die Liste.\n",
    "\n",
    "### accumulate()\n",
    "\n",
    "Dieser Iterator nimmt zwei Argumente entgegen, das iterierbare Ziel und die Funktion, die bei jeder Iteration des Wertes im Ziel befolgt werden soll. Wenn keine Funktion übergeben wird, erfolgt standardmäßig eine Addition. Wenn die Eingabe-Iterable leer ist, ist auch die Ausgabe-Iterable leer.\n",
    "\n",
    "<b>Syntax:</b>\n",
    "<blockquote>\n",
    "accumulate(iterable[, func, initializer]) –> accumulate object\n",
    "</blockquote>\n",
    "\n",
    "<br>\n",
    "\n",
    "<b>Parameter:</b>\n",
    "<blockquote>\n",
    "<b>iterable:</b> Das Iterierbare Objekt sollte eine Variable oder ein Wert sein, Listen, Dictionaries, Sets und Tupel sind gängige iterierbare Elemente<br>\n",
    "<b style=\"color:green\">*function:</b> Die Funktion, die für jedes Element der angegebenen Iterable aufgerufen wird.<br>\n",
    "<b style=\"color:green\">*initializer:</b>  Der initializer ist der akkumulierte Anfangswert, bevor irgendwelche Elemente verarbeitet wurden, oder der Standardwert des Rückgabewerts.<br>\n",
    "</blockquote>\n",
    " \n",
    "<b style=\"color:green\">* Optional Parameter:</b>\n",
    "\n",
    "<b>Rückgaben:</b>\n",
    "<blockquote>\n",
    "accumulate() gibt einen Iterator (ein Objekt, das einige Werte enthält) zurück, der den kumulierten Wert enthält, nachdem jedes Element verarbeitet wurde.\n",
    "Der letzte Wert im zurückgegebenen Ergebnis ist das Endergebnis, der endgültige akkumulierte Wert.\n",
    "</blockquote>"
   ]
  },
  {
   "cell_type": "code",
   "execution_count": 4,
   "metadata": {},
   "outputs": [
    {
     "data": {
      "text/plain": [
       "[1, 3, 6, 10, 15]"
      ]
     },
     "execution_count": 4,
     "metadata": {},
     "output_type": "execute_result"
    }
   ],
   "source": [
    "from itertools import accumulate\n",
    "\n",
    "zahlen: list[int] = [1, 2, 3, 4, 5]\n",
    "\n",
    "def sum(zahl1: int, zahl2: int) -> int:\n",
    "    return zahl1 + zahl2\n",
    "\n",
    "list(accumulate(zahlen, sum))"
   ]
  },
  {
   "cell_type": "code",
   "execution_count": 3,
   "metadata": {},
   "outputs": [
    {
     "data": {
      "text/plain": [
       "[1, 3, 6, 10, 15]"
      ]
     },
     "execution_count": 3,
     "metadata": {},
     "output_type": "execute_result"
    }
   ],
   "source": [
    "list(accumulate(zahlen)) # ohne die optionale Funktion wird das iterable summiert "
   ]
  },
  {
   "cell_type": "code",
   "execution_count": 4,
   "metadata": {},
   "outputs": [
    {
     "data": {
      "text/plain": [
       "['a', 'ab', 'abc']"
      ]
     },
     "execution_count": 4,
     "metadata": {},
     "output_type": "execute_result"
    }
   ],
   "source": [
    "list(accumulate([\"a\", \"b\", \"c\"]))"
   ]
  },
  {
   "cell_type": "code",
   "execution_count": 5,
   "metadata": {},
   "outputs": [
    {
     "name": "stdout",
     "output_type": "stream",
     "text": [
      "5\n",
      "5\n",
      "6\n",
      "6\n",
      "6\n",
      "9\n",
      "9\n"
     ]
    }
   ],
   "source": [
    "zahlen = [5, 3, 6, 2, 1, 9, 1]\n",
    "\n",
    "for zahl in accumulate(zahlen, max):\n",
    "    print(zahl)"
   ]
  },
  {
   "cell_type": "code",
   "execution_count": 6,
   "metadata": {},
   "outputs": [
    {
     "data": {
      "text/plain": [
       "[0, 4, 11]"
      ]
     },
     "execution_count": 6,
     "metadata": {},
     "output_type": "execute_result"
    }
   ],
   "source": [
    "zahlen_set1 = { 5, 3, 6, 2, 1, 9 }\n",
    "zahlen_set2 ={ 4, 2, 6, 0, 7 }\n",
    "\n",
    "list(accumulate(zahlen_set2.difference(zahlen_set1)))"
   ]
  },
  {
   "cell_type": "code",
   "execution_count": 36,
   "metadata": {},
   "outputs": [
    {
     "name": "stdout",
     "output_type": "stream",
     "text": [
      "Gewinn im Januar: 1200€, Gewinn seit anfang des Jahres: 1200€\n",
      "Gewinn im Februar: 2200€, Gewinn seit anfang des Jahres: 3400€\n",
      "Gewinn im März: 1600€, Gewinn seit anfang des Jahres: 5000€\n",
      "Gewinn im April: 3100€, Gewinn seit anfang des Jahres: 8100€\n",
      "Gewinn im Mai: 2220€, Gewinn seit anfang des Jahres: 10320€\n",
      "Gewinn im Juni: 4200€, Gewinn seit anfang des Jahres: 14520€\n",
      "Gewinn im Juli: 1100€, Gewinn seit anfang des Jahres: 15620€\n",
      "Gewinn im August: 1670€, Gewinn seit anfang des Jahres: 17290€\n",
      "Gewinn im September: 1256€, Gewinn seit anfang des Jahres: 18546€\n",
      "Gewinn im Oktober: 3200€, Gewinn seit anfang des Jahres: 21746€\n",
      "Gewinn im November: 4500€, Gewinn seit anfang des Jahres: 26246€\n",
      "Gewinn im Dezember: 3900€, Gewinn seit anfang des Jahres: 30146€\n"
     ]
    }
   ],
   "source": [
    "monate = {\n",
    "    'Januar': 1200,\n",
    "    'Februar': 2200,\n",
    "    'März': 1600,\n",
    "    'April': 3100,\n",
    "    'Mai': 2220,\n",
    "    'Juni': 4200,\n",
    "    'Juli': 1100,\n",
    "    'August': 1670,\n",
    "    'September': 1256,\n",
    "    'Oktober': 3200,\n",
    "    'November': 4500,\n",
    "    'Dezember': 3900,\n",
    "}\n",
    "\n",
    "jahresgewinne_pro_monat = accumulate(monate.values())\n",
    "\n",
    "for monat, monatsgewinn, jahresgewinn in zip(monate, monate.values(), jahresgewinne_pro_monat):\n",
    "    print(f\"Gewinn im {monat}: {monatsgewinn}€, Gewinn seit anfang des Jahres: {jahresgewinn}€\")"
   ]
  }
 ],
 "metadata": {
  "kernelspec": {
   "display_name": "Python 3.10.5 ('.venv': venv)",
   "language": "python",
   "name": "python3"
  },
  "language_info": {
   "codemirror_mode": {
    "name": "ipython",
    "version": 3
   },
   "file_extension": ".py",
   "mimetype": "text/x-python",
   "name": "python",
   "nbconvert_exporter": "python",
   "pygments_lexer": "ipython3",
   "version": "3.10.5"
  },
  "orig_nbformat": 4,
  "vscode": {
   "interpreter": {
    "hash": "9bfd5ec56785b4ed960169513602bd6731913df830d7d5b0be2205d91d90fae9"
   }
  }
 },
 "nbformat": 4,
 "nbformat_minor": 2
}
